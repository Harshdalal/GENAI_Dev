{
  "nbformat": 4,
  "nbformat_minor": 5,
  "metadata": {
    "kernelspec": {
      "display_name": "Python 3",
      "language": "python",
      "name": "python3"
    },
    "language_info": {
      "codemirror_mode": {
        "name": "ipython",
        "version": 3
      },
      "file_extension": ".py",
      "mimetype": "text/x-python",
      "name": "python",
      "nbconvert_exporter": "python",
      "pygments_lexer": "ipython3",
      "version": "3.9.18"
    },
    "colab": {
      "provenance": []
    }
  },
  "cells": [
    {
      "cell_type": "markdown",
      "source": [
        "# Assignment: Implement a Planner-Executor Workflow using CrewAI\n",
        "\n",
        "\n",
        "\n",
        "---"
      ],
      "metadata": {
        "id": "HZJ8O7SHSAdc"
      },
      "id": "HZJ8O7SHSAdc"
    },
    {
      "cell_type": "markdown",
      "source": [
        "### Objective:\n",
        "This assignment focuses on building a **planner-executor workflow** using **CrewAI**, a framework for orchestrating roles-based autonomous AI agents. You will define distinct AI agents, assign them specialized tasks, and set up a crew to collaboratively generate content (e.g., a blog post or an article) based on a given topic. This will demonstrate how to break down complex problems into manageable sub-tasks and leverage multi-agent collaboration for more robust and structured outputs."
      ],
      "metadata": {
        "id": "WFM3zc8BSAde"
      },
      "id": "WFM3zc8BSAde"
    },
    {
      "cell_type": "markdown",
      "source": [
        "---"
      ],
      "metadata": {
        "id": "i0O6T4aCSAdf"
      },
      "id": "i0O6T4aCSAdf"
    },
    {
      "cell_type": "markdown",
      "source": [
        "### Instructions:\n",
        "1.  **LLM Access**: You'll need access to an LLM API. For this assignment, we'll primarily use **Google's Gemini Pro model** via the `google-generativeai` integration with CrewAI.\n",
        "2.  **Environment Setup**: Install the necessary Python libraries: `pip install crewai crewai_tools google-generativeai pydantic`.\n",
        "3.  **API Key**: Securely handle your API key. It's best practice to load it from an environment variable.\n",
        "4.  **Jupyter Notebook**: All your code, outputs, observations, and analysis must be documented in this Jupyter Notebook.\n",
        "5.  **Task Scenario**: You will create a workflow to **research and write a concise article (e.g., a blog post draft)** on a specific trending technology topic.\n",
        "6.  **Analysis**: Critically evaluate the output from your CrewAI workflow and discuss the effectiveness of the planner-executor pattern."
      ],
      "metadata": {
        "id": "I4JOc98pSAdf"
      },
      "id": "I4JOc98pSAdf"
    },
    {
      "cell_type": "markdown",
      "source": [
        "---"
      ],
      "metadata": {
        "id": "59rV7dPISAdf"
      },
      "id": "59rV7dPISAdf"
    },
    {
      "cell_type": "markdown",
      "source": [
        "## Part 1: Setup and LLM Configuration\n",
        "Begin by installing necessary libraries and configuring your LLM for CrewAI."
      ],
      "metadata": {
        "id": "D7Fm1QucSAdf"
      },
      "id": "D7Fm1QucSAdf"
    },
    {
      "cell_type": "markdown",
      "source": [
        "### Task 1.1: Install Libraries and Configure LLM\n",
        "Install `crewai` and `google-generativeai`, then set up your Google API key and initialize the LLM."
      ],
      "metadata": {
        "id": "q3WNnDPbSAdg"
      },
      "id": "q3WNnDPbSAdg"
    },
    {
      "cell_type": "code",
      "source": [
        "# Install necessary libraries (if not already installed)\n",
        "# !pip install crewai crewai_tools google-generativeai pydantic --quiet\n",
        "\n",
        "import os\n",
        "from crewai import Agent, Task, Crew, Process\n",
        "from crewai_tools import SerperDevTool # Optional: for internet search if you have a Serper API key\n",
        "from langchain_google_genai import ChatGoogleGenerativeAI\n",
        "\n",
        "# --- YOUR API KEY HERE ---\n",
        "# It's highly recommended to load your API key from an environment variable for security.\n",
        "# For example:\n",
        "# os.environ[\"GOOGLE_API_KEY\"] = os.getenv(\"GOOGLE_API_KEY\")\n",
        "# For this assignment, you can temporarily paste it directly, but be careful not to share your notebook with the key.\n",
        "os.environ[\"GOOGLE_API_KEY\"] = \"YOUR_GOOGLE_API_KEY_HERE\" # Replace with your actual Google API key\n",
        "\n",
        "# Initialize the LLM (Gemini Pro)\n",
        "llm = ChatGoogleGenerativeAI(model=\"gemini-pro\", temperature=0.7)\n",
        "\n",
        "# Optional: Initialize Serper Tool if you have an API key\n",
        "# os.environ[\"SERPER_API_KEY\"] = \"YOUR_SERPER_API_KEY_HERE\" # Replace with your Serper API key\n",
        "# search_tool = SerperDevTool()\n",
        "\n",
        "print(\"CrewAI environment setup complete!\")"
      ],
      "outputs": [],
      "metadata": {
        "id": "8xASU_q2SAdg"
      },
      "id": "8xASU_q2SAdg",
      "execution_count": null
    },
    {
      "cell_type": "markdown",
      "source": [
        "---"
      ],
      "metadata": {
        "id": "F0sPnurySAdh"
      },
      "id": "F0sPnurySAdh"
    },
    {
      "cell_type": "markdown",
      "source": [
        "## Part 2: Define Agents (Roles)\n",
        "Create the specialized AI agents that will form your crew. For a planner-executor workflow, you'll need at least two distinct agents."
      ],
      "metadata": {
        "id": "g20rpYGVSAdi"
      },
      "id": "g20rpYGVSAdi"
    },
    {
      "cell_type": "markdown",
      "source": [
        "### Task 2.1: The Planner Agent\n",
        "Define an `Agent` whose role is to plan and break down complex tasks into actionable steps."
      ],
      "metadata": {
        "id": "tjIxdTQbSAdi"
      },
      "id": "tjIxdTQbSAdi"
    },
    {
      "cell_type": "markdown",
      "source": [
        "* **Role**: `Article Planner`\n",
        "* **Goal**: To create a detailed, step-by-step outline for a comprehensive article on a given topic, including key sections, sub-topics, and main points.\n",
        "* **Backstory**: An expert in content strategy and project management, known for meticulous planning and clear instructions.\n",
        "* **LLM**: Use the `llm` initialized in Task 1.1.\n",
        "* **Verbose**: Set to `True` for detailed logging."
      ],
      "metadata": {
        "id": "U70otLjtSAdi"
      },
      "id": "U70otLjtSAdi"
    },
    {
      "cell_type": "code",
      "source": [
        "planner = Agent(\n",
        "    role='Article Planner',\n",
        "    goal='Create a detailed, step-by-step outline for a comprehensive article on a given topic, including key sections, sub-topics, and main points.',\n",
        "    backstory=(\n",
        "        \"An expert in content strategy and project management, known for meticulous \"\n",
        "        \"planning and clear instructions. Always ensures all necessary information \"\n",
        "        \"is covered in a logical and structured manner.\"\n",
        "    ),\n",
        "    llm=llm,\n",
        "    verbose=True,\n",
        "    allow_delegation=False # Planner should focus on planning, not delegating further\n",
        ")\n",
        "\n",
        "print(\"Planner Agent created!\")"
      ],
      "outputs": [],
      "metadata": {
        "id": "1funFvBrSAdi"
      },
      "id": "1funFvBrSAdi",
      "execution_count": null
    },
    {
      "cell_type": "markdown",
      "source": [
        "### Task 2.2: The Executor Agent\n",
        "Define an `Agent` whose role is to execute the plan provided by the `Planner`."
      ],
      "metadata": {
        "id": "bZF3wkDlSAdj"
      },
      "id": "bZF3wkDlSAdj"
    },
    {
      "cell_type": "markdown",
      "source": [
        "* **Role**: `Article Writer`\n",
        "* **Goal**: To write a high-quality, engaging article based on the provided detailed outline and key points.\n",
        "* **Backstory**: A skilled wordsmith with a knack for transforming complex information into readable and compelling narratives. Focuses on clarity, creativity, and accuracy.\n",
        "* **LLM**: Use the `llm` initialized in Task 1.1.\n",
        "* **Verbose**: Set to `True` for detailed logging."
      ],
      "metadata": {
        "id": "-K8o38rSSAdj"
      },
      "id": "-K8o38rSSAdj"
    },
    {
      "cell_type": "code",
      "source": [
        "executor = Agent(\n",
        "    role='Article Writer',\n",
        "    goal='To write a high-quality, engaging article based on the provided detailed outline and key points.',\n",
        "    backstory=(\n",
        "        \"A skilled wordsmith with a knack for transforming complex information \"\n",
        "        \"into readable and compelling narratives. Focuses on clarity, creativity, \"\n",
        "        \"and accuracy. Can incorporate research findings if provided.\"\n",
        "    ),\n",
        "    llm=llm,\n",
        "    verbose=True,\n",
        "    allow_delegation=False # Executor should focus on writing, not delegating\n",
        ")\n",
        "\n",
        "print(\"Executor Agent created!\")"
      ],
      "outputs": [],
      "metadata": {
        "id": "Gytqx-EZSAdj"
      },
      "id": "Gytqx-EZSAdj",
      "execution_count": null
    },
    {
      "cell_type": "markdown",
      "source": [
        "### Optional: The Researcher Agent\n",
        "If you want to make your workflow more robust, you can add a `Researcher` agent with a tool to perform internet searches. This agent would be used by the Planner or Executor if they need external information."
      ],
      "metadata": {
        "id": "nSmbFyRqSAdj"
      },
      "id": "nSmbFyRqSAdj"
    },
    {
      "cell_type": "code",
      "source": [
        "# Uncomment and complete if you have Serper API key and want to use search\n",
        "# researcher = Agent(\n",
        "#     role='Research Analyst',\n",
        "#     goal='Conduct thorough research to gather factual information, statistics, and examples on specified topics.',\n",
        "#     backstory=(\n",
        "#         \"A meticulous researcher with a keen eye for detail and accuracy. \"\n",
        "#         \"Excels at finding relevant information quickly and summarizing it effectively.\"\n",
        "#     ),\n",
        "#     llm=llm,\n",
        "#     tools=[search_tool], # Assign the search tool here\n",
        "#     verbose=True,\n",
        "#     allow_delegation=False\n",
        "# )\n",
        "\n",
        "# if 'researcher' in locals():\n",
        "#     print(\"Researcher Agent created!\")\n",
        "# else:\n",
        "#     print(\"Researcher Agent skipped (no Serper API key or uncommented).\")"
      ],
      "outputs": [],
      "metadata": {
        "id": "SvB0JOgnSAdk"
      },
      "id": "SvB0JOgnSAdk",
      "execution_count": null
    },
    {
      "cell_type": "markdown",
      "source": [
        "---"
      ],
      "metadata": {
        "id": "qWVj689rSAdk"
      },
      "id": "qWVj689rSAdk"
    },
    {
      "cell_type": "markdown",
      "source": [
        "## Part 3: Define Tasks\n",
        "Now, define the specific tasks that each agent will perform within the workflow. Crucially, the Executor's task will depend on the Planner's output."
      ],
      "metadata": {
        "id": "sBdvpun-SAdk"
      },
      "id": "sBdvpun-SAdk"
    },
    {
      "cell_type": "markdown",
      "source": [
        "### Task 3.1: Planning Task\n",
        "Define the task for the `Planner` agent. Its output should be the input for the `Executor`."
      ],
      "metadata": {
        "id": "D9QJSUdLSAdk"
      },
      "id": "D9QJSUdLSAdk"
    },
    {
      "cell_type": "markdown",
      "source": [
        "* **Description**: \"Create a detailed outline for a blog post/article about `{topic}`. The outline should include: a title, introduction section, 3-4 main body sections with specific sub-topics/points for each, and a conclusion section. The outline should be clear enough for an AI writer to follow easily.\"\n",
        "* **Agent**: `planner`\n",
        "* **Output File (Optional but Recommended)**: Save the plan to a markdown file (e.g., `article_plan.md`) to inspect it."
      ],
      "metadata": {
        "id": "DRKWx7nrSAdk"
      },
      "id": "DRKWx7nrSAdk"
    },
    {
      "cell_type": "code",
      "source": [
        "article_topic = \"The Impact of AI on Future Job Markets\" # Define your chosen topic here\n",
        "\n",
        "plan_task = Task(\n",
        "    description=f\"Create a detailed outline for a blog post/article about '{article_topic}'. \"\n",
        "                \"The outline should include: a catchy title, an introduction section, \"\n",
        "                \"3-4 main body sections with specific sub-topics/points for each, and a conclusion section. \"\n",
        "                \"The outline should be clear enough for an AI writer to follow easily. \"\n",
        "                \"Output the full outline including section headings and bullet points for sub-topics.\",\n",
        "    agent=planner,\n",
        "    output_file='article_plan.md' # Save the generated plan to a file\n",
        ")\n",
        "\n",
        "print(\"Planning Task created!\")"
      ],
      "outputs": [],
      "metadata": {
        "id": "OBuGWjI0SAdl"
      },
      "id": "OBuGWjI0SAdl",
      "execution_count": null
    },
    {
      "cell_type": "markdown",
      "source": [
        "### Task 3.2: Execution Task\n",
        "Define the task for the `Executor` agent. This task will take the output of the `Planning Task` as its input."
      ],
      "metadata": {
        "id": "GjNnISTMSAdl"
      },
      "id": "GjNnISTMSAdl"
    },
    {
      "cell_type": "markdown",
      "source": [
        "* **Description**: \"Write a comprehensive and engaging article based on the following detailed outline: `{plan}`. Ensure the article is well-structured, informative, and around 800-1000 words. Maintain a professional yet accessible tone. Expand on all points in the outline.\"\n",
        "* **Agent**: `executor`\n",
        "* **Context**: Crucially, this task needs the output from `plan_task`. Use `context=[plan_task]`.\n",
        "* **Output File**: Save the final article to a markdown file (e.g., `final_article.md`)."
      ],
      "metadata": {
        "id": "B8VINfV5SAdl"
      },
      "id": "B8VINfV5SAdl"
    },
    {
      "cell_type": "code",
      "source": [
        "write_task = Task(\n",
        "    description=f\"Write a comprehensive and engaging article based on the following detailed outline for '{article_topic}': '{{ {{ plan_task.output }} }}'. \"\n",
        "                \"Ensure the article is well-structured, informative, and approximately 800-1000 words. \"\n",
        "                \"Maintain a professional yet accessible tone. Expand on all points in the outline. \"\n",
        "                \"Do not include any introductory or concluding remarks about the writing process, just the article itself.\",\n",
        "    agent=executor,\n",
        "    context=[plan_task], # This links the output of plan_task as input to write_task\n",
        "    output_file='final_article.md' # Save the generated article to a file\n",
        ")\n",
        "\n",
        "print(\"Execution Task created!\")"
      ],
      "outputs": [],
      "metadata": {
        "id": "tJ_wwaH5SAdl"
      },
      "id": "tJ_wwaH5SAdl",
      "execution_count": null
    },
    {
      "cell_type": "markdown",
      "source": [
        "---"
      ],
      "metadata": {
        "id": "87msg6AVSAdl"
      },
      "id": "87msg6AVSAdl"
    },
    {
      "cell_type": "markdown",
      "source": [
        "## Part 4: Create and Run the Crew\n",
        "Assemble your agents and tasks into a `Crew` and execute the workflow."
      ],
      "metadata": {
        "id": "0hbiPeNQSAdl"
      },
      "id": "0hbiPeNQSAdl"
    },
    {
      "cell_type": "markdown",
      "source": [
        "### Task 4.1: Form the Crew\n",
        "Instantiate the `Crew` with your defined agents and tasks."
      ],
      "metadata": {
        "id": "UKn9KUtMSAdm"
      },
      "id": "UKn9KUtMSAdm"
    },
    {
      "cell_type": "markdown",
      "source": [
        "* **Agents**: List `planner` and `executor`.\n",
        "* **Tasks**: List `plan_task` and `write_task` in the correct order.\n",
        "* **Process**: Use `Process.sequential` to ensure tasks run one after another.\n",
        "* **Verbose**: Set to `True` to see the detailed execution flow."
      ],
      "metadata": {
        "id": "88gq8IU2SAdm"
      },
      "id": "88gq8IU2SAdm"
    },
    {
      "cell_type": "code",
      "source": [
        "project_crew = Crew(\n",
        "    agents=[planner, executor],\n",
        "    tasks=[plan_task, write_task],\n",
        "    process=Process.sequential, # Tasks will run sequentially\n",
        "    verbose=True\n",
        ")\n",
        "\n",
        "print(\"Crew formed!\")"
      ],
      "outputs": [],
      "metadata": {
        "id": "84Rhjgm4SAdm"
      },
      "id": "84Rhjgm4SAdm",
      "execution_count": null
    },
    {
      "cell_type": "markdown",
      "source": [
        "### Task 4.2: Execute the Crew\n",
        "Run the crew and capture the final output."
      ],
      "metadata": {
        "id": "yBHiuq7mSAdm"
      },
      "id": "yBHiuq7mSAdm"
    },
    {
      "cell_type": "code",
      "source": [
        "print(\"\\n--- Kicking off the CrewAI Workflow! ---\")\n",
        "result = project_crew.kickoff(inputs={'topic': article_topic}) # Pass any initial inputs here\n",
        "\n",
        "print(\"\\n--- Workflow Finished! ---\")\n",
        "print(\"Final Result of the Crew:\\n\")\n",
        "print(result)\n",
        "\n",
        "print(\"\\nAlso check 'article_plan.md' and 'final_article.md' files for full outputs.\")"
      ],
      "outputs": [],
      "metadata": {
        "id": "XruwVfRTSAdm"
      },
      "id": "XruwVfRTSAdm",
      "execution_count": null
    },
    {
      "cell_type": "markdown",
      "source": [
        "---"
      ],
      "metadata": {
        "id": "udjxD3AHSAdn"
      },
      "id": "udjxD3AHSAdn"
    },
    {
      "cell_type": "markdown",
      "source": [
        "## Part 5: Analysis and Reflection\n",
        "Examine the outputs generated by your CrewAI workflow and reflect on the planner-executor pattern."
      ],
      "metadata": {
        "id": "SfTPpTSSSAdn"
      },
      "id": "SfTPpTSSSAdn"
    },
    {
      "cell_type": "markdown",
      "source": [
        "### Task 5.1: Review the Outputs\n",
        "Inspect the `article_plan.md` and `final_article.md` files (or the printed output) and answer the following questions."
      ],
      "metadata": {
        "id": "DZWVlKsLSAdn"
      },
      "id": "DZWVlKsLSAdn"
    },
    {
      "cell_type": "markdown",
      "source": [
        "* **Quality of Plan (`article_plan.md`)**:\n",
        "    * Was the plan detailed and logical?\n",
        "    * Did it contain all the sections and points you expected?\n",
        "    * Was it easy for the `Executor` to follow? (Based on the final article)\n",
        "* **Quality of Article (`final_article.md` / `result`)**:\n",
        "    * Did the `Executor` successfully follow the `Planner`'s outline?\n",
        "    * Is the article comprehensive, engaging, and well-structured?\n",
        "    * Does it meet the word count and tone requirements?\n",
        "    * Did you notice any repetitions, inconsistencies, or 'hallucinations'?\n",
        "* **Collaboration**:\n",
        "    * Describe how the `Planner` and `Executor` agents collaborated. How did the output of one agent influence the other?\n",
        "    * Was the delegation of tasks clear and effective?"
      ],
      "metadata": {
        "id": "fV1dIrNcSAdn"
      },
      "id": "fV1dIrNcSAdn"
    },
    {
      "cell_type": "markdown",
      "source": [
        "### Task 5.2: Reflection on Planner-Executor Workflow\n",
        "Consider the benefits and limitations of this architectural pattern."
      ],
      "metadata": {
        "id": "VBOUAmNDSAdn"
      },
      "id": "VBOUAmNDSAdn"
    },
    {
      "cell_type": "markdown",
      "source": [
        "* **Benefits**: What are the key advantages of using a planner-executor workflow for complex tasks compared to a single-agent approach?\n",
        "* **Limitations/Challenges**: What are the potential drawbacks or challenges you observed or can foresee with this pattern (e.g., dependency issues, communication overhead, error propagation)?\n",
        "* **When to Use**: In what types of scenarios or applications would a planner-executor workflow be particularly well-suited?\n",
        "* **Future Improvements**: If you were to enhance this workflow, what improvements would you implement (e.g., adding a 'Reviewer' agent, incorporating external tools like research tools, adding iteration/feedback loops between agents)?"
      ],
      "metadata": {
        "id": "BK0PLB0JSAdn"
      },
      "id": "BK0PLB0JSAdn"
    },
    {
      "cell_type": "markdown",
      "source": [
        "---"
      ],
      "metadata": {
        "id": "-oYW10aNSAdv"
      },
      "id": "-oYW10aNSAdv"
    },
    {
      "cell_type": "markdown",
      "source": [
        "### Submission:\n",
        "* Ensure all code cells have been executed and their outputs are visible.\n",
        "* All analysis and reflections are clearly written in markdown cells.\n",
        "* **Attach** the generated `article_plan.md` and `final_article.md` files alongside your notebook if submitting to a platform that allows it, or copy their contents directly into markdown cells if not.\n",
        "* Save your Jupyter Notebook as `[YourName]_CrewAI_Planner_Executor_Assignment.ipynb`."
      ],
      "metadata": {
        "id": "Q-4TPPeASAdv"
      },
      "id": "Q-4TPPeASAdv"
    }
  ]
}