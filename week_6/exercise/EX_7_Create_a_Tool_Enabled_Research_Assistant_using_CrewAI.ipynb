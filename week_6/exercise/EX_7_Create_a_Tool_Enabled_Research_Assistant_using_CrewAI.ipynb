{
  "nbformat": 4,
  "nbformat_minor": 5,
  "metadata": {
    "kernelspec": {
      "display_name": "Python 3",
      "language": "python",
      "name": "python3"
    },
    "language_info": {
      "codemirror_mode": {
        "name": "ipython",
        "version": 3
      },
      "file_extension": ".py",
      "mimetype": "text/x-python",
      "name": "python",
      "nbconvert_exporter": "python",
      "pygments_lexer": "ipython3",
      "version": "3.9.18"
    },
    "colab": {
      "provenance": []
    }
  },
  "cells": [
    {
      "cell_type": "markdown",
      "source": [
        "# Assignment: Create a Tool-Enabled Research Assistant using CrewAI\n",
        "\n",
        "\n",
        "\n",
        "---"
      ],
      "metadata": {
        "id": "dkK6XV2IUiP4"
      },
      "id": "dkK6XV2IUiP4"
    },
    {
      "cell_type": "markdown",
      "source": [
        "### Objective:\n",
        "This assignment challenges you to build a **multi-agent research assistant** using **CrewAI** that can leverage **external tools** to gather and synthesize information. You will define multiple AI agents with distinct roles (e.g., Researcher, Analyst, Report Writer), equip them with tools (like internet search), and orchestrate their collaboration to produce a comprehensive research report on a given topic. This will demonstrate how to enable agents to interact with the real world and combine their findings to achieve a complex goal."
      ],
      "metadata": {
        "id": "LHh8GR9pUiP6"
      },
      "id": "LHh8GR9pUiP6"
    },
    {
      "cell_type": "markdown",
      "source": [
        "---"
      ],
      "metadata": {
        "id": "dtywhzMlUiP6"
      },
      "id": "dtywhzMlUiP6"
    },
    {
      "cell_type": "markdown",
      "source": [
        "### Instructions:\n",
        "1.  **LLM Access**: You'll need access to an LLM API (e.g., Google's Gemini, OpenAI's GPT-4). For this assignment, we'll primarily use **Google's Gemini Pro model**.\n",
        "2.  **External Tool Access**: You **must** use an internet search tool. **SerperDevTool** from `crewai_tools` is recommended due to its ease of integration. You will need a Serper API key for this.\n",
        "3.  **Environment Setup**: Install the necessary Python libraries: `pip install crewai crewai_tools google-generativeai`.\n",
        "4.  **API Keys**: Securely handle your LLM API key and your Serper API key. It's best practice to load them from environment variables.\n",
        "5.  **Jupyter Notebook**: All your code, outputs, observations, and analysis must be documented in this Jupyter Notebook.\n",
        "6.  **Research Topic**: You will define a specific, current, and moderately complex research topic (e.g., \"The future of personalized medicine through AI\" or \"Impact of quantum computing on cybersecurity\").\n",
        "7.  **Analysis**: Critically evaluate the research process, the agents' collaboration, and the quality of the final output."
      ],
      "metadata": {
        "id": "nmxlLSdMUiP6"
      },
      "id": "nmxlLSdMUiP6"
    },
    {
      "cell_type": "markdown",
      "source": [
        "---"
      ],
      "metadata": {
        "id": "w8S7-YrkUiP7"
      },
      "id": "w8S7-YrkUiP7"
    },
    {
      "cell_type": "markdown",
      "source": [
        "## Part 1: Setup and LLM/Tool Configuration\n",
        "Begin by installing necessary libraries and configuring your LLM and external tools for CrewAI."
      ],
      "metadata": {
        "id": "j4Pt_5aXUiP7"
      },
      "id": "j4Pt_5aXUiP7"
    },
    {
      "cell_type": "markdown",
      "source": [
        "### Task 1.1: Install Libraries and Configure LLM/Tools\n",
        "Install `crewai`, `crewai_tools`, and `google-generativeai`. Set up your Google API key and **Serper API key** (essential for search) and initialize the LLM and search tool."
      ],
      "metadata": {
        "id": "J9EzAChGUiP7"
      },
      "id": "J9EzAChGUiP7"
    },
    {
      "cell_type": "code",
      "source": [
        "# Install necessary libraries (if not already installed)\n",
        "# !pip install crewai crewai_tools google-generativeai --quiet\n",
        "\n",
        "import os\n",
        "from crewai import Agent, Task, Crew, Process\n",
        "from crewai_tools import SerperDevTool # Tool for internet search\n",
        "from langchain_google_genai import ChatGoogleGenerativeAI\n",
        "\n",
        "# --- YOUR API KEYS HERE ---\n",
        "# It's highly recommended to load your API keys from environment variables for security.\n",
        "# On Linux/macOS: export GOOGLE_API_KEY='your_key' ; export SERPER_API_KEY='your_key'\n",
        "# On Windows (cmd): set GOOGLE_API_KEY=your_key & set SERPER_API_KEY=your_key\n",
        "\n",
        "os.environ[\"GOOGLE_API_KEY\"] = \"YOUR_GOOGLE_API_KEY_HERE\" # Replace with your actual Google API key\n",
        "os.environ[\"SERPER_API_KEY\"] = \"YOUR_SERPER_API_KEY_HERE\" # Replace with your actual Serper API key (Get one from serper.dev)\n",
        "\n",
        "# Initialize the LLM (Gemini Pro)\n",
        "llm = ChatGoogleGenerativeAI(model=\"gemini-pro\", temperature=0.3) # Lower temperature for factual accuracy\n",
        "\n",
        "# Initialize the search tool\n",
        "search_tool = SerperDevTool()\n",
        "\n",
        "print(\"CrewAI environment, LLM, and Serper Search Tool configured!\")"
      ],
      "outputs": [],
      "metadata": {
        "id": "vc7kKjsgUiP7"
      },
      "id": "vc7kKjsgUiP7",
      "execution_count": null
    },
    {
      "cell_type": "markdown",
      "source": [
        "---"
      ],
      "metadata": {
        "id": "6-tA8zn0UiP8"
      },
      "id": "6-tA8zn0UiP8"
    },
    {
      "cell_type": "markdown",
      "source": [
        "## Part 2: Define Agents (Roles and Tools)\n",
        "Create the specialized AI agents that will form your research team. Each agent will have a distinct role and some will be equipped with tools."
      ],
      "metadata": {
        "id": "qOiQjZ7GUiP8"
      },
      "id": "qOiQjZ7GUiP8"
    },
    {
      "cell_type": "markdown",
      "source": [
        "### Task 2.1: The Research Agent\n",
        "Define an `Agent` whose role is to conduct thorough internet research."
      ],
      "metadata": {
        "id": "C5WpmAq2UiP8"
      },
      "id": "C5WpmAq2UiP8"
    },
    {
      "cell_type": "markdown",
      "source": [
        "* **Role**: `Senior Research Analyst`\n",
        "* **Goal**: To conduct comprehensive and accurate research on complex topics using search tools.\n",
        "* **Backstory**: A meticulous researcher with a vast understanding of information retrieval and verification. Excels at finding relevant and credible sources.\n",
        "* **Tools**: Assign `search_tool`.\n",
        "* **LLM**: Use the initialized `llm`.\n",
        "* **Verbose**: Set to `True`.\n",
        "* **Allow Delegation**: Set to `False`."
      ],
      "metadata": {
        "id": "f_KgqFhuUiP9"
      },
      "id": "f_KgqFhuUiP9"
    },
    {
      "cell_type": "code",
      "source": [
        "researcher = Agent(\n",
        "    role='Senior Research Analyst',\n",
        "    goal='Conduct comprehensive and accurate research on complex topics using search tools.',\n",
        "    backstory=(\n",
        "        \"A meticulous researcher with a vast understanding of information retrieval \"\n",
        "        \"and verification. Excels at finding relevant and credible sources to \"\n",
        "        \"support in-depth analysis.\"\n",
        "    ),\n",
        "    tools=[search_tool], # Assign the search tool here\n",
        "    llm=llm,\n",
        "    verbose=True,\n",
        "    allow_delegation=False\n",
        ")\n",
        "\n",
        "print(\"Researcher Agent created!\")"
      ],
      "outputs": [],
      "metadata": {
        "id": "sONLl6AxUiP9"
      },
      "id": "sONLl6AxUiP9",
      "execution_count": null
    },
    {
      "cell_type": "markdown",
      "source": [
        "### Task 2.2: The Data Analyst Agent\n",
        "Define an `Agent` whose role is to analyze research findings and extract key data points and trends."
      ],
      "metadata": {
        "id": "Rc6RrBjoUiP9"
      },
      "id": "Rc6RrBjoUiP9"
    },
    {
      "cell_type": "markdown",
      "source": [
        "* **Role**: `Data & Trend Analyst`\n",
        "* **Goal**: To analyze research findings, identify key data points, trends, and potential implications.\n",
        "* **Backstory**: An expert in data interpretation and pattern recognition. Transforms raw research into structured insights and actionable information.\n",
        "* **LLM**: Use the initialized `llm`.\n",
        "* **Verbose**: Set to `True`.\n",
        "* **Allow Delegation**: Set to `False`."
      ],
      "metadata": {
        "id": "GeEJ6qKRUiP9"
      },
      "id": "GeEJ6qKRUiP9"
    },
    {
      "cell_type": "code",
      "source": [
        "analyst = Agent(\n",
        "    role='Data & Trend Analyst',\n",
        "    goal='Analyze research findings, identify key data points, trends, and potential implications.',\n",
        "    backstory=(\n",
        "        \"An expert in data interpretation and pattern recognition. \"\n",
        "        \"Transforms raw research findings into structured insights and actionable information, \"\n",
        "        \"highlighting what's important for the report.\"\n",
        "    ),\n",
        "    llm=llm,\n",
        "    verbose=True,\n",
        "    allow_delegation=False\n",
        ")\n",
        "\n",
        "print(\"Analyst Agent created!\")"
      ],
      "outputs": [],
      "metadata": {
        "id": "hrAsL57OUiP9"
      },
      "id": "hrAsL57OUiP9",
      "execution_count": null
    },
    {
      "cell_type": "markdown",
      "source": [
        "### Task 2.3: The Report Writer Agent\n",
        "Define an `Agent` whose role is to synthesize all findings into a final, polished research report."
      ],
      "metadata": {
        "id": "O9SoJul9UiP-"
      },
      "id": "O9SoJul9UiP-"
    },
    {
      "cell_type": "markdown",
      "source": [
        "* **Role**: `Technical Report Writer`\n",
        "* **Goal**: To write a clear, concise, and well-structured research report based on the analyzed information.\n",
        "* **Backstory**: A skilled technical writer with a knack for transforming complex analyses into readable and engaging reports. Ensures accuracy, coherence, and professional presentation.\n",
        "* **LLM**: Use the initialized `llm`.\n",
        "* **Verbose**: Set to `True`.\n",
        "* **Allow Delegation**: Set to `False`."
      ],
      "metadata": {
        "id": "4Lj9tm8uUiP-"
      },
      "id": "4Lj9tm8uUiP-"
    },
    {
      "cell_type": "code",
      "source": [
        "writer = Agent(\n",
        "    role='Technical Report Writer',\n",
        "    goal='Write a clear, concise, and well-structured research report based on the analyzed information.',\n",
        "    backstory=(\n",
        "        \"A skilled technical writer with a knack for transforming complex analyses \"\n",
        "        \"into readable and engaging reports. Ensures accuracy, coherence, and professional presentation.\"\n",
        "    ),\n",
        "    llm=llm,\n",
        "    verbose=True,\n",
        "    allow_delegation=False\n",
        ")\n",
        "\n",
        "print(\"Report Writer Agent created!\")"
      ],
      "outputs": [],
      "metadata": {
        "id": "znI2MzIgUiP-"
      },
      "id": "znI2MzIgUiP-",
      "execution_count": null
    },
    {
      "cell_type": "markdown",
      "source": [
        "---"
      ],
      "metadata": {
        "id": "q2e_4GRYUiP-"
      },
      "id": "q2e_4GRYUiP-"
    },
    {
      "cell_type": "markdown",
      "source": [
        "## Part 3: Define Tasks and Form the Crew\n",
        "Define the specific tasks for each agent, ensuring proper context passing, and then assemble them into a `Crew`."
      ],
      "metadata": {
        "id": "_mVds4g3UiP-"
      },
      "id": "_mVds4g3UiP-"
    },
    {
      "cell_type": "markdown",
      "source": [
        "### Task 3.1: Define Research Task\n",
        "Define the task for the `Researcher` agent. This task will involve using the `search_tool`."
      ],
      "metadata": {
        "id": "BDT2vplTUiP-"
      },
      "id": "BDT2vplTUiP-"
    },
    {
      "cell_type": "markdown",
      "source": [
        "* **Description**: \"Conduct in-depth research on the given topic: `{topic}`. Gather factual information, statistics, historical context, and recent developments. Focus on identifying key challenges, opportunities, and future outlooks. Compile your findings into a comprehensive research brief.\"\n",
        "* **Agent**: `researcher`\n",
        "* **Output File (Optional)**: Save the raw research findings for inspection (e.g., `research_brief.md`)."
      ],
      "metadata": {
        "id": "TKtXUXjWUiP-"
      },
      "id": "TKtXUXjWUiP-"
    },
    {
      "cell_type": "code",
      "source": [
        "research_topic = \"The future of personalized medicine through AI\" # Your chosen research topic\n",
        "\n",
        "research_task = Task(\n",
        "    description=f\"Conduct in-depth research on the given topic: '{research_topic}'. \"\n",
        "                \"Gather factual information, statistics, historical context, and recent developments. \"\n",
        "                \"Focus on identifying key challenges, opportunities, and future outlooks. \"\n",
        "                \"Compile your findings into a comprehensive research brief that can be used for analysis.\",\n",
        "    agent=researcher,\n",
        "    expected_output=\"A detailed research brief containing all relevant information, facts, and figures for the given topic.\",\n",
        "    output_file='research_brief.md' # Optional: save output to file\n",
        ")\n",
        "\n",
        "print(\"Research Task created!\")"
      ],
      "outputs": [],
      "metadata": {
        "id": "E_3BcP-5UiP_"
      },
      "id": "E_3BcP-5UiP_",
      "execution_count": null
    },
    {
      "cell_type": "markdown",
      "source": [
        "### Task 3.2: Define Analysis Task\n",
        "Define the task for the `Analyst` agent. This task will take the output of the `research_task` as its context."
      ],
      "metadata": {
        "id": "0viq1-DqUiP_"
      },
      "id": "0viq1-DqUiP_"
    },
    {
      "cell_type": "markdown",
      "source": [
        "* **Description**: \"Analyze the provided research brief: `{{ {{ research_task.output }} }}`. Extract the most critical data points, identify overarching trends, and infer potential implications for the future. Summarize these key insights concisely.\"\n",
        "* **Agent**: `analyst`\n",
        "* **Context**: Pass the output of `research_task`.\n",
        "* **Output File (Optional)**: Save the analysis findings (e.g., `analysis_report.md`)."
      ],
      "metadata": {
        "id": "80zS3yvsUiP_"
      },
      "id": "80zS3yvsUiP_"
    },
    {
      "cell_type": "code",
      "source": [
        "analysis_task = Task(\n",
        "    description=f\"Analyze the provided research brief on '{research_topic}': '{{ {{ research_task.output }} }}'. \"\n",
        "                \"Extract the most critical data points, identify overarching trends, and infer potential implications for the future. \"\n",
        "                \"Summarize these key insights concisely, ready for inclusion in a final report.\",\n",
        "    agent=analyst,\n",
        "    context=[research_task], # This links the output of research_task as input to analysis_task\n",
        "    expected_output=\"A concise summary of key data points, trends, and implications from the research.\",\n",
        "    output_file='analysis_report.md' # Optional: save output to file\n",
        ")\n",
        "\n",
        "print(\"Analysis Task created!\")"
      ],
      "outputs": [],
      "metadata": {
        "id": "wu3W3_KMUiP_"
      },
      "id": "wu3W3_KMUiP_",
      "execution_count": null
    },
    {
      "cell_type": "markdown",
      "source": [
        "### Task 3.3: Define Report Writing Task\n",
        "Define the task for the `Report Writer` agent. This task will take the output of the `analysis_task` as its context."
      ],
      "metadata": {
        "id": "1hmllKl_UiP_"
      },
      "id": "1hmllKl_UiP_"
    },
    {
      "cell_type": "markdown",
      "source": [
        "* **Description**: \"Write a comprehensive and professional research report on `{topic}` based on the following analysis findings: `{{ {{ analysis_task.output }} }}`. The report should include an introduction, sections covering key findings/trends, implications, and a conclusion. Ensure the report is well-structured, clear, and around 800-1200 words. Maintain a formal and informative tone.\"\n",
        "* **Agent**: `writer`\n",
        "* **Context**: Pass the output of `analysis_task`.\n",
        "* **Output File**: Save the final report (e.g., `final_research_report.md`)."
      ],
      "metadata": {
        "id": "MgVWz8udUiP_"
      },
      "id": "MgVWz8udUiP_"
    },
    {
      "cell_type": "code",
      "source": [
        "report_task = Task(\n",
        "    description=f\"Write a comprehensive and professional research report on '{research_topic}' based on the following analysis findings: '{{ {{ analysis_task.output }} }}'. \"\n",
        "                \"The report should include an introduction, sections covering key findings/trends, implications, and a conclusion. \"\n",
        "                \"Ensure the report is well-structured, clear, and approximately 800-1200 words. \"\n",
        "                \"Maintain a formal and informative tone. \"\n",
        "                \"Do not include any conversational filler, just the report content.\",\n",
        "    agent=writer,\n",
        "    context=[analysis_task], # This links the output of analysis_task as input to report_task\n",
        "    expected_output=\"A well-structured and comprehensive research report on the specified topic.\",\n",
        "    output_file='final_research_report.md' # Save the final report\n",
        ")\n",
        "\n",
        "print(\"Report Writing Task created!\")"
      ],
      "outputs": [],
      "metadata": {
        "id": "6WhaOITMUiQA"
      },
      "id": "6WhaOITMUiQA",
      "execution_count": null
    },
    {
      "cell_type": "markdown",
      "source": [
        "### Task 3.4: Form and Execute the Crew\n",
        "Assemble your agents and tasks into a `Crew` and kick off the workflow."
      ],
      "metadata": {
        "id": "GVdY7-6nUiQA"
      },
      "id": "GVdY7-6nUiQA"
    },
    {
      "cell_type": "markdown",
      "source": [
        "* **Agents**: List `researcher`, `analyst`, and `writer`.\n",
        "* **Tasks**: List `research_task`, `analysis_task`, and `report_task` in the correct sequential order.\n",
        "* **Process**: Use `Process.sequential`.\n",
        "* **Verbose**: Set to `True` to see detailed execution logs."
      ],
      "metadata": {
        "id": "f3qDKYqlUiQA"
      },
      "id": "f3qDKYqlUiQA"
    },
    {
      "cell_type": "code",
      "source": [
        "research_crew = Crew(\n",
        "    agents=[researcher, analyst, writer],\n",
        "    tasks=[research_task, analysis_task, report_task],\n",
        "    process=Process.sequential,\n",
        "    verbose=True\n",
        ")\n",
        "\n",
        "print(\"\\n--- Kicking off the Research Assistant Crew! ---\")\n",
        "\n",
        "# You can pass initial inputs here if your first task requires it\n",
        "inputs_for_crew = {\n",
        "    'topic': research_topic\n",
        "}\n",
        "\n",
        "result = research_crew.kickoff(inputs=inputs_for_crew)\n",
        "\n",
        "print(\"\\n--- Workflow Finished! ---\")\n",
        "print(\"Final Research Report Result (first 1000 chars):\\n\")\n",
        "print(result[:1000] + \"...\")\n",
        "\n",
        "print(\"\\nCheck 'research_brief.md', 'analysis_report.md', and 'final_research_report.md' for full outputs.\")"
      ],
      "outputs": [],
      "metadata": {
        "id": "BYNXWpSUUiQA"
      },
      "id": "BYNXWpSUUiQA",
      "execution_count": null
    },
    {
      "cell_type": "markdown",
      "source": [
        "---"
      ],
      "metadata": {
        "id": "4iSz4RPBUiQA"
      },
      "id": "4iSz4RPBUiQA"
    },
    {
      "cell_type": "markdown",
      "source": [
        "## Part 4: Analysis and Reflection\n",
        "Examine the outputs generated by your CrewAI workflow and reflect on the effectiveness of tool-enabled multi-agent systems."
      ],
      "metadata": {
        "id": "L9NUhA6jUiQA"
      },
      "id": "L9NUhA6jUiQA"
    },
    {
      "cell_type": "markdown",
      "source": [
        "### Task 4.1: Review the Outputs\n",
        "Inspect the `research_brief.md`, `analysis_report.md`, and `final_research_report.md` files (or the printed output) and answer the following questions."
      ],
      "metadata": {
        "id": "-QD78G34UiQA"
      },
      "id": "-QD78G34UiQA"
    },
    {
      "cell_type": "markdown",
      "source": [
        "* **Research Quality**: Did the `Researcher` agent effectively use the `SerperDevTool` to gather relevant information? Was the `research_brief.md` comprehensive and factual? Did it cover the key aspects of your chosen topic?\n",
        "* **Analysis Quality**: Did the `Analyst` agent successfully synthesize the research brief into meaningful insights and trends? Was `analysis_report.md` concise and clear?\n",
        "* **Report Quality**: Is the `final_research_report.md` well-structured, coherent, and informative? Does it accurately reflect the findings from the previous stages? Did it meet the length and tone requirements?\n",
        "* **Collaboration and Tool Use**: Describe how the agents collaborated. Specifically, how did the `Researcher`'s use of the tool impact the `Analyst`'s work, and how did the `Analyst`'s output inform the `Report Writer`?\n",
        "* **Challenges Encountered**: Did you observe any issues (e.g., outdated information, irrelevant search results, agents getting stuck, LLM hallucinations)? How might you address them in a production system?"
      ],
      "metadata": {
        "id": "HRAfZ0ZnUiQB"
      },
      "id": "HRAfZ0ZnUiQB"
    },
    {
      "cell_type": "markdown",
      "source": [
        "### Task 4.2: Reflection on Tool-Enabled Agents\n",
        "Consider the broader implications and benefits of equipping agents with external tools."
      ],
      "metadata": {
        "id": "eRlAPyopUiQB"
      },
      "id": "eRlAPyopUiQB"
    },
    {
      "cell_type": "markdown",
      "source": [
        "* **Power of Tools**: How do external tools enhance the capabilities of AI agents? What would be the limitations without them?\n",
        "* **Agent Specialization**: How important was it to define distinct roles and responsibilities for each agent in this workflow? Could a single agent with all tools achieve the same quality of output?\n",
        "* **Real-world Applications**: Beyond research, what other types of complex tasks could benefit from a tool-enabled multi-agent system (e.g., customer support, code generation, financial analysis)?\n",
        "* **Future Enhancements**: If you were to improve this research assistant, what additional tools or agent capabilities would you add (e.g., a summarization tool, a fact-checking tool, a human feedback loop)?\n",
        "* **Ethical Considerations**: Briefly discuss any ethical considerations that arise when AI agents are empowered with broad access to information via search tools (e.g., misinformation, bias in search results)."
      ],
      "metadata": {
        "id": "l1srk0RDUiQB"
      },
      "id": "l1srk0RDUiQB"
    },
    {
      "cell_type": "markdown",
      "source": [
        "---"
      ],
      "metadata": {
        "id": "IgoaTpmEUiQC"
      },
      "id": "IgoaTpmEUiQC"
    },
    {
      "cell_type": "markdown",
      "source": [
        "### Submission:\n",
        "* Ensure all code cells have been executed and their outputs are visible.\n",
        "* All analysis and reflections are clearly written in markdown cells.\n",
        "* **Attach** the generated `research_brief.md`, `analysis_report.md`, and `final_research_report.md` files alongside your notebook if submitting to a platform that allows it, or copy their contents directly into markdown cells if not.\n",
        "* Save your Jupyter Notebook as `[YourName]_CrewAI_Research_Assistant_Assignment.ipynb`."
      ],
      "metadata": {
        "id": "ZqFdCLS1UiQC"
      },
      "id": "ZqFdCLS1UiQC"
    }
  ]
}