{
  "nbformat": 4,
  "nbformat_minor": 5,
  "metadata": {
    "kernelspec": {
      "display_name": "Python 3",
      "language": "python",
      "name": "python3"
    },
    "language_info": {
      "codemirror_mode": {
        "name": "ipython",
        "version": 3
      },
      "file_extension": ".py",
      "mimetype": "text/x-python",
      "name": "python",
      "nbconvert_exporter": "python",
      "pygments_lexer": "ipython3",
      "version": "3.9.18"
    },
    "colab": {
      "provenance": []
    }
  },
  "cells": [
    {
      "cell_type": "markdown",
      "source": [
        "# Assignment: Define Agent Roles and Tools Using a YAML Config\n",
        "\n",
        "\n",
        "---"
      ],
      "metadata": {
        "id": "bM72WWWATGnv"
      },
      "id": "bM72WWWATGnv"
    },
    {
      "cell_type": "markdown",
      "source": [
        "### Objective:\n",
        "This assignment will guide you through defining AI **agent roles, goals, backstories, and tools using an external YAML configuration file**. This approach promotes modularity, reusability, and easier management of complex multi-agent systems. You will build a simple data analysis workflow, where agent definitions are loaded dynamically from a YAML file, demonstrating a more production-ready way to manage your CrewAI agents."
      ],
      "metadata": {
        "id": "DG_GKC0QTGnx"
      },
      "id": "DG_GKC0QTGnx"
    },
    {
      "cell_type": "markdown",
      "source": [
        "---"
      ],
      "metadata": {
        "id": "JsGlFwkSTGny"
      },
      "id": "JsGlFwkSTGny"
    },
    {
      "cell_type": "markdown",
      "source": [
        "### Instructions:\n",
        "1.  **LLM Access**: You'll need access to an LLM API (e.g., Google's Gemini, OpenAI's GPT-4). For this assignment, we'll primarily use **Google's Gemini Pro model**.\n",
        "2.  **Environment Setup**: Install the necessary Python libraries: `pip install crewai crewai_tools google-generativeai pyyaml`.\n",
        "3.  **API Key**: Securely handle your API key. It's best practice to load it from an environment variable.\n",
        "4.  **Jupyter Notebook**: All your code, YAML content, outputs, observations, and analysis must be documented in this Jupyter Notebook.\n",
        "5.  **YAML File**: You will create a separate `.yaml` file for agent and tool definitions.\n",
        "6.  **Task Scenario**: You will build a workflow where agents analyze a small dataset (simulated or real) and provide insights.\n",
        "7.  **Analysis**: Evaluate the benefits of using YAML for configuration and the effectiveness of your agents."
      ],
      "metadata": {
        "id": "4Zy-fWZLTGny"
      },
      "id": "4Zy-fWZLTGny"
    },
    {
      "cell_type": "markdown",
      "source": [
        "---"
      ],
      "metadata": {
        "id": "unrE2fHTTGnz"
      },
      "id": "unrE2fHTTGnz"
    },
    {
      "cell_type": "markdown",
      "source": [
        "## Part 1: Setup and YAML File Creation\n",
        "Begin by configuring your LLM and creating the YAML file that will hold your agent and tool definitions."
      ],
      "metadata": {
        "id": "8n-qzvbmTGnz"
      },
      "id": "8n-qzvbmTGnz"
    },
    {
      "cell_type": "markdown",
      "source": [
        "### Task 1.1: Install Libraries and Configure LLM\n",
        "Install `crewai`, `google-generativeai`, and `pyyaml`, then set up your Google API key and initialize the LLM."
      ],
      "metadata": {
        "id": "P-aVRCsbTGnz"
      },
      "id": "P-aVRCsbTGnz"
    },
    {
      "cell_type": "code",
      "source": [
        "# Install necessary libraries (if not already installed)\n",
        "# !pip install crewai crewai_tools google-generativeai pyyaml --quiet\n",
        "\n",
        "import os\n",
        "import yaml\n",
        "from crewai import Agent, Task, Crew, Process\n",
        "from crewai_tools import Tool # We'll define a custom tool\n",
        "from langchain_google_genai import ChatGoogleGenerativeAI\n",
        "\n",
        "# --- YOUR API KEY HERE ---\n",
        "os.environ[\"GOOGLE_API_KEY\"] = \"YOUR_GOOGLE_API_KEY_HERE\" # Replace with your actual Google API key\n",
        "\n",
        "# Initialize the LLM (Gemini Pro)\n",
        "llm = ChatGoogleGenerativeAI(model=\"gemini-pro\", temperature=0.5)\n",
        "\n",
        "print(\"CrewAI environment and LLM setup complete!\")"
      ],
      "outputs": [],
      "metadata": {
        "id": "gVn5R4w4TGn0"
      },
      "id": "gVn5R4w4TGn0",
      "execution_count": null
    },
    {
      "cell_type": "markdown",
      "source": [
        "### Task 1.2: Create `agents_config.yaml`\n",
        "Create a file named `agents_config.yaml` in the same directory as this notebook. This file will define your agents and tools. Below is the content you should put into it. You will create two agents: a **Data Analyst** and an **Insight Generator**."
      ],
      "metadata": {
        "id": "MHlbimBsTGn1"
      },
      "id": "MHlbimBsTGn1"
    },
    {
      "cell_type": "markdown",
      "source": [
        "**`agents_config.yaml` Content:**\n",
        "```yaml\n",
        "agents:\n",
        "  - id: data_analyst\n",
        "    role: Data Analyst\n",
        "    goal: Analyze provided data to identify key trends, anomalies, and statistical insights.\n",
        "    backstory: An expert in statistical analysis and data interpretation. Transforms raw data into actionable insights, focusing on accuracy and detail.\n",
        "    verbose: true\n",
        "    allow_delegation: false\n",
        "    tools:\n",
        "      - name: analyze_data_tool\n",
        "        description: A tool to perform basic data analysis on a given dataset (simulated).\n",
        "        function_name: analyze_data\n",
        "  \n",
        "  - id: insight_generator\n",
        "    role: Insight Generator\n",
        "    goal: Synthesize data analysis findings into clear, concise, and actionable business insights and recommendations.\n",
        "    backstory: A seasoned business strategist with a knack for distilling complex analytical results into strategic recommendations. Focuses on clarity and practical application.\n",
        "    verbose: true\n",
        "    allow_delegation: false\n",
        "    # No tools needed for this agent, as it works with the output of the Data Analyst\n",
        "\n",
        "tools:\n",
        "  - name: analyze_data_tool\n",
        "    description: A tool to perform basic data analysis on a given dataset (simulated).\n",
        "    function_name: analyze_data\n",
        "```"
      ],
      "metadata": {
        "id": "XeBfr5dTTGn1"
      },
      "id": "XeBfr5dTTGn1"
    },
    {
      "cell_type": "code",
      "source": [
        "# Create the agents_config.yaml file programmatically (for convenience in notebook environment)\n",
        "yaml_content = \"\"\"\n",
        "agents:\n",
        "  - id: data_analyst\n",
        "    role: Data Analyst\n",
        "    goal: Analyze provided data to identify key trends, anomalies, and statistical insights.\n",
        "    backstory: An expert in statistical analysis and data interpretation. Transforms raw data into actionable insights, focusing on accuracy and detail.\n",
        "    verbose: true\n",
        "    allow_delegation: false\n",
        "    tools:\n",
        "      - name: analyze_data_tool\n",
        "        description: A tool to perform basic data analysis on a given dataset (simulated).\n",
        "        function_name: analyze_data\n",
        "\n",
        "  - id: insight_generator\n",
        "    role: Insight Generator\n",
        "    goal: Synthesize data analysis findings into clear, concise, and actionable business insights and recommendations.\n",
        "    backstory: A seasoned business strategist with a knack for distilling complex analytical results into strategic recommendations. Focuses on clarity and practical application.\n",
        "    verbose: true\n",
        "    allow_delegation: false\n",
        "\n",
        "tools:\n",
        "  - name: analyze_data_tool\n",
        "    description: A tool to perform basic data analysis on a given dataset (simulated).\n",
        "    function_name: analyze_data\n",
        "\"\"\"\n",
        "\n",
        "with open(\"agents_config.yaml\", \"w\") as f:\n",
        "    f.write(yaml_content)\n",
        "\n",
        "print(\"agents_config.yaml created successfully!\")"
      ],
      "outputs": [],
      "metadata": {
        "id": "maoIuFBhTGn2"
      },
      "id": "maoIuFBhTGn2",
      "execution_count": null
    },
    {
      "cell_type": "markdown",
      "source": [
        "---"
      ],
      "metadata": {
        "id": "o9n7FyZyTGn2"
      },
      "id": "o9n7FyZyTGn2"
    },
    {
      "cell_type": "markdown",
      "source": [
        "## Part 2: Define and Load Custom Tools\n",
        "Before loading agents, you need to define the actual Python functions that your tools will wrap. Then, you'll load the YAML and link the tools."
      ],
      "metadata": {
        "id": "SXthy6P4TGn3"
      },
      "id": "SXthy6P4TGn3"
    },
    {
      "cell_type": "markdown",
      "source": [
        "### Task 2.1: Implement a Custom Tool Function\n",
        "Create a Python function that simulates data analysis. This function will be called by your `Data Analyst` agent."
      ],
      "metadata": {
        "id": "Ov4X0QSqTGn3"
      },
      "id": "Ov4X0QSqTGn3"
    },
    {
      "cell_type": "markdown",
      "source": [
        "* **Function Name**: `analyze_data`\n",
        "* **Parameters**: Takes `data_description` (string) as input.\n",
        "* **Behavior**: Return a simulated analysis result. For instance, if `data_description` contains \"sales\", return sales trends. If it contains \"customer feedback\", return sentiment analysis. Keep it simple for this assignment, just returning descriptive text.\n",
        "* **Tool**: Create a `crewai_tools.Tool` instance wrapping this function."
      ],
      "metadata": {
        "id": "DgzE3W72TGn3"
      },
      "id": "DgzE3W72TGn3"
    },
    {
      "cell_type": "code",
      "source": [
        "def analyze_data(data_description: str) -> str:\n",
        "    \"\"\"\n",
        "    A simulated tool to analyze data based on its description.\n",
        "    Returns a summary of insights derived from the 'analysis'.\n",
        "    \"\"\"\n",
        "    print(f\"\\n--- Tool: Analyzing data for '{data_description}' ---\")\n",
        "    if \"sales\" in data_description.lower():\n",
        "        return (\n",
        "            \"Simulated Sales Data Analysis: Q1 sales increased by 15% YoY, driven by \"\n",
        "            \"new product launches. Top performing region: North America (25% growth). \"\n",
        "            \"Bottom performing: Europe (2% decline). Average order value increased by 8%.\"\n",
        "        )\n",
        "    elif \"customer feedback\" in data_description.lower() or \"sentiment\" in data_description.lower():\n",
        "        return (\n",
        "            \"Simulated Customer Feedback Analysis: 70% positive sentiment, 20% neutral, 10% negative. \"\n",
        "            \"Key positive themes: 'ease of use', 'great support'. Key negative themes: 'pricing', 'buggy software'.\"\n",
        "        )\n",
        "    elif \"website traffic\" in data_description.lower():\n",
        "        return (\n",
        "            \"Simulated Website Traffic Analysis: 30% increase in unique visitors last month. \"\n",
        "            \"Bounce rate is 45%. Top referral source: social media (40%). Most popular page: product features (2x others).\"\n",
        "        )\n",
        "    else:\n",
        "        return (\n",
        "            f\"Simulated General Data Analysis for '{data_description}': \"\n",
        "            \"Overall data shows a positive trend. Further specific analysis might be required.\"\n",
        "        )\n",
        "\n",
        "analyze_data_tool = Tool(\n",
        "    name=\"analyze_data_tool\", # This name MUST match the 'name' in your YAML for the tool\n",
        "    description=\"A tool to perform basic data analysis on a given dataset.\",\n",
        "    func=analyze_data # Link the Python function here\n",
        ")\n",
        "\n",
        "available_tools = {\"analyze_data_tool\": analyze_data_tool}\n",
        "\n",
        "print(\"Custom tool 'analyze_data_tool' implemented and ready!\")"
      ],
      "outputs": [],
      "metadata": {
        "id": "ljSc0YK3TGn3"
      },
      "id": "ljSc0YK3TGn3",
      "execution_count": null
    },
    {
      "cell_type": "markdown",
      "source": [
        "### Task 2.2: Load Agents from YAML\n",
        "Load your `agents_config.yaml` file and instantiate `Agent` objects using the loaded configuration. Map the tools defined in the YAML to your Python `Tool` instances."
      ],
      "metadata": {
        "id": "Aua4D5-gTGn4"
      },
      "id": "Aua4D5-gTGn4"
    },
    {
      "cell_type": "code",
      "source": [
        "def load_agents_from_yaml(config_file: str, llm, tools_map: dict):\n",
        "    with open(config_file, 'r') as f:\n",
        "        config = yaml.safe_load(f)\n",
        "\n",
        "    agents = {}\n",
        "    for agent_config in config['agents']:\n",
        "        agent_id = agent_config.pop('id')\n",
        "        agent_tools = []\n",
        "        if 'tools' in agent_config:\n",
        "            for tool_def in agent_config.pop('tools'):\n",
        "                tool_name = tool_def['name']\n",
        "                if tool_name in tools_map:\n",
        "                    agent_tools.append(tools_map[tool_name])\n",
        "                else:\n",
        "                    print(f\"Warning: Tool '{tool_name}' not found in tools_map for agent '{agent_id}'.\")\n",
        "\n",
        "        agents[agent_id] = Agent(\n",
        "            llm=llm,\n",
        "            tools=agent_tools,\n",
        "            **agent_config\n",
        "        )\n",
        "    return agents\n",
        "\n",
        "# Load agents using the function\n",
        "loaded_agents = load_agents_from_yaml('agents_config.yaml', llm, available_tools)\n",
        "\n",
        "data_analyst_agent = loaded_agents['data_analyst']\n",
        "insight_generator_agent = loaded_agents['insight_generator']\n",
        "\n",
        "print(\"Agents loaded from YAML:\")\n",
        "print(f\"  - Data Analyst Role: {data_analyst_agent.role}\")\n",
        "print(f\"  - Insight Generator Role: {insight_generator_agent.role}\")"
      ],
      "outputs": [],
      "metadata": {
        "id": "ySqLv2gfTGn4"
      },
      "id": "ySqLv2gfTGn4",
      "execution_count": null
    },
    {
      "cell_type": "markdown",
      "source": [
        "---"
      ],
      "metadata": {
        "id": "BiYR1XZcTGn4"
      },
      "id": "BiYR1XZcTGn4"
    },
    {
      "cell_type": "markdown",
      "source": [
        "## Part 3: Define Tasks and Create the Crew\n",
        "Define the tasks for your loaded agents and then assemble them into a Crew to run the workflow."
      ],
      "metadata": {
        "id": "p8VmdBLtTGn5"
      },
      "id": "p8VmdBLtTGn5"
    },
    {
      "cell_type": "markdown",
      "source": [
        "### Task 3.1: Define Tasks\n",
        "Create two tasks for your workflow: one for data analysis and another for generating insights. Ensure the second task uses the output of the first as context."
      ],
      "metadata": {
        "id": "jyrCVtj9TGn5"
      },
      "id": "jyrCVtj9TGn5"
    },
    {
      "cell_type": "markdown",
      "source": [
        "* **Analyze Data Task**:\n",
        "    * **Description**: \"Analyze the provided sales data for Q1 2024 and identify key trends, growth areas, and any significant anomalies. Focus on identifying regional performance differences and product category contributions.\"\n",
        "    * **Agent**: `data_analyst_agent`\n",
        "* **Generate Insights Task**:\n",
        "    * **Description**: \"Based on the data analysis report, generate 3-5 concise, actionable business insights. Each insight should be a clear statement, followed by a recommendation for a business strategy. Format as bullet points.\"\n",
        "    * **Agent**: `insight_generator_agent`\n",
        "    * **Context**: This task should receive the output of the `analyze_data_task`."
      ],
      "metadata": {
        "id": "RagAssWKTGn5"
      },
      "id": "RagAssWKTGn5"
    },
    {
      "cell_type": "code",
      "source": [
        "analyze_data_task = Task(\n",
        "    description=(\n",
        "        \"Analyze the provided sales data for Q1 2024 and identify key trends, \"\n",
        "        \"growth areas, and any significant anomalies. Focus on identifying regional \"\n",
        "        \"performance differences and product category contributions. \"\n",
        "        \"Provide a summary of the analysis findings.\"\n",
        "    ),\n",
        "    agent=data_analyst_agent,\n",
        "    expected_output=\"A detailed analysis report on sales data, including trends, anomalies, and regional performance.\"\n",
        ")\n",
        "\n",
        "generate_insights_task = Task(\n",
        "    description=(\n",
        "        \"Based on the data analysis report provided, generate 3-5 concise, actionable \"\n",
        "        \"business insights. Each insight should be a clear statement, followed by a \"\n",
        "        \"recommendation for a business strategy. Format the insights as bullet points \"\n",
        "        \"starting with 'Insight:' and 'Recommendation:'.\"\n",
        "    ),\n",
        "    agent=insight_generator_agent,\n",
        "    context=[analyze_data_task], # The output of analyze_data_task becomes context here\n",
        "    expected_output=\"3-5 actionable business insights with corresponding recommendations, formatted as bullet points.\"\n",
        ")\n",
        "\n",
        "print(\"Tasks defined!\")"
      ],
      "outputs": [],
      "metadata": {
        "id": "9ddtbKwRTGn5"
      },
      "id": "9ddtbKwRTGn5",
      "execution_count": null
    },
    {
      "cell_type": "markdown",
      "source": [
        "### Task 3.2: Create and Run the Crew\n",
        "Assemble the agents and tasks into a `Crew` and execute the workflow."
      ],
      "metadata": {
        "id": "xala3yNPTGn5"
      },
      "id": "xala3yNPTGn5"
    },
    {
      "cell_type": "markdown",
      "source": [
        "* **Agents**: Use the agents loaded from YAML.\n",
        "* **Tasks**: Use the defined tasks in sequential order.\n",
        "* **Process**: Use `Process.sequential`.\n",
        "* **Verbose**: Set to `True` for detailed logging."
      ],
      "metadata": {
        "id": "U7P4Jp3qTGn6"
      },
      "id": "U7P4Jp3qTGn6"
    },
    {
      "cell_type": "code",
      "source": [
        "business_intelligence_crew = Crew(\n",
        "    agents=[data_analyst_agent, insight_generator_agent],\n",
        "    tasks=[analyze_data_task, generate_insights_task],\n",
        "    process=Process.sequential,\n",
        "    verbose=True\n",
        ")\n",
        "\n",
        "print(\"\\n--- Kicking off the Business Intelligence Crew! ---\")\n",
        "\n",
        "initial_data_context = {\n",
        "    'data_description': 'sales data for Q1 2024, focusing on regional performance and product contributions'\n",
        "}\n",
        "\n",
        "result = business_intelligence_crew.kickoff(inputs=initial_data_context)\n",
        "\n",
        "print(\"\\n--- Workflow Finished! ---\")\n",
        "print(\"Final Insights Report:\\n\")\n",
        "print(result)"
      ],
      "outputs": [],
      "metadata": {
        "id": "WR6GiAJ7TGn6"
      },
      "id": "WR6GiAJ7TGn6",
      "execution_count": null
    },
    {
      "cell_type": "markdown",
      "source": [
        "---"
      ],
      "metadata": {
        "id": "NJCdbhKoTGn6"
      },
      "id": "NJCdbhKoTGn6"
    },
    {
      "cell_type": "markdown",
      "source": [
        "## Part 4: Analysis and Reflection\n",
        "Examine the outputs and discuss the benefits of using external configuration."
      ],
      "metadata": {
        "id": "WiWbAtoITGn6"
      },
      "id": "WiWbAtoITGn6"
    },
    {
      "cell_type": "markdown",
      "source": [
        "### Task 4.1: Review the Outputs\n",
        "Inspect the final output from your CrewAI workflow and answer the following questions."
      ],
      "metadata": {
        "id": "__oixkCaTGn6"
      },
      "id": "__oixkCaTGn6"
    },
    {
      "cell_type": "markdown",
      "source": [
        "* **Analysis Quality**: Did the `Data Analyst` agent use the `analyze_data_tool` effectively? Was the simulated analysis output reasonable and did it provide sufficient information for the next step?\n",
        "* **Insight Quality**: Were the insights generated by the `Insight Generator` agent concise, actionable, and directly derived from the analysis report?\n",
        "* **Workflow Flow**: Describe how the information flowed between the `Data Analyst` and `Insight Generator` agents. Was the context passing successful?"
      ],
      "metadata": {
        "id": "mLYjQHRVTGn7"
      },
      "id": "mLYjQHRVTGn7"
    },
    {
      "cell_type": "markdown",
      "source": [
        "### Task 4.2: Reflection on YAML Configuration\n",
        "Discuss the advantages and potential disadvantages of defining agents and tools in a YAML file."
      ],
      "metadata": {
        "id": "5_HzNAxkTGn7"
      },
      "id": "5_HzNAxkTGn7"
    },
    {
      "cell_type": "markdown",
      "source": [
        "* **Advantages**: What are the main benefits of externalizing agent and tool definitions to a YAML file (e.g., modularity, reusability, version control, easier iteration, separation of concerns)?\n",
        "* **Disadvantages/Challenges**: What are some potential challenges or limitations you might encounter when using YAML for configuration, especially for very complex setups?\n",
        "* **Scalability**: How does using a YAML configuration improve the scalability and maintainability of your multi-agent applications as they grow larger or more complex?\n",
        "* **When to Use**: In what real-world scenarios would defining agents and tools in a YAML file be particularly beneficial?"
      ],
      "metadata": {
        "id": "2-2XMMyBTGn7"
      },
      "id": "2-2XMMyBTGn7"
    },
    {
      "cell_type": "markdown",
      "source": [
        "---"
      ],
      "metadata": {
        "id": "RQEGgKHKTGn7"
      },
      "id": "RQEGgKHKTGn7"
    },
    {
      "cell_type": "markdown",
      "source": [
        "### Submission:\n",
        "* Ensure all code cells have been executed and their outputs are visible.\n",
        "* All analysis and reflections are clearly written in markdown cells.\n",
        "* **Ensure the `agents_config.yaml` file is present** in the same directory as your notebook (its content is already programmatically created in Task 1.2).\n",
        "* Save your Jupyter Notebook as `[YourName]_CrewAI_YAML_Config_Assignment.ipynb`."
      ],
      "metadata": {
        "id": "79_vdDVnTGn7"
      },
      "id": "79_vdDVnTGn7"
    }
  ]
}