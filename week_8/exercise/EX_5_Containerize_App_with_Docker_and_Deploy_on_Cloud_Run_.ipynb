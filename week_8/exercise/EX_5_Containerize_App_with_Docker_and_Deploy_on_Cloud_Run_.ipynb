{
  "cells": [
    {
      "cell_type": "markdown",
      "source": [
        "# Assignment: Containerize App with Docker and Deploy on Cloud Run\n",
        "\n",
        "\n",
        "## Objective\n",
        "This assignment focuses on containerizing a web application (e.g., your FastAPI RAG API or Streamlit app from previous assignments) using Docker and deploying it to Google Cloud Run. You will gain hands-on experience with Dockerizing applications, managing dependencies, and deploying serverless containers."
      ],
      "metadata": {
        "id": "w_cidjLl5FrQ"
      },
      "id": "w_cidjLl5FrQ"
    },
    {
      "cell_type": "markdown",
      "source": [
        "## Part 1: Application Selection and Setup (20 Marks)\n",
        "\n",
        "1.  **Application Selection:**\n",
        "    * Choose **one** of the following applications to containerize and deploy:\n",
        "        * **Option A (Recommended):** Your FastAPI RAG API from the previous assignment.\n",
        "        * **Option B:** Your Streamlit QA Bot frontend from the previous assignment.\n",
        "        * **Option C:** A simple Python Flask/FastAPI \"Hello World\" application (if you haven't completed previous assignments).\n",
        "    * Clearly state which application you have chosen and why.\n",
        "    * Ensure your chosen application is functional and runs correctly locally before proceeding.\n",
        "\n",
        "2.  **Project Structure:**\n",
        "    * Organize your application files neatly within a project directory.\n",
        "    * Create a `requirements.txt` file listing all Python dependencies required by your application."
      ],
      "metadata": {
        "id": "Yv3fduIh5FrS"
      },
      "id": "Yv3fduIh5FrS"
    },
    {
      "cell_type": "code",
      "execution_count": null,
      "metadata": {
        "id": "xCmpE_g25FrS"
      },
      "outputs": [],
      "source": [
        "# Your code for application setup and requirements.txt creation here.\n",
        "# Describe your chosen application and confirm its local functionality."
      ],
      "id": "xCmpE_g25FrS"
    },
    {
      "cell_type": "markdown",
      "source": [
        "## Part 2: Dockerization (40 Marks)\n",
        "\n",
        "1.  **Create a Dockerfile:**\n",
        "    * In the root of your application directory, create a file named `Dockerfile` (no extension).\n",
        "    * Write a Dockerfile that:\n",
        "        * Uses a suitable base image (e.g., `python:3.9-slim-buster` or `python:3.10-slim`).\n",
        "        * Sets a working directory inside the container.\n",
        "        * Copies your `requirements.txt` and installs dependencies.\n",
        "        * Copies your application code into the container.\n",
        "        * Exposes the correct port (e.g., 8000 for FastAPI/Streamlit default).\n",
        "        * Defines the command to run your application when the container starts (e.g., `uvicorn main:app --host 0.0.0.0 --port 8000` for FastAPI, `streamlit run app.py --server.port 8000 --server.address 0.0.0.0` for Streamlit).\n",
        "    * Provide the full content of your Dockerfile.\n",
        "\n",
        "2.  **Build the Docker Image:**\n",
        "    * Open your terminal in the project directory.\n",
        "    * Build your Docker image using the `docker build` command. Tag it appropriately (e.g., `my-rag-app:v1` or `my-streamlit-app:v1`).\n",
        "    * Show the `docker build` command and its successful output.\n",
        "\n",
        "3.  **Run the Docker Container Locally:**\n",
        "    * Run your newly built Docker image as a container locally to verify it's working.\n",
        "    * Map the container's exposed port to a local port (e.g., `docker run -p 8000:8000 my-rag-app:v1`).\n",
        "    * Show the `docker run` command and confirm that you can access your application (e.g., via `http://localhost:8000` in a browser or `curl`).\n",
        "    * Provide a screenshot or output demonstrating local access to the running container."
      ],
      "metadata": {
        "id": "e5iBgM2-5FrT"
      },
      "id": "e5iBgM2-5FrT"
    },
    {
      "cell_type": "code",
      "execution_count": null,
      "metadata": {
        "id": "mhIWyAae5FrU"
      },
      "outputs": [],
      "source": [
        "# Your Dockerfile content here.\n",
        "# Commands and outputs for building and running the Docker image locally.\n",
        "# Screenshots/output demonstrating local access to the containerized app."
      ],
      "id": "mhIWyAae5FrU"
    },
    {
      "cell_type": "markdown",
      "source": [
        "## Part 3: Deployment to Google Cloud Run (40 Marks)\n",
        "\n",
        "1.  **Google Cloud Setup:**\n",
        "    * Ensure you have a Google Cloud Platform (GCP) account and a project set up.\n",
        "    * Install and configure the `gcloud CLI` on your local machine.\n",
        "    * Enable the Cloud Run API and Container Registry API in your GCP project.\n",
        "    * Show the `gcloud auth login` and `gcloud config set project [YOUR_PROJECT_ID]` commands.\n",
        "\n",
        "2.  **Push Docker Image to Container Registry:**\n",
        "    * Tag your local Docker image with the Google Container Registry (GCR) host and your project ID (e.g., `gcr.io/[YOUR_PROJECT_ID]/my-rag-app:v1`).\n",
        "    * Push the tagged image to GCR using `docker push`.\n",
        "    * Show the tagging and pushing commands and their successful output.\n",
        "\n",
        "3.  **Deploy to Cloud Run:**\n",
        "    * Deploy your container image to Cloud Run using the `gcloud run deploy` command.\n",
        "    * Configure the service for:\n",
        "        * Region (e.g., `us-central1` or a region close to you).\n",
        "        * Allow unauthenticated invocations (for public access).\n",
        "        * Minimum instances (0 for cost efficiency).\n",
        "        * CPU and Memory (default is usually fine, or slightly increase if needed).\n",
        "    * Show the `gcloud run deploy` command and its successful output, including the service URL.\n",
        "\n",
        "4.  **Access and Verify Deployment:**\n",
        "    * Access your deployed application using the provided Cloud Run service URL.\n",
        "    * Take a screenshot of your deployed application running in the browser.\n",
        "    * If it's the FastAPI app, show a `curl` command or `requests` script accessing one of its endpoints (e.g., `/chat` or `/docs`) and its JSON response.\n",
        "    * If it's the Streamlit app, interact with it and show a screenshot of a successful query-answer interaction.\n",
        "\n",
        "5.  **Cloud Run Console Inspection (Bonus - 5 Marks):**\n",
        "    * Navigate to the Cloud Run service in the GCP Console.\n",
        "    * Take a screenshot of the \"Revisions\" tab showing your successful deployment.\n",
        "    * Briefly explain what you observe in the Cloud Run console (e.g., status, URL, region, resource allocation)."
      ],
      "metadata": {
        "id": "Dub8aTGw5FrU"
      },
      "id": "Dub8aTGw5FrU"
    },
    {
      "cell_type": "code",
      "execution_count": null,
      "metadata": {
        "id": "abEN2HDw5FrV"
      },
      "outputs": [],
      "source": [
        "# Your GCP CLI commands for setup, pushing, and deployment.\n",
        "# Screenshots/output demonstrating successful access to the deployed app on Cloud Run.\n",
        "# (For bonus, add screenshot of Cloud Run console and observations.)"
      ],
      "id": "abEN2HDw5FrV"
    },
    {
      "cell_type": "markdown",
      "source": [
        "## Part 4: Clean-up and Reflection (Bonus - 10 Marks)\n",
        "\n",
        "1.  **Clean Up Resources:**\n",
        "    * After completing the assignment, delete your Cloud Run service to avoid incurring unnecessary costs.\n",
        "    * Optionally, delete the Docker image from GCR.\n",
        "    * Show the `gcloud run services delete` command and `gcloud container images delete` (if applicable) commands.\n",
        "\n",
        "2.  **Challenges and Learnings:**\n",
        "    * What were the main challenges you faced during containerization or deployment to Cloud Run?\n",
        "    * What key concepts did you learn about Docker, containerization, and serverless deployment with Cloud Run?\n",
        "    * Discuss the benefits of using Docker and Cloud Run for deploying web applications, especially in the context of AI/ML services."
      ],
      "metadata": {
        "id": "Qt6vKowd5FrV"
      },
      "id": "Qt6vKowd5FrV"
    },
    {
      "cell_type": "markdown",
      "source": [
        "## Submission Guidelines\n",
        "\n",
        "* Submit this Jupyter Notebook (.ipynb file) with all cells executed and outputs visible.\n",
        "* Include your application code files (e.g., `main.py`, `app.py`, etc.) and your `Dockerfile`.\n",
        "* Provide a `requirements.txt` file.\n",
        "* Ensure your code is well-commented and easy to understand.\n",
        "* Make sure all commands and screenshots are clearly presented as requested.\n",
        "* Include a brief `README.md` file (optional but recommended) with instructions to reproduce your work."
      ],
      "metadata": {
        "id": "fxhrjqE75FrV"
      },
      "id": "fxhrjqE75FrV"
    }
  ],
  "metadata": {
    "kernelspec": {
      "display_name": "Python 3",
      "language": "python",
      "name": "python3"
    },
    "language_info": {
      "codemirror_mode": {
        "name": "ipython",
        "version": 3
      },
      "file_extension": ".py",
      "mimetype": "text/x-python",
      "name": "python",
      "nbconvert_exporter": "python",
      "pygments_lexer": "ipython3",
      "version": "3.9.13"
    },
    "colab": {
      "provenance": []
    }
  },
  "nbformat": 4,
  "nbformat_minor": 5
}