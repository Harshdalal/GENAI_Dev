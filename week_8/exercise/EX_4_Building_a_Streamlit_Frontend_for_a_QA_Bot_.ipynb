{
  "cells": [
    {
      "cell_type": "markdown",
      "source": [
        "# Assignment: Building a Streamlit Frontend for a QA Bot\n",
        "\n",
        "\n",
        "\n",
        "## Objective\n",
        "This assignment focuses on building an interactive web-based frontend for a Question-Answering (QA) bot using Streamlit. You will connect a backend QA system (either a simple local one or the previously built RAG API) to a user-friendly interface, allowing users to input questions and receive answers."
      ],
      "metadata": {
        "id": "lltaPHP84rhf"
      },
      "id": "lltaPHP84rhf"
    },
    {
      "cell_type": "markdown",
      "source": [
        "## Part 1: Environment Setup and Backend Integration (20 Marks)\n",
        "\n",
        "1.  **Environment Setup:**\n",
        "    * Create a new Python virtual environment.\n",
        "    * Install necessary libraries: `streamlit`, `requests` (if connecting to an API), and any libraries required by your QA backend (e.g., `sentence-transformers`, `faiss-cpu`, `torch`/`transformers` if running QA locally).\n",
        "    * Provide a `requirements.txt` file.\n",
        "\n",
        "2.  **QA Backend Setup:**\n",
        "    * **Option A (Recommended):** Integrate with your previously built FastAPI RAG API.\n",
        "        * Ensure your FastAPI application is running locally (e.g., `uvicorn main:app --reload`).\n",
        "        * Your Streamlit app will make `requests` to this API.\n",
        "    * **Option B:** Implement a simplified local QA bot for this assignment.\n",
        "        * This bot should be able to answer questions based on a small, fixed set of documents (e.g., 5-10 paragraphs).\n",
        "        * Use `sentence-transformers` for embeddings and a simple `cosine_similarity` search to find the most relevant paragraph.\n",
        "        * A simple rule-based or a very small pre-trained model (like `distilbert-base-uncased-finetuned-sst2`) can be used for 'answering' by simply returning the most similar chunk or a placeholder.\n",
        "    * Clearly describe which QA backend option you are using and its setup."
      ],
      "metadata": {
        "id": "sJD4eQuv4rhh"
      },
      "id": "sJD4eQuv4rhh"
    },
    {
      "cell_type": "code",
      "execution_count": null,
      "metadata": {
        "id": "OjWJ_LmL4rhi"
      },
      "outputs": [],
      "source": [
        "# Your code for environment setup description and QA backend integration here.\n",
        "# If using a local QA bot, include its implementation here.\n",
        "# If using FastAPI, describe how to ensure it's running."
      ],
      "id": "OjWJ_LmL4rhi"
    },
    {
      "cell_type": "markdown",
      "source": [
        "## Part 2: Streamlit Application Structure (40 Marks)\n",
        "\n",
        "1.  **Streamlit App Initialization:**\n",
        "    * Create a new Python file (e.g., `app.py`) for your Streamlit application.\n",
        "    * Initialize your Streamlit app with a title (`st.set_page_config` and `st.title`).\n",
        "\n",
        "2.  **User Input:**\n",
        "    * Implement a text input field for the user to type their question (`st.text_input`).\n",
        "    * Add a button to trigger the QA process (`st.button`).\n",
        "\n",
        "3.  **Displaying Responses:**\n",
        "    * Create an area to display the bot's answer (`st.write` or `st.markdown`).\n",
        "    * Clearly label the answer (e.g., \"Answer:\").\n",
        "    * Implement a mechanism to display the retrieved documents or context that the answer is based on (e.g., `st.expander` or `st.info`). This is crucial for demonstrating the RAG aspect.\n",
        "        * Label this section (e.g., \"Retrieved Context:\").\n",
        "\n",
        "4.  **Loading Indicators/Messages:**\n",
        "    * Use `st.spinner` or `st.info` to show a \"working\" message while the backend is processing the query.\n",
        "\n",
        "5.  **Session State (for conversation history - Optional, for extra credit):**\n",
        "    * Implement Streamlit's `st.session_state` to maintain a simple conversation history (e.g., display previous questions and answers)."
      ],
      "metadata": {
        "id": "gsdk2MA94rhj"
      },
      "id": "gsdk2MA94rhj"
    },
    {
      "cell_type": "code",
      "execution_count": null,
      "metadata": {
        "id": "ecBxxxOJ4rhj"
      },
      "outputs": [],
      "source": [
        "# Your Streamlit app structure code here (likely `app.py`)\n",
        "# Include comments explaining each component."
      ],
      "id": "ecBxxxOJ4rhj"
    },
    {
      "cell_type": "markdown",
      "source": [
        "## Part 3: Connecting Frontend to Backend and User Experience (30 Marks)\n",
        "\n",
        "1.  **Query Processing Logic:**\n",
        "    * When the user clicks the \"Ask\" button:\n",
        "        * Get the user's query from the text input.\n",
        "        * If using FastAPI: Make an HTTP `POST` request to your FastAPI `/chat` (or similar) endpoint, sending the query as JSON.\n",
        "        * If using a local QA bot: Call your local QA function with the query.\n",
        "\n",
        "2.  **Response Handling:**\n",
        "    * Parse the response from your QA backend.\n",
        "    * Extract the answer and the retrieved documents/context.\n",
        "    * Display them in the designated areas in your Streamlit app.\n",
        "    * Handle cases where no answer or no relevant documents are found (e.g., display \"No answer found\" or a similar message).\n",
        "\n",
        "3.  **User Experience (UX) Enhancements (10 Marks):**\n",
        "    * Add a clear introductory message to the app.\n",
        "    * Use Streamlit's layout options (e.g., `st.sidebar`, `st.columns`) for a better visual structure (optional, for extra credit).\n",
        "    * Provide instructions or example queries for the user.\n",
        "    * Consider using icons or emojis (`st.write(\"Hello :wave:\")`)."
      ],
      "metadata": {
        "id": "SwlbRsyn4rhk"
      },
      "id": "SwlbRsyn4rhk"
    },
    {
      "cell_type": "code",
      "execution_count": null,
      "metadata": {
        "id": "D2ELyULx4rhk"
      },
      "outputs": [],
      "source": [
        "# Your code for connecting frontend to backend and UX enhancements here.\n",
        "# This will be part of your `app.py` logic."
      ],
      "id": "D2ELyULx4rhk"
    },
    {
      "cell_type": "markdown",
      "source": [
        "## Part 4: Demonstration and Reflection (10 Marks)\n",
        "\n",
        "1.  **Running the App:**\n",
        "    * Provide clear instructions on how to run your Streamlit application (e.g., `streamlit run app.py`).\n",
        "\n",
        "2.  **Screenshots/Video:**\n",
        "    * Include at least **3 screenshots** of your running Streamlit application demonstrating different queries and their responses. Show how the answer and retrieved context are displayed.\n",
        "    * (Alternatively, a short screen recording would be ideal).\n",
        "\n",
        "3.  **Analysis:**\n",
        "    * Discuss the advantages of using Streamlit for building quick prototypes and user interfaces for AI applications.\n",
        "    * What were the main challenges you faced in connecting the frontend to the backend or in designing the UI?\n",
        "    * How could you further improve the user interface and overall user experience of your QA bot?"
      ],
      "metadata": {
        "id": "CCFJ7iov4rhl"
      },
      "id": "CCFJ7iov4rhl"
    },
    {
      "cell_type": "markdown",
      "source": [
        "## Submission Guidelines\n",
        "\n",
        "* Submit this Jupyter Notebook (.ipynb file) with all cells executed and outputs visible.\n",
        "* Submit your Streamlit application file (e.g., `app.py`).\n",
        "* If using the FastAPI backend, submit your FastAPI application file (e.g., `main.py`) as well, along with instructions on how to run both.\n",
        "* Ensure your code is well-commented and easy to understand.\n",
        "* Provide a `requirements.txt` file listing all dependencies.\n",
        "* Include a brief `README.md` file (optional but recommended) explaining how to run your application (both frontend and backend if applicable) and any specific instructions.\n",
        "* Make sure your application runs without errors in the specified environment."
      ],
      "metadata": {
        "id": "4T2_oA2K4rhl"
      },
      "id": "4T2_oA2K4rhl"
    }
  ],
  "metadata": {
    "kernelspec": {
      "display_name": "Python 3",
      "language": "python",
      "name": "python3"
    },
    "language_info": {
      "codemirror_mode": {
        "name": "ipython",
        "version": 3
      },
      "file_extension": ".py",
      "mimetype": "text/x-python",
      "name": "python",
      "nbconvert_exporter": "python",
      "pygments_lexer": "ipython3",
      "version": "3.9.13"
    },
    "colab": {
      "provenance": []
    }
  },
  "nbformat": 4,
  "nbformat_minor": 5
}