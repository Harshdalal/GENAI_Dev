{
  "cells": [
    {
      "cell_type": "markdown",
      "source": [
        "# Assignment: Building a REST API for a RAG Pipeline with FastAPI\n",
        "\n",
        "## Objective\n",
        "This assignment focuses on transforming a Retrieval Augmented Generation (RAG) pipeline into a functional REST API using FastAPI. You will integrate previously built RAG components (document indexing, retrieval, and LLM generation) into a web service, allowing external applications to interact with your chatbot."
      ],
      "metadata": {
        "id": "DQhDcYlD3MA1"
      },
      "id": "DQhDcYlD3MA1"
    },
    {
      "cell_type": "markdown",
      "source": [
        "## Part 1: Setup and RAG Pipeline Integration (20 Marks)\n",
        "\n",
        "1.  **Environment Setup:**\n",
        "    * Create a new Python virtual environment.\n",
        "    * Install all necessary libraries: `fastapi`, `uvicorn`, `pydantic`, `sentence-transformers`, `faiss-cpu`, `torch`/`tensorflow` (for LLM), `transformers`.\n",
        "    * Provide a `requirements.txt` file.\n",
        "\n",
        "2.  **RAG Pipeline Review/Re-implementation:**\n",
        "    * **Option A (Recommended):** Reuse the core components (document indexing, retrieval, and a basic LLM integration) from your previous RAG assignment.\n",
        "    * **Option B:** If you haven't completed the previous RAG assignment, implement a simplified version for this assignment:\n",
        "        * **Document Corpus:** A small collection of text documents (e.g., 10-20 short paragraphs about a specific topic).\n",
        "        * **Embedding Model:** `sentence-transformers/all-MiniLM-L6-v2`.\n",
        "        * **Vector Store:** `FAISS`.\n",
        "        * **LLM:** A basic pre-trained language model (e.g., `distilgpt2` or `gpt2` from Hugging Face Transformers) for text generation, *without* fine-tuning.\n",
        "    * Ensure your RAG pipeline is encapsulated in a Python class or a set of functions that can be easily imported and used.\n",
        "    * Demonstrate that your RAG pipeline can successfully answer a few sample queries before proceeding to the API part."
      ],
      "metadata": {
        "id": "hmKXsYsY3MA3"
      },
      "id": "hmKXsYsY3MA3"
    },
    {
      "cell_type": "code",
      "execution_count": null,
      "metadata": {
        "id": "rhYCBEv53MA4"
      },
      "outputs": [],
      "source": [
        "# Your code for environment setup, requirements.txt, and RAG pipeline integration/re-implementation here.\n",
        "# Demonstrate your RAG pipeline with a few sample queries and responses."
      ],
      "id": "rhYCBEv53MA4"
    },
    {
      "cell_type": "markdown",
      "source": [
        "## Part 2: FastAPI Application (40 Marks)\n",
        "\n",
        "1.  **FastAPI Application Structure:**\n",
        "    * Create a FastAPI application instance.\n",
        "    * Define a `main.py` (or similar) file that initializes your RAG pipeline and starts the FastAPI app.\n",
        "\n",
        "2.  **Pydantic Models:**\n",
        "    * Define a Pydantic `Request` model for the incoming user query. It should have a field for `query` (string).\n",
        "    * Define a Pydantic `Response` model for the API's output. It should include at least:\n",
        "        * `answer` (string): The LLM-generated response.\n",
        "        * `retrieved_docs` (List[str]): A list of the top `k` retrieved document chunks (or their identifiers).\n",
        "        * (Optional, for extra credit) `similarity_scores` (List[float]): The similarity scores for the retrieved documents.\n",
        "\n",
        "3.  **API Endpoint for Chat:**\n",
        "    * Create a `POST` endpoint (e.g., `/chat` or `/ask`) that accepts your `Request` model.\n",
        "    * Inside this endpoint:\n",
        "        * Extract the `query` from the request.\n",
        "        * Call your RAG pipeline's retrieval function with the query.\n",
        "        * Call your RAG pipeline's generation function with the query and retrieved context.\n",
        "        * Return the response using your `Response` model.\n",
        "\n",
        "4.  **Health Check Endpoint (Optional, for extra credit):**\n",
        "    * Implement a simple `GET` endpoint (e.g., `/health`) that returns a status message (e.g., `{\"status\": \"ok\"}`) to indicate the API is running."
      ],
      "metadata": {
        "id": "91_UA1AE3MA4"
      },
      "id": "91_UA1AE3MA4"
    },
    {
      "cell_type": "code",
      "execution_count": null,
      "metadata": {
        "id": "WroO9BvJ3MA5"
      },
      "outputs": [],
      "source": [
        "# Your code for the FastAPI application, Pydantic models, and API endpoints here.\n",
        "# You will typically put this in a separate Python file (e.g., `main.py` or `app.py`) for the actual API, but for the assignment, you can demonstrate the core logic here."
      ],
      "id": "WroO9BvJ3MA5"
    },
    {
      "cell_type": "markdown",
      "source": [
        "## Part 3: Running and Testing the API (30 Marks)\n",
        "\n",
        "1.  **Run FastAPI Application:**\n",
        "    * Provide instructions on how to run your FastAPI application using `uvicorn`.\n",
        "        * Example: `uvicorn main:app --reload`\n",
        "\n",
        "2.  **Test with cURL/Requests (20 Marks):**\n",
        "    * Once the API is running, use `curl` commands or a Python `requests` script to test your `/chat` endpoint.\n",
        "    * Provide at least **3 distinct test queries**.\n",
        "    * For each test, show:\n",
        "        * The `curl` command or Python `requests` code.\n",
        "        * The JSON response received from the API.\n",
        "        * A brief analysis of the response (e.g., is the `answer` relevant? Are the `retrieved_docs` correct?).\n",
        "\n",
        "3.  **Explore FastAPI Docs (10 Marks):**\n",
        "    * Access the automatically generated OpenAPI (Swagger UI) documentation at `http://127.0.0.1:8000/docs` (or your chosen host/port).\n",
        "    * Take a screenshot of your `/chat` endpoint within the Swagger UI.\n",
        "    * Briefly describe how the interactive documentation helps in testing and understanding your API."
      ],
      "metadata": {
        "id": "bQaODl2h3MA5"
      },
      "id": "bQaODl2h3MA5"
    },
    {
      "cell_type": "code",
      "execution_count": null,
      "metadata": {
        "id": "crn67Goe3MA6"
      },
      "outputs": [],
      "source": [
        "# Provide instructions on running the API.\n",
        "# Your curl commands/requests script, responses, and analysis here.\n",
        "# (For the screenshot, you'll need to insert an image or describe where to find it.)"
      ],
      "id": "crn67Goe3MA6"
    },
    {
      "cell_type": "markdown",
      "source": [
        "## Part 4: Error Handling and Edge Cases (Bonus - 10 Marks)\n",
        "\n",
        "1.  **Basic Error Handling:**\n",
        "    * Implement basic error handling for your API. For example, if the LLM fails to generate a response or if no relevant documents are found.\n",
        "    * Use FastAPI's `HTTPException` or custom exception handlers.\n",
        "    * Demonstrate an error response (e.g., by sending an empty query or a query that intentionally triggers an error condition you've set up).\n",
        "\n",
        "2.  **Input Validation (Optional, for extra credit):**\n",
        "    * Add more robust input validation using Pydantic (e.g., minimum/maximum query length).\n",
        "    * Demonstrate how invalid input is handled by the API."
      ],
      "metadata": {
        "id": "Ns1F8uTJ3MA6"
      },
      "id": "Ns1F8uTJ3MA6"
    },
    {
      "cell_type": "code",
      "execution_count": null,
      "metadata": {
        "id": "rXbKIbvZ3MA6"
      },
      "outputs": [],
      "source": [
        "# Your code for error handling and demonstration here."
      ],
      "id": "rXbKIbvZ3MA6"
    },
    {
      "cell_type": "markdown",
      "source": [
        "## Submission Guidelines\n",
        "\n",
        "* Submit this Jupyter Notebook (.ipynb file) with all cells executed and outputs visible.\n",
        "* Submit a separate Python file (e.g., `main.py`) containing your full FastAPI application code.\n",
        "* Ensure your code is well-commented and easy to understand.\n",
        "* Provide a `requirements.txt` file listing all dependencies.\n",
        "* Include a brief `README.md` file (optional but recommended) explaining how to run your API and any specific instructions.\n",
        "* Make sure your notebook and API run without errors in the specified environment."
      ],
      "metadata": {
        "id": "Z84ZfWec3MA6"
      },
      "id": "Z84ZfWec3MA6"
    }
  ],
  "metadata": {
    "kernelspec": {
      "display_name": "Python 3",
      "language": "python",
      "name": "python3"
    },
    "language_info": {
      "codemirror_mode": {
        "name": "ipython",
        "version": 3
      },
      "file_extension": ".py",
      "mimetype": "text/x-python",
      "name": "python",
      "nbconvert_exporter": "python",
      "pygments_lexer": "ipython3",
      "version": "3.9.13"
    },
    "colab": {
      "provenance": []
    }
  },
  "nbformat": 4,
  "nbformat_minor": 5
}