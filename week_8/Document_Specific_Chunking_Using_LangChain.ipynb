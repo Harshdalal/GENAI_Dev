{
  "nbformat": 4,
  "nbformat_minor": 0,
  "metadata": {
    "colab": {
      "provenance": []
    },
    "kernelspec": {
      "name": "python3",
      "display_name": "Python 3"
    },
    "language_info": {
      "name": "python"
    }
  },
  "cells": [
    {
      "cell_type": "markdown",
      "source": [
        "#Document Specific Chunking Using LangChain\n",
        "\n",
        "#✅ Objective\n",
        "We’ll:\n",
        "\n",
        "Load different documents (from string for simplicity)\n",
        "\n",
        "Use custom chunking logic based on document content\n",
        "\n",
        "Use langchain.text_splitter to chunk each document differently"
      ],
      "metadata": {
        "id": "yqWqww0_fSjD"
      }
    },
    {
      "cell_type": "code",
      "execution_count": 1,
      "metadata": {
        "colab": {
          "base_uri": "https://localhost:8080/"
        },
        "id": "UApXlwBve8d2",
        "outputId": "e981decf-6797-47c5-de5d-5ff32728a40b"
      },
      "outputs": [
        {
          "output_type": "stream",
          "name": "stdout",
          "text": [
            "Requirement already satisfied: langchain in /usr/local/lib/python3.11/dist-packages (0.3.25)\n",
            "Requirement already satisfied: langchain-core<1.0.0,>=0.3.58 in /usr/local/lib/python3.11/dist-packages (from langchain) (0.3.63)\n",
            "Requirement already satisfied: langchain-text-splitters<1.0.0,>=0.3.8 in /usr/local/lib/python3.11/dist-packages (from langchain) (0.3.8)\n",
            "Requirement already satisfied: langsmith<0.4,>=0.1.17 in /usr/local/lib/python3.11/dist-packages (from langchain) (0.3.44)\n",
            "Requirement already satisfied: pydantic<3.0.0,>=2.7.4 in /usr/local/lib/python3.11/dist-packages (from langchain) (2.11.5)\n",
            "Requirement already satisfied: SQLAlchemy<3,>=1.4 in /usr/local/lib/python3.11/dist-packages (from langchain) (2.0.41)\n",
            "Requirement already satisfied: requests<3,>=2 in /usr/local/lib/python3.11/dist-packages (from langchain) (2.32.3)\n",
            "Requirement already satisfied: PyYAML>=5.3 in /usr/local/lib/python3.11/dist-packages (from langchain) (6.0.2)\n",
            "Requirement already satisfied: tenacity!=8.4.0,<10.0.0,>=8.1.0 in /usr/local/lib/python3.11/dist-packages (from langchain-core<1.0.0,>=0.3.58->langchain) (9.1.2)\n",
            "Requirement already satisfied: jsonpatch<2.0,>=1.33 in /usr/local/lib/python3.11/dist-packages (from langchain-core<1.0.0,>=0.3.58->langchain) (1.33)\n",
            "Requirement already satisfied: packaging<25,>=23.2 in /usr/local/lib/python3.11/dist-packages (from langchain-core<1.0.0,>=0.3.58->langchain) (24.2)\n",
            "Requirement already satisfied: typing-extensions>=4.7 in /usr/local/lib/python3.11/dist-packages (from langchain-core<1.0.0,>=0.3.58->langchain) (4.14.0)\n",
            "Requirement already satisfied: httpx<1,>=0.23.0 in /usr/local/lib/python3.11/dist-packages (from langsmith<0.4,>=0.1.17->langchain) (0.28.1)\n",
            "Requirement already satisfied: orjson<4.0.0,>=3.9.14 in /usr/local/lib/python3.11/dist-packages (from langsmith<0.4,>=0.1.17->langchain) (3.10.18)\n",
            "Requirement already satisfied: requests-toolbelt<2.0.0,>=1.0.0 in /usr/local/lib/python3.11/dist-packages (from langsmith<0.4,>=0.1.17->langchain) (1.0.0)\n",
            "Requirement already satisfied: zstandard<0.24.0,>=0.23.0 in /usr/local/lib/python3.11/dist-packages (from langsmith<0.4,>=0.1.17->langchain) (0.23.0)\n",
            "Requirement already satisfied: annotated-types>=0.6.0 in /usr/local/lib/python3.11/dist-packages (from pydantic<3.0.0,>=2.7.4->langchain) (0.7.0)\n",
            "Requirement already satisfied: pydantic-core==2.33.2 in /usr/local/lib/python3.11/dist-packages (from pydantic<3.0.0,>=2.7.4->langchain) (2.33.2)\n",
            "Requirement already satisfied: typing-inspection>=0.4.0 in /usr/local/lib/python3.11/dist-packages (from pydantic<3.0.0,>=2.7.4->langchain) (0.4.1)\n",
            "Requirement already satisfied: charset-normalizer<4,>=2 in /usr/local/lib/python3.11/dist-packages (from requests<3,>=2->langchain) (3.4.2)\n",
            "Requirement already satisfied: idna<4,>=2.5 in /usr/local/lib/python3.11/dist-packages (from requests<3,>=2->langchain) (3.10)\n",
            "Requirement already satisfied: urllib3<3,>=1.21.1 in /usr/local/lib/python3.11/dist-packages (from requests<3,>=2->langchain) (2.4.0)\n",
            "Requirement already satisfied: certifi>=2017.4.17 in /usr/local/lib/python3.11/dist-packages (from requests<3,>=2->langchain) (2025.4.26)\n",
            "Requirement already satisfied: greenlet>=1 in /usr/local/lib/python3.11/dist-packages (from SQLAlchemy<3,>=1.4->langchain) (3.2.2)\n",
            "Requirement already satisfied: anyio in /usr/local/lib/python3.11/dist-packages (from httpx<1,>=0.23.0->langsmith<0.4,>=0.1.17->langchain) (4.9.0)\n",
            "Requirement already satisfied: httpcore==1.* in /usr/local/lib/python3.11/dist-packages (from httpx<1,>=0.23.0->langsmith<0.4,>=0.1.17->langchain) (1.0.9)\n",
            "Requirement already satisfied: h11>=0.16 in /usr/local/lib/python3.11/dist-packages (from httpcore==1.*->httpx<1,>=0.23.0->langsmith<0.4,>=0.1.17->langchain) (0.16.0)\n",
            "Requirement already satisfied: jsonpointer>=1.9 in /usr/local/lib/python3.11/dist-packages (from jsonpatch<2.0,>=1.33->langchain-core<1.0.0,>=0.3.58->langchain) (3.0.0)\n",
            "Requirement already satisfied: sniffio>=1.1 in /usr/local/lib/python3.11/dist-packages (from anyio->httpx<1,>=0.23.0->langsmith<0.4,>=0.1.17->langchain) (1.3.1)\n"
          ]
        }
      ],
      "source": [
        "!pip install langchain"
      ]
    },
    {
      "cell_type": "markdown",
      "source": [
        "#✅ Practical: Document-Specific Chunking with LangChain"
      ],
      "metadata": {
        "id": "L2W-buWtfayt"
      }
    },
    {
      "cell_type": "code",
      "source": [
        "from langchain_core.documents import Document\n",
        "from langchain.text_splitter import CharacterTextSplitter, RecursiveCharacterTextSplitter\n",
        "\n",
        "# ---------------------------\n",
        "# Step 1: Create sample documents with metadata\n",
        "# ---------------------------\n",
        "docs = [\n",
        "    Document(\n",
        "        page_content=\"Chapter 1: Intro\\n\" + \"This is a long paragraph \" * 10,\n",
        "        metadata={\"type\": \"book\"}\n",
        "    ),\n",
        "    Document(\n",
        "        page_content=\"Meeting Notes:\\n- Discussed marketing\\n- Planned Q3 goals\",\n",
        "        metadata={\"type\": \"meeting_notes\"}\n",
        "    ),\n",
        "    Document(\n",
        "        page_content=\"Name, Age, Address\\nJohn, 32, NY\\nJane, 28, CA\\nJake, 35, TX\",\n",
        "        metadata={\"type\": \"csv_like\"}\n",
        "    )\n",
        "]\n"
      ],
      "metadata": {
        "id": "f_mqhdYYe_YK"
      },
      "execution_count": 2,
      "outputs": []
    },
    {
      "cell_type": "markdown",
      "source": [
        "#✅ Step 2: Define Custom Chunker Based on Document Type"
      ],
      "metadata": {
        "id": "JLF4bRHmfd1B"
      }
    },
    {
      "cell_type": "code",
      "source": [
        "def custom_chunk_document(doc: Document):\n",
        "    doc_type = doc.metadata.get(\"type\", \"default\")\n",
        "\n",
        "    if doc_type == \"book\":\n",
        "        # Use RecursiveCharacterTextSplitter for long narrative text\n",
        "        splitter = RecursiveCharacterTextSplitter(chunk_size=200, chunk_overlap=50)\n",
        "    elif doc_type == \"meeting_notes\":\n",
        "        # Use newline split for bullet-style or notes\n",
        "        splitter = CharacterTextSplitter(separator=\"\\n\", chunk_size=50, chunk_overlap=10)\n",
        "    elif doc_type == \"csv_like\":\n",
        "        # Use comma separator to split rows/entries\n",
        "        splitter = CharacterTextSplitter(separator=\"\\n\", chunk_size=1, chunk_overlap=0)\n",
        "    else:\n",
        "        # Default to line-based split\n",
        "        splitter = CharacterTextSplitter(separator=\"\\n\", chunk_size=100, chunk_overlap=20)\n",
        "\n",
        "    return splitter.split_documents([doc])\n"
      ],
      "metadata": {
        "id": "Wm0iEYVxfBgY"
      },
      "execution_count": 3,
      "outputs": []
    },
    {
      "cell_type": "markdown",
      "source": [
        "#✅ Step 3: Apply Document-Specific Chunking"
      ],
      "metadata": {
        "id": "O3rp1nNVfgeu"
      }
    },
    {
      "cell_type": "code",
      "source": [
        "# Process each document with its own chunking strategy\n",
        "chunked_docs = []\n",
        "for doc in docs:\n",
        "    chunks = custom_chunk_document(doc)\n",
        "    chunked_docs.extend(chunks)\n",
        "\n",
        "# Print results\n",
        "for i, chunk in enumerate(chunked_docs):\n",
        "    print(f\"\\n--- Chunk {i+1} ---\")\n",
        "    print(chunk.page_content)\n"
      ],
      "metadata": {
        "colab": {
          "base_uri": "https://localhost:8080/"
        },
        "id": "MNnS3LpXfG0n",
        "outputId": "d96f54d2-3d3c-4dec-bccd-318bb5c61fce"
      },
      "execution_count": 4,
      "outputs": [
        {
          "output_type": "stream",
          "name": "stderr",
          "text": [
            "WARNING:langchain_text_splitters.base:Created a chunk of size 18, which is longer than the specified 1\n",
            "WARNING:langchain_text_splitters.base:Created a chunk of size 12, which is longer than the specified 1\n",
            "WARNING:langchain_text_splitters.base:Created a chunk of size 12, which is longer than the specified 1\n"
          ]
        },
        {
          "output_type": "stream",
          "name": "stdout",
          "text": [
            "\n",
            "--- Chunk 1 ---\n",
            "Chapter 1: Intro\n",
            "\n",
            "--- Chunk 2 ---\n",
            "This is a long paragraph This is a long paragraph This is a long paragraph This is a long paragraph This is a long paragraph This is a long paragraph This is a long paragraph This is a long paragraph\n",
            "\n",
            "--- Chunk 3 ---\n",
            "This is a long paragraph This is a long paragraph This is a long paragraph This is a long paragraph\n",
            "\n",
            "--- Chunk 4 ---\n",
            "Meeting Notes:\n",
            "- Discussed marketing\n",
            "\n",
            "--- Chunk 5 ---\n",
            "- Planned Q3 goals\n",
            "\n",
            "--- Chunk 6 ---\n",
            "Name, Age, Address\n",
            "\n",
            "--- Chunk 7 ---\n",
            "John, 32, NY\n",
            "\n",
            "--- Chunk 8 ---\n",
            "Jane, 28, CA\n",
            "\n",
            "--- Chunk 9 ---\n",
            "Jake, 35, TX\n"
          ]
        }
      ]
    },
    {
      "cell_type": "code",
      "source": [],
      "metadata": {
        "id": "f-ZEqyDwfIYv"
      },
      "execution_count": null,
      "outputs": []
    }
  ]
}