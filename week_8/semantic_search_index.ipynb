{
  "nbformat": 4,
  "nbformat_minor": 0,
  "metadata": {
    "colab": {
      "provenance": []
    },
    "kernelspec": {
      "name": "python3",
      "display_name": "Python 3"
    },
    "language_info": {
      "name": "python"
    }
  },
  "cells": [
    {
      "cell_type": "code",
      "source": [
        "!pip install faiss-cpu"
      ],
      "metadata": {
        "colab": {
          "base_uri": "https://localhost:8080/"
        },
        "id": "g61vVbqQnUe7",
        "outputId": "330660dd-7c6d-4825-d8d7-42a482f312f2"
      },
      "execution_count": 4,
      "outputs": [
        {
          "output_type": "stream",
          "name": "stdout",
          "text": [
            "Requirement already satisfied: faiss-cpu in /usr/local/lib/python3.11/dist-packages (1.11.0)\n",
            "Requirement already satisfied: numpy<3.0,>=1.25.0 in /usr/local/lib/python3.11/dist-packages (from faiss-cpu) (2.0.2)\n",
            "Requirement already satisfied: packaging in /usr/local/lib/python3.11/dist-packages (from faiss-cpu) (24.2)\n"
          ]
        }
      ]
    },
    {
      "cell_type": "code",
      "execution_count": 5,
      "metadata": {
        "id": "jblfp82vnFDu"
      },
      "outputs": [],
      "source": [
        "import faiss\n",
        "import numpy as np\n",
        "from sentence_transformers import SentenceTransformer\n",
        "\n",
        "# Step 1: Load the pre-trained embedding model\n",
        "model = SentenceTransformer('all-MiniLM-L6-v2') # A lightweight and efficient model\n",
        "\n",
        "# Sample text corpus\n",
        "documents = [\n",
        "    \"Artificial Intelligence is transforming the world.\",\n",
        "    \"Machine learning is a subset of AI.\",\n",
        "    \"Natural language processing enables machines to understand text.\",\n",
        "    \"Deep learning is driving advances in AI research.\",\n",
        "    \"AI applications are widespread across various industries.\"\n",
        "]\n",
        "\n"
      ]
    },
    {
      "cell_type": "code",
      "source": [
        "# Step 2: Convert text data into embeddings\n",
        "embeddings = model.encode(documents)\n",
        "\n",
        "# Step 3: Create a FAISS index for fast similarity search\n",
        "dimension = embeddings.shape[1] # Get the dimension of the embeddings\n",
        "index = faiss.IndexFlatL2(dimension) # L2 (Euclidean distance) index\n",
        "\n",
        "# Add embeddings to the index\n",
        "index.add(np.array(embeddings, dtype=np.float32))\n",
        "\n",
        "print(f\"Number of documents indexed: {index.ntotal}\")\n",
        "\n"
      ],
      "metadata": {
        "colab": {
          "base_uri": "https://localhost:8080/"
        },
        "id": "K28qP1i8nHNW",
        "outputId": "8c60edc7-54af-468b-8607-e8c1b10fd920"
      },
      "execution_count": 6,
      "outputs": [
        {
          "output_type": "stream",
          "name": "stdout",
          "text": [
            "Number of documents indexed: 5\n"
          ]
        }
      ]
    },
    {
      "cell_type": "code",
      "source": [
        "# Step 4: Perform a search query\n",
        "query = \"What is machine learning?\"\n",
        "query_embedding = model.encode([query])\n",
        "\n",
        "# Search the index\n",
        "k = 2 # Number of top results to retrieve\n",
        "distances, indices = index.search(np.array(query_embedding, dtype=np.float32), k)\n",
        "\n",
        "# Display the results\n",
        "print(\"\\nTop matches:\")\n",
        "for idx in indices[0]:\n",
        "    print(f\"- {documents[idx]}\")"
      ],
      "metadata": {
        "colab": {
          "base_uri": "https://localhost:8080/"
        },
        "id": "2Cdqz3tenrRZ",
        "outputId": "65f4755d-256a-48c9-84ba-99db1cd29ceb"
      },
      "execution_count": 7,
      "outputs": [
        {
          "output_type": "stream",
          "name": "stdout",
          "text": [
            "\n",
            "Top matches:\n",
            "- Machine learning is a subset of AI.\n",
            "- Artificial Intelligence is transforming the world.\n"
          ]
        }
      ]
    }
  ]
}