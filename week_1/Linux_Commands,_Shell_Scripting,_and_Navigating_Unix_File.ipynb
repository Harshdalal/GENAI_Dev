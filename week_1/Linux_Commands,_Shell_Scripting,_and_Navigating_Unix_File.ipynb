{
  "nbformat": 4,
  "nbformat_minor": 0,
  "metadata": {
    "colab": {
      "provenance": []
    },
    "kernelspec": {
      "name": "python3",
      "display_name": "Python 3"
    },
    "language_info": {
      "name": "python"
    }
  },
  "cells": [
    {
      "cell_type": "markdown",
      "source": [
        "#🧪 Introduction to Linux Commands, Shell Scripting, and Navigating Unix File System\n",
        "\n",
        "This practical helps Python developers get comfortable with the command line interface (CLI), basic shell scripting, and navigating Linux/Unix systems.\n",
        "\n",
        "#🐧 Part 1: Basic Linux Commands with Explanation\n",
        "These commands are meant to be run in a Linux terminal or a Jupyter notebook with ! prefix (e.g. !ls).\n",
        "\n",
        "#📂 1. Navigating the File System\n",
        "\n"
      ],
      "metadata": {
        "id": "WIyAn-TlF8RE"
      }
    },
    {
      "cell_type": "code",
      "execution_count": null,
      "metadata": {
        "id": "i6zMtyR3FbbT"
      },
      "outputs": [],
      "source": [
        "\n",
        "pwd             # Print working directory (shows where you are)\n",
        "ls              # List files and directories\n",
        "ls -l           # Detailed list (with permissions, size, etc.)\n",
        "cd foldername   # Change directory\n",
        "cd ..           # Go one directory up\n",
        "cd ~            # Go to home directory\n"
      ]
    },
    {
      "cell_type": "markdown",
      "source": [
        "#📄 2. Working with Files and Directories"
      ],
      "metadata": {
        "id": "eUZGTsTHGX5p"
      }
    },
    {
      "cell_type": "code",
      "source": [
        "touch file.txt          # Create a new file\n",
        "mkdir new_folder        # Create a new folder\n",
        "cp file.txt copy.txt    # Copy a file\n",
        "mv copy.txt moved.txt   # Rename or move a file\n",
        "rm file.txt             # Delete a file\n",
        "rmdir new_folder        # Remove an empty folder\n"
      ],
      "metadata": {
        "id": "OxOjKXvgGC29"
      },
      "execution_count": null,
      "outputs": []
    },
    {
      "cell_type": "markdown",
      "source": [
        "#📜 3. Viewing File Content"
      ],
      "metadata": {
        "id": "JE8hmrTEGbg5"
      }
    },
    {
      "cell_type": "code",
      "source": [
        "cat file.txt     # View the full content\n",
        "head file.txt    # First 10 lines\n",
        "tail file.txt    # Last 10 lines\n",
        "less file.txt    # Scrollable view\n"
      ],
      "metadata": {
        "id": "7aJYDH6SGdc6"
      },
      "execution_count": null,
      "outputs": []
    },
    {
      "cell_type": "markdown",
      "source": [
        "#🔍 4. Searching and Filtering"
      ],
      "metadata": {
        "id": "Wv7xebloGfId"
      }
    },
    {
      "cell_type": "code",
      "source": [
        "grep \"hello\" file.txt       # Search for the word 'hello'\n",
        "find . -name \"*.txt\"        # Find all .txt files in current folder\n",
        "wc -l file.txt              # Count number of lines in file\n"
      ],
      "metadata": {
        "id": "6MfJ2TtsGhTJ"
      },
      "execution_count": null,
      "outputs": []
    },
    {
      "cell_type": "markdown",
      "source": [
        "#⚙️ 5. Permissions and Execution\n"
      ],
      "metadata": {
        "id": "Xgd2dGSUGrxX"
      }
    },
    {
      "cell_type": "code",
      "source": [
        "chmod +x script.sh          # Make a script executable\n",
        "ls -l                       # See permissions (e.g., -rwxr-xr-x)\n"
      ],
      "metadata": {
        "id": "6OwF5XHmGtdp"
      },
      "execution_count": null,
      "outputs": []
    },
    {
      "cell_type": "markdown",
      "source": [
        "#Useful Linux Utilities\n",
        "\n",
        "| Command   | Description                          |\n",
        "| --------- | ------------------------------------ |\n",
        "| `man`     | Manual for other commands (`man ls`) |\n",
        "| `df -h`   | Disk usage                           |\n",
        "| `top`     | Task manager                         |\n",
        "| `history` | Show previous commands               |\n",
        "| `clear`   | Clear the screen                     |\n",
        "| `echo`    | Print a line to screen               |\n"
      ],
      "metadata": {
        "id": "Of0tuwe_GwlO"
      }
    }
  ]
}