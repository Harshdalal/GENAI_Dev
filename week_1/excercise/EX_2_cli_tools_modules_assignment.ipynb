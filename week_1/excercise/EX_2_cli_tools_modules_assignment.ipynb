{
  "cells": [
    {
      "cell_type": "markdown",
      "id": "698b1398",
      "metadata": {
        "id": "698b1398"
      },
      "source": [
        "# 🛠️ Python Assignment: Modules and Reusable Functions for CLI Tools\n",
        "**Objective**: Learn how to design and structure Python code into reusable functions and modules, and simulate simple command-line interface (CLI) tools using real-world scenarios."
      ]
    },
    {
      "cell_type": "markdown",
      "id": "2fade169",
      "metadata": {
        "id": "2fade169"
      },
      "source": [
        "## 🔁 Task 1: Reusable Functions\n",
        "Write a function to:\n",
        "1. Greet the user with a customizable name and time-based message.\n",
        "2. Format and print a clean CLI-like message block.\n",
        "\n",
        "Use these functions to greet a user with a timestamped welcome message."
      ]
    },
    {
      "cell_type": "code",
      "execution_count": null,
      "id": "66506268",
      "metadata": {
        "id": "66506268"
      },
      "outputs": [],
      "source": [
        "from datetime import datetime\n",
        "\n",
        "# Function to generate a greeting\n",
        "def greet_user(name):\n",
        "    # Your code here\n",
        "    pass\n",
        "\n",
        "# Function to print CLI-styled message block\n",
        "def cli_message(title, message):\n",
        "    # Your code here\n",
        "    pass\n",
        "\n",
        "# Example usage:\n",
        "greet_user(\"Alex\")\n",
        "cli_message(\"Welcome\", \"You have 2 new notifications.\")"
      ]
    },
    {
      "cell_type": "markdown",
      "id": "b940afc2",
      "metadata": {
        "id": "b940afc2"
      },
      "source": [
        "## 📦 Task 2: CLI Utility Module Simulation\n",
        "Simulate a Python CLI module for basic **file operations**:\n",
        "1. `list_files(directory)`: Lists all files in a directory.\n",
        "2. `read_file(filepath)`: Reads and displays content of a file.\n",
        "3. `write_log(message)`: Appends a timestamped message to a log.txt file.\n",
        "\n",
        "Use `os` and `datetime` modules appropriately."
      ]
    },
    {
      "cell_type": "code",
      "execution_count": null,
      "id": "484c1ffe",
      "metadata": {
        "id": "484c1ffe"
      },
      "outputs": [],
      "source": [
        "import os\n",
        "from datetime import datetime\n",
        "\n",
        "# Function to list files\n",
        "def list_files(directory):\n",
        "    # Your code here\n",
        "    pass\n",
        "\n",
        "# Function to read file\n",
        "def read_file(filepath):\n",
        "    # Your code here\n",
        "    pass\n",
        "\n",
        "# Function to write logs\n",
        "def write_log(message):\n",
        "    # Your code here\n",
        "    pass"
      ]
    },
    {
      "cell_type": "markdown",
      "id": "00730b62",
      "metadata": {
        "id": "00730b62"
      },
      "source": [
        "## ➕ Task 3: Simple CLI Calculator Tool\n",
        "Build a CLI tool using reusable functions for:\n",
        "- Addition\n",
        "- Subtraction\n",
        "- Multiplication\n",
        "- Division\n",
        "\n",
        "Then simulate user inputs to perform basic operations and log results using your previous `write_log()` function."
      ]
    },
    {
      "cell_type": "code",
      "execution_count": null,
      "id": "351d9945",
      "metadata": {
        "id": "351d9945"
      },
      "outputs": [],
      "source": [
        "# Reusable calculator functions\n",
        "def add(a, b): return a + b\n",
        "def subtract(a, b): return a - b\n",
        "def multiply(a, b): return a * b\n",
        "def divide(a, b): return a / b if b != 0 else 'Error: Division by zero'\n",
        "\n",
        "# Simulate CLI interaction\n",
        "# Your code here\n",
        "# Example usage:\n",
        "# write_log(f\"Performed addition: {add(4, 5)}\")"
      ]
    },
    {
      "cell_type": "markdown",
      "id": "5b6c9138",
      "metadata": {
        "id": "5b6c9138"
      },
      "source": [
        "## 🔐 Task 4: CLI Password Manager Challenge (Simulated)\n",
        "Create a module-like interface with functions to:\n",
        "1. Add a password entry (`site`, `username`, `password`)\n",
        "2. Retrieve password by `site`\n",
        "3. Show all stored sites\n",
        "\n",
        "Store data in a dictionary. Bonus: Simulate saving to or reading from a file (optional)."
      ]
    },
    {
      "cell_type": "code",
      "execution_count": null,
      "id": "8d2784c5",
      "metadata": {
        "id": "8d2784c5"
      },
      "outputs": [],
      "source": [
        "# Simulated password manager\n",
        "password_store = {}\n",
        "\n",
        "def add_entry(site, username, password):\n",
        "    # Your code here\n",
        "    pass\n",
        "\n",
        "def get_password(site):\n",
        "    # Your code here\n",
        "    pass\n",
        "\n",
        "def list_sites():\n",
        "    # Your code here\n",
        "    pass"
      ]
    }
  ],
  "metadata": {
    "colab": {
      "provenance": []
    }
  },
  "nbformat": 4,
  "nbformat_minor": 5
}