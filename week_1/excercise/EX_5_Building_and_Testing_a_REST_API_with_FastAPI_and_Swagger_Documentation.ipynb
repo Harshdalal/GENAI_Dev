{
  "cells": [
    {
      "cell_type": "markdown",
      "metadata": {
        "id": "5uPvEmYjGUjq"
      },
      "source": [
        "# Python Assignment: Building and Testing a REST API with FastAPI and Swagger Documentation\n",
        "\n",
        "This assignment will challenge you to build a robust REST API using FastAPI. You'll design data models, implement CRUD (Create, Read, Update, Delete) operations, handle validation and errors, and leverage FastAPI's automatic Swagger (OpenAPI) documentation. While you cannot run the FastAPI server *directly* within this notebook, this notebook will provide all the necessary code, instructions, and challenges to build, run, and test your API externally.\n",
        "\n",
        "## **Important Setup Instructions (READ FIRST!):**\n",
        "\n",
        "1.  **Prerequisites:** Ensure you have Python 3.7+ installed.\n",
        "2.  **Virtual Environment (Recommended):**\n",
        "    ```bash\n",
        "    python -m venv venv\n",
        "    # On Windows:\n",
        "    venv\\Scripts\\activate\n",
        "    # On macOS/Linux:\n",
        "    source venv/bin/activate\n",
        "    ```\n",
        "3.  **Install FastAPI and Uvicorn:**\n",
        "    ```bash\n",
        "    pip install fastapi uvicorn[standard] pydantic\n",
        "    ```\n",
        "4.  **Creating Python Files:** As you progress through the assignment, you will be instructed to copy code snippets from this notebook into separate `.py` files (e.g., `main.py`, `models.py`). You will run these files from your terminal.\n",
        "5.  **Running the FastAPI Application:** Once you've created your `main.py` (or similar entry point), you will run your API from your terminal using:\n",
        "    ```bash\n",
        "    uvicorn main:app --reload\n",
        "    ```\n",
        "    (Replace `main:app` with `your_module_name:your_fastapi_app_instance_name` if different).\n",
        "    The `--reload` flag is great for development as it restarts the server on code changes.\n",
        "\n",
        "6.  **Accessing Swagger UI:** Once your server is running, open your web browser and go to `http://127.0.0.1:8000/docs` to see the interactive API documentation (Swagger UI). This is where you will primarily test your endpoints.\n",
        "\n",
        "7.  **Testing with `curl` or Postman:** You can also test your endpoints using `curl` from your terminal or a tool like Postman/Insomnia for more complex requests.\n"
      ]
    },
    {
      "cell_type": "markdown",
      "metadata": {
        "id": "S4wAi7f8GUjv"
      },
      "source": [
        "## Scenario: Simple Bookstore API\n",
        "\n",
        "You will build a REST API to manage a collection of books. Each book will have an ID, title, author, publication year, and price."
      ]
    },
    {
      "cell_type": "markdown",
      "metadata": {
        "id": "dUN6ok5OGUjw"
      },
      "source": [
        "## Part 1: Data Models and Initial Setup (30 points)\n",
        "\n",
        "Define your data structures using Pydantic for validation and serialization."
      ]
    },
    {
      "cell_type": "code",
      "execution_count": null,
      "metadata": {
        "id": "ujGqRSwoGUjx"
      },
      "outputs": [],
      "source": [
        "### 1.1 `models.py` - Book Data Model\n",
        "Create a new file named `models.py` and add the following Pydantic models. You will need to copy this into a separate `.py` file.\n",
        "\n",
        "```python\n",
        "from pydantic import BaseModel, Field, PositiveInt, NonNegativeFloat\n",
        "from typing import Optional, List\n",
        "from datetime import datetime\n",
        "\n",
        "class BookBase(BaseModel):\n",
        "    title: str = Field(..., min_length=3, max_length=100, example=\"The Great Gatsby\")\n",
        "    author: str = Field(..., min_length=3, max_length=100, example=\"F. Scott Fitzgerald\")\n",
        "    publication_year: PositiveInt = Field(..., ge=1800, le=datetime.now().year, description=\"Year of publication\")\n",
        "    price: NonNegativeFloat = Field(..., gt=0.0, example=12.99)\n",
        "    # Challenge: Add a new field 'genre' (string, optional, with default)\n",
        "    # Challenge: Add a new field 'isbn' (string, unique, with regex validation - 10 or 13 digits, optional for now)\n",
        "    # Hint: Use Field(..., regex=\"^(\\\\d{9}[\\dX])|(\\\\d{13})$\", description=\"ISBN-10 or ISBN-13\")\n",
        "\n",
        "class BookCreate(BookBase):\n",
        "    # This model is used for creating new books. Inherits from BookBase.\n",
        "    pass\n",
        "\n",
        "class BookUpdate(BookBase):\n",
        "    # This model is used for updating existing books. All fields should be optional.\n",
        "    title: Optional[str] = None\n",
        "    author: Optional[str] = None\n",
        "    publication_year: Optional[PositiveInt] = None\n",
        "    price: Optional[NonNegativeFloat] = None\n",
        "    # Challenge: Make your new fields optional here too.\n",
        "\n",
        "class BookInDB(BookBase):\n",
        "    # This model represents a book as stored in our 'database' (in-memory for now).\n",
        "    # It should include the 'id' which is generated by the server.\n",
        "    id: str = Field(..., example=\"b123e456-e89b-12d3-a456-426614174000\", description=\"Unique Book ID\")\n",
        "\n",
        "    class Config:\n",
        "        from_attributes = True # Pydantic v2 equivalent for orm_mode = True in v1\n",
        "\n",
        "# Challenge: Create a simple 'ErrorDetail' model for custom error responses (e.g., status_code, message, detail)\n",
        "```"
      ]
    },
    {
      "cell_type": "markdown",
      "metadata": {
        "id": "wus0pxQ9GUj0"
      },
      "source": [
        "### 1.2 `main.py` - FastAPI App Setup\n",
        "Create a new file named `main.py` and add the basic FastAPI application setup.\n",
        "\n",
        "```python\n",
        "from fastapi import FastAPI, HTTPException, status, Depends, Query, Path\n",
        "from typing import Dict, List, Optional\n",
        "from uuid import uuid4\n",
        "\n",
        "from models import BookCreate, BookInDB, BookUpdate # Assuming you saved models.py\n",
        "# from models import ErrorDetail # If you implemented the challenge\n",
        "\n",
        "app = FastAPI(\n",
        "    title=\"My Tough Bookstore API\",\n",
        "    description=\"A challenging API for managing a collection of books.\",\n",
        "    version=\"1.0.0\",\n",
        "    contact={\n",
        "        \"name\": \"Your Name\",\n",
        "        \"email\": \"your.email@example.com\",\n",
        "    },\n",
        "    license_info={\n",
        "        \"name\": \"MIT License\",\n",
        "        \"url\": \"[https://opensource.org/licenses/MIT](https://opensource.org/licenses/MIT)\",\n",
        "    }\n",
        ")\n",
        "\n",
        "# In-memory database (for simplicity, real apps use actual databases)\n",
        "books_db: Dict[str, BookInDB] = {}\n",
        "\n",
        "# Initial dummy data (optional but good for testing)\n",
        "initial_books = [\n",
        "    {\"title\": \"1984\", \"author\": \"George Orwell\", \"publication_year\": 1949, \"price\": 9.99},\n",
        "    {\"title\": \"Brave New World\", \"author\": \"Aldous Huxley\", \"publication_year\": 1932, \"price\": 10.50},\n",
        "    {\"title\": \"The Lord of the Rings\", \"author\": \"J.R.R. Tolkien\", \"publication_year\": 1954, \"price\": 25.00}\n",
        "]\n",
        "\n",
        "for book_data in initial_books:\n",
        "    book_id = str(uuid4())\n",
        "    books_db[book_id] = BookInDB(id=book_id, **book_data)\n",
        "\n",
        "@app.get(\"/\", tags=[\"Root\"], summary=\"Root endpoint of the API\")\n",
        "async def read_root():\n",
        "    return {\"message\": \"Welcome to the Tough Bookstore API!\"}\n",
        "\n",
        "# After adding the above, save main.py and run: uvicorn main:app --reload\n",
        "# Then, open [http://127.0.0.1:8000/docs](http://127.0.0.1:8000/docs) in your browser.\n",
        "```"
      ]
    },
    {
      "cell_type": "markdown",
      "metadata": {
        "id": "yt8hFmHWGUj2"
      },
      "source": [
        "## Part 2: CRUD Endpoints and Path/Query Parameters (40 points)\n",
        "\n",
        "Implement the core API functionalities for managing books."
      ]
    },
    {
      "cell_type": "code",
      "execution_count": null,
      "metadata": {
        "id": "yvCTkLosGUj3"
      },
      "outputs": [],
      "source": [
        "### 2.1 Create Book (`POST /books/`)\n",
        "-   **Description:** Creates a new book entry.\n",
        "-   **Request Body:** `BookCreate` model.\n",
        "-   **Response:** `BookInDB` model with the generated `id`.\n",
        "-   **Status Code:** `201 Created`.\n",
        "-   **Challenge:** Add a custom `detail` message to the `HTTPException` if a book with the same `isbn` (if you implemented it) already exists. Use `status.HTTP_409_CONFLICT`.\n",
        "\n",
        "```python\n",
        "# Add this to main.py\n",
        "\n",
        "@app.post(\n",
        "    \"/books/\",\n",
        "    response_model=BookInDB,\n",
        "    status_code=status.HTTP_201_CREATED,\n",
        "    tags=[\"Books\"],\n",
        "    summary=\"Create a new book\",\n",
        "    description=\"Adds a new book to the inventory with a unique generated ID.\"\n",
        ")\n",
        "async def create_book(book: BookCreate):\n",
        "    book_id = str(uuid4())\n",
        "    new_book = BookInDB(id=book_id, **book.model_dump()) # Use model_dump() for Pydantic v2\n",
        "    # Challenge: Check for existing ISBN and raise 409 conflict\n",
        "    books_db[book_id] = new_book\n",
        "    return new_book\n",
        "```"
      ]
    },
    {
      "cell_type": "code",
      "execution_count": null,
      "metadata": {
        "id": "YSGDN51tGUj4"
      },
      "outputs": [],
      "source": [
        "### 2.2 Get All Books (`GET /books/`)\n",
        "-   **Description:** Retrieves a list of all books.\n",
        "-   **Response:** `List[BookInDB]`.\n",
        "-   **Challenge:** Implement **pagination**. Allow `skip` (int, default 0) and `limit` (int, default 10, max 100) as query parameters.\n",
        "-   **Challenge:** Implement **filtering**. Allow `author` (string, optional) and `publication_year` (int, optional) as query parameters to filter results.\n",
        "\n",
        "```python\n",
        "# Add this to main.py\n",
        "\n",
        "@app.get(\n",
        "    \"/books/\",\n",
        "    response_model=List[BookInDB],\n",
        "    tags=[\"Books\"],\n",
        "    summary=\"Retrieve all books\",\n",
        "    description=\"Retrieves a list of all books, with optional filtering and pagination.\"\n",
        ")\n",
        "async def get_all_books(\n",
        "    skip: int = Query(0, ge=0, description=\"Number of items to skip\"),\n",
        "    limit: int = Query(10, ge=1, le=100, description=\"Maximum number of items to return\"),\n",
        "    author: Optional[str] = Query(None, description=\"Filter by author name\"),\n",
        "    publication_year: Optional[int] = Query(None, ge=1800, description=\"Filter by publication year\")\n",
        "):\n",
        "    filtered_books = list(books_db.values())\n",
        "\n",
        "    if author:\n",
        "        filtered_books = [book for book in filtered_books if author.lower() in book.author.lower()]\n",
        "    if publication_year:\n",
        "        filtered_books = [book for book in filtered_books if book.publication_year == publication_year]\n",
        "\n",
        "    # Apply pagination AFTER filtering\n",
        "    return filtered_books[skip : skip + limit]\n",
        "```"
      ]
    },
    {
      "cell_type": "code",
      "execution_count": null,
      "metadata": {
        "id": "KW5MhtxXGUj5"
      },
      "outputs": [],
      "source": [
        "### 2.3 Get Book by ID (`GET /books/{book_id}`)\n",
        "-   **Description:** Retrieves a single book by its unique ID.\n",
        "-   **Path Parameter:** `book_id` (string).\n",
        "-   **Response:** `BookInDB`.\n",
        "-   **Error Handling:** Return `404 Not Found` if the `book_id` does not exist.\n",
        "-   **Challenge:** Add a custom response model for the 404 error using FastAPI's `responses` parameter in the decorator, and link it to your `ErrorDetail` model (if implemented).\n",
        "\n",
        "```python\n",
        "# Add this to main.py\n",
        "\n",
        "@app.get(\n",
        "    \"/books/{book_id}\",\n",
        "    response_model=BookInDB,\n",
        "    tags=[\"Books\"],\n",
        "    summary=\"Retrieve a single book by ID\",\n",
        "    responses={\n",
        "        status.HTTP_404_NOT_FOUND: {\"description\": \"Book not found\", \"model\": dict} # Replace dict with ErrorDetail if implemented\n",
        "    }\n",
        ")\n",
        "async def get_book_by_id(book_id: str = Path(..., example=\"b123e456-e89b-12d3-a456-426614174000\", description=\"The ID of the book to retrieve\")):\n",
        "    book = books_db.get(book_id)\n",
        "    if not book:\n",
        "        raise HTTPException(\n",
        "            status_code=status.HTTP_404_NOT_FOUND,\n",
        "            detail=\"Book not found.\"\n",
        "        )\n",
        "    return book\n",
        "```"
      ]
    },
    {
      "cell_type": "code",
      "execution_count": null,
      "metadata": {
        "id": "Uz1ThBN6GUj6"
      },
      "outputs": [],
      "source": [
        "### 2.4 Update Book (`PUT /books/{book_id}`)\n",
        "-   **Description:** Updates an existing book by its ID. It should replace all fields.\n",
        "-   **Path Parameter:** `book_id`.\n",
        "-   **Request Body:** `BookCreate` (because it's a full replacement).\n",
        "-   **Response:** `BookInDB`.\n",
        "-   **Error Handling:** `404 Not Found` if `book_id` doesn't exist.\n",
        "\n",
        "```python\n",
        "# Add this to main.py\n",
        "\n",
        "@app.put(\n",
        "    \"/books/{book_id}\",\n",
        "    response_model=BookInDB,\n",
        "    tags=[\"Books\"],\n",
        "    summary=\"Update an existing book\",\n",
        "    description=\"Replaces all fields of an existing book with the provided data.\"\n",
        ")\n",
        "async def update_book(\n",
        "    book_id: str = Path(..., description=\"The ID of the book to update\"),\n",
        "    book_data: BookCreate\n",
        "):\n",
        "    if book_id not in books_db:\n",
        "        raise HTTPException(\n",
        "            status_code=status.HTTP_404_NOT_FOUND,\n",
        "            detail=\"Book not found.\"\n",
        "        )\n",
        "    updated_book = BookInDB(id=book_id, **book_data.model_dump())\n",
        "    books_db[book_id] = updated_book\n",
        "    return updated_book\n",
        "```"
      ]
    },
    {
      "cell_type": "code",
      "execution_count": null,
      "metadata": {
        "id": "BVBliJQ9GUj7"
      },
      "outputs": [],
      "source": [
        "### 2.5 Partially Update Book (`PATCH /books/{book_id}`)\n",
        "-   **Description:** Partially updates an existing book by its ID. Only provided fields are updated.\n",
        "-   **Path Parameter:** `book_id`.\n",
        "-   **Request Body:** `BookUpdate`.\n",
        "-   **Response:** `BookInDB`.\n",
        "-   **Error Handling:** `404 Not Found` if `book_id` doesn't exist.\n",
        "\n",
        "```python\n",
        "# Add this to main.py\n",
        "\n",
        "@app.patch(\n",
        "    \"/books/{book_id}\",\n",
        "    response_model=BookInDB,\n",
        "    tags=[\"Books\"],\n",
        "    summary=\"Partially update an existing book\",\n",
        "    description=\"Updates only the provided fields of an existing book.\"\n",
        ")\n",
        "async def patch_book(\n",
        "    book_id: str = Path(..., description=\"The ID of the book to partially update\"),\n",
        "    book_data: BookUpdate\n",
        "):\n",
        "    existing_book = books_db.get(book_id)\n",
        "    if not existing_book:\n",
        "        raise HTTPException(\n",
        "            status_code=status.HTTP_404_NOT_FOUND,\n",
        "            detail=\"Book not found.\"\n",
        "        )\n",
        "\n",
        "    update_data = book_data.model_dump(exclude_unset=True) # Exclude fields not provided in request\n",
        "    updated_item = existing_book.model_copy(update=update_data) # Pydantic v2 way to update\n",
        "\n",
        "    books_db[book_id] = updated_item\n",
        "    return updated_item\n",
        "```"
      ]
    },
    {
      "cell_type": "code",
      "execution_count": null,
      "metadata": {
        "id": "BV-HtFvjGUj8"
      },
      "outputs": [],
      "source": [
        "### 2.6 Delete Book (`DELETE /books/{book_id}`)\n",
        "-   **Description:** Deletes a book by its ID.\n",
        "-   **Path Parameter:** `book_id`.\n",
        "-   **Response:** A simple success message.\n",
        "-   **Status Code:** `204 No Content` on successful deletion.\n",
        "-   **Error Handling:** `404 Not Found` if `book_id` doesn't exist.\n",
        "\n",
        "```python\n",
        "# Add this to main.py\n",
        "\n",
        "@app.delete(\n",
        "    \"/books/{book_id}\",\n",
        "    status_code=status.HTTP_204_NO_CONTENT,\n",
        "    tags=[\"Books\"],\n",
        "    summary=\"Delete a book\",\n",
        "    description=\"Removes a book from the inventory by its ID.\"\n",
        ")\n",
        "async def delete_book(book_id: str = Path(..., description=\"The ID of the book to delete\")):\n",
        "    if book_id not in books_db:\n",
        "        raise HTTPException(\n",
        "            status_code=status.HTTP_404_NOT_FOUND,\n",
        "            detail=\"Book not found.\"\n",
        "        )\n",
        "    del books_db[book_id]\n",
        "    return # No content for 204\n",
        "```"
      ]
    },
    {
      "cell_type": "markdown",
      "metadata": {
        "id": "Dq-huaHtGUj9"
      },
      "source": [
        "## Part 3: Advanced Features and Documentation (30 points)\n",
        "\n",
        "Enhance your API with more advanced features and ensure comprehensive documentation."
      ]
    },
    {
      "cell_type": "code",
      "execution_count": null,
      "metadata": {
        "id": "HghPMSW3GUj9"
      },
      "outputs": [],
      "source": [
        "### 3.1 Custom Error Handling (If not done in Part 2)\n",
        "-   Implement a custom exception handler for a specific error type (e.g., `ValueError` raised by your `Book` model validation if you added it, or a custom `BookAlreadyExistsError`).\n",
        "-   The handler should return a structured JSON response (ideally using your `ErrorDetail` model).\n",
        "\n",
        "```python\n",
        "# Add this to main.py\n",
        "\n",
        "# from fastapi.responses import JSONResponse\n",
        "# from fastapi.exceptions import RequestValidationError\n",
        "\n",
        "# @app.exception_handler(RequestValidationError)\n",
        "# async def validation_exception_handler(request: Request, exc: RequestValidationError):\n",
        "#     return JSONResponse(\n",
        "#         status_code=status.HTTP_422_UNPROCESSABLE_ENTITY,\n",
        "#         content=jsonable_encoder({\"detail\": exc.errors(), \"body\": exc.body}),\n",
        "#     )\n",
        "\n",
        "# Challenge: Implement a custom exception for ISBN conflict if you haven't already.\n",
        "# class DuplicateISBNError(Exception):\n",
        "#    def __init__(self, isbn: str):\n",
        "#        self.isbn = isbn\n",
        "\n",
        "# @app.exception_handler(DuplicateISBNError)\n",
        "# async def duplicate_isbn_exception_handler(request: Request, exc: DuplicateISBNError):\n",
        "#     return JSONResponse(\n",
        "#         status_code=status.HTTP_409_CONFLICT,\n",
        "#         content={\"message\": f\"Book with ISBN {exc.isbn} already exists.\", \"code\": \"DUPLICATE_ISBN\"}\n",
        "#     )\n",
        "```"
      ]
    },
    {
      "cell_type": "code",
      "execution_count": null,
      "metadata": {
        "id": "m-Fo9oIXGUj9"
      },
      "outputs": [],
      "source": [
        "### 3.2 Dependencies / Dependency Injection\n",
        "-   Create a simple dependency function that could represent a 'database session' or 'authentication check'.\n",
        "-   Apply this dependency to at least one of your API endpoints (e.g., `create_book` or `get_all_books`).\n",
        "\n",
        "```python\n",
        "# Add this to main.py\n",
        "\n",
        "async def get_db_session():\n",
        "    # In a real app, this would yield a database session\n",
        "    print(\"Getting database session...\")\n",
        "    try:\n",
        "        yield \"fake_db_session_123\" # This simulates a dependency that yields resources\n",
        "    finally:\n",
        "        print(\"Closing database session.\")\n",
        "\n",
        "# Example usage on an endpoint:\n",
        "# @app.get(\"/books/\", response_model=List[BookInDB], tags=[\"Books\"])\n",
        "# async def get_all_books(\n",
        "#     db_session: str = Depends(get_db_session),\n",
        "#     skip: int = Query(0, ge=0), limit: int = Query(10, ge=1, le=100),\n",
        "#     author: Optional[str] = None, publication_year: Optional[int] = None\n",
        "# ):\n",
        "#     print(f\"Using DB Session: {db_session}\")\n",
        "#     # ... rest of your get_all_books logic\n",
        "#     pass\n",
        "\n",
        "```"
      ]
    },
    {
      "cell_type": "code",
      "execution_count": null,
      "metadata": {
        "id": "mVuGJZdcGUj-"
      },
      "outputs": [],
      "source": [
        "### 3.3 Response Model Customization\n",
        "-   For the `GET /books/{book_id}` endpoint, modify its `response_model` to return only a subset of fields (e.g., `title`, `author`, `price`) in a new Pydantic model called `BookSummary`.\n",
        "-   Ensure the Swagger UI reflects this change correctly.\n",
        "\n",
        "```python\n",
        "# Add to models.py\n",
        "\n",
        "class BookSummary(BaseModel):\n",
        "    title: str\n",
        "    author: str\n",
        "    price: NonNegativeFloat\n",
        "\n",
        "# Then, in main.py, modify the decorator for get_book_by_id:\n",
        "# @app.get(\n",
        "#     \"/books/{book_id}\",\n",
        "#     response_model=BookSummary, # Change here!\n",
        "#     tags=[\"Books\"],\n",
        "#     summary=\"Retrieve a single book by ID\",\n",
        "#     ...\n",
        "# )"
      ]
    },
    {
      "cell_type": "code",
      "execution_count": null,
      "metadata": {
        "id": "XtrV0RHqGUj-"
      },
      "outputs": [],
      "source": [
        "### 3.4 Request Body Examples and Descriptions\n",
        "-   For `POST /books/` and `PUT /books/{book_id}`, add `examples` to your `Field` definitions in `BookBase` (or `BookCreate`/`BookUpdate`) to provide clearer Swagger documentation.\n",
        "-   Add more detailed `description` arguments to your `Field` and `Query`/`Path` parameters for better readability in Swagger UI.\n",
        "\n",
        "*(This was partially covered in Part 1 and 2 code snippets, ensure you've expanded on it.)*\n"
      ]
    },
    {
      "cell_type": "markdown",
      "metadata": {
        "id": "qTuKX8RbGUj_"
      },
      "source": [
        "## Part 4: Testing and Reflection (Bonus - 10 points)\n",
        "\n",
        "After implementing all endpoints and running your API, reflect on your work and how to test it."
      ]
    },
    {
      "cell_type": "code",
      "execution_count": null,
      "metadata": {
        "id": "fMj3mXWyGUj_"
      },
      "outputs": [],
      "source": [
        "### 4.1 Manual Testing via Swagger UI and `curl`\n",
        "Provide `curl` commands (or detailed Postman/Insomnia instructions) to test each of your CRUD endpoints, including:\n",
        "\n",
        "1.  **Create Book:** (POST request with JSON body)\n",
        "2.  **Get All Books:** (GET request, test with and without pagination/filters)\n",
        "3.  **Get Book by ID:** (GET request, test valid and invalid IDs)\n",
        "4.  **Update Book:** (PUT request, full replacement)\n",
        "5.  **Partially Update Book:** (PATCH request, partial update)\n",
        "6.  **Delete Book:** (DELETE request)\n",
        "\n",
        "```bash\n",
        "# Example curl for GET /books/\n",
        "# curl -X GET \"http://127.0.0.1:8000/books/?skip=0&limit=5&author=George%20Orwell\"\n",
        "\n",
        "# Your curl commands here:\n",
        "\n",
        "# 1. Create Book:\n",
        "#\n",
        "\n",
        "# 2. Get All Books (with filters/pagination):\n",
        "#\n",
        "\n",
        "# 3. Get Book by ID:\n",
        "#\n",
        "\n",
        "# 4. Update Book:\n",
        "#\n",
        "\n",
        "# 5. Partially Update Book:\n",
        "#\n",
        "\n",
        "# 6. Delete Book:\n",
        "#\n",
        "```"
      ]
    },
    {
      "cell_type": "code",
      "execution_count": null,
      "metadata": {
        "id": "VQBMTJuKGUkA"
      },
      "outputs": [],
      "source": [
        "### 4.2 Automated Testing (Conceptual)\n",
        "How would you approach writing automated unit/integration tests for your FastAPI application? Mention specific Python libraries you would use (e.g., `pytest`, `httpx` or `TestClient` from `fastapi.testclient`) and give examples of scenarios you would test for a `create_book` endpoint.\n",
        "\n",
        "```python\n",
        "# Your conceptual testing strategy here (as comments or multi-line string)\n",
        "\n",
        "from fastapi.testclient import TestClient\n",
        "# from main import app # Assuming your FastAPI app instance is named 'app' in main.py\n",
        "\n",
        "# client = TestClient(app)\n",
        "\n",
        "# def test_create_book():\n",
        "#     # ... test logic here\n",
        "#     pass\n",
        "```\n",
        "\n",
        "### 4.3 Scalability and Persistence (Conceptual)\n",
        "Your current 'database' is in-memory. Briefly explain how you would transition this API to use a real database (e.g., PostgreSQL, SQLite) using an ORM like SQLAlchemy with FastAPI. What changes would be needed in your `models.py` and `main.py`?\n",
        "\n",
        "```python\n",
        "# Your scalability/persistence ideas here (as comments or multi-line string)\n",
        "```"
      ]
    }
  ],
  "metadata": {
    "kernelspec": {
      "display_name": "Python 3",
      "language": "python",
      "name": "python3"
    },
    "language_info": {
      "codemirror_mode": {
        "name": "ipython",
        "version": 3
      },
      "file_extension": ".py",
      "mimetype": "text/x-python",
      "name": "python",
      "nbconvert_exporter": "python",
      "pygments_lexer": "ipython3",
      "version": "3.9.7"
    },
    "colab": {
      "provenance": []
    }
  },
  "nbformat": 4,
  "nbformat_minor": 0
}