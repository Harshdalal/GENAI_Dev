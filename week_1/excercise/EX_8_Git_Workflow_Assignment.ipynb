{
  "cells": [
    {
      "cell_type": "markdown",
      "metadata": {
        "id": "WfPfUnHhOjs1"
      },
      "source": [
        "# 🧠 Assignment: Git Workflow with Branching, Merging, and GitHub Collaboration\n",
        "\n",
        "## 🎯 Objective\n",
        "This assignment is designed to help you practice a complete Git workflow. You'll work with Git commands to manage repositories, make commits, create and merge branches, and collaborate using GitHub.\n"
      ],
      "id": "WfPfUnHhOjs1"
    },
    {
      "cell_type": "markdown",
      "metadata": {
        "id": "5G286h-XOjs3"
      },
      "source": [
        "## 📘 Prerequisites\n",
        "- Git installed locally\n",
        "- GitHub account\n",
        "- GitHub CLI (optional but recommended)\n",
        "- Text editor (e.g., VS Code)\n"
      ],
      "id": "5G286h-XOjs3"
    },
    {
      "cell_type": "markdown",
      "metadata": {
        "id": "vq3BXsfAOjs3"
      },
      "source": [
        "## 📋 Tasks\n",
        "\n",
        "### Task 1: Initialize a Local Repository\n",
        "- Create a new folder named `git-practice`\n",
        "- Run `git init` to initialize a Git repository\n",
        "- Create a file `README.md` and add a basic introduction\n",
        "- Stage and commit the file\n",
        "- Command example:\n",
        "  ```bash\n",
        "  git init\n",
        "  git add README.md\n",
        "  git commit -m \"Initial commit with README\"\n",
        "  ```\n"
      ],
      "id": "vq3BXsfAOjs3"
    },
    {
      "cell_type": "markdown",
      "metadata": {
        "id": "Qj3UX5zYOjs4"
      },
      "source": [
        "### Task 2: Create and Switch Branches\n",
        "- Create a new branch named `feature-1`\n",
        "- Create a file `feature.txt` and add content about your first feature\n",
        "- Stage and commit this change\n",
        "- Switch back to the `main` branch\n",
        "- Create another branch named `feature-2` and repeat with `feature2.txt`\n"
      ],
      "id": "Qj3UX5zYOjs4"
    },
    {
      "cell_type": "markdown",
      "metadata": {
        "id": "edI1WhlYOjs4"
      },
      "source": [
        "### Task 3: Merge Branches\n",
        "- Merge `feature-1` into `main`\n",
        "- Handle any merge conflicts (if simulated)\n",
        "- Merge `feature-2` into `main`\n",
        "- Use `git log --graph` to visualize the commit history\n"
      ],
      "id": "edI1WhlYOjs4"
    },
    {
      "cell_type": "markdown",
      "metadata": {
        "id": "rQ9Ex-FxOjs4"
      },
      "source": [
        "### Task 4: Push to GitHub\n",
        "- Create a new GitHub repository named `git-practice-assignment`\n",
        "- Add the remote origin:\n",
        "  ```bash\n",
        "  git remote add origin https://github.com/yourusername/git-practice-assignment.git\n",
        "  ```\n",
        "- Push all branches to GitHub using `git push -u origin main` and other branches\n"
      ],
      "id": "rQ9Ex-FxOjs4"
    },
    {
      "cell_type": "markdown",
      "metadata": {
        "id": "qmLIiYlzOjs5"
      },
      "source": [
        "### Task 5: Collaborate with a Teammate (Optional)\n",
        "- Invite a friend or classmate to collaborate on your repository\n",
        "- They should clone the repo, create a new branch, and push changes\n",
        "- Open and review a Pull Request on GitHub"
      ],
      "id": "qmLIiYlzOjs5"
    },
    {
      "cell_type": "markdown",
      "metadata": {
        "id": "5KKQQ_azOjs5"
      },
      "source": [
        "## ✅ Deliverables\n",
        "- Screenshots or logs of all Git commands executed\n",
        "- GitHub repository link with all branches and commits visible\n",
        "- Explanation (in a markdown cell or file) of your experience with conflicts and merging\n"
      ],
      "id": "5KKQQ_azOjs5"
    }
  ],
  "metadata": {
    "kernelspec": {
      "display_name": "Python 3",
      "language": "python",
      "name": "python3"
    },
    "language_info": {
      "name": "python"
    },
    "colab": {
      "provenance": []
    }
  },
  "nbformat": 4,
  "nbformat_minor": 5
}