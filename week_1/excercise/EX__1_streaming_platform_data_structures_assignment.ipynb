{
  "cells": [
    {
      "cell_type": "markdown",
      "id": "d9990cfd",
      "metadata": {
        "id": "d9990cfd"
      },
      "source": [
        "# 🎬 Real-World Data Structures Assignment — Streaming Platform Analytics\n",
        "**Objective**: Apply your knowledge of Python's fundamental data structures — lists, dictionaries, tuples, and sets — to analyze real-world data from a streaming platform.\n",
        "\n",
        "You will work with mock data representing movies, their ratings, genres, and platform availability."
      ]
    },
    {
      "cell_type": "markdown",
      "id": "e982854f",
      "metadata": {
        "id": "e982854f"
      },
      "source": [
        "## 🔢 Task 1: List Manipulations\n",
        "Given the list of movie titles, perform the following operations:\n",
        "1. Add a new movie title at the end.\n",
        "2. Insert a movie title at the 2nd position.\n",
        "3. Remove the third movie.\n",
        "4. Print all movies that start with the letter 'T'."
      ]
    },
    {
      "cell_type": "code",
      "execution_count": null,
      "id": "0b5645c4",
      "metadata": {
        "id": "0b5645c4"
      },
      "outputs": [],
      "source": [
        "movie_titles = ['The Matrix', 'Inception', 'Titanic', 'Interstellar', 'The Godfather']\n",
        "# Your code here"
      ]
    },
    {
      "cell_type": "markdown",
      "id": "a7332225",
      "metadata": {
        "id": "a7332225"
      },
      "source": [
        "## 🗃️ Task 2: Dictionary Operations\n",
        "A dictionary contains movie titles as keys and their IMDb ratings as values. Do the following:\n",
        "1. Add a new movie with its rating.\n",
        "2. Update the rating of 'Inception' to 9.0.\n",
        "3. Remove 'Titanic' from the dictionary.\n",
        "4. Print movies with a rating above 8.5."
      ]
    },
    {
      "cell_type": "code",
      "execution_count": null,
      "id": "d89bb69f",
      "metadata": {
        "id": "d89bb69f"
      },
      "outputs": [],
      "source": [
        "movie_ratings = {\n",
        "    'The Matrix': 8.7,\n",
        "    'Inception': 8.8,\n",
        "    'Titanic': 7.8,\n",
        "    'Interstellar': 8.6,\n",
        "    'The Godfather': 9.2\n",
        "}\n",
        "# Your code here"
      ]
    },
    {
      "cell_type": "markdown",
      "id": "8567966a",
      "metadata": {
        "id": "8567966a"
      },
      "source": [
        "## 📦 Task 3: Tuple Use Case\n",
        "A tuple contains information about a featured movie in the format:\n",
        "(`title`, `release_year`, `genre`, `platform`)\n",
        "\n",
        "Do the following:\n",
        "1. Print each value in the tuple with labels.\n",
        "2. Check if the genre is 'Sci-Fi'.\n",
        "3. Convert the tuple to a list, change the platform, and convert it back to a tuple."
      ]
    },
    {
      "cell_type": "code",
      "execution_count": null,
      "id": "2e71fc59",
      "metadata": {
        "id": "2e71fc59"
      },
      "outputs": [],
      "source": [
        "featured_movie = ('Interstellar', 2014, 'Sci-Fi', 'Netflix')\n",
        "# Your code here"
      ]
    },
    {
      "cell_type": "markdown",
      "id": "72c03190",
      "metadata": {
        "id": "72c03190"
      },
      "source": [
        "## 🧩 Task 4: Set Operations\n",
        "You are given sets of movies available on Netflix and Amazon Prime.\n",
        "Perform the following operations:\n",
        "1. Find movies available on both platforms.\n",
        "2. Find movies only on Netflix.\n",
        "3. Add a new movie to Amazon Prime.\n",
        "4. Check if 'Inception' is available on either platform."
      ]
    },
    {
      "cell_type": "code",
      "execution_count": null,
      "id": "0acd9e9a",
      "metadata": {
        "id": "0acd9e9a"
      },
      "outputs": [],
      "source": [
        "netflix_movies = {'The Matrix', 'Interstellar', 'Inception', 'The Witcher'}\n",
        "prime_movies = {'The Godfather', 'Titanic', 'Inception', 'The Office'}\n",
        "# Your code here"
      ]
    },
    {
      "cell_type": "markdown",
      "id": "12b8ae15",
      "metadata": {
        "id": "12b8ae15"
      },
      "source": [
        "## 💡 Task 5: Challenge — Complex Query\n",
        "Given the data below, answer this:\n",
        "\n",
        "**Which Sci-Fi movies are available on both Netflix and Prime with a rating above 8.5?**\n",
        "\n",
        "Use the `movie_genres`, `movie_ratings`, `netflix_movies`, and `prime_movies` to answer.\n",
        "- Make sure to use sets, dictionaries, and conditionals effectively."
      ]
    },
    {
      "cell_type": "code",
      "execution_count": null,
      "id": "b2bdc57a",
      "metadata": {
        "id": "b2bdc57a"
      },
      "outputs": [],
      "source": [
        "movie_genres = {\n",
        "    'The Matrix': 'Sci-Fi',\n",
        "    'Inception': 'Sci-Fi',\n",
        "    'Titanic': 'Romance',\n",
        "    'Interstellar': 'Sci-Fi',\n",
        "    'The Godfather': 'Crime'\n",
        "}\n",
        "# Reuse movie_ratings, netflix_movies, and prime_movies\n",
        "# Your code here"
      ]
    }
  ],
  "metadata": {
    "colab": {
      "provenance": []
    }
  },
  "nbformat": 4,
  "nbformat_minor": 5
}