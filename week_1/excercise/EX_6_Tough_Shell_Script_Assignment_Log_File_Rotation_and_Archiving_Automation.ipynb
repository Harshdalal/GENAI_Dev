{
  "cells": [
    {
      "cell_type": "markdown",
      "metadata": {
        "id": "306AArVwI42w"
      },
      "source": [
        "# Tough Shell Script Assignment: Log File Rotation and Archiving Automation\n",
        "\n",
        "This assignment will challenge you to write a robust shell script to automate the process of rotating and archiving log files. This is a common and crucial task in system administration to prevent log files from consuming excessive disk space and to retain historical data for auditing or debugging purposes. While you cannot run the full automation directly *within* this Jupyter Notebook (as it involves background processes and system scheduling), this notebook will guide you through building the script, understanding its components, and setting it up for real-world use.\n",
        "\n",
        "## **Important Notes & Setup Instructions (READ FIRST!):**\n",
        "\n",
        "1.  **Environment:** This assignment assumes a Unix-like operating system (Linux, macOS, WSL on Windows) where bash shell scripts can be executed.\n",
        "2.  **File Creation:** You will be instructed to copy the shell script code into a `.sh` file and make it executable outside this notebook.\n",
        "3.  **Running the Script:** You'll execute the script from your terminal.\n",
        "4.  **Crontab (for Automation):** The final step for automation involves setting up a cron job, which is done directly on your system's terminal, not within Jupyter.\n",
        "5.  **Simulating Logs:** We will use Python code within this notebook to simulate the creation of log files for testing your script.\n"
      ]
    },
    {
      "cell_type": "markdown",
      "metadata": {
        "id": "l2PAHTLOI42y"
      },
      "source": [
        "## Part 1: Understanding Log Rotation and Archiving Concepts (10 points)\n",
        "\n",
        "Before writing the script, ensure you understand the core concepts."
      ]
    },
    {
      "cell_type": "markdown",
      "metadata": {
        "id": "Vm-cIQGmI42z"
      },
      "source": [
        "### 1.1 What is Log Rotation?\n",
        "Explain in your own words why log rotation is necessary for system health and stability.\n",
        "\n",
        "**Your Answer:**\n",
        "*(Write your answer here)*\n",
        "\n",
        "### 1.2 What is Log Archiving?\n",
        "Differentiate between log rotation and log archiving. Why would you archive logs instead of just deleting old ones?\n",
        "\n",
        "**Your Answer:**\n",
        "*(Write your answer here)*\n"
      ]
    },
    {
      "cell_type": "markdown",
      "metadata": {
        "id": "o709TvolI42z"
      },
      "source": [
        "## Part 2: Simulating Log Files (15 points)\n",
        "\n",
        "Let's create some dummy log files that your script will operate on."
      ]
    },
    {
      "cell_type": "code",
      "execution_count": null,
      "metadata": {
        "id": "Z7gwXrgxI420"
      },
      "outputs": [],
      "source": [
        "import os\n",
        "from datetime import datetime, timedelta\n",
        "import random\n",
        "\n",
        "LOG_DIR = \"./app_logs\"\n",
        "APP_LOG_FILE = os.path.join(LOG_DIR, \"app.log\")\n",
        "ERROR_LOG_FILE = os.path.join(LOG_DIR, \"error.log\")\n",
        "\n",
        "def create_dummy_log_entry(log_type):\n",
        "    timestamp = datetime.now().strftime(\"%Y-%m-%d %H:%M:%S\")\n",
        "    user = random.choice([\"user1\", \"user2\", \"admin\", \"guest\"])\n",
        "    messages = {\n",
        "        \"app\": [\n",
        "            \"User {} logged in.\".format(user),\n",
        "            \"Processed request for {}.\".format(random.choice([\"/dashboard\", \"/api/data\", \"/settings\"])),\n",
        "            \"Application heartbeat: OK.\",\n",
        "            \"Data record #{} updated.\".format(random.randint(1000, 9999)),\n",
        "        ],\n",
        "        \"error\": [\n",
        "            \"[ERROR] Failed to connect to database for user {}.\".format(user),\n",
        "            \"[WARNING] High memory usage detected.\",\n",
        "            \"[CRITICAL] Unhandled exception in module {}.py\".format(random.choice([\"auth\", \"data_processor\"])),\n",
        "            \"[ERROR] API endpoint '/api/data' returned 500 for user {}.\".format(user),\n",
        "        ]\n",
        "    }\n",
        "    return f\"{timestamp} - {random.choice(messages[log_type])}\"\n",
        "\n",
        "def generate_dummy_logs(num_entries_app=50, num_entries_error=10):\n",
        "    os.makedirs(LOG_DIR, exist_ok=True)\n",
        "\n",
        "    print(f\"Generating {num_entries_app} app log entries to {APP_LOG_FILE}\")\n",
        "    with open(APP_LOG_FILE, \"w\") as f: # Overwrite for fresh test\n",
        "        for _ in range(num_entries_app):\n",
        "            f.write(create_dummy_log_entry(\"app\") + \"\\n\")\n",
        "\n",
        "    print(f\"Generating {num_entries_error} error log entries to {ERROR_LOG_FILE}\")\n",
        "    with open(ERROR_LOG_FILE, \"w\") as f: # Overwrite for fresh test\n",
        "        for _ in range(num_entries_error):\n",
        "            f.write(create_dummy_log_entry(\"error\") + \"\\n\")\n",
        "\n",
        "    print(\"Dummy log files created.\")\n",
        "\n",
        "# Run this cell to create your dummy log files\n",
        "generate_dummy_logs()\n",
        "\n",
        "# Verify creation\n",
        "print(f\"\\nContent of {APP_LOG_FILE} (first 3 lines):\")\n",
        "if os.path.exists(APP_LOG_FILE):\n",
        "    with open(APP_LOG_FILE, 'r') as f:\n",
        "        for i, line in enumerate(f):\n",
        "            print(line.strip())\n",
        "            if i >= 2: break\n",
        "else:\n",
        "    print(\"File not found.\")\n"
      ]
    },
    {
      "cell_type": "markdown",
      "metadata": {
        "id": "esszCosAI422"
      },
      "source": [
        "## Part 3: Shell Script for Log Rotation and Archiving (50 points)\n",
        "\n",
        "Now, let's write the core shell script. Create a new file named `rotate_logs.sh` in the same directory as this notebook and paste the following content. **Fill in the missing parts marked with `TODO`.**"
      ]
    },
    {
      "cell_type": "markdown",
      "metadata": {
        "id": "fpRJGNe_I422"
      },
      "source": [
        "### `rotate_logs.sh`\n",
        "\n",
        "```bash\n",
        "#!/bin/bash\n",
        "\n",
        "# --- Configuration Variables ---\n",
        "LOG_DIR=\"./app_logs\"                      # Directory where log files are located\n",
        "ARCHIVE_DIR=\"./archived_logs\"             # Directory to store archived logs\n",
        "LOG_FILES=(\"app.log\" \"error.log\")         # Array of log file names to rotate\n",
        "RETENTION_DAYS=7                          # Number of days to keep archived logs\n",
        "MAX_ROTATIONS=3                           # Number of old log files to keep (e.g., app.log.1, app.log.2)\n",
        "DATE_FORMAT=\"+%Y-%m-%d_%H%M%S\"            # Timestamp format for archived files\n",
        "\n",
        "# --- Logging Function ---\n",
        "log_message() {\n",
        "    local type=\"$1\"\n",
        "    local message=\"$2\"\n",
        "    echo \"[$(date +'%Y-%m-%d %H:%M:%S')] [$type] $message\"\n",
        "}\n",
        "\n",
        "# --- Create necessary directories if they don't exist ---\n",
        "log_message \"INFO\" \"Ensuring log directories exist...\"\n",
        "mkdir -p \"$LOG_DIR\" || { log_message \"ERROR\" \"Failed to create log directory: $LOG_DIR\"; exit 1; }\n",
        "mkdir -p \"$ARCHIVE_DIR\" || { log_message \"ERROR\" \"Failed to create archive directory: $ARCHIVE_DIR\"; exit 1; }\n",
        "\n",
        "log_message \"INFO\" \"Starting log rotation and archiving process.\"\n",
        "\n",
        "# --- Rotate Log Files ---\n",
        "for log_file in \"${LOG_FILES[@]}\"; do\n",
        "    FULL_LOG_PATH=\"$LOG_DIR/$log_file\"\n",
        "    log_message \"INFO\" \"Processing log file: $FULL_LOG_PATH\"\n",
        "\n",
        "    if [[ ! -f \"$FULL_LOG_PATH\" ]]; then\n",
        "        log_message \"WARNING\" \"Log file not found, skipping: $FULL_LOG_PATH\"\n",
        "        continue\n",
        "    fi\n",
        "\n",
        "    # Step 1: Archive the current log file with a timestamp\n",
        "    # Example: app.log -> app.log_2025-06-05_134500.gz\n",
        "    TIMESTAMP=$(date \"$DATE_FORMAT\")\n",
        "    ARCHIVED_FILENAME=\"${log_file}_${TIMESTAMP}.gz\"\n",
        "    FULL_ARCHIVE_PATH=\"$ARCHIVE_DIR/$ARCHIVED_FILENAME\"\n",
        "\n",
        "    log_message \"INFO\" \"Archiving $log_file to $FULL_ARCHIVE_PATH\"\n",
        "    # TODO: Implement archiving. Use `tar -czf` for compression.\n",
        "    # Make sure to handle the case where the log file is empty.\n",
        "    # Hint: Check file size before archiving to avoid empty archives.\n",
        "    # Use `cat` and `gzip` or `tar` to archive.\n",
        "    # If using `tar`, remember to change directory or specify full path.\n",
        "    \n",
        "    # Your code here for archiving\n",
        "    # Example (using gzip directly, consider tar if multiple files per archive are needed later):\n",
        "    if [[ -s \"$FULL_LOG_PATH\" ]]; then # Check if file exists and is not empty\n",
        "        gzip -c \"$FULL_LOG_PATH\" > \"$FULL_ARCHIVE_PATH\" 2>/dev/null\n",
        "        if [[ $? -ne 0 ]]; then\n",
        "            log_message \"ERROR\" \"Failed to archive $log_file. Continuing to next log.\"\n",
        "            continue\n",
        "        fi\n",
        "    else\n",
        "        log_message \"INFO\" \"$log_file is empty. Skipping archiving.\"\n",
        "    fi\n",
        "\n",
        "    # Step 2: Truncate the original log file\n",
        "    log_message \"INFO\" \"Truncating $log_file\"\n",
        "    # TODO: Implement truncation. How do you empty a file while keeping its permissions?\n",
        "    # Your code here for truncation\n",
        "    > \"$FULL_LOG_PATH\" || { log_message \"ERROR\" \"Failed to truncate $log_file\"; continue; }\n",
        "\n",
        "    # Step 3: Delete old rotated files (if they exist) beyond MAX_ROTATIONS\n",
        "    # This part shifts app.log.2 to app.log.3, app.log.1 to app.log.2, etc.\n",
        "    # TODO: Implement the rotation of .N files.\n",
        "    # Loop from MAX_ROTATIONS down to 1.\n",
        "    # Example: app.log.3 will be deleted, app.log.2 -> app.log.3, app.log.1 -> app.log.2\n",
        "\n",
        "    for ((i=$MAX_ROTATIONS; i>=1; i--)); do\n",
        "        OLD_ROTATED_FILE=\"$FULL_LOG_PATH.$i\"\n",
        "        NEW_ROTATED_FILE=\"$FULL_LOG_PATH.$((i+1))\"\n",
        "        if [[ -f \"$OLD_ROTATED_FILE\" ]]; then\n",
        "            if [[ $i -eq $MAX_ROTATIONS ]]; then\n",
        "                log_message \"INFO\" \"Deleting old rotated file: $OLD_ROTATED_FILE\"\n",
        "                rm -f \"$OLD_ROTATED_FILE\" || log_message \"WARNING\" \"Failed to delete $OLD_ROTATED_FILE\"\n",
        "            else\n",
        "                log_message \"INFO\" \"Renaming $OLD_ROTATED_FILE to $NEW_ROTATED_FILE\"\n",
        "                mv \"$OLD_ROTATED_FILE\" \"$NEW_ROTATED_FILE\" || log_message \"ERROR\" \"Failed to rename $OLD_ROTATED_FILE\"\n",
        "            fi\n",
        "        fi\n",
        "    done\n",
        "\n",
        "    # Step 4: Rename current log to .1 (if it has content, or if just truncated)\n",
        "    # Even if truncated, it should become .1 for consistency\n",
        "    CURRENT_LOG_TO_ONE=\"$FULL_LOG_PATH.1\"\n",
        "    log_message \"INFO\" \"Renaming $log_file to $CURRENT_LOG_TO_ONE\"\n",
        "    # TODO: Implement renaming of the current log file to its first rotated version.\n",
        "    # Check if the file exists before renaming.\n",
        "    if [[ -f \"$FULL_LOG_PATH\" ]]; then\n",
        "        mv \"$FULL_LOG_PATH\" \"$CURRENT_LOG_TO_ONE\" || log_message \"ERROR\" \"Failed to rename $FULL_LOG_PATH to $CURRENT_LOG_TO_ONE\"\n",
        "    else\n",
        "        log_message \"WARNING\" \"Original log file $FULL_LOG_PATH not found after truncation. This might indicate an issue.\"\n",
        "    fi\n",
        "\n",
        "done\n",
        "\n",
        "# --- Prune Old Archived Logs ---\n",
        "log_message \"INFO\" \"Pruning archived logs older than $RETENTION_DAYS days.\"\n",
        "find \"$ARCHIVE_DIR\" -type f -name \"*.gz\" -mtime +$RETENTION_DAYS -delete \\\n",
        "    || log_message \"ERROR\" \"Failed to prune old archived logs. Check permissions.\"\n",
        "\n",
        "log_message \"INFO\" \"Log rotation and archiving process finished.\"\n",
        "```\n"
      ]
    },
    {
      "cell_type": "markdown",
      "metadata": {
        "id": "yGs3wG6bI423"
      },
      "source": [
        "### 3.1 Save and Make Executable\n",
        "1.  Copy the full script content (including your `TODO` solutions) into a file named `rotate_logs.sh` in the same directory as this notebook.\n",
        "2.  Open your terminal, navigate to that directory, and make the script executable:\n",
        "    ```bash\n",
        "    chmod +x rotate_logs.sh\n",
        "    ```\n",
        "\n",
        "### 3.2 Run the Script\n",
        "From your terminal, execute the script:\n",
        "```bash\n",
        "./rotate_logs.sh\n",
        "```\n",
        "\n",
        "After running, inspect the `app_logs` and `archived_logs` directories. You should see:\n",
        "-   Original `app.log` and `error.log` truncated or renamed.\n",
        "-   New `app.log.1` and `error.log.1` files (or higher numbers if you run multiple times).\n",
        "-   New `.gz` archive files in `archived_logs`.\n",
        "\n",
        "To fully test the `MAX_ROTATIONS` and `RETENTION_DAYS` features, you'll need to:\n",
        "1.  Run `generate_dummy_logs()` again (to create fresh logs).\n",
        "2.  Run `./rotate_logs.sh` multiple times to see the rotation (e.g., app.log.1 -> app.log.2).\n",
        "3.  Optionally, temporarily modify system time or `mtime` of archived files to test `RETENTION_DAYS`.\n"
      ]
    },
    {
      "cell_type": "markdown",
      "metadata": {
        "id": "1CLJDpqTI423"
      },
      "source": [
        "## Part 4: Automation and Advanced Challenges (25 points)\n",
        "\n",
        "Now let's consider how this script would be used in a real system and enhance its capabilities."
      ]
    },
    {
      "cell_type": "markdown",
      "metadata": {
        "id": "QHKcIqGoI424"
      },
      "source": [
        "### 4.1 Cron Job Setup\n",
        "Explain, step-by-step, how you would schedule this `rotate_logs.sh` script to run daily at 3:00 AM using `crontab`. Include the specific crontab entry.\n",
        "\n",
        "**Your Answer:**\n",
        "*(Write your answer here)*\n",
        "\n",
        "### 4.2 Error Handling and Notifications\n",
        "Enhance the script with more robust error handling and notification. Consider:\n",
        "-   How would you get notified if the script fails (e.g., email, Slack webhook)?\n",
        "-   What additional checks could you add (e.g., disk space before archiving)?\n",
        "\n",
        "**Your Answer:**\n",
        "*(Write your answer here)*\n",
        "\n",
        "### 4.3 Security Considerations\n",
        "What are some security best practices to consider when running a log rotation script on a production server? (e.g., permissions, `sudo` usage).\n",
        "\n",
        "**Your Answer:**\n",
        "*(Write your answer here)*\n",
        "\n",
        "### 4.4 Alternative Log Rotation Tools\n",
        "Mention at least two widely used, dedicated log rotation tools (not just general shell scripting commands) for Unix-like systems. Briefly describe their advantages over a custom shell script.\n",
        "\n",
        "**Your Answer:**\n",
        "*(Write your answer here)*"
      ]
    }
  ],
  "metadata": {
    "kernelspec": {
      "display_name": "Python 3",
      "language": "python",
      "name": "python3"
    },
    "language_info": {
      "codemirror_mode": {
        "name": "ipython",
        "version": 3
      },
      "file_extension": ".py",
      "mimetype": "text/x-python",
      "name": "python",
      "nbconvert_exporter": "python",
      "pygments_lexer": "ipython3",
      "version": "3.9.7"
    },
    "colab": {
      "provenance": []
    }
  },
  "nbformat": 4,
  "nbformat_minor": 0
}