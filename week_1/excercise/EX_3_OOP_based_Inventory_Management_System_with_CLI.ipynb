{
  "cells": [
    {
      "cell_type": "markdown",
      "metadata": {
        "id": "TI4WyDUzC5mU"
      },
      "source": [
        "#Python Assignment: OOP-based Inventory Management System with CLI\n",
        "\n",
        "This assignment will challenge your object-oriented programming (OOP) skills by requiring you to design and implement a robust inventory management system. You'll need to create classes, manage object relationships, handle data persistence (in-memory for this assignment), and build a command-line interface (CLI) for user interaction."
      ]
    },
    {
      "cell_type": "markdown",
      "metadata": {
        "id": "X29OeSJSC5mX"
      },
      "source": [
        "## Part 1: Core Class Design (30 points)\n",
        "\n",
        "Design the fundamental building blocks of your inventory system."
      ]
    },
    {
      "cell_type": "code",
      "execution_count": null,
      "metadata": {
        "id": "dKairzSVC5mY"
      },
      "outputs": [],
      "source": [
        "### 1.1 Product Class\n",
        "Create a `Product` class with the following attributes and methods:\n",
        "\n",
        "-   **Attributes:**\n",
        "    -   `product_id` (string): Unique identifier for the product.\n",
        "    -   `name` (string): Name of the product.\n",
        "    -   `category` (string): Category of the product (e.g., 'Electronics', 'Apparel', 'Groceries').\n",
        "    -   `price` (float): Selling price per unit.\n",
        "    -   `stock` (integer): Current quantity in stock.\n",
        "    -   `min_stock_level` (integer): Minimum stock level before a warning is issued (default 5).\n",
        "\n",
        "-   **Methods:**\n",
        "    -   `__init__(self, product_id, name, category, price, stock, min_stock_level=5)`: Constructor to initialize product attributes.\n",
        "    -   `update_stock(self, quantity)`: Updates the stock. Can be positive (for adding) or negative (for selling/removing). Raise a `ValueError` if stock goes below zero.\n",
        "    -   `get_details(self)`: Returns a dictionary containing all product details.\n",
        "    -   `is_low_stock(self)`: Returns `True` if `stock` is less than `min_stock_level`, `False` otherwise.\n",
        "    -   `__str__(self)`: A human-readable string representation of the product (e.g., \"[ID: P001] Laptop (Electronics) - $1200.00 | Stock: 10\").\n",
        "    -   `__repr__(self)`: A developer-friendly representation.\n",
        "\n",
        "```python\n",
        "class Product:\n",
        "    # Your code here\n",
        "    pass\n",
        "```"
      ]
    },
    {
      "cell_type": "code",
      "execution_count": null,
      "metadata": {
        "id": "akYW_-GeC5ma"
      },
      "outputs": [],
      "source": [
        "### 1.2 PerishableProduct (Inheritance - Optional but Recommended)\n",
        "Create a `PerishableProduct` class that inherits from `Product`. This class should have:\n",
        "\n",
        "-   **Additional Attributes:**\n",
        "    -   `expiry_date` (string - YYYY-MM-DD): Date by which the product expires.\n",
        "\n",
        "-   **Overridden Methods:**\n",
        "    -   `__init__`:\n",
        "    -   `get_details()`: Include `expiry_date` in the details.\n",
        "    -   `__str__()`: Include `expiry_date` in the string representation.\n",
        "    -   `is_expired(self)`: Returns `True` if the current date is past the `expiry_date`.\n",
        "\n",
        "*(Hint: You might want to use the `datetime` module for date comparisons.)*\n",
        "\n",
        "```python\n",
        "from datetime import datetime, timedelta\n",
        "\n",
        "class PerishableProduct(Product):\n",
        "    # Your code here\n",
        "    pass\n",
        "```"
      ]
    },
    {
      "cell_type": "markdown",
      "metadata": {
        "id": "ZfjyAMFIC5mb"
      },
      "source": [
        "## Part 2: Inventory Management System Class (40 points)\n",
        "\n",
        "This class will manage all products and implement the core business logic."
      ]
    },
    {
      "cell_type": "code",
      "execution_count": null,
      "metadata": {
        "id": "zv-Q9ypeC5mb"
      },
      "outputs": [],
      "source": [
        "### 2.1 InventoryManager Class\n",
        "Create an `InventoryManager` class with the following attributes and methods:\n",
        "\n",
        "-   **Attributes:**\n",
        "    -   `products` (dictionary): Stores `Product` objects, where keys are `product_id`s and values are `Product` instances.\n",
        "\n",
        "-   **Methods:**\n",
        "    -   `__init__(self)`: Initializes an empty `products` dictionary.\n",
        "    -   `add_product(self, product)`: Adds a `Product` (or `PerishableProduct`) object to the inventory. Raise a `ValueError` if `product_id` already exists.\n",
        "    -   `remove_product(self, product_id)`: Removes a product by `product_id`. Raise a `KeyError` if not found.\n",
        "    -   `get_product(self, product_id)`: Returns the `Product` object or `None` if not found.\n",
        "    -   `list_all_products(self)`: Returns a list of all `Product` objects in the inventory.\n",
        "    -   `search_products(self, query, search_by='name')`: Searches for products. `query` is the search term, `search_by` can be 'name', 'category', or 'id'. Returns a list of matching `Product` objects.\n",
        "    -   `update_stock(self, product_id, quantity_change)`: Finds the product and calls its `update_stock` method. Handles `ValueError` from `Product` class.\n",
        "    -   `get_low_stock_products(self)`: Returns a list of `Product` objects that are currently low on stock.\n",
        "    -   `get_expired_perishable_products(self)`: Returns a list of `PerishableProduct` objects that have expired. (Only if `PerishableProduct` is implemented).\n",
        "    -   `get_total_inventory_value(self)`: Calculates the total value of all products in stock (`price * stock`).\n",
        "    -   `generate_report(self)`: Prints a summary report including:\n",
        "        - Total number of unique products.\n",
        "        - Total quantity of all items in stock.\n",
        "        - Total inventory value.\n",
        "        - List of low-stock products.\n",
        "        - List of expired perishable products (if applicable).\n",
        "\n",
        "```python\n",
        "class InventoryManager:\n",
        "    # Your code here\n",
        "    pass\n",
        "```"
      ]
    },
    {
      "cell_type": "markdown",
      "metadata": {
        "id": "XUrIxXzRC5mc"
      },
      "source": [
        "## Part 3: Command-Line Interface (CLI) (30 points)\n",
        "\n",
        "Implement a user-friendly CLI to interact with your `InventoryManager`."
      ]
    },
    {
      "cell_type": "code",
      "execution_count": null,
      "metadata": {
        "id": "99ceqlVIC5mc"
      },
      "outputs": [],
      "source": [
        "### 3.1 CLI Implementation\n",
        "Create a main function or a simple loop that provides the following menu options:\n",
        "\n",
        "1.  **Add Product:** Prompts for product details (ID, name, category, price, stock, min_stock_level). Allows adding both `Product` and `PerishableProduct` types.\n",
        "2.  **Remove Product:** Prompts for `product_id`.\n",
        "3.  **Update Stock:** Prompts for `product_id` and `quantity_change`.\n",
        "4.  **View Product Details:** Prompts for `product_id` and displays its details.\n",
        "5.  **List All Products:** Displays all products in the inventory.\n",
        "6.  **Search Products:** Prompts for search query and search criteria (name/category/id).\n",
        "7.  **View Low Stock Products:** Displays products below their minimum stock level.\n",
        "8.  **View Expired Products:** Displays expired perishable products.\n",
        "9.  **Generate Inventory Report:** Displays the comprehensive report.\n",
        "10. **Exit:** Terminates the program.\n",
        "\n",
        "**Requirements for CLI:**\n",
        "-   Handle invalid inputs gracefully (e.g., non-numeric price/stock, invalid product IDs).\n",
        "-   Provide clear messages to the user for success/failure of operations.\n",
        "-   Use a loop to keep the CLI running until the user chooses to exit.\n",
        "\n",
        "```python\n",
        "def main():\n",
        "    inventory_manager = InventoryManager()\n",
        "\n",
        "    # Initial dummy data for testing (optional, but highly recommended)\n",
        "    # inventory_manager.add_product(Product(\"P001\", \"Laptop\", \"Electronics\", 1200.00, 10))\n",
        "    # inventory_manager.add_product(PerishableProduct(\"F001\", \"Milk\", \"Dairy\", 3.50, 20, \"2025-06-10\"))\n",
        "\n",
        "    while True:\n",
        "        print(\"\\n--- Inventory Management System ---\")\n",
        "        print(\"1. Add Product\")\n",
        "        print(\"2. Remove Product\")\n",
        "        print(\"3. Update Stock\")\n",
        "        print(\"4. View Product Details\")\n",
        "        print(\"5. List All Products\")\n",
        "        print(\"6. Search Products\")\n",
        "        print(\"7. View Low Stock Products\")\n",
        "        print(\"8. View Expired Products\")\n",
        "        print(\"9. Generate Inventory Report\")\n",
        "        print(\"10. Exit\")\n",
        "\n",
        "        choice = input(\"Enter your choice: \")\n",
        "\n",
        "        if choice == '1':\n",
        "            # Implement Add Product logic\n",
        "            pass\n",
        "        elif choice == '2':\n",
        "            # Implement Remove Product logic\n",
        "            pass\n",
        "        # ... implement other choices\n",
        "        elif choice == '10':\n",
        "            print(\"Exiting Inventory Management System. Goodbye!\")\n",
        "            break\n",
        "        else:\n",
        "            print(\"Invalid choice. Please try again.\")\n",
        "\n",
        "if __name__ == \"__main__\":\n",
        "    main()\n",
        "```"
      ]
    },
    {
      "cell_type": "markdown",
      "metadata": {
        "id": "ZKzc4ebUC5md"
      },
      "source": [
        "## Part 4: Advanced Challenges & Testing (Bonus - 10 points)\n",
        "\n",
        "Push your solution further with these additional considerations."
      ]
    },
    {
      "cell_type": "code",
      "execution_count": null,
      "metadata": {
        "id": "A5Uu9mNoC5me"
      },
      "outputs": [],
      "source": [
        "### 4.1 Error Handling & Validation\n",
        "Review your code for robust error handling. Ensure that:\n",
        "-   All user inputs are validated (e.g., price is a positive number, stock is an integer).\n",
        "-   Appropriate exceptions are raised and caught (e.g., `ValueError` for invalid data, `KeyError` for non-existent IDs).\n",
        "-   Error messages are clear and helpful.\n",
        "\n",
        "### 4.2 Unit Testing (Conceptual)\n",
        "Describe (in comments or markdown) how you would conceptually write unit tests for your `Product` and `InventoryManager` classes. What specific methods would you test, and what scenarios (e.g., valid inputs, invalid inputs, edge cases) would you cover?\n",
        "\n",
        "```python\n",
        "# Your conceptual unit testing ideas here (as comments or multi-line string)\n",
        "```\n",
        "\n",
        "### 4.3 Data Persistence (Conceptual)\n",
        "Currently, all data is lost when the program exits. Briefly explain (in comments or markdown) how you would implement simple data persistence (e.g., using JSON or CSV files) to save and load the inventory data.\n",
        "\n",
        "```python\n",
        "# Your data persistence ideas here (as comments or multi-line string)\n",
        "```"
      ]
    }
  ],
  "metadata": {
    "kernelspec": {
      "display_name": "Python 3",
      "language": "python",
      "name": "python3"
    },
    "language_info": {
      "codemirror_mode": {
        "name": "ipython",
        "version": 3
      },
      "file_extension": ".py",
      "mimetype": "text/x-python",
      "name": "python",
      "nbconvert_exporter": "python",
      "pygments_lexer": "ipython3",
      "version": "3.9.7"
    },
    "colab": {
      "provenance": []
    }
  },
  "nbformat": 4,
  "nbformat_minor": 0
}