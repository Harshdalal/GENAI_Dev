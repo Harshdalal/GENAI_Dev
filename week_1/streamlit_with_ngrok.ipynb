{
  "nbformat": 4,
  "nbformat_minor": 0,
  "metadata": {
    "colab": {
      "provenance": [],
      "gpuType": "T4"
    },
    "kernelspec": {
      "name": "python3",
      "display_name": "Python 3"
    },
    "language_info": {
      "name": "python"
    },
    "accelerator": "GPU"
  },
  "cells": [
    {
      "cell_type": "markdown",
      "source": [
        "#streamlit_with_ngrok"
      ],
      "metadata": {
        "id": "NeNbWyAVhVFA"
      }
    },
    {
      "cell_type": "code",
      "source": [
        "# 1: Install Streamlit\n",
        "!pip install streamlit pyngrok -q\n"
      ],
      "metadata": {
        "id": "sYh8BXTf5mXL"
      },
      "execution_count": 7,
      "outputs": []
    },
    {
      "cell_type": "code",
      "source": [
        "# CELL 2: Create Your First App\n",
        "\n",
        "%%writefile my_first_app.py\n",
        "import streamlit as st\n",
        "\n",
        "# Display the main title of the web app\n",
        "st.title(\"🎉 My First Streamlit App!\")\n",
        "\n",
        "# Write a welcome message below the title\n",
        "st.write(\"Hello! Welcome to my first web app!\")\n",
        "\n",
        "# Section header to introduce yourself\n",
        "st.header(\"About Me\")\n",
        "st.write(\"My name is [Your Name Here]\")\n",
        "st.write(\"I am learning to code!\")\n",
        "\n",
        "# Display your name (you can replace the placeholder with your actual name)\n",
        "name = st.text_input(\"What's your name?\")\n",
        "if name:\n",
        "    st.write(f\"Nice to meet you, {name}! 👋\")\n",
        "\n",
        "# Create a simple clickable button labeled \"Click Me!\"\n",
        "if st.button(\"Click Me!\"):\n",
        "    st.write(\"🎉 You clicked the button!\")\n",
        "\n",
        "\n",
        "# Create a slider that lets the user choose an age between 0 and 100 (default is 20)\n",
        "age = st.slider(\"How old are you?\", 0, 100, 20)\n",
        "st.write(f\"You are {age} years old\")\n",
        "\n",
        "# Simple math (A section for performing basic arithmetic operations)\n",
        "st.subheader(\"🧮 Simple Calculator\")\n",
        "number1 = st.number_input(\"Enter first number:\", value=0)\n",
        "number2 = st.number_input(\"Enter second number:\", value=0)\n",
        "\n",
        "if st.button(\"Add Numbers\"):\n",
        "    result = number1 + number2\n",
        "    st.success(f\"{number1} + {number2} = {result}\")\n",
        "\n",
        "    st.success(f\"{number1} - {number2} = {result}\")\n",
        "\n",
        "if st.button(\"Multiply Numbers\"):\n",
        "    result = number1 * number2\n",
        "    st.success(f\"{number1} * {number2} = {result}\")\n",
        "\n",
        "if st.button(\"Divide Numbers\"):\n",
        "    if number2 == 0:\n",
        "        st.warning(\"Cannot divide by zero!\")\n",
        "    else:\n",
        "        result = number1 / number2\n",
        "        st.success(f\"{number1} / {number2} = {result}\")\n",
        "\n",
        "\n",
        "# Simple drawing (Displays a bar chart from static test score data)\n",
        "st.subheader(\"📊 My First Chart\")\n",
        "import pandas as pd\n",
        "\n",
        "# Create simple data (Subjects and corresponding scores)\n",
        "data = {\n",
        "    'Subjects': ['Math', 'Science', 'English', 'History'],\n",
        "    'Scores': [85, 92, 78, 88]\n",
        "}\n",
        "df = pd.DataFrame(data)\n",
        "\n",
        "# Show the data (Button for subtraction exists but result is not displayed)\n",
        "st.write(\"My Test Scores:\")\n",
        "if st.button(\"Subtract Numbers\"):\n",
        "    result = number1 - number2\n",
        "st.dataframe(df)\n",
        "\n",
        "# Create a bar chart using subjects as the X-axis and scores as the Y-axis\n",
        "st.bar_chart(df.set_index('Subjects'))\n",
        "\n",
        "# Display a closing message congratulating the user\n",
        "st.write(\"---\")\n",
        "st.write(\"🎊 Congratulations! You made your first web app!\")\n",
        "\n"
      ],
      "metadata": {
        "colab": {
          "base_uri": "https://localhost:8080/"
        },
        "id": "C41APIap5mUk",
        "outputId": "8dd83723-4fdd-4245-9666-48398be158af"
      },
      "execution_count": 8,
      "outputs": [
        {
          "output_type": "stream",
          "name": "stdout",
          "text": [
            "Overwriting my_first_app.py\n"
          ]
        }
      ]
    },
    {
      "cell_type": "code",
      "source": [
        "# 3: Get ngrok token (Optional - for sharing your app)\n",
        "# Go to https://ngrok.com and sign up for free\n",
        "# Copy your token and paste it below\n",
        "ngrok_token = \"2yGBZnB7ngE0P19IGz2Qf2DW2EW_3Bj4VstSQQiy16UdWqKvX\"  # Replace with your actual token\n",
        "\n"
      ],
      "metadata": {
        "id": "ZdhfbmR65mQK"
      },
      "execution_count": 9,
      "outputs": []
    },
    {
      "cell_type": "code",
      "source": [
        "# 4: Run Your App (With sharing - requires ngrok token)\n",
        "from pyngrok import ngrok\n",
        "import time\n",
        "import threading\n",
        "\n",
        "# Set your ngrok authentication token (replace ngrok_token with your actual token)\n",
        "ngrok.set_auth_token(ngrok_token)\n",
        "\n",
        "# Function to launch the Streamlit app using a system command\n",
        "def run_app():\n",
        "    !streamlit run my_first_app.py --server.headless true --server.port 8501\n",
        "\n",
        "# Terminate any active ngrok tunnels before starting a new one\n",
        "ngrok.kill()\n",
        "\n",
        "# Start the Streamlit app in a separate thread so the script can continue running\n",
        "app_thread = threading.Thread(target=run_app)\n",
        "app_thread.start()\n",
        "\n",
        "# Allow time for the Streamlit app to fully start before creating the tunnel\n",
        "time.sleep(10)\n",
        "\n",
        "# Create a public URL using ngrok and display it\n",
        "try:\n",
        "    public_url = ngrok.connect(8501)\n",
        "    print(\"🚀 Your app is live!\")\n",
        "    print(f\"🌐 Share this link: {public_url}\")\n",
        "    print(\"📱 Anyone can access your app with this link!\")\n",
        "except:\n",
        "    print(\"⚠️ Need ngrok token for sharing. App is running locally.\")\n"
      ],
      "metadata": {
        "colab": {
          "base_uri": "https://localhost:8080/"
        },
        "id": "vJ7v9W_15mLc",
        "outputId": "5f44e19f-3ff4-42e9-8efe-c0661b10db8f"
      },
      "execution_count": 12,
      "outputs": [
        {
          "output_type": "stream",
          "name": "stdout",
          "text": [
            "\n",
            "Collecting usage statistics. To deactivate, set browser.gatherUsageStats to false.\n",
            "\u001b[0m\n",
            "2025-07-05 03:02:18.167 Port 8501 is already in use\n",
            "🚀 Your app is live!\n",
            "🌐 Share this link: NgrokTunnel: \"https://c3a8-34-126-170-244.ngrok-free.app\" -> \"http://localhost:8501\"\n",
            "📱 Anyone can access your app with this link!\n"
          ]
        }
      ]
    },
    {
      "cell_type": "code",
      "source": [
        "\n",
        "# 5: Stop the app (run this when you're done)\n",
        "\n",
        "ngrok.kill()\n",
        "print(\"App stopped!\")\n",
        "\n"
      ],
      "metadata": {
        "colab": {
          "base_uri": "https://localhost:8080/"
        },
        "id": "_pMios_65mJV",
        "outputId": "5a849c5c-dbd1-429e-8e78-ba5681b85d5b"
      },
      "execution_count": 11,
      "outputs": [
        {
          "output_type": "stream",
          "name": "stdout",
          "text": [
            "App stopped!\n"
          ]
        }
      ]
    },
    {
      "cell_type": "code",
      "source": [],
      "metadata": {
        "id": "3XP1zWSO5mEK"
      },
      "execution_count": 11,
      "outputs": []
    },
    {
      "cell_type": "code",
      "source": [],
      "metadata": {
        "id": "MDHi2SqR5mBk"
      },
      "execution_count": 11,
      "outputs": []
    },
    {
      "cell_type": "code",
      "source": [],
      "metadata": {
        "id": "6z5BaLLM5l_M"
      },
      "execution_count": 11,
      "outputs": []
    },
    {
      "cell_type": "code",
      "source": [],
      "metadata": {
        "id": "sXq65q2n5l82"
      },
      "execution_count": 11,
      "outputs": []
    },
    {
      "cell_type": "code",
      "source": [],
      "metadata": {
        "id": "g0C0Ii4W5l67"
      },
      "execution_count": 11,
      "outputs": []
    },
    {
      "cell_type": "code",
      "source": [],
      "metadata": {
        "id": "BCIug6vD5l4T"
      },
      "execution_count": 11,
      "outputs": []
    },
    {
      "cell_type": "code",
      "source": [],
      "metadata": {
        "id": "RZO63FBd5l1z"
      },
      "execution_count": 11,
      "outputs": []
    }
  ]
}