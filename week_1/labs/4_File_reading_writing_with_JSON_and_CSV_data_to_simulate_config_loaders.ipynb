{
  "nbformat": 4,
  "nbformat_minor": 0,
  "metadata": {
    "colab": {
      "provenance": []
    },
    "kernelspec": {
      "name": "python3",
      "display_name": "Python 3"
    },
    "language_info": {
      "name": "python"
    }
  },
  "cells": [
    {
      "cell_type": "markdown",
      "source": [
        "#🎯 Objective\n",
        "You will learn:\n",
        "\n",
        "✅ How to read/write JSON files (for config-like structures).\n",
        "\n",
        "✅ How to read/write CSV files (for structured tabular data).\n",
        "\n",
        "✅ How to do this in Google Colab, where file handling is slightly different due to its cloud nature.\n",
        "\n",
        "✅ With explanations for each command and syntax used."
      ],
      "metadata": {
        "id": "an_ymhtgmoR7"
      }
    },
    {
      "cell_type": "markdown",
      "source": [
        "#✅ Step 1: Setup\n",
        "No special setup needed — JSON and CSV are built-in modules."
      ],
      "metadata": {
        "id": "friZCw_Rmtv3"
      }
    },
    {
      "cell_type": "markdown",
      "source": [
        "#✅ Step 2: JSON File Operations – Ideal for Configs\n",
        "🔹 Create and Save a Configuration Dictionary as JSON"
      ],
      "metadata": {
        "id": "oYdTcr8cmwGU"
      }
    },
    {
      "cell_type": "code",
      "execution_count": 1,
      "metadata": {
        "id": "pTuwdYz8mlFe"
      },
      "outputs": [],
      "source": [
        "import json  # json is a built-in Python module for handling JSON files\n",
        "\n",
        "# Define a configuration dictionary that might simulate settings for an app or system\n",
        "config_data = {\n",
        "    \"app_name\": \"InventoryApp\",\n",
        "    \"version\": \"1.0\",\n",
        "    \"features\": [\"add\", \"update\", \"delete\", \"export\"],\n",
        "    \"database\": {\n",
        "        \"type\": \"sqlite\",\n",
        "        \"path\": \"/data/db.sqlite3\"\n",
        "    }\n",
        "}\n",
        "\n",
        "# Save the configuration dictionary to a JSON file\n",
        "with open(\"config.json\", \"w\") as json_file:\n",
        "    # json.dump() writes the dictionary into the file as JSON formatted string\n",
        "    json.dump(config_data, json_file, indent=4)  # indent=4 makes it pretty printed\n"
      ]
    },
    {
      "cell_type": "markdown",
      "source": [
        "#🔹 Read from the JSON Config File"
      ],
      "metadata": {
        "id": "gYsO3K9em4VY"
      }
    },
    {
      "cell_type": "code",
      "source": [
        "# Open the file and read its contents back into a Python dictionary\n",
        "with open(\"config.json\", \"r\") as json_file:\n",
        "    loaded_config = json.load(json_file)  # json.load() parses JSON into Python dict\n",
        "\n",
        "# Display the loaded configuration\n",
        "print(\"Loaded Config:\", loaded_config)\n",
        "\n",
        "# Accessing specific values from the loaded dictionary\n",
        "print(\"Database path:\", loaded_config[\"database\"][\"path\"])\n"
      ],
      "metadata": {
        "colab": {
          "base_uri": "https://localhost:8080/"
        },
        "id": "j1dyHBckmzGs",
        "outputId": "d0946ecc-15cf-4514-8bf9-f53d06fe969c"
      },
      "execution_count": 2,
      "outputs": [
        {
          "output_type": "stream",
          "name": "stdout",
          "text": [
            "Loaded Config: {'app_name': 'InventoryApp', 'version': '1.0', 'features': ['add', 'update', 'delete', 'export'], 'database': {'type': 'sqlite', 'path': '/data/db.sqlite3'}}\n",
            "Database path: /data/db.sqlite3\n"
          ]
        }
      ]
    },
    {
      "cell_type": "markdown",
      "source": [
        "#✅ Step 3: CSV File Operations – Ideal for Tabular Data\n",
        "#🔹 Create and Save Inventory Data to CSV"
      ],
      "metadata": {
        "id": "BnMwX0iNnC6z"
      }
    },
    {
      "cell_type": "code",
      "source": [
        "import csv  # csv is a built-in module for handling comma-separated files\n",
        "\n",
        "# Define some inventory items as a list of dictionaries\n",
        "inventory_items = [\n",
        "    {\"item_id\": \"A101\", \"name\": \"Pen\", \"quantity\": 100, \"price\": 5.0},\n",
        "    {\"item_id\": \"A102\", \"name\": \"Notebook\", \"quantity\": 50, \"price\": 25.0},\n",
        "    {\"item_id\": \"A103\", \"name\": \"Eraser\", \"quantity\": 200, \"price\": 3.0},\n",
        "]\n",
        "\n",
        "# Define the CSV column headers\n",
        "fieldnames = [\"item_id\", \"name\", \"quantity\", \"price\"]\n",
        "\n",
        "# Write the inventory list to a CSV file\n",
        "with open(\"inventory.csv\", \"w\", newline=\"\") as csvfile:\n",
        "    writer = csv.DictWriter(csvfile, fieldnames=fieldnames)  # Use DictWriter to write dict rows\n",
        "    writer.writeheader()  # Writes the header row\n",
        "    writer.writerows(inventory_items)  # Writes all rows from the list\n"
      ],
      "metadata": {
        "id": "uT-CIdZknBHL"
      },
      "execution_count": 3,
      "outputs": []
    },
    {
      "cell_type": "markdown",
      "source": [
        "#🔹 Read from CSV File and Load as List of Dicts"
      ],
      "metadata": {
        "id": "CRPRxB-ynWSf"
      }
    },
    {
      "cell_type": "code",
      "source": [
        "# Read data from the inventory CSV file\n",
        "with open(\"inventory.csv\", \"r\") as csvfile:\n",
        "    reader = csv.DictReader(csvfile)  # DictReader reads rows into dictionaries\n",
        "    loaded_inventory = list(reader)  # Convert the reader object into a list\n",
        "\n",
        "# Display the loaded inventory\n",
        "print(\"Loaded Inventory:\", loaded_inventory)\n",
        "\n",
        "# Example: Print only the names of the items\n",
        "print(\"Item Names:\")\n",
        "for item in loaded_inventory:\n",
        "    print(\"-\", item[\"name\"])\n"
      ],
      "metadata": {
        "colab": {
          "base_uri": "https://localhost:8080/"
        },
        "id": "-rfepGE5nE3s",
        "outputId": "5ed00f32-3f52-4fcb-a36b-2c6852f9977b"
      },
      "execution_count": 4,
      "outputs": [
        {
          "output_type": "stream",
          "name": "stdout",
          "text": [
            "Loaded Inventory: [{'item_id': 'A101', 'name': 'Pen', 'quantity': '100', 'price': '5.0'}, {'item_id': 'A102', 'name': 'Notebook', 'quantity': '50', 'price': '25.0'}, {'item_id': 'A103', 'name': 'Eraser', 'quantity': '200', 'price': '3.0'}]\n",
            "Item Names:\n",
            "- Pen\n",
            "- Notebook\n",
            "- Eraser\n"
          ]
        }
      ]
    },
    {
      "cell_type": "markdown",
      "source": [
        "#🧠 Summary of Commands and Why They're Used\n",
        "\n",
        "| Command            | Purpose                                        |\n",
        "| ------------------ | ---------------------------------------------- |\n",
        "| `import json`      | Enables JSON operations                        |\n",
        "| `json.dump()`      | Writes a dictionary to a JSON file             |\n",
        "| `json.load()`      | Reads a JSON file into a dictionary            |\n",
        "| `import csv`       | Enables CSV operations                         |\n",
        "| `csv.DictWriter()` | Writes dictionaries as rows to a CSV file      |\n",
        "| `csv.DictReader()` | Reads CSV into dictionaries                    |\n",
        "| `with open(...)`   | Ensures proper file handling (auto-close file) |\n",
        "| `indent=4`         | Makes JSON more human-readable                 |\n",
        "| `newline=\"\"`       | Prevents blank lines in CSV on Windows         |\n"
      ],
      "metadata": {
        "id": "sd2v3jXgndxm"
      }
    },
    {
      "cell_type": "code",
      "source": [],
      "metadata": {
        "id": "x96dk776nbFz"
      },
      "execution_count": null,
      "outputs": []
    }
  ]
}