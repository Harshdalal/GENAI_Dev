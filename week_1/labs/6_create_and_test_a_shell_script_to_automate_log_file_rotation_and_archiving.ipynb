{
  "nbformat": 4,
  "nbformat_minor": 0,
  "metadata": {
    "colab": {
      "provenance": []
    },
    "kernelspec": {
      "name": "python3",
      "display_name": "Python 3"
    },
    "language_info": {
      "name": "python"
    }
  },
  "cells": [
    {
      "cell_type": "markdown",
      "source": [
        "#🎯 Objective\n",
        "Rotate a log file when it gets large (simulate size-based rotation).\n",
        "\n",
        "Archive old log files (e.g., compress them).\n",
        "\n",
        "Clean up logs older than X days (optional)."
      ],
      "metadata": {
        "id": "3oKzbWsyqwrU"
      }
    },
    {
      "cell_type": "markdown",
      "source": [
        "#✅ Step-by-Step Guide in Google Colab\n",
        "\n",
        "#🔹 Step 1: Simulate a Sample Log File"
      ],
      "metadata": {
        "id": "pXODCt2vqz0N"
      }
    },
    {
      "cell_type": "code",
      "execution_count": 1,
      "metadata": {
        "colab": {
          "base_uri": "https://localhost:8080/"
        },
        "id": "dGUMR-EcqsQT",
        "outputId": "af60a36a-12fd-4ad4-daeb-74b346f0ced1"
      },
      "outputs": [
        {
          "output_type": "stream",
          "name": "stdout",
          "text": [
            "total 4.0K\n",
            "-rw-r--r-- 1 root root 1.3K Jun  9 07:50 app.log\n",
            "Log entry 91\n",
            "Log entry 92\n",
            "Log entry 93\n",
            "Log entry 94\n",
            "Log entry 95\n",
            "Log entry 96\n",
            "Log entry 97\n",
            "Log entry 98\n",
            "Log entry 99\n",
            "Log entry 100\n"
          ]
        }
      ],
      "source": [
        "# Create a dummy log directory and a sample log file\n",
        "!mkdir -p logs\n",
        "!echo \"Log entry 1\" > logs/app.log\n",
        "!for i in $(seq 2 100); do echo \"Log entry $i\" >> logs/app.log; done\n",
        "\n",
        "# Check size and content\n",
        "!ls -lh logs\n",
        "!tail logs/app.log\n"
      ]
    },
    {
      "cell_type": "markdown",
      "source": [
        "#📝 Explanation:\n",
        "\n",
        "mkdir -p logs: Makes a log directory.\n",
        "\n",
        "echo and for i in $(seq ...): Appends log entries.\n",
        "\n",
        "ls -lh: Lists file size.\n",
        "\n",
        "tail: Shows the last few lines."
      ],
      "metadata": {
        "id": "yKKJif2aq6vt"
      }
    },
    {
      "cell_type": "markdown",
      "source": [
        "#🔹 Step 2: Write the Log Rotation Shell Script"
      ],
      "metadata": {
        "id": "L0K30pNPq_rd"
      }
    },
    {
      "cell_type": "code",
      "source": [
        "%%writefile rotate_logs.sh\n",
        "#!/bin/bash\n",
        "\n",
        "# Set variables\n",
        "LOG_DIR=\"logs\"\n",
        "LOG_FILE=\"$LOG_DIR/app.log\"\n",
        "ARCHIVE_DIR=\"$LOG_DIR/archive\"\n",
        "DATE=$(date +\"%Y-%m-%d_%H-%M-%S\")\n",
        "\n",
        "# Create archive directory if not exists\n",
        "mkdir -p \"$ARCHIVE_DIR\"\n",
        "\n",
        "# Set max log size in bytes (e.g., 1 KB = 1024 bytes for testing)\n",
        "MAX_SIZE=1024\n",
        "\n",
        "# Get actual file size\n",
        "FILE_SIZE=$(stat -c%s \"$LOG_FILE\")\n",
        "\n",
        "# Rotate if size exceeds threshold\n",
        "if [ \"$FILE_SIZE\" -gt \"$MAX_SIZE\" ]; then\n",
        "    echo \"Rotating log: $LOG_FILE is $FILE_SIZE bytes (> $MAX_SIZE bytes)\"\n",
        "\n",
        "    # Move log to archive with timestamp\n",
        "    mv \"$LOG_FILE\" \"$ARCHIVE_DIR/app_$DATE.log\"\n",
        "\n",
        "    # Create a new empty log file\n",
        "    touch \"$LOG_FILE\"\n",
        "else\n",
        "    echo \"No rotation needed. Log file size: $FILE_SIZE bytes\"\n",
        "fi\n"
      ],
      "metadata": {
        "colab": {
          "base_uri": "https://localhost:8080/"
        },
        "id": "z1LrwDzPq36l",
        "outputId": "cafdcf7d-c3a4-403f-cfa5-cc9c8f882ac0"
      },
      "execution_count": 2,
      "outputs": [
        {
          "output_type": "stream",
          "name": "stdout",
          "text": [
            "Writing rotate_logs.sh\n"
          ]
        }
      ]
    },
    {
      "cell_type": "markdown",
      "source": [
        "| Line                      | What It Does                           |\n",
        "| ------------------------- | -------------------------------------- |\n",
        "| `LOG_FILE`, `ARCHIVE_DIR` | Paths to manage logs                   |\n",
        "| `mkdir -p`                | Ensures archive folder exists          |\n",
        "| `stat -c%s`               | Gets file size in bytes                |\n",
        "| `mv`                      | Moves (renames) log file for archiving |\n",
        "| `touch`                   | Creates a fresh, empty log             |\n"
      ],
      "metadata": {
        "id": "LsufLzlJrYpy"
      }
    },
    {
      "cell_type": "markdown",
      "source": [
        "#🔹 Step 3: Run the Log Rotation Script"
      ],
      "metadata": {
        "id": "n9hv3G9ircK6"
      }
    },
    {
      "cell_type": "code",
      "source": [
        "# Give execute permission and run\n",
        "!chmod +x rotate_logs.sh\n",
        "!./rotate_logs.sh\n",
        "\n",
        "# Check files\n",
        "!ls -lh logs\n",
        "!ls -lh logs/archive\n"
      ],
      "metadata": {
        "colab": {
          "base_uri": "https://localhost:8080/"
        },
        "id": "wdb94ELNrELT",
        "outputId": "65928d2b-adfc-4660-adc9-bf5abed908ab"
      },
      "execution_count": 3,
      "outputs": [
        {
          "output_type": "stream",
          "name": "stdout",
          "text": [
            "Rotating log: logs/app.log is 1292 bytes (> 1024 bytes)\n",
            "total 4.0K\n",
            "-rw-r--r-- 1 root root    0 Jun  9 07:53 app.log\n",
            "drwxr-xr-x 2 root root 4.0K Jun  9 07:53 archive\n",
            "total 4.0K\n",
            "-rw-r--r-- 1 root root 1.3K Jun  9 07:50 app_2025-06-09_07-53-15.log\n"
          ]
        }
      ]
    },
    {
      "cell_type": "markdown",
      "source": [
        "#🔹 Step 4: Test Again by Increasing Log Size\n",
        "\n"
      ],
      "metadata": {
        "id": "3t8PRHQ3rhgO"
      }
    },
    {
      "cell_type": "code",
      "source": [
        "# Add more logs to exceed the 1KB limit\n",
        "!for i in $(seq 1 200); do echo \"New log entry $i\" >> logs/app.log; done\n",
        "\n",
        "# Run the rotation again\n",
        "!./rotate_logs.sh\n",
        "\n",
        "# Check archive\n",
        "!ls -lh logs/archive\n"
      ],
      "metadata": {
        "colab": {
          "base_uri": "https://localhost:8080/"
        },
        "id": "ZU8esCGoreTi",
        "outputId": "b4a1b5e0-9c46-46fb-ad0d-56854f11790a"
      },
      "execution_count": 4,
      "outputs": [
        {
          "output_type": "stream",
          "name": "stdout",
          "text": [
            "Rotating log: logs/app.log is 3492 bytes (> 1024 bytes)\n",
            "total 8.0K\n",
            "-rw-r--r-- 1 root root 1.3K Jun  9 07:50 app_2025-06-09_07-53-15.log\n",
            "-rw-r--r-- 1 root root 3.5K Jun  9 07:53 app_2025-06-09_07-53-52.log\n"
          ]
        }
      ]
    }
  ]
}