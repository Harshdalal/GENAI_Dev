{
  "nbformat": 4,
  "nbformat_minor": 0,
  "metadata": {
    "colab": {
      "provenance": []
    },
    "kernelspec": {
      "name": "python3",
      "display_name": "Python 3"
    },
    "language_info": {
      "name": "python"
    }
  },
  "cells": [
    {
      "cell_type": "markdown",
      "source": [
        "#🎯 Objective\n",
        "We will:\n",
        "\n",
        "Use Object-Oriented Programming (OOP) concepts like classes and objects.\n",
        "\n",
        "Build core inventory functions: add, update, delete, and view items.\n",
        "\n",
        "Simulate a Command-Line Interface (CLI) using input() in Colab (since argparse doesn't work naturally).\n",
        "\n",
        "Organize your code properly for reusability and modularity."
      ],
      "metadata": {
        "id": "RVk2GkeeOVcr"
      }
    },
    {
      "cell_type": "markdown",
      "source": [
        "#✅ Step-by-Step in Google Colab"
      ],
      "metadata": {
        "id": "CjfYiR8AOeKn"
      }
    },
    {
      "cell_type": "markdown",
      "source": [
        "#🔹 Step 1: Project Folder Setup"
      ],
      "metadata": {
        "id": "sY0Xey3_OkQ3"
      }
    },
    {
      "cell_type": "code",
      "source": [
        "# !mkdir is a shell command to create a directory named 'inventory_system'.\n",
        "# This simulates how you'd create folders in a real Python project.\n",
        "!mkdir inventory_system\n",
        "\n",
        "# %cd changes the current working directory to 'inventory_system'.\n",
        "# This ensures all files we create next will be inside this folder.\n",
        "%cd inventory_system\n"
      ],
      "metadata": {
        "colab": {
          "base_uri": "https://localhost:8080/"
        },
        "id": "ZG9zzVZrNH95",
        "outputId": "85894611-9e38-4daa-84f7-55f60ae22a21"
      },
      "execution_count": 8,
      "outputs": [
        {
          "output_type": "stream",
          "name": "stdout",
          "text": [
            "/content/inventory_system/inventory_system/inventory_system\n"
          ]
        }
      ]
    },
    {
      "cell_type": "markdown",
      "source": [
        "#🔹 Step 2: Create the inventory management classes"
      ],
      "metadata": {
        "id": "YtZ7pFXjOuhh"
      }
    },
    {
      "cell_type": "code",
      "source": [
        "# %%writefile writes the content of this cell to a Python file named 'inventory.py'.\n",
        "# This allows us to reuse the code by importing it as a module.\n",
        "\n",
        "%%writefile inventory.py\n",
        "\n",
        "# Define an Item class to store item details.\n",
        "class Item:\n",
        "    \"\"\"Represents a single item in the inventory.\"\"\"\n",
        "    def __init__(self, item_id, name, quantity, price):\n",
        "        # Constructor initializes the item with an ID, name, quantity, and price\n",
        "        self.item_id = item_id\n",
        "        self.name = name\n",
        "        self.quantity = quantity\n",
        "        self.price = price\n",
        "\n",
        "    def __str__(self):\n",
        "        # This method defines how the item will be printed.\n",
        "        return f\"[{self.item_id}] {self.name} - Qty: {self.quantity}, Price: ₹{self.price}\"\n",
        "\n",
        "\n",
        "# Define the Inventory class to manage a collection of items\n",
        "class Inventory:\n",
        "    \"\"\"Inventory class using a dictionary to manage items.\"\"\"\n",
        "    def __init__(self):\n",
        "        # Initialize an empty dictionary to hold all items using item_id as the key\n",
        "        self.items = {}\n",
        "\n",
        "    def add_item(self, item_id, name, quantity, price):\n",
        "        # Check if item ID already exists in the inventory\n",
        "        if item_id in self.items:\n",
        "            print(\"Item ID already exists. Try updating instead.\")\n",
        "        else:\n",
        "            # Add a new item object to the dictionary\n",
        "            self.items[item_id] = Item(item_id, name, quantity, price)\n",
        "            print(\"Item added successfully.\")\n",
        "\n",
        "    def update_item(self, item_id, quantity=None, price=None):\n",
        "        # Check if item ID exists\n",
        "        if item_id not in self.items:\n",
        "            print(\"Item not found.\")\n",
        "            return\n",
        "        # Update quantity and/or price only if they are provided\n",
        "        if quantity is not None:\n",
        "            self.items[item_id].quantity = quantity\n",
        "        if price is not None:\n",
        "            self.items[item_id].price = price\n",
        "        print(\"Item updated successfully.\")\n",
        "\n",
        "    def delete_item(self, item_id):\n",
        "        # Remove item from the dictionary if it exists\n",
        "        if item_id in self.items:\n",
        "            del self.items[item_id]\n",
        "            print(\"Item deleted.\")\n",
        "        else:\n",
        "            print(\"Item not found.\")\n",
        "\n",
        "    def list_items(self):\n",
        "        # Print all items in the inventory\n",
        "        if not self.items:\n",
        "            print(\"Inventory is empty.\")\n",
        "        else:\n",
        "            for item in self.items.values():\n",
        "                print(item)\n"
      ],
      "metadata": {
        "colab": {
          "base_uri": "https://localhost:8080/"
        },
        "id": "I187_FC_NHzu",
        "outputId": "8246fac3-dd8b-4193-b972-8a0ebc18f637"
      },
      "execution_count": 9,
      "outputs": [
        {
          "output_type": "stream",
          "name": "stdout",
          "text": [
            "Writing inventory.py\n"
          ]
        }
      ]
    },
    {
      "cell_type": "markdown",
      "source": [
        "#🔹 Step 3: Simulate a CLI in Google Colab using input() loop"
      ],
      "metadata": {
        "id": "EbuNOyc4O_K4"
      }
    },
    {
      "cell_type": "code",
      "source": [
        "# Import the Inventory class from the inventory module (inventory.py)\n",
        "from inventory import Inventory\n",
        "\n",
        "# Create an instance of Inventory\n",
        "inv = Inventory()\n",
        "\n",
        "# Function to print the menu options\n",
        "def show_menu():\n",
        "    print(\"\\n📦 Inventory Management System\")\n",
        "    print(\"1. Add Item\")\n",
        "    print(\"2. Update Item\")\n",
        "    print(\"3. Delete Item\")\n",
        "    print(\"4. View Inventory\")\n",
        "    print(\"5. Exit\")\n",
        "\n",
        "# Main loop to simulate CLI using input()\n",
        "# This keeps showing the menu until the user chooses to exit\n",
        "while True:\n",
        "    show_menu()\n",
        "    choice = input(\"Enter your choice (1-5): \")\n",
        "\n",
        "    if choice == '1':\n",
        "        # Collect item details from user input\n",
        "        item_id = input(\"Enter Item ID: \")\n",
        "        name = input(\"Enter Item Name: \")\n",
        "        quantity = int(input(\"Enter Quantity: \"))  # Convert input string to integer\n",
        "        price = float(input(\"Enter Price: \"))      # Convert input string to float\n",
        "        inv.add_item(item_id, name, quantity, price)  # Call add_item method\n",
        "\n",
        "    elif choice == '2':\n",
        "        item_id = input(\"Enter Item ID to update: \")\n",
        "        quantity = input(\"Enter new Quantity (or leave blank): \")\n",
        "        price = input(\"Enter new Price (or leave blank): \")\n",
        "\n",
        "        # Convert to integer/float only if input is given\n",
        "        quantity = int(quantity) if quantity else None\n",
        "        price = float(price) if price else None\n",
        "        inv.update_item(item_id, quantity, price)  # Call update_item method\n",
        "\n",
        "    elif choice == '3':\n",
        "        item_id = input(\"Enter Item ID to delete: \")\n",
        "        inv.delete_item(item_id)  # Call delete_item method\n",
        "\n",
        "    elif choice == '4':\n",
        "        inv.list_items()  # Show all items\n",
        "\n",
        "    elif choice == '5':\n",
        "        print(\"Exiting... ✅\")\n",
        "        break  # Exit the while loop\n",
        "\n",
        "    else:\n",
        "        print(\"Invalid choice. Try again.\")\n"
      ],
      "metadata": {
        "colab": {
          "base_uri": "https://localhost:8080/"
        },
        "id": "2EnfVPmrNHu4",
        "outputId": "977b1a9f-d8c2-4484-e801-44759e6708dc"
      },
      "execution_count": 10,
      "outputs": [
        {
          "output_type": "stream",
          "name": "stdout",
          "text": [
            "\n",
            "📦 Inventory Management System\n",
            "1. Add Item\n",
            "2. Update Item\n",
            "3. Delete Item\n",
            "4. View Inventory\n",
            "5. Exit\n",
            "Enter your choice (1-5): 1\n",
            "Enter Item ID: 456\n",
            "Enter Item Name: choklate\n",
            "Enter Quantity: 5\n",
            "Enter Price: 56\n",
            "Item added successfully.\n",
            "\n",
            "📦 Inventory Management System\n",
            "1. Add Item\n",
            "2. Update Item\n",
            "3. Delete Item\n",
            "4. View Inventory\n",
            "5. Exit\n",
            "Enter your choice (1-5): 4\n",
            "[456] choklate - Qty: 5, Price: ₹56.0\n",
            "\n",
            "📦 Inventory Management System\n",
            "1. Add Item\n",
            "2. Update Item\n",
            "3. Delete Item\n",
            "4. View Inventory\n",
            "5. Exit\n",
            "Enter your choice (1-5): 5\n",
            "Exiting... ✅\n"
          ]
        }
      ]
    },
    {
      "cell_type": "markdown",
      "source": [
        "| Feature             | Explanation                                                    |\n",
        "| ------------------- | -------------------------------------------------------------- |\n",
        "| `class`             | Used to define custom object types like `Item` and `Inventory` |\n",
        "| `__init__()`        | Constructor method to initialize object attributes             |\n",
        "| `__str__()`         | Method to define human-readable string output of an object     |\n",
        "| `dict`              | Used to store and access items efficiently by `item_id`        |\n",
        "| `input()`           | Simulates user input in Colab, mimicking CLI interaction       |\n",
        "| `int()` / `float()` | Converts string inputs to numbers                              |\n",
        "| `if-else`           | Used for control flow based on user choices                    |\n"
      ],
      "metadata": {
        "id": "_zvdY-tLPPEM"
      }
    },
    {
      "cell_type": "markdown",
      "source": [
        "#🚀 What You Learned\n",
        "Python OOP fundamentals (classes, objects, methods)\n",
        "\n",
        "CLI simulation using input() in Google Colab\n",
        "\n",
        "Modular design by separating logic into files\n",
        "\n",
        "Using dictionaries for fast lookup and management\n",
        "\n",
        "Real-world scenario coding practice in a notebook-friendly way"
      ],
      "metadata": {
        "id": "BtH5EMUlPt6m"
      }
    },
    {
      "cell_type": "code",
      "source": [],
      "metadata": {
        "id": "FiV802UdN8PK"
      },
      "execution_count": 10,
      "outputs": []
    }
  ]
}