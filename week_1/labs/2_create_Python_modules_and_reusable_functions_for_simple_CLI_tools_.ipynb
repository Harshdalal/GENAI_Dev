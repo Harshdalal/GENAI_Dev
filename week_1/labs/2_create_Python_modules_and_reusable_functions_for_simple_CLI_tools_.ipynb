{
  "nbformat": 4,
  "nbformat_minor": 0,
  "metadata": {
    "colab": {
      "provenance": []
    },
    "kernelspec": {
      "name": "python3",
      "display_name": "Python 3"
    },
    "language_info": {
      "name": "python"
    }
  },
  "cells": [
    {
      "cell_type": "markdown",
      "source": [
        "✅ **Objective:**\n",
        "\n",
        "You’ll learn to:\n",
        "\n",
        "Create reusable Python functions.\n",
        "\n",
        "Organize them into modules.\n",
        "\n",
        "Simulate CLI tool behavior using argparse or input() in Colab.\n",
        "\n",
        "Structure the code as if you were building a proper CLI package."
      ],
      "metadata": {
        "id": "m8ZGRM3cKy7p"
      }
    },
    {
      "cell_type": "markdown",
      "source": [
        "**Step-by-Step Guide**"
      ],
      "metadata": {
        "id": "fdBp8g0mLAYo"
      }
    },
    {
      "cell_type": "markdown",
      "source": [
        "#✅ Step 1: Create a folder to organize code files"
      ],
      "metadata": {
        "id": "S2Ng9JzwLEYN"
      }
    },
    {
      "cell_type": "code",
      "execution_count": 6,
      "metadata": {
        "colab": {
          "base_uri": "https://localhost:8080/"
        },
        "id": "TY4vm9u5J9Jx",
        "outputId": "19fd30aa-887c-4dc4-b35b-1ba0b027270e"
      },
      "outputs": [
        {
          "output_type": "stream",
          "name": "stdout",
          "text": [
            "/content/my_cli_tool/my_cli_tool\n"
          ]
        }
      ],
      "source": [
        "# Create a new directory named 'my_cli_tool'\n",
        "# This helps simulate how we organize code in a real project.\n",
        "!mkdir my_cli_tool\n",
        "\n",
        "# Change working directory to the new folder\n",
        "# So that all files we create will be saved inside it.\n",
        "%cd my_cli_tool\n"
      ]
    },
    {
      "cell_type": "markdown",
      "source": [
        "#✅ Step 2: Create a Python module with reusable functions"
      ],
      "metadata": {
        "id": "jAOG6vinLJVX"
      }
    },
    {
      "cell_type": "code",
      "source": [
        "# Create a Python file 'utils.py' that contains utility functions.\n",
        "# The %%writefile magic command writes the cell content to a file.\n",
        "\n",
        "%%writefile utils.py\n",
        "# Define a function for addition\n",
        "def add(a, b):\n",
        "    return a + b\n",
        "\n",
        "# Define a function for subtraction\n",
        "def subtract(a, b):\n",
        "    return a - b\n",
        "\n",
        "# Define a function for multiplication\n",
        "def multiply(a, b):\n",
        "    return a * b\n",
        "\n",
        "# Define a function for division\n",
        "def divide(a, b):\n",
        "    # Prevent division by zero\n",
        "    if b == 0:\n",
        "        return \"Cannot divide by zero\"\n",
        "    return a / b\n"
      ],
      "metadata": {
        "colab": {
          "base_uri": "https://localhost:8080/"
        },
        "id": "0_gXaVeAJ94R",
        "outputId": "83de94ef-8e1a-4557-d766-669ca486e51d"
      },
      "execution_count": 7,
      "outputs": [
        {
          "output_type": "stream",
          "name": "stdout",
          "text": [
            "Writing utils.py\n"
          ]
        }
      ]
    },
    {
      "cell_type": "markdown",
      "source": [
        "🧠 Why this is useful: You can now import these functions in other scripts, keeping logic separate and reusable."
      ],
      "metadata": {
        "id": "E2m7TNcgLRXT"
      }
    },
    {
      "cell_type": "markdown",
      "source": [
        "#✅ Step 3: Create a CLI script (using argparse)"
      ],
      "metadata": {
        "id": "WdEBkLUnLUjT"
      }
    },
    {
      "cell_type": "code",
      "source": [
        "# This script simulates a command-line calculator.\n",
        "# argparse allows us to handle command-line arguments.\n",
        "\n",
        "%%writefile cli_tool.py\n",
        "import argparse  # Built-in module for parsing command-line arguments\n",
        "from utils import add, subtract, multiply, divide  # Import our custom functions\n",
        "\n",
        "def main():\n",
        "    # Create an ArgumentParser object to handle arguments\n",
        "    parser = argparse.ArgumentParser(description=\"Simple CLI Calculator\")\n",
        "\n",
        "    # Define arguments: operation, a, and b\n",
        "    parser.add_argument(\"operation\", choices=[\"add\", \"sub\", \"mul\", \"div\"], help=\"Operation to perform\")\n",
        "    parser.add_argument(\"a\", type=float, help=\"First number\")\n",
        "    parser.add_argument(\"b\", type=float, help=\"Second number\")\n",
        "\n",
        "    # Parse the arguments into a Namespace object\n",
        "    args = parser.parse_args()\n",
        "\n",
        "    # Perform operation based on user input\n",
        "    if args.operation == \"add\":\n",
        "        print(add(args.a, args.b))\n",
        "    elif args.operation == \"sub\":\n",
        "        print(subtract(args.a, args.b))\n",
        "    elif args.operation == \"mul\":\n",
        "        print(multiply(args.a, args.b))\n",
        "    elif args.operation == \"div\":\n",
        "        print(divide(args.a, args.b))\n",
        "\n",
        "# Ensure this runs only when the script is executed directly\n",
        "if __name__ == \"__main__\":\n",
        "    main()\n"
      ],
      "metadata": {
        "colab": {
          "base_uri": "https://localhost:8080/"
        },
        "id": "XvSbbC8dKEp5",
        "outputId": "bde4fa38-9cf8-4ec1-c2e4-4c961b456e02"
      },
      "execution_count": 8,
      "outputs": [
        {
          "output_type": "stream",
          "name": "stdout",
          "text": [
            "Writing cli_tool.py\n"
          ]
        }
      ]
    },
    {
      "cell_type": "markdown",
      "source": [
        "🧠 Note: argparse is used in actual terminal execution. Since Colab doesn't support command-line execution directly, we simulate this in the next step."
      ],
      "metadata": {
        "id": "H-o-1CJtLcXl"
      }
    },
    {
      "cell_type": "markdown",
      "source": [
        "#✅ Step 4: Simulate CLI behavior with input() in Colab"
      ],
      "metadata": {
        "id": "4utptUfNLfSf"
      }
    },
    {
      "cell_type": "code",
      "source": [
        "# Simulate CLI by asking user input in Colab\n",
        "# Import functions from our utils module\n",
        "from utils import add, subtract, multiply, divide\n",
        "\n",
        "# Ask user to choose operation\n",
        "operation = input(\"Enter operation (add, sub, mul, div): \")\n",
        "\n",
        "# Ask for two numbers\n",
        "a = float(input(\"Enter first number: \"))\n",
        "b = float(input(\"Enter second number: \"))\n",
        "\n",
        "# Call corresponding function\n",
        "if operation == \"add\":\n",
        "    print(\"Result:\", add(a, b))\n",
        "elif operation == \"sub\":\n",
        "    print(\"Result:\", subtract(a, b))\n",
        "elif operation == \"mul\":\n",
        "    print(\"Result:\", multiply(a, b))\n",
        "elif operation == \"div\":\n",
        "    print(\"Result:\", divide(a, b))\n",
        "else:\n",
        "    print(\"Invalid operation\")\n"
      ],
      "metadata": {
        "colab": {
          "base_uri": "https://localhost:8080/"
        },
        "id": "OrhUzkh1KPWA",
        "outputId": "8054fe71-55b9-421f-bd64-7b74aff3d194"
      },
      "execution_count": 9,
      "outputs": [
        {
          "output_type": "stream",
          "name": "stdout",
          "text": [
            "Enter operation (add, sub, mul, div): add\n",
            "Enter first number: 1\n",
            "Enter second number: 2\n",
            "Result: 3.0\n"
          ]
        }
      ]
    },
    {
      "cell_type": "markdown",
      "source": [
        "🧠 Why input(): Since argparse works in command-line only, we use input() here to simulate how a user would pass values."
      ],
      "metadata": {
        "id": "BbdqAJ2WLvTT"
      }
    },
    {
      "cell_type": "markdown",
      "source": [
        "#✅ Step 5: Test the utility module separately"
      ],
      "metadata": {
        "id": "yX124Q3JLwUh"
      }
    },
    {
      "cell_type": "code",
      "source": [
        "# Create a test script to show how modules can be reused in different scripts\n",
        "%%writefile test_script.py\n",
        "from utils import multiply  # Only import what we need\n",
        "\n",
        "# Test the multiply function\n",
        "print(\"Multiplication Result:\", multiply(6, 7))\n"
      ],
      "metadata": {
        "colab": {
          "base_uri": "https://localhost:8080/"
        },
        "id": "MusjuCWjKUBv",
        "outputId": "3fcda64c-f79b-4eb1-cb04-dc6ef3fb7cc8"
      },
      "execution_count": 10,
      "outputs": [
        {
          "output_type": "stream",
          "name": "stdout",
          "text": [
            "Writing test_script.py\n"
          ]
        }
      ]
    },
    {
      "cell_type": "code",
      "source": [
        "# Run the test script using Python\n",
        "!python3 test_script.py\n"
      ],
      "metadata": {
        "colab": {
          "base_uri": "https://localhost:8080/"
        },
        "id": "qjsSzPM3KanA",
        "outputId": "f37086c0-3a25-41db-bd04-13698a5dccc5"
      },
      "execution_count": 11,
      "outputs": [
        {
          "output_type": "stream",
          "name": "stdout",
          "text": [
            "Multiplication Result: 42\n"
          ]
        }
      ]
    },
    {
      "cell_type": "markdown",
      "source": [
        "| Step | Action                                                         |\n",
        "| ---- | -------------------------------------------------------------- |\n",
        "| 1    | Create folder structure using `!mkdir`                         |\n",
        "| 2    | Create reusable functions in `.py` file                        |\n",
        "| 3    | Write CLI logic using `argparse` (or `input()` for simulation) |\n",
        "| 4    | Test functions and simulate CLI inside Colab                   |\n",
        "| 5    | (Optional) Move to local machine for real terminal testing     |\n"
      ],
      "metadata": {
        "id": "GqmGiSsQKhYN"
      }
    },
    {
      "cell_type": "code",
      "source": [],
      "metadata": {
        "id": "H1mv8sPbKhz2"
      },
      "execution_count": null,
      "outputs": []
    }
  ]
}