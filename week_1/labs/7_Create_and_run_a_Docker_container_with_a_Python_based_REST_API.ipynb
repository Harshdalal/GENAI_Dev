{
  "nbformat": 4,
  "nbformat_minor": 0,
  "metadata": {
    "colab": {
      "provenance": []
    },
    "kernelspec": {
      "name": "python3",
      "display_name": "Python 3"
    },
    "language_info": {
      "name": "python"
    }
  },
  "cells": [
    {
      "cell_type": "markdown",
      "source": [
        "#✅ Step-by-Step Workflow to:\n",
        "Create a Python REST API (using FastAPI).\n",
        "\n",
        "Write a Dockerfile to containerize it.\n",
        "\n",
        "Build and run the container (on your own system – Windows/Mac/Linux).\n",
        "\n",
        "Optional testing via Swagger UI or curl.\n",
        "\n",
        "----------------------------------\n",
        "-----------------------------------\n",
        "Then in Colab, you can still:\n",
        "----------------------------------\n",
        "-----------------------------------\n",
        "Generate all the code and files.\n",
        "\n",
        "Simulate file contents.\n",
        "\n",
        "Understand the process for later use on your local Docker environment."
      ],
      "metadata": {
        "id": "E9WuvRqCzaFv"
      }
    },
    {
      "cell_type": "markdown",
      "source": [
        "#🐳 Part 1: Set Up FastAPI App in Colab\n",
        "Let’s write a FastAPI app and simulate project structure:"
      ],
      "metadata": {
        "id": "PnJawd79zrk3"
      }
    },
    {
      "cell_type": "code",
      "execution_count": 5,
      "metadata": {
        "colab": {
          "base_uri": "https://localhost:8080/"
        },
        "id": "gpTAjaFkyme5",
        "outputId": "68314810-8bd7-41ad-b8d6-a2c06bc1f853"
      },
      "outputs": [
        {
          "output_type": "stream",
          "name": "stdout",
          "text": [
            "Overwriting myapp/main.py\n"
          ]
        }
      ],
      "source": [
        "# This goes at the top of a code cell in Colab\n",
        "%%writefile myapp/main.py\n",
        "from fastapi import FastAPI\n",
        "\n",
        "app = FastAPI()\n",
        "\n",
        "@app.get(\"/\")\n",
        "def read_root():\n",
        "    return {\"message\": \"Welcome to Dockerized FastAPI!\"}\n"
      ]
    },
    {
      "cell_type": "code",
      "source": [
        "%%writefile myapp/requirements.txt\n",
        "fastapi\n",
        "uvicorn\n"
      ],
      "metadata": {
        "colab": {
          "base_uri": "https://localhost:8080/"
        },
        "id": "kDs78NT_ztkb",
        "outputId": "a450a795-8d37-4069-bc38-065b9b3e29c3"
      },
      "execution_count": 6,
      "outputs": [
        {
          "output_type": "stream",
          "name": "stdout",
          "text": [
            "Overwriting myapp/requirements.txt\n"
          ]
        }
      ]
    },
    {
      "cell_type": "code",
      "source": [
        "%%writefile myapp/Dockerfile\n",
        "# Use official Python base image\n",
        "FROM python:3.10-slim\n",
        "\n",
        "# Set working directory inside container\n",
        "WORKDIR /app\n",
        "\n",
        "# Copy local code to container\n",
        "COPY . .\n",
        "\n",
        "# Install required Python packages\n",
        "RUN pip install --no-cache-dir -r requirements.txt\n",
        "\n",
        "# Expose port for API\n",
        "EXPOSE 8000\n",
        "\n",
        "# Start the FastAPI app using Uvicorn\n",
        "CMD [\"uvicorn\", \"main:app\", \"--host\", \"0.0.0.0\", \"--port\", \"8000\"]\n"
      ],
      "metadata": {
        "colab": {
          "base_uri": "https://localhost:8080/"
        },
        "id": "aPenQH0u0GzZ",
        "outputId": "91af660c-94b2-4229-dece-9a0a98f32a85"
      },
      "execution_count": 7,
      "outputs": [
        {
          "output_type": "stream",
          "name": "stdout",
          "text": [
            "Overwriting myapp/Dockerfile\n"
          ]
        }
      ]
    },
    {
      "cell_type": "markdown",
      "source": [
        "#🏁 Part 4: Build and Run on Your Local Machine (outside Colab)\n",
        "You’ll need:\n",
        "\n",
        "Docker Desktop installed and running.\n",
        "\n",
        "Then, on your local terminal:"
      ],
      "metadata": {
        "id": "hup-H8t71IeW"
      }
    },
    {
      "cell_type": "code",
      "source": [
        "# Go to the project folder\n",
        "cd myapp\n",
        "\n",
        "# Build Docker image\n",
        "docker build -t fastapi-app .\n",
        "\n",
        "# Run the container\n",
        "docker run -d -p 8000:8000 fastapi-app\n"
      ],
      "metadata": {
        "id": "xOqsa7qG0JxZ",
        "colab": {
          "base_uri": "https://localhost:8080/",
          "height": 106
        },
        "outputId": "c6020f59-bf08-4462-f551-c99fe1091a8b"
      },
      "execution_count": 8,
      "outputs": [
        {
          "output_type": "error",
          "ename": "SyntaxError",
          "evalue": "invalid syntax (<ipython-input-8-397cecb1d4b5>, line 2)",
          "traceback": [
            "\u001b[0;36m  File \u001b[0;32m\"<ipython-input-8-397cecb1d4b5>\"\u001b[0;36m, line \u001b[0;32m2\u001b[0m\n\u001b[0;31m    cd myapp\u001b[0m\n\u001b[0m       ^\u001b[0m\n\u001b[0;31mSyntaxError\u001b[0m\u001b[0;31m:\u001b[0m invalid syntax\n"
          ]
        }
      ]
    },
    {
      "cell_type": "code",
      "source": [],
      "metadata": {
        "id": "pX6md5Kz1K_B"
      },
      "execution_count": null,
      "outputs": []
    }
  ]
}