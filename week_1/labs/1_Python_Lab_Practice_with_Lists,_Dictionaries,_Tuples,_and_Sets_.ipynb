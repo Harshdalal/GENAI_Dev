{
  "nbformat": 4,
  "nbformat_minor": 0,
  "metadata": {
    "colab": {
      "provenance": []
    },
    "kernelspec": {
      "name": "python3",
      "display_name": "Python 3"
    },
    "language_info": {
      "name": "python"
    }
  },
  "cells": [
    {
      "cell_type": "markdown",
      "source": [
        "#Python Lab: Practice with Lists, Dictionaries, Tuples, and Sets\n",
        "\n",
        "#🗂️ Dataset Context: You're building a simple app to manage customer orders for an online food delivery business."
      ],
      "metadata": {
        "id": "S8v6TDO-ImDB"
      }
    },
    {
      "cell_type": "markdown",
      "source": [
        "#✅ Lab Sections\n",
        "\n",
        "#📘 1. Lists: Managing Orders\n"
      ],
      "metadata": {
        "id": "cSaf8Do6IqKP"
      }
    },
    {
      "cell_type": "code",
      "execution_count": 10,
      "metadata": {
        "colab": {
          "base_uri": "https://localhost:8080/"
        },
        "id": "HC_FgzBWIizQ",
        "outputId": "20ffd36e-e489-4c58-ec75-ed843c21c2e3"
      },
      "outputs": [
        {
          "output_type": "stream",
          "name": "stdout",
          "text": [
            "['Alice - Pizza', 'Bob - Burger', 'Alice - Salad', 'David - Pizza', 'Eve - Pasta']\n"
          ]
        }
      ],
      "source": [
        "# Initial list of orders (each is a string: customer name and item)\n",
        "orders = [\n",
        "    \"Alice - Pizza\",\n",
        "    \"Bob - Burger\",\n",
        "    \"Alice - Salad\",\n",
        "    \"David - Pizza\",\n",
        "    \"Eve - Pasta\"\n",
        "]\n",
        "\n",
        "print(orders)\n"
      ]
    },
    {
      "cell_type": "code",
      "source": [
        "# ✅ TASKS:\n",
        "# a) Add a new order\n",
        "orders.append(\"Frank - Noodles\")\n",
        "\n",
        "# b) Remove an incorrect order\n",
        "orders.remove(\"Alice - Salad\")\n",
        "\n"
      ],
      "metadata": {
        "id": "Hm040R00JW9e"
      },
      "execution_count": 11,
      "outputs": []
    },
    {
      "cell_type": "code",
      "source": [
        "# c) Find all orders for \"Pizza\"\n",
        "pizza_orders = [order for order in orders if \"Pizza\" in order]\n",
        "\n",
        "# d) Print updated orders\n",
        "print(\"Updated Orders:\", orders)\n",
        "print(\"Pizza Orders:\", pizza_orders)"
      ],
      "metadata": {
        "colab": {
          "base_uri": "https://localhost:8080/"
        },
        "id": "booY0uybJYsh",
        "outputId": "2109eb3e-dcb6-4f66-8465-e293df75482c"
      },
      "execution_count": 12,
      "outputs": [
        {
          "output_type": "stream",
          "name": "stdout",
          "text": [
            "Updated Orders: ['Alice - Pizza', 'Bob - Burger', 'David - Pizza', 'Eve - Pasta', 'Frank - Noodles']\n",
            "Pizza Orders: ['Alice - Pizza', 'David - Pizza']\n"
          ]
        }
      ]
    },
    {
      "cell_type": "markdown",
      "source": [
        "#📘 2. Dictionaries: Tracking Customer Preferences"
      ],
      "metadata": {
        "id": "Bx6QWKvGIyIW"
      }
    },
    {
      "cell_type": "code",
      "source": [
        "# Dictionary to store favorite food per customer\n",
        "favorites = {\n",
        "    \"Alice\": \"Salad\",\n",
        "    \"Bob\": \"Burger\",\n",
        "    \"Eve\": \"Pasta\"\n",
        "}\n",
        "\n",
        "# ✅ TASKS:\n",
        "# a) Add a new favorite\n",
        "favorites[\"Frank\"] = \"Noodles\"\n",
        "\n",
        "\n"
      ],
      "metadata": {
        "id": "P0px9anVIupx"
      },
      "execution_count": 13,
      "outputs": []
    },
    {
      "cell_type": "code",
      "source": [
        "# b) Update Bob's favorite\n",
        "favorites[\"Bob\"] = \"Pizza\"\n",
        "\n",
        "# c) Print all customer favorites\n",
        "for customer, food in favorites.items():\n",
        "    print(f\"{customer}'s favorite is {food}\")"
      ],
      "metadata": {
        "colab": {
          "base_uri": "https://localhost:8080/"
        },
        "id": "4Rn5xfUMJcuI",
        "outputId": "5d70d04d-6a24-4ebf-b3bd-98da07e71890"
      },
      "execution_count": 14,
      "outputs": [
        {
          "output_type": "stream",
          "name": "stdout",
          "text": [
            "Alice's favorite is Salad\n",
            "Bob's favorite is Pizza\n",
            "Eve's favorite is Pasta\n",
            "Frank's favorite is Noodles\n"
          ]
        }
      ]
    },
    {
      "cell_type": "markdown",
      "source": [
        "#📘 3. Tuples: Store Location Coordinates"
      ],
      "metadata": {
        "id": "QNvzgX4XI1X3"
      }
    },
    {
      "cell_type": "code",
      "source": [
        "# Tuples to represent delivery coordinates (latitude, longitude)\n",
        "delivery_locations = {\n",
        "    \"Alice\": (22.5726, 88.3639),  # Kolkata\n",
        "    \"Bob\": (19.0760, 72.8777),    # Mumbai\n",
        "    \"Eve\": (28.6139, 77.2090)     # Delhi\n",
        "}\n",
        "\n",
        "# ✅ TASKS:\n",
        "# a) Access Bob's location\n",
        "print(\"Bob's location:\", delivery_locations[\"Bob\"])\n",
        "\n"
      ],
      "metadata": {
        "colab": {
          "base_uri": "https://localhost:8080/"
        },
        "id": "9qMXBaVYIzoq",
        "outputId": "ccfeeb3b-f6cc-4df4-dcab-09e1109c2371"
      },
      "execution_count": 15,
      "outputs": [
        {
          "output_type": "stream",
          "name": "stdout",
          "text": [
            "Bob's location: (19.076, 72.8777)\n"
          ]
        }
      ]
    },
    {
      "cell_type": "code",
      "source": [
        "# b) Iterate through all coordinates\n",
        "for customer, coord in delivery_locations.items():\n",
        "    print(f\"{customer} lives at coordinates: {coord}\")\n"
      ],
      "metadata": {
        "colab": {
          "base_uri": "https://localhost:8080/"
        },
        "id": "NE4bWu34JfVK",
        "outputId": "d87aa5f0-af0b-4f7a-87ec-8eb3930b16f7"
      },
      "execution_count": 16,
      "outputs": [
        {
          "output_type": "stream",
          "name": "stdout",
          "text": [
            "Alice lives at coordinates: (22.5726, 88.3639)\n",
            "Bob lives at coordinates: (19.076, 72.8777)\n",
            "Eve lives at coordinates: (28.6139, 77.209)\n"
          ]
        }
      ]
    },
    {
      "cell_type": "markdown",
      "source": [
        "#📘 4. Sets: Track Unique Dishes Ordered"
      ],
      "metadata": {
        "id": "OgSzoeL6I8bi"
      }
    },
    {
      "cell_type": "code",
      "source": [
        "# Orders from above again (just dish names)\n",
        "dish_orders = [\"Pizza\", \"Burger\", \"Salad\", \"Pizza\", \"Pasta\", \"Burger\", \"Noodles\"]\n",
        "\n",
        "# ✅ TASKS:\n",
        "# a) Get unique dishes\n",
        "unique_dishes = set(dish_orders)\n",
        "\n",
        "\n"
      ],
      "metadata": {
        "id": "ROoRv2jhI3ai"
      },
      "execution_count": 17,
      "outputs": []
    },
    {
      "cell_type": "code",
      "source": [
        "# b) Add a new dish\n",
        "unique_dishes.add(\"Sushi\")\n",
        "\n",
        "# c) Remove a dish no longer offered\n",
        "unique_dishes.discard(\"Salad\")\n",
        "\n",
        "print(\"Available Unique Dishes:\", unique_dishes)"
      ],
      "metadata": {
        "id": "9VjCVj6lJhaZ",
        "outputId": "e9f65199-988b-4abc-e1ba-571db745f11a",
        "colab": {
          "base_uri": "https://localhost:8080/"
        }
      },
      "execution_count": 18,
      "outputs": [
        {
          "output_type": "stream",
          "name": "stdout",
          "text": [
            "Available Unique Dishes: {'Pasta', 'Burger', 'Sushi', 'Pizza', 'Noodles'}\n"
          ]
        }
      ]
    },
    {
      "cell_type": "markdown",
      "source": [
        "#✅ Bonus Task: Combine Structures"
      ],
      "metadata": {
        "id": "J_FNFYyGJAQo"
      }
    },
    {
      "cell_type": "code",
      "source": [
        "print(\"\\n--- Summary Report ---\")\n",
        "for customer in favorites.keys():\n",
        "    fav = favorites[customer]\n",
        "    loc = delivery_locations.get(customer, (\"Unknown\", \"Unknown\"))\n",
        "    print(f\"{customer} loves {fav} and lives at {loc}\")\n"
      ],
      "metadata": {
        "colab": {
          "base_uri": "https://localhost:8080/"
        },
        "id": "9wRWfi76I-m_",
        "outputId": "55f3948e-ecfe-4ac0-84b9-e5462ed9113b"
      },
      "execution_count": 19,
      "outputs": [
        {
          "output_type": "stream",
          "name": "stdout",
          "text": [
            "\n",
            "--- Summary Report ---\n",
            "Alice loves Salad and lives at (22.5726, 88.3639)\n",
            "Bob loves Pizza and lives at (19.076, 72.8777)\n",
            "Eve loves Pasta and lives at (28.6139, 77.209)\n",
            "Frank loves Noodles and lives at ('Unknown', 'Unknown')\n"
          ]
        }
      ]
    },
    {
      "cell_type": "markdown",
      "source": [
        "#💡 Use Cases for Practice\n",
        "\n",
        "Lists → order management\n",
        "\n",
        "Dicts → customer profiles\n",
        "\n",
        "Tuples → GPS/locations\n",
        "\n",
        "Sets → menu analysis\n",
        "\n"
      ],
      "metadata": {
        "id": "YsNHAFilJEKI"
      }
    },
    {
      "cell_type": "code",
      "source": [],
      "metadata": {
        "id": "I2qCIPZfJB7T"
      },
      "execution_count": 19,
      "outputs": []
    }
  ]
}