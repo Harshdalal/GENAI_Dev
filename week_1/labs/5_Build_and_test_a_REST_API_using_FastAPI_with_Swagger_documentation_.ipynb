{
  "nbformat": 4,
  "nbformat_minor": 0,
  "metadata": {
    "colab": {
      "provenance": []
    },
    "kernelspec": {
      "name": "python3",
      "display_name": "Python 3"
    },
    "language_info": {
      "name": "python"
    }
  },
  "cells": [
    {
      "cell_type": "markdown",
      "source": [
        "#🚀 Goal\n",
        "You will:\n",
        "\n",
        "✅ Create a FastAPI app with REST endpoints.\n",
        "\n",
        "✅ Test it using Swagger UI (auto-generated docs).\n",
        "\n",
        "✅ Use ngrok to expose the API to public so you can test in browser.\n",
        "\n",
        "https://dashboard.ngrok.com/get-started/setup/windows"
      ],
      "metadata": {
        "id": "0u31RNpMeBd6"
      }
    },
    {
      "cell_type": "markdown",
      "source": [
        "#✅ Step-by-Step Guide for Google Colab"
      ],
      "metadata": {
        "id": "O83WVcaUeHLf"
      }
    },
    {
      "cell_type": "code",
      "execution_count": 5,
      "metadata": {
        "id": "L7XDSKtvSCAJ"
      },
      "outputs": [],
      "source": [
        "#🔹 Step 1: Install Required Libraries\n",
        "# FastAPI is used to build the REST API\n",
        "# Uvicorn is the ASGI server that runs FastAPI apps\n",
        "# pyngrok is used to expose the app over the internet from Colab\n",
        "\n",
        "!pip install fastapi uvicorn pyngrok nest-asyncio -q\n"
      ]
    },
    {
      "cell_type": "code",
      "source": [
        "#🔹 Step 2: Create the FastAPI App File\n",
        "# This creates a Python file containing our FastAPI app\n",
        "# %%writefile lets you write this code into a new file\n",
        "\n",
        "%%writefile main.py\n",
        "from fastapi import FastAPI\n",
        "from pydantic import BaseModel\n",
        "\n",
        "# Create an instance of FastAPI\n",
        "app = FastAPI()\n",
        "\n",
        "# Define a request body model using Pydantic for validation\n",
        "class Item(BaseModel):\n",
        "    name: str\n",
        "    price: float\n",
        "    quantity: int\n",
        "\n",
        "# Root endpoint\n",
        "@app.get(\"/\")\n",
        "def read_root():\n",
        "    return {\"message\": \"Welcome to the FastAPI app from Colab!\"}\n",
        "\n",
        "# GET endpoint with path parameter\n",
        "@app.get(\"/items/{item_id}\")\n",
        "def read_item(item_id: int):\n",
        "    return {\"item_id\": item_id, \"description\": \"This is a sample item\"}\n",
        "\n",
        "# POST endpoint to create an item\n",
        "@app.post(\"/items/\")\n",
        "def create_item(item: Item):\n",
        "    total_cost = item.price * item.quantity\n",
        "    return {\n",
        "        \"name\": item.name,\n",
        "        \"total_cost\": total_cost,\n",
        "        \"details\": item\n",
        "    }\n"
      ],
      "metadata": {
        "colab": {
          "base_uri": "https://localhost:8080/"
        },
        "id": "3tsmu54RZS4a",
        "outputId": "011698ce-a7d2-4252-f4a3-f22a670e734b"
      },
      "execution_count": 2,
      "outputs": [
        {
          "output_type": "stream",
          "name": "stdout",
          "text": [
            "Overwriting main.py\n"
          ]
        }
      ]
    },
    {
      "cell_type": "markdown",
      "source": [
        "#📝 Explanation:\n",
        "\n",
        "FastAPI() creates the app instance.\n",
        "\n",
        "@app.get, @app.post are decorators defining routes.\n",
        "\n",
        "BaseModel validates and structures incoming JSON data.\n",
        "\n",
        "Swagger UI auto-generates from this model and endpoints."
      ],
      "metadata": {
        "id": "Wi3AvuPueRA3"
      }
    },
    {
      "cell_type": "code",
      "source": [
        "#🔹 Step 3: Launch FastAPI in Colab\n",
        "\n",
        "\n",
        "# Install FastAPI, Uvicorn, PyNgrok, etc.\n",
        "!pip install fastapi uvicorn pyngrok nest-asyncio -q\n",
        "\n",
        "# Replace YOUR_AUTHTOKEN with the actual token from your Ngrok dashboard\n",
        "from pyngrok import ngrok\n",
        "\n",
        "ngrok.set_auth_token(\"2yGBZnB7ngE0P19IGz2Qf2DW2EW_3Bj4VstSQQiy16UdWqKvX\")  # ✅ IMPORTANT: Set token here\n"
      ],
      "metadata": {
        "id": "65pUouX0aukp"
      },
      "execution_count": 3,
      "outputs": []
    },
    {
      "cell_type": "code",
      "source": [
        "# Import the Uvicorn server that runs ASGI apps like FastAPI\n",
        "import uvicorn\n",
        "\n",
        "# Import nest_asyncio to allow async event loops in notebooks (Colab or Jupyter)\n",
        "import nest_asyncio\n",
        "\n",
        "# Allow nested asynchronous loops\n",
        "# This is necessary in Colab/Jupyter, otherwise Uvicorn throws a \"loop already running\" error\n",
        "nest_asyncio.apply()\n",
        "\n",
        "# Create a public tunnel to your local server running on port 8000\n",
        "# ngrok.connect(8000) returns a NgrokTunnel object\n",
        "# This allows people outside your Colab session to access your FastAPI app\n",
        "public_url = ngrok.connect(8000)\n",
        "\n",
        "# Extract the public URL and append `/docs` to show the Swagger UI\n",
        "# .public_url is used to get the string version of the URL (e.g., https://xyz.ngrok.io)\n",
        "print(\"🔗 Swagger UI:\", public_url.public_url + \"/docs\")\n",
        "\n",
        "\n",
        "# Start the FastAPI application using uvicorn\n",
        "# \"main:app\" tells Uvicorn to run the \"app\" object inside the file named \"main.py\"\n",
        "# host=\"0.0.0.0\" makes it accessible to external systems (required for ngrok)\n",
        "# port=8000 is the port being tunneled by ngrok\n",
        "uvicorn.run(\"main:app\", host=\"0.0.0.0\", port=8000)\n"
      ],
      "metadata": {
        "colab": {
          "base_uri": "https://localhost:8080/"
        },
        "id": "rxuT0HFCay2W",
        "outputId": "7e4e56c8-2b85-47f8-851b-40be1bb4faac"
      },
      "execution_count": 4,
      "outputs": [
        {
          "output_type": "stream",
          "name": "stdout",
          "text": [
            "🔗 Swagger UI: https://dc60-34-83-68-140.ngrok-free.app/docs\n"
          ]
        },
        {
          "output_type": "stream",
          "name": "stderr",
          "text": [
            "INFO:     Started server process [4784]\n",
            "INFO:     Waiting for application startup.\n",
            "INFO:     Application startup complete.\n",
            "INFO:     Uvicorn running on http://0.0.0.0:8000 (Press CTRL+C to quit)\n"
          ]
        },
        {
          "output_type": "stream",
          "name": "stdout",
          "text": [
            "INFO:     14.194.129.178:0 - \"GET /docs HTTP/1.1\" 200 OK\n",
            "INFO:     14.194.129.178:0 - \"GET /openapi.json HTTP/1.1\" 200 OK\n",
            "INFO:     14.194.129.178:0 - \"POST /items/ HTTP/1.1\" 200 OK\n"
          ]
        },
        {
          "output_type": "stream",
          "name": "stderr",
          "text": [
            "INFO:     Shutting down\n",
            "INFO:     Waiting for application shutdown.\n",
            "INFO:     Application shutdown complete.\n",
            "INFO:     Finished server process [4784]\n"
          ]
        }
      ]
    },
    {
      "cell_type": "markdown",
      "source": [
        "| Line                              | What it does               | Why it's needed in Colab                      |\n",
        "| --------------------------------- | -------------------------- | --------------------------------------------- |\n",
        "| `nest_asyncio.apply()`            | Fixes asyncio conflicts    | Colab already runs an event loop              |\n",
        "| `ngrok.connect(8000)`             | Opens public access        | Colab doesn’t allow incoming HTTP natively    |\n",
        "| `public_url.public_url + \"/docs\"` | Builds the Swagger UI link | FastAPI auto-generates Swagger docs           |\n",
        "| `uvicorn.run(\"main:app\", ...)`    | Runs the app               | Required to actually start the FastAPI server |\n"
      ],
      "metadata": {
        "id": "qt5BPFzCfTFR"
      }
    },
    {
      "cell_type": "markdown",
      "source": [
        "#✅ Now Open Swagger UI\n",
        "Click the URL printed like:"
      ],
      "metadata": {
        "id": "u5vepUN1ecZ9"
      }
    },
    {
      "cell_type": "markdown",
      "source": [
        "You’ll see:\n",
        "\n",
        "GET /: Hello message\n",
        "\n",
        "GET /items/{item_id}: Returns sample item\n",
        "\n",
        "POST /items/: Create an item by sending JSON like:\n",
        "\n",
        "json\n",
        "Copy\n",
        "Edit\n"
      ],
      "metadata": {
        "id": "X7zP125-egxL"
      }
    },
    {
      "cell_type": "code",
      "source": [
        "{\n",
        "  \"name\": \"Laptop\",\n",
        "  \"price\": 50000,\n",
        "  \"quantity\": 2\n",
        "}\n"
      ],
      "metadata": {
        "colab": {
          "base_uri": "https://localhost:8080/"
        },
        "id": "equWw0lzZWyW",
        "outputId": "55d06ea2-6b78-4dc6-aa7a-8b58f36e8b14"
      },
      "execution_count": 6,
      "outputs": [
        {
          "output_type": "execute_result",
          "data": {
            "text/plain": [
              "{'name': 'Laptop', 'price': 50000, 'quantity': 2}"
            ]
          },
          "metadata": {},
          "execution_count": 6
        }
      ]
    },
    {
      "cell_type": "markdown",
      "source": [
        "| Command/Syntax          | Reason                                        |\n",
        "| ----------------------- | --------------------------------------------- |\n",
        "| `FastAPI()`             | Create the web API app                        |\n",
        "| `@app.get`, `@app.post` | Decorators to create endpoints                |\n",
        "| `BaseModel`             | Validates request body using typed attributes |\n",
        "| `uvicorn.run(...)`      | Starts the app server                         |\n",
        "| `nest_asyncio.apply()`  | Allows async loop inside Colab                |\n",
        "| `ngrok.connect()`       | Tunnels your Colab port to the web            |\n",
        "| `/docs`                 | Auto-generated Swagger UI for your API        |\n"
      ],
      "metadata": {
        "id": "vdXIdpYOek9n"
      }
    },
    {
      "cell_type": "markdown",
      "source": [
        "#🔁 Optional Enhancements\n",
        "Add error handling using HTTPException.\n",
        "\n",
        "Add PUT and DELETE routes.\n",
        "\n",
        "Connect to a database (like SQLite or Firebase).\n",
        "\n",
        "Save JSON data to file (for persistence in-memory).\n",
        "\n"
      ],
      "metadata": {
        "id": "RDo4auiEen_D"
      }
    },
    {
      "cell_type": "code",
      "source": [],
      "metadata": {
        "id": "EEoGC6c4eio1"
      },
      "execution_count": null,
      "outputs": []
    }
  ]
}