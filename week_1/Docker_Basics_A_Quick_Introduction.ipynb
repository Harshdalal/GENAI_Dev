{
  "nbformat": 4,
  "nbformat_minor": 0,
  "metadata": {
    "colab": {
      "provenance": []
    },
    "kernelspec": {
      "name": "python3",
      "display_name": "Python 3"
    },
    "language_info": {
      "name": "python"
    }
  },
  "cells": [
    {
      "cell_type": "markdown",
      "source": [
        "#Docker Basics: A Quick Introduction\n",
        "\n",
        "#📦 1. What is Docker?\n",
        "Docker is a platform that allows developers to build, package, and run applications inside lightweight containers.\n",
        "\n",
        "#✅ Benefits:\n",
        "Run apps in isolated environments\n",
        "\n",
        "Consistent across development, testing, and production\n",
        "\n",
        "Portable and scalable\n",
        "\n",
        "#⚖️ 2. Containers vs Virtual Machines (VMs)\n",
        "\n",
        "| Feature           | Containers                   | Virtual Machines               |\n",
        "| ----------------- | ---------------------------- | ------------------------------ |\n",
        "| Abstraction Level | OS-level                     | Hardware-level                 |\n",
        "| Size              | Lightweight (MBs)            | Heavyweight (GBs)              |\n",
        "| Startup Time      | Seconds                      | Minutes                        |\n",
        "| Resource Usage    | Low                          | High                           |\n",
        "| OS Dependency     | Shares host kernel           | Has its own OS                 |\n",
        "| Use Case          | Microservices, DevOps, CI/CD | Full OS isolation, legacy apps |\n"
      ],
      "metadata": {
        "id": "gy9aVsZQM5_V"
      }
    },
    {
      "cell_type": "markdown",
      "source": [
        "#🛠️ 3. Key Docker Concepts\n",
        "\n",
        "| Term             | Description                                                         |\n",
        "| ---------------- | ------------------------------------------------------------------- |\n",
        "| **Image**        | A snapshot or template to create containers (built from Dockerfile) |\n",
        "| **Container**    | A running instance of an image                                      |\n",
        "| **Dockerfile**   | Script to define how to build an image                              |\n",
        "| **Volume**       | Persistent storage for containers                                   |\n",
        "| **Port Mapping** | Exposing container ports to host (e.g. `-p 5000:5000`)              |\n"
      ],
      "metadata": {
        "id": "zeAvWDULNEkE"
      }
    },
    {
      "cell_type": "markdown",
      "source": [
        "#📄 4. Creating a Dockerfile for a Python App\n",
        "A Dockerfile is a script containing instructions to build an image.\n",
        "\n",
        "📌 Example Python app: app.py"
      ],
      "metadata": {
        "id": "JzvrutqLNI8x"
      }
    },
    {
      "cell_type": "code",
      "execution_count": null,
      "metadata": {
        "id": "MU92a7jKJSld"
      },
      "outputs": [],
      "source": [
        "# app.py\n",
        "print(\"Hello from inside a Docker container!\")\n"
      ]
    },
    {
      "cell_type": "markdown",
      "source": [
        "📌 Dockerfile:"
      ],
      "metadata": {
        "id": "g0G0-7byNSrM"
      }
    },
    {
      "cell_type": "code",
      "source": [
        "#dockerfile source\n",
        "\n",
        "# Use an official Python base image\n",
        "FROM python:3.10\n",
        "\n",
        "# Set working directory inside the container\n",
        "WORKDIR /app\n",
        "\n",
        "# Copy all files from current dir to /app in container\n",
        "COPY . .\n",
        "\n",
        "# Command to run when container starts\n",
        "CMD [\"python\", \"app.py\"]\n"
      ],
      "metadata": {
        "id": "AZ35XixJNK_O"
      },
      "execution_count": null,
      "outputs": []
    },
    {
      "cell_type": "markdown",
      "source": [
        "# Running Web Apps in Docker (Flask Example)\n",
        "Example: app.py with Flask"
      ],
      "metadata": {
        "id": "Xt3r7HZNN_pr"
      }
    },
    {
      "cell_type": "code",
      "source": [
        "from flask import Flask\n",
        "\n",
        "app = Flask(__name__)\n",
        "\n",
        "@app.route('/')\n",
        "def home():\n",
        "    return \"Flask App Running in Docker!\"\n",
        "\n",
        "if __name__ == \"__main__\":\n",
        "    app.run(host=\"0.0.0.0\", port=5000)\n"
      ],
      "metadata": {
        "id": "Xl0UKZ3qOBFO"
      },
      "execution_count": null,
      "outputs": []
    },
    {
      "cell_type": "code",
      "source": [
        "#dockerfile\n",
        "\n",
        "FROM python:3.10\n",
        "\n",
        "WORKDIR /app\n",
        "\n",
        "COPY . .\n",
        "\n",
        "# Install Flask\n",
        "RUN pip install flask\n",
        "\n",
        "EXPOSE 5000\n",
        "\n",
        "CMD [\"python\", \"app.py\"]\n"
      ],
      "metadata": {
        "id": "ATh1GnKNOC_Y"
      },
      "execution_count": null,
      "outputs": []
    },
    {
      "cell_type": "markdown",
      "source": [
        "#Useful Docker Commands\n",
        "\n",
        "| Command                            | Description                             |\n",
        "| ---------------------------------- | --------------------------------------- |\n",
        "| `docker ps`                        | Show running containers                 |\n",
        "| `docker ps -a`                     | Show all containers (including stopped) |\n",
        "| `docker images`                    | List images                             |\n",
        "| `docker stop <container_id>`       | Stop a running container                |\n",
        "| `docker rm <container_id>`         | Remove a container                      |\n",
        "| `docker rmi <image_id>`            | Remove an image                         |\n",
        "| `docker exec -it <container> bash` | Open bash terminal inside container     |\n"
      ],
      "metadata": {
        "id": "X6dxzAfGNmXO"
      }
    },
    {
      "cell_type": "markdown",
      "source": [
        "#✅ Summary\n",
        "\n",
        "| Topic          | Summary                                      |\n",
        "| -------------- | -------------------------------------------- |\n",
        "| Docker vs VMs  | Containers are lighter, faster, and share OS |\n",
        "| Dockerfile     | Blueprint for building Docker images         |\n",
        "| `docker build` | Creates image from Dockerfile                |\n",
        "| `docker run`   | Launches a container                         |\n",
        "| Web apps       | Use Flask, expose ports                      |\n"
      ],
      "metadata": {
        "id": "Tn8ngU3ENpvZ"
      }
    },
    {
      "cell_type": "code",
      "source": [],
      "metadata": {
        "id": "T-Vt1pjbNUd7"
      },
      "execution_count": null,
      "outputs": []
    }
  ]
}