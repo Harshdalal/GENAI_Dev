{
  "cells": [
    {
      "cell_type": "markdown",
      "metadata": {
        "id": "9Y-PAk79lGIH"
      },
      "source": [
        "# Python Assignment: Model Deployment with Streamlit\n",
        "\n",
        "This assignment challenges you to go beyond just training a machine learning model. You will train a simple model, save it, and then deploy it as an interactive web application using Streamlit. This will demonstrate your ability to create user-friendly interfaces for your machine learning solutions."
      ]
    },
    {
      "cell_type": "markdown",
      "metadata": {
        "id": "Mf--HJf4lGIK"
      },
      "source": [
        "## Part 1: Model Training and Saving (30 points)\n",
        "\n",
        "First, you'll create a simple dataset, train a basic machine learning model, and then save it for later use in your Streamlit app."
      ]
    },
    {
      "cell_type": "code",
      "execution_count": null,
      "metadata": {
        "id": "aQ0hFWVDlGIK"
      },
      "outputs": [],
      "source": [
        "import numpy as np\n",
        "import pandas as pd\n",
        "from sklearn.model_selection import train_test_split\n",
        "from sklearn.linear_model import LinearRegression\n",
        "from sklearn.metrics import mean_squared_error, r2_score\n",
        "import joblib # For saving/loading the model\n",
        "\n",
        "np.random.seed(42) # for reproducibility\n",
        "\n",
        "# 1.1 Generate Synthetic Dataset\n",
        "#    Create a synthetic dataset with at least 3 features (X) and one target variable (y).\n",
        "#    The relationship between X and y should be somewhat linear, but add some noise.\n",
        "#    - `n_samples`: 500\n",
        "#    - `n_features`: 3\n",
        "#    Example: y = 2*x1 + 3*x2 - 1*x3 + noise\n",
        "\n",
        "# Your data generation code here\n",
        "X = # ... generate your features\n",
        "y = # ... generate your target\n",
        "\n",
        "print(\"X shape:\", X.shape)\n",
        "print(\"y shape:\", y.shape)\n",
        "\n",
        "# 1.2 Train a Regression Model\n",
        "#    Split your data into training and testing sets (e.g., 80% train, 20% test).\n",
        "#    Train a `LinearRegression` model from `sklearn.linear_model` on your training data.\n",
        "#    Evaluate the model on the test set using Mean Squared Error (MSE) and R-squared (R2 Score).\n",
        "#    Print the evaluation metrics.\n",
        "\n",
        "# Your data splitting and model training code here\n",
        "X_train, X_test, y_train, y_test = # ... split data\n",
        "model = # ... initialize and train your model\n",
        "\n",
        "# Your model evaluation code here\n",
        "y_pred = # ... make predictions\n",
        "mse = # ... calculate MSE\n",
        "r2 = # ... calculate R2\n",
        "\n",
        "print(f\"\\nModel Evaluation:\")\n",
        "print(f\"Mean Squared Error: {mse:.4f}\")\n",
        "print(f\"R-squared: {r2:.4f}\")\n",
        "\n",
        "# 1.3 Save the Trained Model\n",
        "#    Save your trained `LinearRegression` model to a file named `linear_regression_model.joblib`\n",
        "#    using `joblib.dump()`.\n",
        "\n",
        "# Your model saving code here\n",
        "# joblib.dump(model, 'linear_regression_model.joblib')\n",
        "print(\"\\nModel saved successfully as linear_regression_model.joblib\")\n"
      ]
    },
    {
      "cell_type": "markdown",
      "metadata": {
        "id": "qrklAdlYlGIM"
      },
      "source": [
        "## Part 2: Streamlit Web App Development (50 points)\n",
        "\n",
        "Now, you will create a Streamlit application (`app.py`) that loads your saved model and provides an interactive interface for making predictions. **Note: This part needs to be done in a separate Python file (`app.py`) in the same directory as your saved model.** You will only write the conceptual code here, and then you'll need to create the actual `app.py` file."
      ]
    },
    {
      "cell_type": "markdown",
      "metadata": {
        "id": "s0l7zg56lGIN"
      },
      "source": [
        "### Instructions for `app.py` (Do NOT execute this cell. This is conceptual code for your `app.py` file.)\n",
        "\n",
        "Create a new file named `app.py` in the same directory where you saved `linear_regression_model.joblib`. Populate `app.py` with the following conceptual structure, filling in the `TODO` sections.\n",
        "\n",
        "```python\n",
        "import streamlit as st\n",
        "import joblib\n",
        "import numpy as np\n",
        "\n",
        "# 2.1 Load the Trained Model\n",
        "#    Load your saved linear regression model using joblib.load().\n",
        "\n",
        "model = # TODO: Load your model here\n",
        "\n",
        "# 2.2 Create the Streamlit App Layout\n",
        "#    Set the title of your app.\n",
        "#    Add a brief introduction/description.\n",
        "\n",
        "st.title(\"TODO: Your App Title Here\")\n",
        "st.write(\"TODO: A brief description of your app and model.\")\n",
        "\n",
        "# 2.3 Add Interactive Input Widgets\n",
        "#    For each feature in your model (you generated 3 features), create an interactive Streamlit widget.\n",
        "#    Use appropriate widgets: `st.slider`, `st.number_input`, etc.\n",
        "#    Provide meaningful labels and default/min/max values for each widget.\n",
        "\n",
        "st.sidebar.header(\"Input Features\")\n",
        "\n",
        "feature1 = # TODO: st.slider or st.number_input for Feature 1\n",
        "feature2 = # TODO: st.slider or st.number_input for Feature 2\n",
        "feature3 = # TODO: st.slider or st.number_input for Feature 3\n",
        "\n",
        "# 2.4 Create a Prediction Button and Display Results\n",
        "#    When a button is clicked, collect the input values, format them correctly for your model,\n",
        "#    make a prediction, and display the result.\n",
        "\n",
        "if st.button(\"Predict\"):\n",
        "    # TODO: Combine inputs into a numpy array, reshape for model prediction (e.g., np.array([[f1, f2, f3]]))\n",
        "    input_data = # TODO: Create input array\n",
        "    \n",
        "    # Make prediction\n",
        "    prediction = model.predict(input_data)[0]\n",
        "    \n",
        "    st.success(f\"The predicted value is: {prediction:.2f}\")\n",
        "\n",
        "# 2.5 (Optional but Recommended) Add Basic Error Handling or Information\n",
        "#    You can add a section to explain the model, its limitations, or provide instructions.\n",
        "#    Consider adding basic input validation if relevant (e.g., checking for valid ranges).\n",
        "\n",
        "st.markdown(\"\"\"\n",
        "### About This App\n",
        "This app demonstrates a simple linear regression model deployed with Streamlit.\n",
        "It predicts a target value based on three input features.\n",
        "\n",
        "**Note:** This is a synthetic example and not based on real-world data.\n",
        "\"\"\")\n",
        "```\n"
      ]
    },
    {
      "cell_type": "markdown",
      "metadata": {
        "id": "mTv_iZullGIO"
      },
      "source": [
        "## Part 3: Deployment & Reflection (20 points)\n",
        "\n",
        "Once you have created your `app.py` file, you'll run it locally and reflect on the process."
      ]
    },
    {
      "cell_type": "markdown",
      "metadata": {
        "id": "kin6zksKlGIP"
      },
      "source": [
        "**3.1 Run Your Streamlit App**\n",
        "\n",
        "Open your terminal or command prompt, navigate to the directory where you saved `app.py` and `linear_regression_model.joblib`, and run the following command:\n",
        "\n",
        "```bash\n",
        "streamlit run app.py\n",
        "```\n",
        "\n",
        "Confirm that your app opens in your web browser and that you can interact with the widgets and get predictions.\n",
        "\n",
        "**3.2 Reflection Questions**\n",
        "\n",
        "Answer the following questions in a markdown cell below:\n",
        "\n",
        "1.  **What were the main challenges you faced while developing the Streamlit app?** (e.g., setting up environment, widget usage, data formatting for prediction)\n",
        "\n",
        "2.  **How does Streamlit simplify the process of creating web applications for ML models compared to traditional web frameworks (like Flask or Django)?** (Focus on ease of use and development speed)\n",
        "\n",
        "3.  **Suggest two potential improvements or additional features you could add to your Streamlit app to make it more robust or user-friendly.**\n"
      ]
    },
    {
      "cell_type": "markdown",
      "metadata": {
        "id": "Cg-qsfMGlGIP"
      },
      "source": [
        "### Your Answers to Reflection Questions:\n",
        "\n",
        "1.  *(Your answer to Challenge 1)*\n",
        "\n",
        "2.  *(Your answer to Streamlit Simplification)*\n",
        "\n",
        "3.  *(Your answer to Potential Improvements)*\n"
      ]
    },
    {
      "cell_type": "markdown",
      "metadata": {
        "id": "H1bg8FLSlGIP"
      },
      "source": [
        "## Deliverables:\n",
        "\n",
        "1.  This completed Jupyter Notebook (`streamlit_deployment_assignment.ipynb`) with all code cells executed and reflection questions answered.\n",
        "2.  The `app.py` file containing your Streamlit application code.\n",
        "3.  The `linear_regression_model.joblib` file containing your saved model."
      ]
    }
  ],
  "metadata": {
    "kernelspec": {
      "display_name": "Python 3",
      "language": "python",
      "name": "python3"
    },
    "language_info": {
      "codemirror_mode": {
        "name": "ipython",
        "version": 3
      },
      "file_extension": ".py",
      "mimetype": "text/x-python",
      "name": "python",
      "nbconvert_exporter": "python",
      "pygments_lexer": "ipython3",
      "version": "3.9.7"
    },
    "colab": {
      "provenance": []
    }
  },
  "nbformat": 4,
  "nbformat_minor": 0
}