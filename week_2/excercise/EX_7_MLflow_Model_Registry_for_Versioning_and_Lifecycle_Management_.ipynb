{
  "cells": [
    {
      "cell_type": "markdown",
      "metadata": {
        "id": "G1hBwPZsoJdX"
      },
      "source": [
        "#Python Assignment: MLflow Model Registry for Versioning and Lifecycle Management\n",
        "\n",
        "This assignment will guide you through the critical process of managing machine learning model versions and their lifecycle using MLflow's Model Registry. You will learn to register models, create new versions, transition them through different stages (Staging, Production), and load specific versions or stages for deployment. This is a fundamental concept in MLOps for ensuring traceability, reproducibility, and controlled deployment of models."
      ]
    },
    {
      "cell_type": "markdown",
      "metadata": {
        "id": "LjsNJqHZoJdZ"
      },
      "source": [
        "## Part 1: Initial Model Training and Registration (30 points)\n",
        "\n",
        "We'll start by training a simple model and registering its first version in the MLflow Model Registry."
      ]
    },
    {
      "cell_type": "code",
      "execution_count": null,
      "metadata": {
        "id": "DNv7ig3_oJdZ"
      },
      "outputs": [],
      "source": [
        "# 1.1 Install MLflow and other necessary libraries\n",
        "# Run this cell once to ensure you have the required packages.\n",
        "# !pip install mlflow scikit-learn pandas\n",
        "\n",
        "import mlflow\n",
        "import mlflow.sklearn\n",
        "import pandas as pd\n",
        "import numpy as np\n",
        "from sklearn.model_selection import train_test_split\n",
        "from sklearn.linear_model import LinearRegression\n",
        "from sklearn.metrics import mean_squared_error, r2_score\n",
        "from sklearn.datasets import make_regression\n",
        "import warnings\n",
        "\n",
        "warnings.filterwarnings(\"ignore\") # Suppress warnings for cleaner output\n",
        "np.random.seed(42)\n",
        "\n",
        "# Set a tracking URI (e.g., to a local 'mlruns' directory)\n",
        "# For this assignment, we'll use a local folder. You can also point to a remote MLflow server.\n",
        "mlflow.set_tracking_uri(\"file:///tmp/mlruns_model_registry\") # Using a unique temporary directory\n",
        "\n",
        "# Define a consistent experiment name for all runs in this assignment\n",
        "experiment_name = \"Model_Registry_Assignment\"\n",
        "mlflow.set_experiment(experiment_name)\n",
        "\n",
        "print(f\"MLflow Tracking URI: {mlflow.get_tracking_uri()}\")\n",
        "print(f\"Active Experiment: {experiment_name}\")\n",
        "\n",
        "# 1.2 Generate Dataset\n",
        "#    Generate a synthetic regression dataset similar to the previous assignment.\n",
        "#    - `n_samples`: 1000\n",
        "#    - `n_features`: 5 (3 informative, 2 noisy)\n",
        "X, y = make_regression(n_samples=1000, n_features=5, n_informative=3, noise=10, random_state=42)\n",
        "X_train, X_test, y_train, y_test = train_test_split(X, y, test_size=0.2, random_state=42)\n",
        "\n",
        "print(f\"Dataset X shape: {X.shape}, y shape: {y.shape}\")\n",
        "\n",
        "# 1.3 Train and Register the First Model Version\n",
        "#    Train a `LinearRegression` model.\n",
        "#    Log its parameters (`fit_intercept`), metrics (`rmse`, `r2_score`), and the model itself.\n",
        "#    Crucially, **register this model** to the MLflow Model Registry with the name \"RegressionModel\".\n",
        "#    Use `mlflow.sklearn.log_model(..., registered_model_name=\"RegressionModel\")`.\n",
        "\n",
        "model_name = \"RegressionModel\"\n",
        "\n",
        "print(f\"\\n--- Training and Registering Initial Model ({model_name}) ---\")\n",
        "with mlflow.start_run(run_name=\"LR_V1_Initial\") as run:\n",
        "    lr_model_v1 = LinearRegression(fit_intercept=True)\n",
        "    lr_model_v1.fit(X_train, y_train)\n",
        "\n",
        "    # Log parameters\n",
        "    mlflow.log_param(\"model_type\", \"LinearRegression\")\n",
        "    mlflow.log_param(\"fit_intercept\", lr_model_v1.fit_intercept)\n",
        "\n",
        "    # Evaluate and log metrics\n",
        "    lr_predictions_v1 = lr_model_v1.predict(X_test)\n",
        "    lr_rmse_v1 = np.sqrt(mean_squared_error(y_test, lr_predictions_v1))\n",
        "    lr_r2_v1 = r2_score(y_test, lr_predictions_v1)\n",
        "    mlflow.log_metric(\"rmse\", lr_rmse_v1)\n",
        "    mlflow.log_metric(\"r2_score\", lr_r2_v1)\n",
        "\n",
        "    # Register the model\n",
        "    print(f\"  Registering '{model_name}' Version 1...\")\n",
        "    run_id_v1 = run.info.run_id\n",
        "    mlflow.sklearn.log_model(\n",
        "        sk_model=lr_model_v1,\n",
        "        artifact_path=\"model\",\n",
        "        registered_model_name=model_name,\n",
        "        tags={\"description\": \"Initial Linear Regression model\"}\n",
        "    )\n",
        "\n",
        "    print(f\"  RMSE (V1): {lr_rmse_v1:.4f}\")\n",
        "    print(f\"  R2 Score (V1): {lr_r2_v1:.4f}\")\n",
        "    print(f\"  Model '{model_name}' (Version 1) registered in run {run_id_v1}.\")\n"
      ]
    },
    {
      "cell_type": "markdown",
      "metadata": {
        "id": "P6uJNFl9oJdb"
      },
      "source": [
        "## Part 2: Training a New Version and Updating Registration (25 points)\n",
        "\n",
        "Now, simulate a scenario where you train an improved (or different) model and register it as a new version under the *same* model name. This demonstrates how MLflow automatically handles versioning."
      ]
    },
    {
      "cell_type": "code",
      "execution_count": null,
      "metadata": {
        "id": "l880hhp8oJdb"
      },
      "outputs": [],
      "source": [
        "from sklearn.ensemble import RandomForestRegressor\n",
        "\n",
        "# 2.1 Train and Register a Second Model Version\n",
        "#    Train a `RandomForestRegressor` model (often performs better than Linear Regression).\n",
        "#    Log its parameters (e.g., `n_estimators`, `max_depth`), metrics (`rmse`, `r2_score`).\n",
        "#    **Register this model** under the *same name* \"RegressionModel\". MLflow will automatically create a new version.\n",
        "\n",
        "print(f\"\\n--- Training and Registering New Model Version ({model_name}) ---\")\n",
        "with mlflow.start_run(run_name=\"RF_V2_Improved\") as run:\n",
        "    # Initialize and train a RandomForestRegressor model with chosen hyperparameters\n",
        "    # Use different hyperparameters to ensure it's a distinct model\n",
        "    rf_model_v2 = RandomForestRegressor(n_estimators=150, max_depth=10, random_state=42)\n",
        "    rf_model_v2.fit(X_train, y_train)\n",
        "\n",
        "    # Log parameters\n",
        "    mlflow.log_param(\"model_type\", \"RandomForestRegressor\")\n",
        "    mlflow.log_param(\"n_estimators\", rf_model_v2.n_estimators)\n",
        "    mlflow.log_param(\"max_depth\", rf_model_v2.max_depth)\n",
        "\n",
        "    # Evaluate and log metrics\n",
        "    rf_predictions_v2 = rf_model_v2.predict(X_test)\n",
        "    rf_rmse_v2 = np.sqrt(mean_squared_error(y_test, rf_predictions_v2))\n",
        "    rf_r2_v2 = r2_score(y_test, rf_predictions_v2)\n",
        "    mlflow.log_metric(\"rmse\", rf_rmse_v2)\n",
        "    mlflow.log_metric(\"r2_score\", rf_r2_v2)\n",
        "\n",
        "    # Register the model - this will create a new version (Version 2)\n",
        "    print(f\"  Registering '{model_name}' Version 2...\")\n",
        "    run_id_v2 = run.info.run_id\n",
        "    mlflow.sklearn.log_model(\n",
        "        sk_model=rf_model_v2,\n",
        "        artifact_path=\"model\",\n",
        "        registered_model_name=model_name,\n",
        "        tags={\"description\": \"Improved RandomForest model\"}\n",
        "    )\n",
        "\n",
        "    print(f\"  RMSE (V2): {rf_rmse_v2:.4f}\")\n",
        "    print(f\"  R2 Score (V2): {rf_r2_v2:.4f}\")\n",
        "    print(f\"  Model '{model_name}' (Version 2) registered in run {run_id_v2}.\")\n"
      ]
    },
    {
      "cell_type": "markdown",
      "metadata": {
        "id": "YNCi68bYoJdc"
      },
      "source": [
        "## Part 3: Model Staging and Transitioning (25 points)\n",
        "\n",
        "Model stages help manage the lifecycle of a model from development to production. You'll use `MlflowClient` to transition models through these stages. Ensure you have the MLflow UI running in a separate terminal (`mlflow ui --backend-store-uri file:///tmp/mlruns_model_registry`) to observe these changes."
      ]
    },
    {
      "cell_type": "code",
      "execution_count": null,
      "metadata": {
        "id": "o7YI4ASLoJdc"
      },
      "outputs": [],
      "source": [
        "from mlflow.tracking import MlflowClient\n",
        "\n",
        "client = MlflowClient()\n",
        "\n",
        "# 3.1 Inspect Registered Models\n",
        "#    Use `client.search_model_versions` to programmatically inspect the registered models and their initial stages.\n",
        "\n",
        "print(f\"\\n--- Inspecting Registered Model '{model_name}' Current Stages ---\")\n",
        "for mv in client.search_model_versions(f\"name='{model_name}'\"):\n",
        "    print(f\"  Version: {mv.version}, Stage: {mv.current_stage}, Run ID: {mv.run_id[:8]}...\")\n",
        "\n",
        "\n",
        "# 3.2 Transition Model Stages\n",
        "#    Transition Version 1 (Linear Regression) to 'Archived'.\n",
        "#    Transition Version 2 (Random Forest) to 'Staging'.\n",
        "#    Then, transition Version 2 from 'Staging' to 'Production'.\n",
        "#    Confirm the stages in the MLflow UI after each transition.\n",
        "\n",
        "print(f\"\\n--- Transitioning Stages for '{model_name}' ---\")\n",
        "\n",
        "print(f\"  Transitioning Version 1 to Archived...\")\n",
        "client.transition_model_version_stage(\n",
        "    name=model_name,\n",
        "    version=1,\n",
        "    stage=\"Archived\",\n",
        "    archive_existing_versions=False # Set to True if you want to archive any other models in this stage\n",
        ")\n",
        "print(f\"  Model '{model_name}' Version 1 transitioned to Archived.\")\n",
        "\n",
        "\n",
        "print(f\"  Transitioning Version 2 to Staging...\")\n",
        "client.transition_model_version_stage(\n",
        "    name=model_name,\n",
        "    version=2,\n",
        "    stage=\"Staging\",\n",
        "    archive_existing_versions=False\n",
        ")\n",
        "print(f\"  Model '{model_name}' Version 2 transitioned to Staging.\")\n",
        "\n",
        "\n",
        "print(f\"  Transitioning Version 2 to Production...\")\n",
        "client.transition_model_version_stage(\n",
        "    name=model_name,\n",
        "    version=2,\n",
        "    stage=\"Production\",\n",
        "    archive_existing_versions=False # If you had a different model in Production, this would archive it.\n",
        ")\n",
        "print(f\"  Model '{model_name}' Version 2 transitioned to Production.\")\n",
        "\n",
        "# Verify states after transitions\n",
        "print(f\"\\n--- Final Stages for '{model_name}' ---\")\n",
        "for mv in client.search_model_versions(f\"name='{model_name}'\"):\n",
        "    print(f\"  Version: {mv.version}, Stage: {mv.current_stage}\")\n"
      ]
    },
    {
      "cell_type": "markdown",
      "metadata": {
        "id": "lJGkOTVpoJdc"
      },
      "source": [
        "## Part 4: Loading Specific Model Versions/Stages (10 points)\n",
        "\n",
        "Demonstrate how to load models based on their version number and their current stage, which is crucial for deployment pipelines."
      ]
    },
    {
      "cell_type": "code",
      "execution_count": null,
      "metadata": {
        "id": "YbIBUREOoJdc"
      },
      "outputs": [],
      "source": [
        "# Create a new data point for prediction (must have same number of features as training data)\n",
        "new_data_point = np.array([[0.1, 0.2, 0.3, 0.4, 0.5]])\n",
        "\n",
        "print(\"\\n--- Loading Models by Version and Stage ---\")\n",
        "\n",
        "try:\n",
        "    # 4.1 Load Model by Version Number\n",
        "    #    Load \"RegressionModel\" Version 1 (the Linear Regression model).\n",
        "    #    Make a prediction and print it.\n",
        "    print(f\"Loading '{model_name}' Version 1 (Archived)...\")\n",
        "    loaded_model_v1 = mlflow.pyfunc.load_model(f\"models:/{model_name}/1\")\n",
        "    pred_v1 = loaded_model_v1.predict(new_data_point)\n",
        "    print(f\"  Prediction with Version 1 (Linear Regression): {pred_v1[0]:.2f}\")\n",
        "\n",
        "    # 4.2 Load Model by Stage\n",
        "    #    Load \"RegressionModel\" from the 'Production' stage (which should be Version 2, the RandomForest model).\n",
        "    #    Make a prediction and print it. Confirm it's the RandomForest model (V2).\n",
        "    print(f\"Loading '{model_name}' from Production stage (should be Version 2)...\")\n",
        "    loaded_model_prod = mlflow.pyfunc.load_model(f\"models:/{model_name}/Production\")\n",
        "    pred_prod = loaded_model_prod.predict(new_data_point)\n",
        "    print(f\"  Prediction with Production model (RandomForest): {pred_prod[0]:.2f}\")\n",
        "\n",
        "    # Optional: Load the Staging model if any is set to staging\n",
        "    # print(f\"Loading '{model_name}' from Staging stage...\")\n",
        "    # loaded_model_staging = mlflow.pyfunc.load_model(f\"models:/{model_name}/Staging\")\n",
        "    # pred_staging = loaded_model_staging.predict(new_data_point)\n",
        "    # print(f\"  Prediction with Staging model: {pred_staging[0]:.2f}\")\n",
        "\n",
        "except Exception as e:\n",
        "    print(f\"Error loading models: {e}\")\n",
        "    print(\"Please ensure you've run all previous cells and the MLflow UI is accessible and stages are correctly set.\")\n"
      ]
    },
    {
      "cell_type": "markdown",
      "metadata": {
        "id": "TMl2bEqXoJdd"
      },
      "source": [
        "## Part 5: Reflection & Discussion (10 points)\n",
        "\n",
        "Answer the following questions in a markdown cell below."
      ]
    },
    {
      "cell_type": "markdown",
      "metadata": {
        "id": "0L-u2qyRoJdd"
      },
      "source": [
        "### Your Answers to Reflection Questions:\n",
        "\n",
        "1.  **What are the key benefits of using MLflow's Model Registry for managing machine learning models?** (List at least 3 benefits)\n",
        "\n",
        "    * **Benefit 1:** _(Your answer here)_\n",
        "    * **Benefit 2:** _(Your answer here)_\n",
        "    * **Benefit 3:** _(Your answer here)_\n",
        "\n",
        "2.  **Describe a real-world scenario where transitioning models through 'Staging' and 'Production' stages would be crucial.**\n",
        "\n",
        "    _(Your answer here)_\n",
        "\n",
        "3.  **Imagine you have a bug in your 'Production' model (Version 2). How would you use the Model Registry to quickly revert to a previous, stable version (Version 1)?**\n",
        "\n",
        "    _(Your answer here)_\n",
        "\n",
        "4.  **What are some considerations or challenges when integrating the MLflow Model Registry into a CI/CD (Continuous Integration/Continuous Deployment) pipeline?**\n",
        "\n",
        "    _(Your answer here)_\n"
      ]
    },
    {
      "cell_type": "markdown",
      "metadata": {
        "id": "tUJIxdkYoJdd"
      },
      "source": [
        "## Deliverables:\n",
        "\n",
        "1.  This completed Jupyter Notebook (`mlflow_model_registry_assignment.ipynb`) with all code cells executed and reflection questions answered.\n",
        "2.  Screenshots from the MLflow UI demonstrating:\n",
        "    -   The registered models and their versions (showing both V1 and V2).\n",
        "    -   The transitions of models through different stages (Archived for V1, Production for V2).\n",
        "    (You can include these screenshots in separate markdown cells, or provide them as a separate file.)\n"
      ]
    }
  ],
  "metadata": {
    "kernelspec": {
      "display_name": "Python 3 (ipykernel)",
      "language": "python",
      "name": "python3"
    },
    "language_info": {
      "codemirror_mode": {
        "name": "ipython",
        "version": 3
      },
      "file_extension": ".py",
      "mimetype": "text/x-python",
      "name": "python",
      "nbconvert_exporter": "python",
      "pygments_lexer": "ipython3",
      "version": "3.10.12"
    },
    "colab": {
      "provenance": []
    }
  },
  "nbformat": 4,
  "nbformat_minor": 0
}