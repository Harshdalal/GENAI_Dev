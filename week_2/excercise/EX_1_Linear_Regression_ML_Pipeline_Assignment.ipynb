{
  "cells": [
    {
      "cell_type": "markdown",
      "metadata": {
        "id": "nH606AyiQRH3"
      },
      "source": [
        "# 🤖 Assignment: End-to-End ML Pipeline Using Linear Regression\n",
        "\n",
        "## 🎯 Objective\n",
        "In this assignment, you will build a complete machine learning pipeline using Linear Regression. The pipeline will include data preprocessing, model training, evaluation, and prediction. You will apply essential ML practices from loading raw data to interpreting results.\n"
      ],
      "id": "nH606AyiQRH3"
    },
    {
      "cell_type": "markdown",
      "metadata": {
        "id": "8Boa-gRGQRH6"
      },
      "source": [
        "## 📂 Dataset\n",
        "- https://www.kaggle.com/datasets/kolawale/focusing-on-mobile-app-or-website.\n",
        "- You may download a dataset from Kaggle, UCI, or use `sklearn.datasets`.\n"
      ],
      "id": "8Boa-gRGQRH6"
    },
    {
      "cell_type": "markdown",
      "metadata": {
        "id": "IPcqWOhgQRH7"
      },
      "source": [
        "## 🧩 Tasks\n",
        "\n",
        "### Task 1: Data Loading\n",
        "- Load the dataset using `pandas`\n",
        "- Display first 5 rows\n",
        "- Display data types, shape, and summary statistics\n"
      ],
      "id": "IPcqWOhgQRH7"
    },
    {
      "cell_type": "markdown",
      "metadata": {
        "id": "xAvnBjf3QRH8"
      },
      "source": [
        "### Task 2: Data Preprocessing\n",
        "- Handle missing values (if any)\n",
        "- Encode categorical variables (if any)\n",
        "- Feature scaling (standardization or normalization)\n",
        "- Split data into train and test sets (80-20 split)\n"
      ],
      "id": "xAvnBjf3QRH8"
    },
    {
      "cell_type": "markdown",
      "metadata": {
        "id": "DYOsAEHeQRH8"
      },
      "source": [
        "### Task 3: Model Training\n",
        "- Use `LinearRegression` from `sklearn.linear_model`\n",
        "- Train model on training data\n",
        "- Display model coefficients and intercept\n"
      ],
      "id": "DYOsAEHeQRH8"
    },
    {
      "cell_type": "markdown",
      "metadata": {
        "id": "k7qCV_NyQRH9"
      },
      "source": [
        "### Task 4: Model Evaluation\n",
        "- Evaluate the model on test data using metrics:\n",
        "  - Mean Squared Error (MSE)\n",
        "  - Root Mean Squared Error (RMSE)\n",
        "  - R-squared score (R²)\n",
        "- Plot predictions vs actual values (scatter plot)\n"
      ],
      "id": "k7qCV_NyQRH9"
    },
    {
      "cell_type": "markdown",
      "metadata": {
        "id": "Qv1kfItLQRH-"
      },
      "source": [
        "### Task 5: Prediction\n",
        "- Allow user to input new data manually or randomly generate one sample\n",
        "- Predict output using the trained model\n",
        "- Display prediction result\n"
      ],
      "id": "Qv1kfItLQRH-"
    },
    {
      "cell_type": "markdown",
      "metadata": {
        "id": "DnMbaNzoQRH-"
      },
      "source": [
        "## ✅ Deliverables\n",
        "- Jupyter Notebook (.ipynb) with all code and output\n",
        "- Clear comments explaining each step\n",
        "- Markdown cells to describe observations and insights\n",
        "- Final summary of model performance and improvements possible\n"
      ],
      "id": "DnMbaNzoQRH-"
    }
  ],
  "metadata": {
    "kernelspec": {
      "display_name": "Python 3",
      "language": "python",
      "name": "python3"
    },
    "language_info": {
      "name": "python"
    },
    "colab": {
      "provenance": []
    }
  },
  "nbformat": 4,
  "nbformat_minor": 5
}