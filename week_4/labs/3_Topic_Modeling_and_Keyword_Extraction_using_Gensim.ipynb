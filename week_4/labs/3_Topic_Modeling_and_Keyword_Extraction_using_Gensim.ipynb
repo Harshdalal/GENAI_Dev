{
  "nbformat": 4,
  "nbformat_minor": 0,
  "metadata": {
    "colab": {
      "provenance": []
    },
    "kernelspec": {
      "name": "python3",
      "display_name": "Python 3"
    },
    "language_info": {
      "name": "python"
    }
  },
  "cells": [
    {
      "cell_type": "markdown",
      "source": [
        "#✅ Practical: Topic Modeling and Keyword Extraction using Gensim\n",
        "\n",
        "#🎯 Objectives:\n",
        "Perform basic text preprocessing\n",
        "\n",
        "Apply LDA (Latent Dirichlet Allocation) topic modeling using Gensim\n",
        "\n",
        "Extract keywords for each topic\n",
        "\n",
        "#📦 Step 1: Install Required Libraries"
      ],
      "metadata": {
        "id": "UERMvrDXj0ar"
      }
    },
    {
      "cell_type": "code",
      "execution_count": 1,
      "metadata": {
        "colab": {
          "base_uri": "https://localhost:8080/"
        },
        "id": "g5939zEEjnhh",
        "outputId": "26e293ac-c87d-4ac2-ec56-c5e302b3dd33"
      },
      "outputs": [
        {
          "output_type": "stream",
          "name": "stdout",
          "text": [
            "Requirement already satisfied: gensim in /usr/local/lib/python3.11/dist-packages (4.3.3)\n",
            "Requirement already satisfied: nltk in /usr/local/lib/python3.11/dist-packages (3.9.1)\n",
            "Requirement already satisfied: numpy<2.0,>=1.18.5 in /usr/local/lib/python3.11/dist-packages (from gensim) (1.26.4)\n",
            "Requirement already satisfied: scipy<1.14.0,>=1.7.0 in /usr/local/lib/python3.11/dist-packages (from gensim) (1.13.1)\n",
            "Requirement already satisfied: smart-open>=1.8.1 in /usr/local/lib/python3.11/dist-packages (from gensim) (7.1.0)\n",
            "Requirement already satisfied: click in /usr/local/lib/python3.11/dist-packages (from nltk) (8.2.1)\n",
            "Requirement already satisfied: joblib in /usr/local/lib/python3.11/dist-packages (from nltk) (1.5.1)\n",
            "Requirement already satisfied: regex>=2021.8.3 in /usr/local/lib/python3.11/dist-packages (from nltk) (2024.11.6)\n",
            "Requirement already satisfied: tqdm in /usr/local/lib/python3.11/dist-packages (from nltk) (4.67.1)\n",
            "Requirement already satisfied: wrapt in /usr/local/lib/python3.11/dist-packages (from smart-open>=1.8.1->gensim) (1.17.2)\n"
          ]
        }
      ],
      "source": [
        "!pip install gensim nltk"
      ]
    },
    {
      "cell_type": "markdown",
      "source": [
        "#🧾 Step 2: Import Libraries and Create Synthetic Data"
      ],
      "metadata": {
        "id": "B6bENptAj8jz"
      }
    },
    {
      "cell_type": "code",
      "source": [
        "import nltk\n",
        "from nltk.corpus import stopwords\n",
        "from nltk.tokenize import word_tokenize\n",
        "from gensim import corpora, models\n",
        "import string\n",
        "\n",
        "# Download required NLTK data\n",
        "nltk.download('punkt')\n",
        "nltk.download('stopwords')\n",
        "\n",
        "# Synthetic medium-size dataset (20 reviews)\n",
        "documents = [\n",
        "    \"The battery life of this phone is amazing and lasts all day.\",\n",
        "    \"Camera quality is excellent and great for photography.\",\n",
        "    \"Very poor customer service experience, not recommended.\",\n",
        "    \"I love the display, it’s bright and colorful.\",\n",
        "    \"The laptop is fast and lightweight, perfect for travel.\",\n",
        "    \"Terrible experience, the screen cracked in two days.\",\n",
        "    \"Build quality is top-notch, feels very premium.\",\n",
        "    \"Customer service was helpful and resolved my issue quickly.\",\n",
        "    \"The speakers are loud and clear, great for music lovers.\",\n",
        "    \"Performance is smooth and multitasking is effortless.\",\n",
        "    \"Not happy with the charging time, it takes too long.\",\n",
        "    \"This smartwatch has many great fitness features.\",\n",
        "    \"The interface is intuitive and easy to use.\",\n",
        "    \"App support is limited and lacks popular options.\",\n",
        "    \"This tablet is great for reading and light work.\",\n",
        "    \"Keyboard quality is bad, not suitable for typing.\",\n",
        "    \"Storage capacity is high and fast to access.\",\n",
        "    \"The device heats up quickly and becomes uncomfortable.\",\n",
        "    \"Highly recommend this device for students and travelers.\",\n",
        "    \"Software updates are timely and improve performance.\"\n",
        "]\n"
      ],
      "metadata": {
        "colab": {
          "base_uri": "https://localhost:8080/"
        },
        "id": "-EblEoKSj6Na",
        "outputId": "e10ebd8d-76fc-42ed-9f5c-5a2da1bf4d01"
      },
      "execution_count": 2,
      "outputs": [
        {
          "output_type": "stream",
          "name": "stderr",
          "text": [
            "[nltk_data] Downloading package punkt to /root/nltk_data...\n",
            "[nltk_data]   Unzipping tokenizers/punkt.zip.\n",
            "[nltk_data] Downloading package stopwords to /root/nltk_data...\n",
            "[nltk_data]   Unzipping corpora/stopwords.zip.\n"
          ]
        }
      ]
    },
    {
      "cell_type": "markdown",
      "source": [
        "#🧹 Step 3: Text Preprocessing"
      ],
      "metadata": {
        "id": "A0DPVliMkEm_"
      }
    },
    {
      "cell_type": "code",
      "source": [
        "import nltk\n",
        "nltk.download('punkt_tab')\n",
        "# Initialize stopwords and punctuation\n",
        "stop_words = set(stopwords.words('english'))\n",
        "\n",
        "def preprocess(text):\n",
        "    # Lowercase\n",
        "    text = text.lower()\n",
        "    # Remove punctuation\n",
        "    text = text.translate(str.maketrans('', '', string.punctuation))\n",
        "    # Tokenize\n",
        "    tokens = word_tokenize(text)\n",
        "    # Remove stopwords\n",
        "    tokens = [word for word in tokens if word not in stop_words and word.isalpha()]\n",
        "    return tokens\n",
        "\n",
        "# Apply preprocessing\n",
        "processed_docs = [preprocess(doc) for doc in documents]\n"
      ],
      "metadata": {
        "colab": {
          "base_uri": "https://localhost:8080/"
        },
        "id": "rY0Zyt__kBqq",
        "outputId": "9e118eda-c029-4800-f684-569af141044f"
      },
      "execution_count": 4,
      "outputs": [
        {
          "output_type": "stream",
          "name": "stderr",
          "text": [
            "[nltk_data] Downloading package punkt_tab to /root/nltk_data...\n",
            "[nltk_data]   Unzipping tokenizers/punkt_tab.zip.\n"
          ]
        }
      ]
    },
    {
      "cell_type": "markdown",
      "source": [
        "#📚 Step 4: Prepare Dictionary and Corpus for Gensim"
      ],
      "metadata": {
        "id": "ByqJuR_QkkBv"
      }
    },
    {
      "cell_type": "code",
      "source": [
        "# Create a dictionary from processed documents\n",
        "dictionary = corpora.Dictionary(processed_docs)\n",
        "\n",
        "# Create Bag of Words corpus\n",
        "corpus = [dictionary.doc2bow(doc) for doc in processed_docs]\n",
        "\n",
        "# Print sample\n",
        "print(\"Sample BOW:\", corpus[0])\n",
        "print(\"Sample Tokens:\", processed_docs[0])\n"
      ],
      "metadata": {
        "colab": {
          "base_uri": "https://localhost:8080/"
        },
        "id": "jES3XGnYkdib",
        "outputId": "2174a013-69c8-4c1d-c195-1e12f2038230"
      },
      "execution_count": 5,
      "outputs": [
        {
          "output_type": "stream",
          "name": "stdout",
          "text": [
            "Sample BOW: [(0, 1), (1, 1), (2, 1), (3, 1), (4, 1), (5, 1)]\n",
            "Sample Tokens: ['battery', 'life', 'phone', 'amazing', 'lasts', 'day']\n"
          ]
        }
      ]
    },
    {
      "cell_type": "markdown",
      "source": [
        "#🧠 Step 5: Train LDA Topic Model"
      ],
      "metadata": {
        "id": "bUttHMDIknz0"
      }
    },
    {
      "cell_type": "code",
      "source": [
        "# Train LDA model\n",
        "lda_model = models.LdaModel(corpus=corpus,\n",
        "                            id2word=dictionary,\n",
        "                            num_topics=3,        # You can change to 4 or 5\n",
        "                            random_state=42,\n",
        "                            passes=10,\n",
        "                            alpha='auto')\n",
        "\n",
        "# Print discovered topics\n",
        "for i, topic in lda_model.print_topics(num_words=5):\n",
        "    print(f\"\\n🔹 Topic {i+1}: {topic}\")\n"
      ],
      "metadata": {
        "colab": {
          "base_uri": "https://localhost:8080/"
        },
        "id": "70pzXkiKkl8a",
        "outputId": "0b5cc3a8-7a3a-4e6f-87a8-78f4cf937362"
      },
      "execution_count": 6,
      "outputs": [
        {
          "output_type": "stream",
          "name": "stdout",
          "text": [
            "\n",
            "🔹 Topic 1: 0.035*\"performance\" + 0.035*\"quality\" + 0.020*\"experience\" + 0.020*\"great\" + 0.020*\"two\"\n",
            "\n",
            "🔹 Topic 2: 0.038*\"quickly\" + 0.022*\"great\" + 0.022*\"quality\" + 0.022*\"service\" + 0.022*\"customer\"\n",
            "\n",
            "🔹 Topic 3: 0.036*\"great\" + 0.021*\"fast\" + 0.021*\"device\" + 0.021*\"customer\" + 0.021*\"tablet\"\n"
          ]
        }
      ]
    },
    {
      "cell_type": "markdown",
      "source": [
        "#🔍 Step 6: Keyword Extraction from Topics"
      ],
      "metadata": {
        "id": "QLt5-d6qkrzF"
      }
    },
    {
      "cell_type": "code",
      "source": [
        "# Display keywords for each topic\n",
        "print(\"\\n📌 Keywords per Topic:\\n\")\n",
        "topics = lda_model.show_topics(formatted=False)\n",
        "for i, topic in topics:\n",
        "    keywords = [word for word, prob in topic]\n",
        "    print(f\"Topic {i+1}: {', '.join(keywords)}\")\n"
      ],
      "metadata": {
        "colab": {
          "base_uri": "https://localhost:8080/"
        },
        "id": "t9k3sxQ1kpup",
        "outputId": "620d37d9-6905-4745-b79a-2484265e7e3d"
      },
      "execution_count": 7,
      "outputs": [
        {
          "output_type": "stream",
          "name": "stdout",
          "text": [
            "\n",
            "📌 Keywords per Topic:\n",
            "\n",
            "Topic 1: performance, quality, experience, great, two, cracked, days, screen, life, many\n",
            "Topic 2: quickly, great, quality, service, customer, becomes, limited, popular, lacks, photography\n",
            "Topic 3: great, fast, device, customer, tablet, light, experience, time, high, work\n"
          ]
        }
      ]
    },
    {
      "cell_type": "markdown",
      "source": [
        "#EXTRAA\n"
      ],
      "metadata": {
        "id": "ra0CVElXlBfr"
      }
    },
    {
      "cell_type": "code",
      "source": [
        "!pip install pyLDAvis\n",
        "# Installs the pyLDAvis library, which is a powerful interactive visualization tool\n",
        "# specifically designed for topic models like Latent Dirichlet Allocation (LDA).\n",
        "\n",
        "import pyLDAvis.gensim_models\n",
        "# Imports the `gensim_models` module from `pyLDAvis`. This module provides\n",
        "# specific functionalities to prepare data from Gensim LDA models for visualization.\n",
        "\n",
        "pyLDAvis.enable_notebook()\n",
        "# Enables the pyLDAvis visualization to be displayed directly within a Jupyter Notebook or similar environment.\n",
        "# This function modifies the output so that the interactive plot renders inline.\n",
        "\n",
        "pyLDAvis.gensim_models.prepare(lda_model, corpus, dictionary)\n",
        "# Prepares the data for the interactive LDA visualization.\n",
        "# - `lda_model`: This is your trained Latent Dirichlet Allocation (LDA) model,\n",
        "#                typically from the Gensim library. It contains the topic-word distributions.\n",
        "# - `corpus`: This is the document-term matrix (or bag-of-words representation) of your text data.\n",
        "#             It represents the frequency of words in each document.\n",
        "# - `dictionary`: This is the Gensim `Dictionary` object created from your text data.\n",
        "#                 It maps words to their unique integer IDs.\n",
        "# This function returns an object that can be rendered by pyLDAvis to show an interactive\n",
        "# visualization of your LDA model, allowing you to explore topics, their terms, and\n",
        "# their relationships."
      ],
      "metadata": {
        "colab": {
          "base_uri": "https://localhost:8080/",
          "height": 1000
        },
        "id": "83yEan_HkuHw",
        "outputId": "c9c1e3aa-1bb2-4b5a-aaaa-27e6933db3a8"
      },
      "execution_count": 9,
      "outputs": [
        {
          "output_type": "stream",
          "name": "stdout",
          "text": [
            "Requirement already satisfied: pyLDAvis in /usr/local/lib/python3.11/dist-packages (3.4.1)\n",
            "Requirement already satisfied: numpy>=1.24.2 in /usr/local/lib/python3.11/dist-packages (from pyLDAvis) (1.26.4)\n",
            "Requirement already satisfied: scipy in /usr/local/lib/python3.11/dist-packages (from pyLDAvis) (1.13.1)\n",
            "Requirement already satisfied: pandas>=2.0.0 in /usr/local/lib/python3.11/dist-packages (from pyLDAvis) (2.2.2)\n",
            "Requirement already satisfied: joblib>=1.2.0 in /usr/local/lib/python3.11/dist-packages (from pyLDAvis) (1.5.1)\n",
            "Requirement already satisfied: jinja2 in /usr/local/lib/python3.11/dist-packages (from pyLDAvis) (3.1.6)\n",
            "Requirement already satisfied: numexpr in /usr/local/lib/python3.11/dist-packages (from pyLDAvis) (2.10.2)\n",
            "Requirement already satisfied: funcy in /usr/local/lib/python3.11/dist-packages (from pyLDAvis) (2.0)\n",
            "Requirement already satisfied: scikit-learn>=1.0.0 in /usr/local/lib/python3.11/dist-packages (from pyLDAvis) (1.6.1)\n",
            "Requirement already satisfied: gensim in /usr/local/lib/python3.11/dist-packages (from pyLDAvis) (4.3.3)\n",
            "Requirement already satisfied: setuptools in /usr/local/lib/python3.11/dist-packages (from pyLDAvis) (75.2.0)\n",
            "Requirement already satisfied: python-dateutil>=2.8.2 in /usr/local/lib/python3.11/dist-packages (from pandas>=2.0.0->pyLDAvis) (2.9.0.post0)\n",
            "Requirement already satisfied: pytz>=2020.1 in /usr/local/lib/python3.11/dist-packages (from pandas>=2.0.0->pyLDAvis) (2025.2)\n",
            "Requirement already satisfied: tzdata>=2022.7 in /usr/local/lib/python3.11/dist-packages (from pandas>=2.0.0->pyLDAvis) (2025.2)\n",
            "Requirement already satisfied: threadpoolctl>=3.1.0 in /usr/local/lib/python3.11/dist-packages (from scikit-learn>=1.0.0->pyLDAvis) (3.6.0)\n",
            "Requirement already satisfied: smart-open>=1.8.1 in /usr/local/lib/python3.11/dist-packages (from gensim->pyLDAvis) (7.1.0)\n",
            "Requirement already satisfied: MarkupSafe>=2.0 in /usr/local/lib/python3.11/dist-packages (from jinja2->pyLDAvis) (3.0.2)\n",
            "Requirement already satisfied: six>=1.5 in /usr/local/lib/python3.11/dist-packages (from python-dateutil>=2.8.2->pandas>=2.0.0->pyLDAvis) (1.17.0)\n",
            "Requirement already satisfied: wrapt in /usr/local/lib/python3.11/dist-packages (from smart-open>=1.8.1->gensim->pyLDAvis) (1.17.2)\n"
          ]
        },
        {
          "output_type": "execute_result",
          "data": {
            "text/plain": [
              "PreparedData(topic_coordinates=              x         y  topics  cluster       Freq\n",
              "topic                                                \n",
              "0     -0.097301 -0.009808       1        1  35.263608\n",
              "2      0.058833 -0.065395       2        1  34.282506\n",
              "1      0.038469  0.075203       3        1  30.453886, topic_info=           Term      Freq     Total Category  logprob  loglift\n",
              "36      quickly  1.000000  1.000000  Default  30.0000  30.0000\n",
              "45  performance  1.000000  1.000000  Default  29.0000  29.0000\n",
              "10      quality  2.000000  2.000000  Default  28.0000  28.0000\n",
              "78      becomes  1.000000  1.000000  Default  27.0000  27.0000\n",
              "62      limited  1.000000  1.000000  Default  26.0000  26.0000\n",
              "..          ...       ...       ...      ...      ...      ...\n",
              "11     customer  0.678525  1.577881   Topic3  -3.8238   0.3450\n",
              "79       device  0.678463  1.577885   Topic3  -3.8239   0.3449\n",
              "20         fast  0.678429  1.577888   Topic3  -3.8240   0.3449\n",
              "10      quality  0.679292  2.129711   Topic3  -3.8227   0.0463\n",
              "8         great  0.680437  2.660982   Topic3  -3.8210  -0.1748\n",
              "\n",
              "[127 rows x 6 columns], token_table=      Topic      Freq           Term\n",
              "term                                \n",
              "74        2  0.935537         access\n",
              "0         1  0.929581        amazing\n",
              "60        3  0.961811            app\n",
              "70        1  0.929585            bad\n",
              "1         1  0.929581        battery\n",
              "...     ...       ...            ...\n",
              "73        1  0.929581         typing\n",
              "81        3  0.961809  uncomfortable\n",
              "89        1  0.929580        updates\n",
              "59        2  0.935539            use\n",
              "69        2  0.935536           work\n",
              "\n",
              "[97 rows x 3 columns], R=30, lambda_step=0.01, plot_opts={'xlab': 'PC1', 'ylab': 'PC2'}, topic_order=[1, 3, 2])"
            ],
            "text/html": [
              "\n",
              "<link rel=\"stylesheet\" type=\"text/css\" href=\"https://cdn.jsdelivr.net/gh/bmabey/pyLDAvis@3.4.0/pyLDAvis/js/ldavis.v1.0.0.css\">\n",
              "\n",
              "\n",
              "<div id=\"ldavis_el6901383492418186246908888176\" style=\"background-color:white;\"></div>\n",
              "<script type=\"text/javascript\">\n",
              "\n",
              "var ldavis_el6901383492418186246908888176_data = {\"mdsDat\": {\"x\": [-0.09730118452610759, 0.05883255831046505, 0.03846862621564249], \"y\": [-0.009808443785726663, -0.06539456870403641, 0.07520301248976308], \"topics\": [1, 2, 3], \"cluster\": [1, 1, 1], \"Freq\": [35.263607671874986, 34.2825064487114, 30.453885879413612]}, \"tinfo\": {\"Term\": [\"quickly\", \"performance\", \"quality\", \"becomes\", \"limited\", \"popular\", \"lacks\", \"photography\", \"options\", \"resolved\", \"helpful\", \"heats\", \"issue\", \"camera\", \"laptop\", \"app\", \"excellent\", \"lightweight\", \"travel\", \"perfect\", \"uncomfortable\", \"support\", \"colorful\", \"display\", \"love\", \"bright\", \"customer\", \"service\", \"device\", \"fast\", \"performance\", \"two\", \"cracked\", \"days\", \"screen\", \"life\", \"many\", \"updates\", \"phone\", \"typing\", \"features\", \"amazing\", \"timely\", \"fitness\", \"day\", \"lasts\", \"battery\", \"smartwatch\", \"software\", \"terrible\", \"keyboard\", \"suitable\", \"smooth\", \"effortless\", \"improve\", \"multitasking\", \"bad\", \"topnotch\", \"build\", \"feels\", \"quality\", \"experience\", \"great\", \"tablet\", \"light\", \"time\", \"high\", \"work\", \"poor\", \"charging\", \"travelers\", \"capacity\", \"reading\", \"highly\", \"recommended\", \"long\", \"students\", \"happy\", \"recommend\", \"interface\", \"access\", \"takes\", \"storage\", \"use\", \"intuitive\", \"easy\", \"speakers\", \"lovers\", \"clear\", \"music\", \"loud\", \"great\", \"customer\", \"fast\", \"device\", \"experience\", \"service\", \"quickly\", \"becomes\", \"limited\", \"popular\", \"lacks\", \"photography\", \"options\", \"resolved\", \"helpful\", \"heats\", \"issue\", \"camera\", \"laptop\", \"app\", \"excellent\", \"lightweight\", \"travel\", \"perfect\", \"uncomfortable\", \"support\", \"colorful\", \"display\", \"love\", \"bright\", \"service\", \"customer\", \"device\", \"fast\", \"quality\", \"great\"], \"Freq\": [1.0, 1.0, 2.0, 1.0, 1.0, 1.0, 1.0, 1.0, 1.0, 1.0, 1.0, 1.0, 1.0, 1.0, 1.0, 1.0, 1.0, 1.0, 1.0, 1.0, 1.0, 1.0, 1.0, 1.0, 1.0, 1.0, 1.0, 1.0, 1.0, 1.0, 1.2714808401941544, 0.7265932609133193, 0.726579861461254, 0.7265749036639899, 0.7265717547927545, 0.7265680699434366, 0.7265659930283664, 0.7265641171050773, 0.7265620401900073, 0.726561370217404, 0.726558087351648, 0.7265531295543838, 0.7265454918667066, 0.7265446878995827, 0.7265421420036903, 0.726541271039306, 0.7265389261351947, 0.726538993132455, 0.7265368492201245, 0.7265363802393022, 0.7265069014447586, 0.7264945069515982, 0.7264786955981613, 0.7264665020967819, 0.7264651621515753, 0.7264522316803323, 0.7264525666666339, 0.726106659811569, 0.7260498461348122, 0.7258866408086572, 1.2707507040511177, 0.726705079340804, 0.7266429058832211, 0.7174696516740109, 0.7174527170243306, 0.7174336329768062, 0.717423667586802, 0.717422690587782, 0.7174131811306538, 0.7174119435985618, 0.7174048440723496, 0.7174047138058136, 0.7174006104099295, 0.7173927292845014, 0.7173894726211013, 0.7173766413673051, 0.7173693464412889, 0.7173640706465808, 0.7173604231835727, 0.7173526071914126, 0.7173521512585366, 0.7173452471321284, 0.7173406878033683, 0.7173306572800962, 0.717325251218852, 0.717320366223752, 0.7156651996173033, 0.7153240315595126, 0.7150078095433664, 0.7147990574194223, 0.7145214594312008, 1.2539021665376722, 0.7175190878244239, 0.7175207161561239, 0.7175192832242279, 0.7174467247636744, 0.7174051046054216, 1.1873217043157098, 0.6785146672953903, 0.6785137415469239, 0.678511890049991, 0.6784923914729166, 0.6784891513532841, 0.6784882256048177, 0.6784876470120261, 0.6784861426707682, 0.6784818032248318, 0.6784816875062735, 0.6784794309943865, 0.6784707521025136, 0.6784683220127892, 0.6784555351120964, 0.6784553036749799, 0.6784551300971424, 0.6784493441692272, 0.6784450625825699, 0.6784444261304992, 0.6783634809989648, 0.678312333396194, 0.6782896525587662, 0.678274030553395, 0.6785981003759283, 0.6785253712620336, 0.6784629989591071, 0.6784290934215238, 0.6792924695850378, 0.6804368682673957], \"Total\": [1.0, 1.0, 2.0, 1.0, 1.0, 1.0, 1.0, 1.0, 1.0, 1.0, 1.0, 1.0, 1.0, 1.0, 1.0, 1.0, 1.0, 1.0, 1.0, 1.0, 1.0, 1.0, 1.0, 1.0, 1.0, 1.0, 1.0, 1.0, 1.0, 1.0, 1.620785728763447, 1.0757559239092043, 1.0757547894491315, 1.075755034562325, 1.0757551941981254, 1.0757547962394434, 1.075754412434756, 1.0757540688566505, 1.075754970274452, 1.075754039298103, 1.0757553512319478, 1.0757539367397466, 1.0757536524084932, 1.0757536988108478, 1.0757541265909842, 1.0757534878513884, 1.0757535911497924, 1.075754176119057, 1.0757527634544928, 1.0757537602875349, 1.075753035003445, 1.0757512532367326, 1.0757507633094054, 1.075749526013904, 1.0757494097070983, 1.0757470627502597, 1.075749253761608, 1.075724835854766, 1.0757219275765415, 1.0757113083409455, 2.129710606670389, 1.6139308761244828, 2.660981940688289, 1.0689066035959545, 1.0689046615852504, 1.0689046152819213, 1.0689044047044147, 1.0689060185201793, 1.0689047147687156, 1.0689034956900199, 1.0689033279533904, 1.0689036698852394, 1.06890412552062, 1.0689034904134969, 1.068903737541658, 1.0689031450630009, 1.0689041636169083, 1.068903186576533, 1.0689034364537588, 1.0689022091607414, 1.0689048051251924, 1.0689020892212462, 1.06890316885264, 1.0689029822152796, 1.0689026982706924, 1.0689013497225406, 1.0688094994134585, 1.0687907284983345, 1.0687735308481825, 1.068764133889021, 1.0687461162343077, 2.660981940688289, 1.5778810366163043, 1.577887670215793, 1.5778852874967955, 1.6139308761244828, 1.577877183731774, 1.5486831120606845, 1.0397023839884518, 1.0397024256528855, 1.0397026565696235, 1.0397037022529294, 1.0397038572915034, 1.0397040630003487, 1.0397041353274707, 1.039704354155066, 1.0397045432152558, 1.039704499220699, 1.0397044468418, 1.0397051897457428, 1.0397052181174953, 1.0397061518083062, 1.0397061235864977, 1.0397063645737288, 1.0397065801334966, 1.0397069990328733, 1.0397067423168904, 1.0397113660292798, 1.0397145258180935, 1.0397158431547138, 1.0397166776714628, 1.577877183731774, 1.5778810366163043, 1.5778852874967955, 1.577887670215793, 2.129710606670389, 2.660981940688289], \"Category\": [\"Default\", \"Default\", \"Default\", \"Default\", \"Default\", \"Default\", \"Default\", \"Default\", \"Default\", \"Default\", \"Default\", \"Default\", \"Default\", \"Default\", \"Default\", \"Default\", \"Default\", \"Default\", \"Default\", \"Default\", \"Default\", \"Default\", \"Default\", \"Default\", \"Default\", \"Default\", \"Default\", \"Default\", \"Default\", \"Default\", \"Topic1\", \"Topic1\", \"Topic1\", \"Topic1\", \"Topic1\", \"Topic1\", \"Topic1\", \"Topic1\", \"Topic1\", \"Topic1\", \"Topic1\", \"Topic1\", \"Topic1\", \"Topic1\", \"Topic1\", \"Topic1\", \"Topic1\", \"Topic1\", \"Topic1\", \"Topic1\", \"Topic1\", \"Topic1\", \"Topic1\", \"Topic1\", \"Topic1\", \"Topic1\", \"Topic1\", \"Topic1\", \"Topic1\", \"Topic1\", \"Topic1\", \"Topic1\", \"Topic1\", \"Topic2\", \"Topic2\", \"Topic2\", \"Topic2\", \"Topic2\", \"Topic2\", \"Topic2\", \"Topic2\", \"Topic2\", \"Topic2\", \"Topic2\", \"Topic2\", \"Topic2\", \"Topic2\", \"Topic2\", \"Topic2\", \"Topic2\", \"Topic2\", \"Topic2\", \"Topic2\", \"Topic2\", \"Topic2\", \"Topic2\", \"Topic2\", \"Topic2\", \"Topic2\", \"Topic2\", \"Topic2\", \"Topic2\", \"Topic2\", \"Topic2\", \"Topic2\", \"Topic2\", \"Topic2\", \"Topic3\", \"Topic3\", \"Topic3\", \"Topic3\", \"Topic3\", \"Topic3\", \"Topic3\", \"Topic3\", \"Topic3\", \"Topic3\", \"Topic3\", \"Topic3\", \"Topic3\", \"Topic3\", \"Topic3\", \"Topic3\", \"Topic3\", \"Topic3\", \"Topic3\", \"Topic3\", \"Topic3\", \"Topic3\", \"Topic3\", \"Topic3\", \"Topic3\", \"Topic3\", \"Topic3\", \"Topic3\", \"Topic3\", \"Topic3\"], \"logprob\": [30.0, 29.0, 28.0, 27.0, 26.0, 25.0, 24.0, 23.0, 22.0, 21.0, 20.0, 19.0, 18.0, 17.0, 16.0, 15.0, 14.0, 13.0, 12.0, 11.0, 10.0, 9.0, 8.0, 7.0, 6.0, 5.0, 4.0, 3.0, 2.0, 1.0, -3.3425, -3.902, -3.9021, -3.9021, -3.9021, -3.9021, -3.9021, -3.9021, -3.9021, -3.9021, -3.9021, -3.9021, -3.9021, -3.9021, -3.9021, -3.9021, -3.9021, -3.9021, -3.9021, -3.9021, -3.9022, -3.9022, -3.9022, -3.9022, -3.9022, -3.9022, -3.9022, -3.9027, -3.9028, -3.903, -3.343, -3.9019, -3.902, -3.8865, -3.8865, -3.8865, -3.8865, -3.8865, -3.8865, -3.8865, -3.8866, -3.8866, -3.8866, -3.8866, -3.8866, -3.8866, -3.8866, -3.8866, -3.8866, -3.8866, -3.8866, -3.8866, -3.8866, -3.8867, -3.8867, -3.8867, -3.889, -3.8895, -3.8899, -3.8902, -3.8906, -3.3282, -3.8864, -3.8864, -3.8864, -3.8865, -3.8866, -3.2643, -3.8239, -3.8239, -3.8239, -3.8239, -3.8239, -3.8239, -3.8239, -3.8239, -3.8239, -3.8239, -3.8239, -3.8239, -3.8239, -3.824, -3.824, -3.824, -3.824, -3.824, -3.824, -3.8241, -3.8242, -3.8242, -3.8242, -3.8237, -3.8238, -3.8239, -3.824, -3.8227, -3.821], \"loglift\": [30.0, 29.0, 28.0, 27.0, 26.0, 25.0, 24.0, 23.0, 22.0, 21.0, 20.0, 19.0, 18.0, 17.0, 16.0, 15.0, 14.0, 13.0, 12.0, 11.0, 10.0, 9.0, 8.0, 7.0, 6.0, 5.0, 4.0, 3.0, 2.0, 1.0, 0.7996, 0.6499, 0.6499, 0.6499, 0.6499, 0.6499, 0.6499, 0.6499, 0.6499, 0.6499, 0.6499, 0.6499, 0.6498, 0.6498, 0.6498, 0.6498, 0.6498, 0.6498, 0.6498, 0.6498, 0.6498, 0.6498, 0.6498, 0.6497, 0.6497, 0.6497, 0.6497, 0.6493, 0.6492, 0.649, 0.5259, 0.2444, -0.2557, 0.6719, 0.6719, 0.6718, 0.6718, 0.6718, 0.6718, 0.6718, 0.6718, 0.6718, 0.6718, 0.6718, 0.6718, 0.6717, 0.6717, 0.6717, 0.6717, 0.6717, 0.6717, 0.6717, 0.6717, 0.6717, 0.6717, 0.6717, 0.6694, 0.669, 0.6686, 0.6683, 0.6679, 0.3181, 0.2825, 0.2825, 0.2825, 0.2598, 0.2823, 0.9233, 0.7622, 0.7622, 0.7622, 0.7621, 0.7621, 0.7621, 0.7621, 0.7621, 0.7621, 0.7621, 0.7621, 0.7621, 0.7621, 0.7621, 0.7621, 0.7621, 0.7621, 0.7621, 0.7621, 0.7619, 0.7619, 0.7618, 0.7618, 0.3451, 0.345, 0.3449, 0.3449, 0.0463, -0.1748]}, \"token.table\": {\"Topic\": [2, 1, 3, 1, 1, 3, 3, 1, 3, 2, 2, 2, 3, 1, 2, 3, 1, 1, 2, 3, 3, 2, 1, 3, 1, 2, 2, 3, 1, 1, 1, 1, 2, 3, 2, 3, 3, 2, 2, 1, 2, 2, 3, 1, 3, 3, 1, 1, 2, 3, 3, 2, 2, 3, 2, 1, 1, 2, 3, 3, 1, 1, 3, 2, 3, 1, 3, 3, 2, 2, 2, 3, 1, 2, 3, 1, 1, 1, 2, 2, 2, 1, 3, 2, 2, 1, 2, 1, 1, 3, 2, 1, 1, 3, 1, 2, 2], \"Freq\": [0.9355370049841603, 0.9295806093265792, 0.9618110812318649, 0.9295846559997759, 0.9295809079579042, 0.9618137030366828, 0.9618004803381516, 0.9296082699112279, 0.9618117947245431, 0.935537998580698, 0.9355381510418395, 0.9356519142146011, 0.9618053939518427, 0.9295798724838364, 0.6337613399198051, 0.6337613399198051, 0.929580445272336, 0.929579660676981, 0.6337596325436496, 0.6337596325436496, 0.961802470936102, 0.9355400292642295, 0.9295844207391034, 0.9618102174934261, 0.6196052227473897, 0.6196052227473897, 0.633758675522979, 0.633758675522979, 0.929579387037031, 0.9296174468429508, 0.9295808149257707, 0.3758011224012066, 0.3758011224012066, 0.3758011224012066, 0.9355384215878193, 0.961811705571209, 0.9618118804673735, 0.9355373554443637, 0.9355381556600193, 0.9295845212429881, 0.9355392770543148, 0.9355388489689795, 0.9618117462697727, 0.9295813885357038, 0.9618124835307448, 0.9618111074780221, 0.9295809972201983, 0.9295798666162007, 0.935537130614567, 0.9618102436008261, 0.9618136644935168, 0.9355384579217982, 0.9356759148032908, 0.9618012523169719, 0.9356368588685398, 0.9295801982691375, 0.9295865493170816, 0.9356601408031893, 0.9618121498094643, 0.9618098212589956, 0.6169847020820786, 0.9295797162293148, 0.9618123401071776, 0.9355370840668199, 0.9618134508758324, 0.46954736332154073, 0.46954736332154073, 0.6457098887514797, 0.9355375997945002, 0.9355382028872917, 0.9355379393656835, 0.9618120829009059, 0.9295795227327778, 0.6337628874478939, 0.6337628874478939, 0.9295804024741494, 0.9295833515596418, 0.9295816231870667, 0.9356204267914724, 0.9355384371003403, 0.9355375664514641, 0.9295829282012813, 0.961809671226708, 0.935535430912165, 0.9355393820294194, 0.9295807618025087, 0.9355371711406187, 0.9295808550229979, 0.9296057566667638, 0.9618100206686644, 0.9355382978502664, 0.9295788921766623, 0.9295805207038494, 0.9618094337444988, 0.9295804951617198, 0.9355386004513903, 0.9355359429862931], \"Term\": [\"access\", \"amazing\", \"app\", \"bad\", \"battery\", \"becomes\", \"bright\", \"build\", \"camera\", \"capacity\", \"charging\", \"clear\", \"colorful\", \"cracked\", \"customer\", \"customer\", \"day\", \"days\", \"device\", \"device\", \"display\", \"easy\", \"effortless\", \"excellent\", \"experience\", \"experience\", \"fast\", \"fast\", \"features\", \"feels\", \"fitness\", \"great\", \"great\", \"great\", \"happy\", \"heats\", \"helpful\", \"high\", \"highly\", \"improve\", \"interface\", \"intuitive\", \"issue\", \"keyboard\", \"lacks\", \"laptop\", \"lasts\", \"life\", \"light\", \"lightweight\", \"limited\", \"long\", \"loud\", \"love\", \"lovers\", \"many\", \"multitasking\", \"music\", \"options\", \"perfect\", \"performance\", \"phone\", \"photography\", \"poor\", \"popular\", \"quality\", \"quality\", \"quickly\", \"reading\", \"recommend\", \"recommended\", \"resolved\", \"screen\", \"service\", \"service\", \"smartwatch\", \"smooth\", \"software\", \"speakers\", \"storage\", \"students\", \"suitable\", \"support\", \"tablet\", \"takes\", \"terrible\", \"time\", \"timely\", \"topnotch\", \"travel\", \"travelers\", \"two\", \"typing\", \"uncomfortable\", \"updates\", \"use\", \"work\"]}, \"R\": 30, \"lambda.step\": 0.01, \"plot.opts\": {\"xlab\": \"PC1\", \"ylab\": \"PC2\"}, \"topic.order\": [1, 3, 2]};\n",
              "\n",
              "function LDAvis_load_lib(url, callback){\n",
              "  var s = document.createElement('script');\n",
              "  s.src = url;\n",
              "  s.async = true;\n",
              "  s.onreadystatechange = s.onload = callback;\n",
              "  s.onerror = function(){console.warn(\"failed to load library \" + url);};\n",
              "  document.getElementsByTagName(\"head\")[0].appendChild(s);\n",
              "}\n",
              "\n",
              "if(typeof(LDAvis) !== \"undefined\"){\n",
              "   // already loaded: just create the visualization\n",
              "   !function(LDAvis){\n",
              "       new LDAvis(\"#\" + \"ldavis_el6901383492418186246908888176\", ldavis_el6901383492418186246908888176_data);\n",
              "   }(LDAvis);\n",
              "}else if(typeof define === \"function\" && define.amd){\n",
              "   // require.js is available: use it to load d3/LDAvis\n",
              "   require.config({paths: {d3: \"https://d3js.org/d3.v5\"}});\n",
              "   require([\"d3\"], function(d3){\n",
              "      window.d3 = d3;\n",
              "      LDAvis_load_lib(\"https://cdn.jsdelivr.net/gh/bmabey/pyLDAvis@3.4.0/pyLDAvis/js/ldavis.v3.0.0.js\", function(){\n",
              "        new LDAvis(\"#\" + \"ldavis_el6901383492418186246908888176\", ldavis_el6901383492418186246908888176_data);\n",
              "      });\n",
              "    });\n",
              "}else{\n",
              "    // require.js not available: dynamically load d3 & LDAvis\n",
              "    LDAvis_load_lib(\"https://d3js.org/d3.v5.js\", function(){\n",
              "         LDAvis_load_lib(\"https://cdn.jsdelivr.net/gh/bmabey/pyLDAvis@3.4.0/pyLDAvis/js/ldavis.v3.0.0.js\", function(){\n",
              "                 new LDAvis(\"#\" + \"ldavis_el6901383492418186246908888176\", ldavis_el6901383492418186246908888176_data);\n",
              "            })\n",
              "         });\n",
              "}\n",
              "</script>"
            ]
          },
          "metadata": {},
          "execution_count": 9
        }
      ]
    },
    {
      "cell_type": "code",
      "source": [],
      "metadata": {
        "id": "xYRgy9Y3kyX5"
      },
      "execution_count": null,
      "outputs": []
    }
  ]
}