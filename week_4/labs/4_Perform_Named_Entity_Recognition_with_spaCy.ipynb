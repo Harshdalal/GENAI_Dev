{
  "nbformat": 4,
  "nbformat_minor": 0,
  "metadata": {
    "colab": {
      "provenance": []
    },
    "kernelspec": {
      "name": "python3",
      "display_name": "Python 3"
    },
    "language_info": {
      "name": "python"
    }
  },
  "cells": [
    {
      "cell_type": "markdown",
      "source": [
        "#🧪 Practical: Perform Named Entity Recognition with spaCy"
      ],
      "metadata": {
        "id": "jnFkUKyTmIWk"
      }
    },
    {
      "cell_type": "markdown",
      "source": [
        "#✅ Requirements:\n",
        "Python 3.x\n",
        "\n",
        "spaCy library\n",
        "\n",
        "en_core_web_md model"
      ],
      "metadata": {
        "id": "x7nswxn2mL6K"
      }
    },
    {
      "cell_type": "markdown",
      "source": [
        "#✅ Step-by-step Code with Comments\n",
        "🔹 1. Install spaCy and the medium model"
      ],
      "metadata": {
        "id": "n0ySnqT_mOMb"
      }
    },
    {
      "cell_type": "code",
      "execution_count": 5,
      "metadata": {
        "colab": {
          "base_uri": "https://localhost:8080/"
        },
        "id": "KBZKJpWGl7W_",
        "outputId": "285dd364-d223-4720-fdd9-4784f411bbac"
      },
      "outputs": [
        {
          "output_type": "stream",
          "name": "stdout",
          "text": [
            "Collecting en-core-web-md==3.8.0\n",
            "  Downloading https://github.com/explosion/spacy-models/releases/download/en_core_web_md-3.8.0/en_core_web_md-3.8.0-py3-none-any.whl (33.5 MB)\n",
            "\u001b[2K     \u001b[90m━━━━━━━━━━━━━━━━━━━━━━━━━━━━━━━━━━━━━━━━\u001b[0m \u001b[32m33.5/33.5 MB\u001b[0m \u001b[31m33.0 MB/s\u001b[0m eta \u001b[36m0:00:00\u001b[0m\n",
            "\u001b[?25hInstalling collected packages: en-core-web-md\n",
            "Successfully installed en-core-web-md-3.8.0\n",
            "\u001b[38;5;2m✔ Download and installation successful\u001b[0m\n",
            "You can now load the package via spacy.load('en_core_web_md')\n",
            "\u001b[38;5;3m⚠ Restart to reload dependencies\u001b[0m\n",
            "If you are in a Jupyter or Colab notebook, you may need to restart Python in\n",
            "order to load all the package's dependencies. You can do this by selecting the\n",
            "'Restart kernel' or 'Restart runtime' option.\n"
          ]
        }
      ],
      "source": [
        "# 🧩 Step 1: Install spaCy and the medium model\n",
        "# Run this in a Jupyter cell (not in a .py script)\n",
        "\n",
        "!pip install -q spacy\n",
        "!python -m spacy download en_core_web_md\n"
      ]
    },
    {
      "cell_type": "code",
      "source": [
        "# 🧩 Step 2: Import and load the spaCy medium English model\n",
        "\n",
        "import spacy\n",
        "\n",
        "# Load the medium model\n",
        "nlp = spacy.load(\"en_core_web_md\")\n"
      ],
      "metadata": {
        "id": "ZjHNeYKjmQky"
      },
      "execution_count": 6,
      "outputs": []
    },
    {
      "cell_type": "code",
      "source": [
        "# 🧩 Step 3: Create medium-sized synthetic data for NER\n",
        "\n",
        "text = \"\"\"\n",
        "In June 2022, Emma Johnson, a data scientist from IBM, presented a keynote speech at the AI Summit in New York.\n",
        "The conference was attended by professionals from Google, Microsoft, and OpenAI.\n",
        "Dr. Alan Smith from Stanford University discussed the future of AGI.\n",
        "Meanwhile, Elon Musk tweeted about the progress at Tesla and SpaceX.\n",
        "Back in Europe, Anna Müller from the University of Berlin led a study on multilingual NLP.\n",
        "The report was later published in Nature and covered by BBC News and The Guardian.\n",
        "\"\"\"\n",
        "\n",
        "print(\"📄 Sample Text:\\n\")\n",
        "print(text)\n"
      ],
      "metadata": {
        "colab": {
          "base_uri": "https://localhost:8080/"
        },
        "id": "VRRQR4OLm2AK",
        "outputId": "acce7bfa-08a9-4e77-86eb-32f90e52f706"
      },
      "execution_count": 7,
      "outputs": [
        {
          "output_type": "stream",
          "name": "stdout",
          "text": [
            "📄 Sample Text:\n",
            "\n",
            "\n",
            "In June 2022, Emma Johnson, a data scientist from IBM, presented a keynote speech at the AI Summit in New York.\n",
            "The conference was attended by professionals from Google, Microsoft, and OpenAI.\n",
            "Dr. Alan Smith from Stanford University discussed the future of AGI.\n",
            "Meanwhile, Elon Musk tweeted about the progress at Tesla and SpaceX.\n",
            "Back in Europe, Anna Müller from the University of Berlin led a study on multilingual NLP.\n",
            "The report was later published in Nature and covered by BBC News and The Guardian.\n",
            "\n"
          ]
        }
      ]
    },
    {
      "cell_type": "code",
      "source": [
        "# 🧩 Step 4: Process the text and extract named entities\n",
        "\n",
        "# Apply the NLP pipeline to the text\n",
        "doc = nlp(text)\n",
        "\n",
        "# Display named entities with labels\n",
        "print(\"\\n🔍 Named Entities Detected:\\n\")\n",
        "for ent in doc.ents:\n",
        "    print(f\"{ent.text:<30} --> {ent.label_:<10} ({spacy.explain(ent.label_)})\")\n"
      ],
      "metadata": {
        "colab": {
          "base_uri": "https://localhost:8080/"
        },
        "id": "Uj_no08mm8mo",
        "outputId": "566589a1-8230-4633-992e-c718fdf2becf"
      },
      "execution_count": 8,
      "outputs": [
        {
          "output_type": "stream",
          "name": "stdout",
          "text": [
            "\n",
            "🔍 Named Entities Detected:\n",
            "\n",
            "June 2022                      --> DATE       (Absolute or relative dates or periods)\n",
            "Emma Johnson                   --> PERSON     (People, including fictional)\n",
            "IBM                            --> ORG        (Companies, agencies, institutions, etc.)\n",
            "the AI Summit                  --> ORG        (Companies, agencies, institutions, etc.)\n",
            "New York                       --> GPE        (Countries, cities, states)\n",
            "Google                         --> ORG        (Companies, agencies, institutions, etc.)\n",
            "Microsoft                      --> ORG        (Companies, agencies, institutions, etc.)\n",
            "OpenAI                         --> GPE        (Countries, cities, states)\n",
            "Alan Smith                     --> PERSON     (People, including fictional)\n",
            "Stanford University            --> ORG        (Companies, agencies, institutions, etc.)\n",
            "AGI                            --> ORG        (Companies, agencies, institutions, etc.)\n",
            "Elon Musk                      --> PERSON     (People, including fictional)\n",
            "Tesla                          --> GPE        (Countries, cities, states)\n",
            "Europe                         --> LOC        (Non-GPE locations, mountain ranges, bodies of water)\n",
            "Anna Müller                    --> PERSON     (People, including fictional)\n",
            "the University of Berlin       --> ORG        (Companies, agencies, institutions, etc.)\n",
            "NLP                            --> ORG        (Companies, agencies, institutions, etc.)\n",
            "Nature                         --> WORK_OF_ART (Titles of books, songs, etc.)\n",
            "BBC News                       --> ORG        (Companies, agencies, institutions, etc.)\n"
          ]
        }
      ]
    },
    {
      "cell_type": "code",
      "source": [
        "# 🧩 Step 5 (Optional): Visualize entities using displaCy\n",
        "\n",
        "from spacy import displacy\n",
        "\n",
        "# Visualize named entities in a Jupyter cell\n",
        "displacy.render(doc, style=\"ent\", jupyter=True)\n"
      ],
      "metadata": {
        "colab": {
          "base_uri": "https://localhost:8080/",
          "height": 262
        },
        "id": "exeIUh6Qm-Hw",
        "outputId": "9d30e90d-c387-49d0-ffce-a70cf83f1d83"
      },
      "execution_count": 9,
      "outputs": [
        {
          "output_type": "display_data",
          "data": {
            "text/plain": [
              "<IPython.core.display.HTML object>"
            ],
            "text/html": [
              "<span class=\"tex2jax_ignore\"><div class=\"entities\" style=\"line-height: 2.5; direction: ltr\"><br>In \n",
              "<mark class=\"entity\" style=\"background: #bfe1d9; padding: 0.45em 0.6em; margin: 0 0.25em; line-height: 1; border-radius: 0.35em;\">\n",
              "    June 2022\n",
              "    <span style=\"font-size: 0.8em; font-weight: bold; line-height: 1; border-radius: 0.35em; vertical-align: middle; margin-left: 0.5rem\">DATE</span>\n",
              "</mark>\n",
              ", \n",
              "<mark class=\"entity\" style=\"background: #aa9cfc; padding: 0.45em 0.6em; margin: 0 0.25em; line-height: 1; border-radius: 0.35em;\">\n",
              "    Emma Johnson\n",
              "    <span style=\"font-size: 0.8em; font-weight: bold; line-height: 1; border-radius: 0.35em; vertical-align: middle; margin-left: 0.5rem\">PERSON</span>\n",
              "</mark>\n",
              ", a data scientist from \n",
              "<mark class=\"entity\" style=\"background: #7aecec; padding: 0.45em 0.6em; margin: 0 0.25em; line-height: 1; border-radius: 0.35em;\">\n",
              "    IBM\n",
              "    <span style=\"font-size: 0.8em; font-weight: bold; line-height: 1; border-radius: 0.35em; vertical-align: middle; margin-left: 0.5rem\">ORG</span>\n",
              "</mark>\n",
              ", presented a keynote speech at \n",
              "<mark class=\"entity\" style=\"background: #7aecec; padding: 0.45em 0.6em; margin: 0 0.25em; line-height: 1; border-radius: 0.35em;\">\n",
              "    the AI Summit\n",
              "    <span style=\"font-size: 0.8em; font-weight: bold; line-height: 1; border-radius: 0.35em; vertical-align: middle; margin-left: 0.5rem\">ORG</span>\n",
              "</mark>\n",
              " in \n",
              "<mark class=\"entity\" style=\"background: #feca74; padding: 0.45em 0.6em; margin: 0 0.25em; line-height: 1; border-radius: 0.35em;\">\n",
              "    New York\n",
              "    <span style=\"font-size: 0.8em; font-weight: bold; line-height: 1; border-radius: 0.35em; vertical-align: middle; margin-left: 0.5rem\">GPE</span>\n",
              "</mark>\n",
              ".<br>The conference was attended by professionals from \n",
              "<mark class=\"entity\" style=\"background: #7aecec; padding: 0.45em 0.6em; margin: 0 0.25em; line-height: 1; border-radius: 0.35em;\">\n",
              "    Google\n",
              "    <span style=\"font-size: 0.8em; font-weight: bold; line-height: 1; border-radius: 0.35em; vertical-align: middle; margin-left: 0.5rem\">ORG</span>\n",
              "</mark>\n",
              ", \n",
              "<mark class=\"entity\" style=\"background: #7aecec; padding: 0.45em 0.6em; margin: 0 0.25em; line-height: 1; border-radius: 0.35em;\">\n",
              "    Microsoft\n",
              "    <span style=\"font-size: 0.8em; font-weight: bold; line-height: 1; border-radius: 0.35em; vertical-align: middle; margin-left: 0.5rem\">ORG</span>\n",
              "</mark>\n",
              ", and \n",
              "<mark class=\"entity\" style=\"background: #feca74; padding: 0.45em 0.6em; margin: 0 0.25em; line-height: 1; border-radius: 0.35em;\">\n",
              "    OpenAI\n",
              "    <span style=\"font-size: 0.8em; font-weight: bold; line-height: 1; border-radius: 0.35em; vertical-align: middle; margin-left: 0.5rem\">GPE</span>\n",
              "</mark>\n",
              ".<br>Dr. \n",
              "<mark class=\"entity\" style=\"background: #aa9cfc; padding: 0.45em 0.6em; margin: 0 0.25em; line-height: 1; border-radius: 0.35em;\">\n",
              "    Alan Smith\n",
              "    <span style=\"font-size: 0.8em; font-weight: bold; line-height: 1; border-radius: 0.35em; vertical-align: middle; margin-left: 0.5rem\">PERSON</span>\n",
              "</mark>\n",
              " from \n",
              "<mark class=\"entity\" style=\"background: #7aecec; padding: 0.45em 0.6em; margin: 0 0.25em; line-height: 1; border-radius: 0.35em;\">\n",
              "    Stanford University\n",
              "    <span style=\"font-size: 0.8em; font-weight: bold; line-height: 1; border-radius: 0.35em; vertical-align: middle; margin-left: 0.5rem\">ORG</span>\n",
              "</mark>\n",
              " discussed the future of \n",
              "<mark class=\"entity\" style=\"background: #7aecec; padding: 0.45em 0.6em; margin: 0 0.25em; line-height: 1; border-radius: 0.35em;\">\n",
              "    AGI\n",
              "    <span style=\"font-size: 0.8em; font-weight: bold; line-height: 1; border-radius: 0.35em; vertical-align: middle; margin-left: 0.5rem\">ORG</span>\n",
              "</mark>\n",
              ".<br>Meanwhile, \n",
              "<mark class=\"entity\" style=\"background: #aa9cfc; padding: 0.45em 0.6em; margin: 0 0.25em; line-height: 1; border-radius: 0.35em;\">\n",
              "    Elon Musk\n",
              "    <span style=\"font-size: 0.8em; font-weight: bold; line-height: 1; border-radius: 0.35em; vertical-align: middle; margin-left: 0.5rem\">PERSON</span>\n",
              "</mark>\n",
              " tweeted about the progress at \n",
              "<mark class=\"entity\" style=\"background: #feca74; padding: 0.45em 0.6em; margin: 0 0.25em; line-height: 1; border-radius: 0.35em;\">\n",
              "    Tesla\n",
              "    <span style=\"font-size: 0.8em; font-weight: bold; line-height: 1; border-radius: 0.35em; vertical-align: middle; margin-left: 0.5rem\">GPE</span>\n",
              "</mark>\n",
              " and SpaceX.<br>Back in \n",
              "<mark class=\"entity\" style=\"background: #ff9561; padding: 0.45em 0.6em; margin: 0 0.25em; line-height: 1; border-radius: 0.35em;\">\n",
              "    Europe\n",
              "    <span style=\"font-size: 0.8em; font-weight: bold; line-height: 1; border-radius: 0.35em; vertical-align: middle; margin-left: 0.5rem\">LOC</span>\n",
              "</mark>\n",
              ", \n",
              "<mark class=\"entity\" style=\"background: #aa9cfc; padding: 0.45em 0.6em; margin: 0 0.25em; line-height: 1; border-radius: 0.35em;\">\n",
              "    Anna Müller\n",
              "    <span style=\"font-size: 0.8em; font-weight: bold; line-height: 1; border-radius: 0.35em; vertical-align: middle; margin-left: 0.5rem\">PERSON</span>\n",
              "</mark>\n",
              " from \n",
              "<mark class=\"entity\" style=\"background: #7aecec; padding: 0.45em 0.6em; margin: 0 0.25em; line-height: 1; border-radius: 0.35em;\">\n",
              "    the University of Berlin\n",
              "    <span style=\"font-size: 0.8em; font-weight: bold; line-height: 1; border-radius: 0.35em; vertical-align: middle; margin-left: 0.5rem\">ORG</span>\n",
              "</mark>\n",
              " led a study on multilingual \n",
              "<mark class=\"entity\" style=\"background: #7aecec; padding: 0.45em 0.6em; margin: 0 0.25em; line-height: 1; border-radius: 0.35em;\">\n",
              "    NLP\n",
              "    <span style=\"font-size: 0.8em; font-weight: bold; line-height: 1; border-radius: 0.35em; vertical-align: middle; margin-left: 0.5rem\">ORG</span>\n",
              "</mark>\n",
              ".<br>The report was later published in \n",
              "<mark class=\"entity\" style=\"background: #f0d0ff; padding: 0.45em 0.6em; margin: 0 0.25em; line-height: 1; border-radius: 0.35em;\">\n",
              "    Nature\n",
              "    <span style=\"font-size: 0.8em; font-weight: bold; line-height: 1; border-radius: 0.35em; vertical-align: middle; margin-left: 0.5rem\">WORK_OF_ART</span>\n",
              "</mark>\n",
              " and covered by \n",
              "<mark class=\"entity\" style=\"background: #7aecec; padding: 0.45em 0.6em; margin: 0 0.25em; line-height: 1; border-radius: 0.35em;\">\n",
              "    BBC News\n",
              "    <span style=\"font-size: 0.8em; font-weight: bold; line-height: 1; border-radius: 0.35em; vertical-align: middle; margin-left: 0.5rem\">ORG</span>\n",
              "</mark>\n",
              " and The Guardian.<br></div></span>"
            ]
          },
          "metadata": {}
        }
      ]
    },
    {
      "cell_type": "markdown",
      "source": [
        "#✅ Learning Outcomes\n",
        "Understand how to set up and run spaCy’s NER pipeline.\n",
        "\n",
        "Practice on medium-sized synthetic data.\n",
        "\n",
        "Identify PERSON, ORG, GPE, DATE, and other entity types.\n",
        "\n",
        "Visualize NER with displacy."
      ],
      "metadata": {
        "id": "KbvPEv-anCvw"
      }
    },
    {
      "cell_type": "code",
      "source": [],
      "metadata": {
        "id": "1u1uBwGSm_7Z"
      },
      "execution_count": null,
      "outputs": []
    }
  ]
}