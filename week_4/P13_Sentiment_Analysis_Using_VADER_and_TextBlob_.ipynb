{
  "nbformat": 4,
  "nbformat_minor": 0,
  "metadata": {
    "colab": {
      "provenance": []
    },
    "kernelspec": {
      "name": "python3",
      "display_name": "Python 3"
    },
    "language_info": {
      "name": "python"
    }
  },
  "cells": [
    {
      "cell_type": "code",
      "execution_count": 2,
      "metadata": {
        "colab": {
          "base_uri": "https://localhost:8080/"
        },
        "id": "KHGYNbibfMeX",
        "outputId": "faa61836-b599-4b5b-8e34-768b54df0ad0"
      },
      "outputs": [
        {
          "output_type": "stream",
          "name": "stdout",
          "text": [
            "Collecting vaderSentiment\n",
            "  Downloading vaderSentiment-3.3.2-py2.py3-none-any.whl.metadata (572 bytes)\n",
            "Requirement already satisfied: requests in /usr/local/lib/python3.11/dist-packages (from vaderSentiment) (2.32.3)\n",
            "Requirement already satisfied: charset-normalizer<4,>=2 in /usr/local/lib/python3.11/dist-packages (from requests->vaderSentiment) (3.4.1)\n",
            "Requirement already satisfied: idna<4,>=2.5 in /usr/local/lib/python3.11/dist-packages (from requests->vaderSentiment) (3.10)\n",
            "Requirement already satisfied: urllib3<3,>=1.21.1 in /usr/local/lib/python3.11/dist-packages (from requests->vaderSentiment) (2.3.0)\n",
            "Requirement already satisfied: certifi>=2017.4.17 in /usr/local/lib/python3.11/dist-packages (from requests->vaderSentiment) (2024.12.14)\n",
            "Downloading vaderSentiment-3.3.2-py2.py3-none-any.whl (125 kB)\n",
            "\u001b[?25l   \u001b[90m━━━━━━━━━━━━━━━━━━━━━━━━━━━━━━━━━━━━━━━━\u001b[0m \u001b[32m0.0/126.0 kB\u001b[0m \u001b[31m?\u001b[0m eta \u001b[36m-:--:--\u001b[0m\r\u001b[2K   \u001b[90m━━━━━━━━━━━━━━━━━━━━━━━━━━━━━━━━━━━━━━━━\u001b[0m \u001b[32m126.0/126.0 kB\u001b[0m \u001b[31m9.2 MB/s\u001b[0m eta \u001b[36m0:00:00\u001b[0m\n",
            "\u001b[?25hInstalling collected packages: vaderSentiment\n",
            "Successfully installed vaderSentiment-3.3.2\n"
          ]
        }
      ],
      "source": [
        "!pip install vaderSentiment\n"
      ]
    },
    {
      "cell_type": "markdown",
      "source": [
        "#Sentiment Analysis using VADER\n",
        "\n",
        "VADER (Valence Aware Dictionary and sEntiment Reasoner) is a sentiment analysis tool specifically designed for social media text.\n",
        "\n",
        " It can detect the polarity (positive, negative, or neutral) and the intensity of sentiment in text."
      ],
      "metadata": {
        "id": "Iwdsjzf8jz55"
      }
    },
    {
      "cell_type": "code",
      "source": [
        "# Importing the necessary library for sentiment analysis\n",
        "from vaderSentiment.vaderSentiment import SentimentIntensityAnalyzer\n",
        "\n",
        "# Sample text data representing a variety of sentiments\n",
        "texts = [\n",
        "    \"I love this product! It's amazing!\",  # Positive sentiment\n",
        "    \"This is the worst experience ever.\",  # Negative sentiment\n",
        "    \"I feel neutral about this.\",  # Neutral sentiment\n",
        "    \"I'm so excited! I can't wait to use this!\",  # Positive sentiment with excitement\n",
        "    \"The movie was okay, not great but not bad.\"  # Neutral sentiment with mixed feelings\n",
        "]\n",
        "\n",
        "# Initialize the VADER SentimentIntensityAnalyzer, which analyzes the sentiment of text\n",
        "analyzer = SentimentIntensityAnalyzer()\n",
        "\n",
        "# Loop through each text in the texts list to analyze its sentiment\n",
        "for text in texts:\n",
        "    # Get the sentiment scores for each text. This returns a dictionary of sentiment values.\n",
        "    sentiment_score = analyzer.polarity_scores(text)\n",
        "\n",
        "    # Print the original text\n",
        "    print(f\"Text: {text}\")\n",
        "\n",
        "    # Print the sentiment scores (including negative, neutral, positive, and compound scores)\n",
        "    print(f\"Sentiment Scores: {sentiment_score}\")\n",
        "\n",
        "    # Separator for better readability of output\n",
        "    print(\"-----\")\n"
      ],
      "metadata": {
        "colab": {
          "base_uri": "https://localhost:8080/"
        },
        "id": "aWpRLZuXj2IF",
        "outputId": "58031fa8-8e1a-43c6-8ffd-248107c0559c"
      },
      "execution_count": 5,
      "outputs": [
        {
          "output_type": "stream",
          "name": "stdout",
          "text": [
            "Text: I love this product! It's amazing!\n",
            "Sentiment Scores: {'neg': 0.0, 'neu': 0.318, 'pos': 0.682, 'compound': 0.8619}\n",
            "-----\n",
            "Text: This is the worst experience ever.\n",
            "Sentiment Scores: {'neg': 0.451, 'neu': 0.549, 'pos': 0.0, 'compound': -0.6249}\n",
            "-----\n",
            "Text: I feel neutral about this.\n",
            "Sentiment Scores: {'neg': 0.0, 'neu': 1.0, 'pos': 0.0, 'compound': 0.0}\n",
            "-----\n",
            "Text: I'm so excited! I can't wait to use this!\n",
            "Sentiment Scores: {'neg': 0.0, 'neu': 0.709, 'pos': 0.291, 'compound': 0.5068}\n",
            "-----\n",
            "Text: The movie was okay, not great but not bad.\n",
            "Sentiment Scores: {'neg': 0.161, 'neu': 0.449, 'pos': 0.391, 'compound': 0.4728}\n",
            "-----\n"
          ]
        }
      ]
    },
    {
      "cell_type": "code",
      "source": [],
      "metadata": {
        "id": "C4HXClq_j86v"
      },
      "execution_count": 3,
      "outputs": []
    },
    {
      "cell_type": "markdown",
      "source": [
        "Explanation:\n",
        "\n",
        "SentimentIntensityAnalyzer: The core component of VADER that provides sentiment scores for a given text.\n",
        "\n",
        "polarity_scores(text): This function returns a dictionary with four sentiment scores:\n",
        "\n",
        "positive: Proportion of positive sentiment.\n",
        "\n",
        "neutral: Proportion of neutral sentiment.\n",
        "\n",
        "negative: Proportion of negative sentiment.\n",
        "\n",
        "compound: The overall sentiment score, which is a normalized score ranging from -1 (most negative) to +1 (most positive)."
      ],
      "metadata": {
        "id": "mSxaXpCKkBai"
      }
    },
    {
      "cell_type": "markdown",
      "source": [
        "The compound score can be used to determine the overall sentiment. If the score is greater than 0.05, it is considered positive; less than -0.05 is negative, and between -0.05 and 0.05 is neutral."
      ],
      "metadata": {
        "id": "fIvmluojkPr4"
      }
    },
    {
      "cell_type": "code",
      "source": [],
      "metadata": {
        "id": "81sJGwhhkQhV"
      },
      "execution_count": null,
      "outputs": []
    },
    {
      "cell_type": "markdown",
      "source": [
        "2. Sentiment Analysis using TextBlob\n",
        "\n",
        "TextBlob is another Python library that provides a simple API for performing sentiment analysis.\n",
        "\n",
        "It uses a lexicon-based approach and provides a polarity and subjectivity score.\n",
        "\n",
        "Step-by-step explanation and code for TextBlob:"
      ],
      "metadata": {
        "id": "czAFg0gskS1e"
      }
    },
    {
      "cell_type": "code",
      "source": [],
      "metadata": {
        "id": "sqEJ8QzfkXM-"
      },
      "execution_count": null,
      "outputs": []
    },
    {
      "cell_type": "code",
      "source": [
        "# Importing the necessary library for sentiment analysis\n",
        "from textblob import TextBlob\n",
        "\n",
        "# Sample text data representing different sentiments: positive, negative, neutral, and mixed\n",
        "texts = [\n",
        "    \"I love this product! It's amazing!\",  # Positive sentiment\n",
        "    \"This is the worst experience ever.\",  # Negative sentiment\n",
        "    \"I feel neutral about this.\",  # Neutral sentiment\n",
        "    \"I'm so excited! I can't wait to use this!\",  # Positive sentiment with excitement\n",
        "    \"The movie was okay, not great but not bad.\"  # Neutral sentiment with mixed feelings\n",
        "]\n",
        "\n",
        "# Loop through each text in the texts list to analyze its sentiment\n",
        "for text in texts:\n",
        "    # Create a TextBlob object which can perform various text processing tasks, including sentiment analysis\n",
        "    blob = TextBlob(text)\n",
        "\n",
        "    # Get the sentiment of the text. The sentiment is returned as a tuple (polarity, subjectivity)\n",
        "    sentiment = blob.sentiment\n",
        "\n",
        "    # Print the original text\n",
        "    print(f\"Text: {text}\")\n",
        "\n",
        "    # Print the polarity and subjectivity scores\n",
        "    # Polarity ranges from -1 (negative) to 1 (positive). It represents the sentiment of the text.\n",
        "    # Subjectivity ranges from 0 (objective) to 1 (subjective). It indicates the level of subjectivity.\n",
        "    print(f\"Polarity: {sentiment.polarity}, Subjectivity: {sentiment.subjectivity}\")\n",
        "\n",
        "    # Separator for better readability of output\n",
        "    print(\"-----\")\n"
      ],
      "metadata": {
        "colab": {
          "base_uri": "https://localhost:8080/"
        },
        "id": "KQEdXymskZ_7",
        "outputId": "20ae42be-5588-453a-a954-1cdfd13f38d1"
      },
      "execution_count": 6,
      "outputs": [
        {
          "output_type": "stream",
          "name": "stdout",
          "text": [
            "Text: I love this product! It's amazing!\n",
            "Polarity: 0.6875, Subjectivity: 0.75\n",
            "-----\n",
            "Text: This is the worst experience ever.\n",
            "Polarity: -1.0, Subjectivity: 1.0\n",
            "-----\n",
            "Text: I feel neutral about this.\n",
            "Polarity: 0.0, Subjectivity: 0.0\n",
            "-----\n",
            "Text: I'm so excited! I can't wait to use this!\n",
            "Polarity: 0.5859375, Subjectivity: 0.75\n",
            "-----\n",
            "Text: The movie was okay, not great but not bad.\n",
            "Polarity: 0.14999999999999997, Subjectivity: 0.6388888888888888\n",
            "-----\n"
          ]
        }
      ]
    },
    {
      "cell_type": "code",
      "source": [],
      "metadata": {
        "id": "3A4N4ymXkahm"
      },
      "execution_count": null,
      "outputs": []
    },
    {
      "cell_type": "markdown",
      "source": [
        "Explanation:\n",
        "\n",
        "TextBlob(text): Creates a TextBlob object from the input text.\n",
        "\n",
        "sentiment: This attribute contains a tuple with two values:\n",
        "\n",
        "polarity: Ranges from -1 (negative) to 1 (positive). It measures the sentiment of the text.\n",
        "\n",
        "subjectivity: Ranges from 0 to 1. It indicates whether the text is more subjective (1) or objective (0)."
      ],
      "metadata": {
        "id": "HxH0PNizkeJR"
      }
    },
    {
      "cell_type": "markdown",
      "source": [
        "The polarity score helps us determine whether the sentiment is positive (greater than 0), negative (less than 0), or neutral (0).\n",
        "\n",
        "The subjectivity score indicates how subjective the statement is (closer to 1 means more subjective, while closer to 0 means more objective)."
      ],
      "metadata": {
        "id": "XDzPmH2Mkinb"
      }
    },
    {
      "cell_type": "code",
      "source": [],
      "metadata": {
        "id": "2NODoNbOkjho"
      },
      "execution_count": null,
      "outputs": []
    },
    {
      "cell_type": "markdown",
      "source": [
        "3. Comparison of VADER and TextBlob\n",
        "\n",
        "To summarize, both VADER and TextBlob provide sentiment analysis, but they use different approaches:\n",
        "\n",
        "VADER is specifically designed for social media-like text and works well for short sentences.\n",
        "\n",
        "TextBlob is based on a lexicon and provides both polarity and subjectivity scores, making it better for more traditional, well-formed sentences.\n",
        "\n",
        "![image.png](data:image/png;base64,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)\n",
        "\n"
      ],
      "metadata": {
        "id": "O4HrR0KgkoZJ"
      }
    },
    {
      "cell_type": "code",
      "source": [],
      "metadata": {
        "id": "dulF39Lmkweq"
      },
      "execution_count": null,
      "outputs": []
    },
    {
      "cell_type": "markdown",
      "source": [
        "Conclusion\n",
        "\n",
        "Both VADER and TextBlob offer simple yet effective sentiment analysis tools. The choice between them depends on your use case:\n",
        "\n",
        "For analyzing social media posts or short text (with lots of slang or emojis), VADER performs better.\n",
        "\n",
        "For analyzing longer, formal text or determining both polarity and subjectivity, TextBlob is a good choice."
      ],
      "metadata": {
        "id": "Z93lXWYJk1FH"
      }
    },
    {
      "cell_type": "code",
      "source": [],
      "metadata": {
        "id": "00DFwXHVk28e"
      },
      "execution_count": null,
      "outputs": []
    },
    {
      "cell_type": "markdown",
      "source": [
        "Full Code for Sentiment Analysis Using VADER and TextBlob:"
      ],
      "metadata": {
        "id": "lDHWC4o-lJeV"
      }
    },
    {
      "cell_type": "code",
      "source": [
        "# VADER Sentiment Analysis\n",
        "from vaderSentiment.vaderSentiment import SentimentIntensityAnalyzer\n",
        "\n",
        "texts = [\n",
        "    \"I love this product! It's amazing!\",\n",
        "    \"This is the worst experience ever.\",\n",
        "    \"I feel neutral about this.\",\n",
        "    \"I'm so excited! I can't wait to use this!\",\n",
        "    \"The movie was okay, not great but not bad.\"\n",
        "]\n",
        "\n",
        "# Initialize VADER Sentiment Analyzer\n",
        "analyzer = SentimentIntensityAnalyzer()\n",
        "\n",
        "print(\"VADER Sentiment Analysis:\\n\")\n",
        "for text in texts:\n",
        "    sentiment_score = analyzer.polarity_scores(text)\n",
        "    print(f\"Text: {text}\")\n",
        "    print(f\"Sentiment Scores: {sentiment_score}\")\n",
        "    print(\"-----\")\n",
        "\n",
        "# TextBlob Sentiment Analysis\n",
        "from textblob import TextBlob\n",
        "\n",
        "print(\"TextBlob Sentiment Analysis:\\n\")\n",
        "for text in texts:\n",
        "    blob = TextBlob(text)\n",
        "    sentiment = blob.sentiment\n",
        "    print(f\"Text: {text}\")\n",
        "    print(f\"Polarity: {sentiment.polarity}, Subjectivity: {sentiment.subjectivity}\")\n",
        "    print(\"-----\")\n"
      ],
      "metadata": {
        "colab": {
          "base_uri": "https://localhost:8080/"
        },
        "id": "tKuKmxJ6lJ8x",
        "outputId": "cb1e320d-3fcc-41af-d9ed-26508efd1830"
      },
      "execution_count": 7,
      "outputs": [
        {
          "output_type": "stream",
          "name": "stdout",
          "text": [
            "VADER Sentiment Analysis:\n",
            "\n",
            "Text: I love this product! It's amazing!\n",
            "Sentiment Scores: {'neg': 0.0, 'neu': 0.318, 'pos': 0.682, 'compound': 0.8619}\n",
            "-----\n",
            "Text: This is the worst experience ever.\n",
            "Sentiment Scores: {'neg': 0.451, 'neu': 0.549, 'pos': 0.0, 'compound': -0.6249}\n",
            "-----\n",
            "Text: I feel neutral about this.\n",
            "Sentiment Scores: {'neg': 0.0, 'neu': 1.0, 'pos': 0.0, 'compound': 0.0}\n",
            "-----\n",
            "Text: I'm so excited! I can't wait to use this!\n",
            "Sentiment Scores: {'neg': 0.0, 'neu': 0.709, 'pos': 0.291, 'compound': 0.5068}\n",
            "-----\n",
            "Text: The movie was okay, not great but not bad.\n",
            "Sentiment Scores: {'neg': 0.161, 'neu': 0.449, 'pos': 0.391, 'compound': 0.4728}\n",
            "-----\n",
            "TextBlob Sentiment Analysis:\n",
            "\n",
            "Text: I love this product! It's amazing!\n",
            "Polarity: 0.6875, Subjectivity: 0.75\n",
            "-----\n",
            "Text: This is the worst experience ever.\n",
            "Polarity: -1.0, Subjectivity: 1.0\n",
            "-----\n",
            "Text: I feel neutral about this.\n",
            "Polarity: 0.0, Subjectivity: 0.0\n",
            "-----\n",
            "Text: I'm so excited! I can't wait to use this!\n",
            "Polarity: 0.5859375, Subjectivity: 0.75\n",
            "-----\n",
            "Text: The movie was okay, not great but not bad.\n",
            "Polarity: 0.14999999999999997, Subjectivity: 0.6388888888888888\n",
            "-----\n"
          ]
        }
      ]
    },
    {
      "cell_type": "code",
      "source": [],
      "metadata": {
        "id": "T9Kfg_iYlLFh"
      },
      "execution_count": null,
      "outputs": []
    }
  ]
}