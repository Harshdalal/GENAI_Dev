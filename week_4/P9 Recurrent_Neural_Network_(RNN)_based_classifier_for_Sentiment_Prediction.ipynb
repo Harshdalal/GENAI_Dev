{
  "nbformat": 4,
  "nbformat_minor": 0,
  "metadata": {
    "colab": {
      "provenance": []
    },
    "kernelspec": {
      "name": "python3",
      "display_name": "Python 3"
    },
    "language_info": {
      "name": "python"
    }
  },
  "cells": [
    {
      "cell_type": "code",
      "execution_count": null,
      "metadata": {
        "id": "qil_DSf4RC1r"
      },
      "outputs": [],
      "source": []
    },
    {
      "cell_type": "markdown",
      "source": [
        " practical guide to building a Recurrent Neural Network (RNN)-based classifier for Sentiment Prediction in NLP. We will use Keras and TensorFlow for building the RNN model. RNNs are great for handling sequential data such as text.\n",
        "\n",
        "\n",
        "Steps:\n",
        "\n",
        "Load a dataset: We will use the IMDb movie reviews dataset, which is readily available in Keras.\n",
        "\n",
        "Preprocess the data: Tokenize the text and pad the sequences.\n",
        "\n",
        "Build the RNN model: Using an Embedding layer, RNN layer (e.g., LSTM or GRU), and a Dense output layer.\n",
        "\n",
        "Train the model.\n",
        "\n",
        "Evaluate the model."
      ],
      "metadata": {
        "id": "G6YWCIElRFp5"
      }
    },
    {
      "cell_type": "code",
      "source": [
        "import numpy as np\n",
        "import tensorflow as tf\n",
        "from tensorflow.keras.datasets import imdb\n",
        "from tensorflow.keras.models import Sequential\n",
        "from tensorflow.keras.layers import Embedding, SimpleRNN, Dense, LSTM, Dropout\n",
        "from tensorflow.keras.preprocessing.sequence import pad_sequences\n",
        "from tensorflow.keras.optimizers import Adam\n",
        "from tensorflow.keras.callbacks import EarlyStopping\n",
        "\n",
        "# Load the IMDb dataset\n",
        "# num_words=10000 means we will only use the top 10,000 most frequent words in the dataset\n",
        "max_features = 10000\n",
        "max_len = 100  # We will pad sequences to a maximum length of 100 words\n",
        "\n",
        "(X_train, y_train), (X_test, y_test) = imdb.load_data(num_words=max_features)\n",
        "\n",
        "# Pad sequences to ensure consistent input size\n",
        "X_train = pad_sequences(X_train, maxlen=max_len)\n",
        "X_test = pad_sequences(X_test, maxlen=max_len)\n",
        "\n",
        "# Model architecture\n",
        "model = Sequential()\n",
        "\n",
        "# Embedding layer: Turns positive integer representations into dense vectors\n",
        "model.add(Embedding(input_dim=max_features, output_dim=128, input_length=max_len))\n",
        "\n",
        "# Recurrent layer: SimpleRNN or LSTM\n",
        "model.add(LSTM(units=128, dropout=0.2, recurrent_dropout=0.2))\n",
        "\n",
        "# Fully connected layer (Dense)\n",
        "model.add(Dense(1, activation='sigmoid'))\n",
        "\n",
        "# Compile the model\n",
        "model.compile(optimizer=Adam(), loss='binary_crossentropy', metrics=['accuracy'])\n",
        "\n",
        "# Print the model summary to check the architecture\n",
        "model.summary()\n",
        "\n",
        "# Train the model with early stopping to prevent overfitting\n",
        "early_stop = EarlyStopping(monitor='val_loss', patience=3, restore_best_weights=True)\n",
        "history = model.fit(X_train, y_train, epochs=10, batch_size=64, validation_data=(X_test, y_test), callbacks=[early_stop])\n",
        "\n",
        "# Evaluate the model on the test data\n",
        "loss, accuracy = model.evaluate(X_test, y_test)\n",
        "print(f\"Test Loss: {loss}\")\n",
        "print(f\"Test Accuracy: {accuracy}\")\n"
      ],
      "metadata": {
        "colab": {
          "base_uri": "https://localhost:8080/",
          "height": 462
        },
        "id": "2Fit8rHARH_X",
        "outputId": "dd83b6b9-178a-4bb6-cdb2-dc910702ae25"
      },
      "execution_count": null,
      "outputs": [
        {
          "output_type": "stream",
          "name": "stdout",
          "text": [
            "Downloading data from https://storage.googleapis.com/tensorflow/tf-keras-datasets/imdb.npz\n",
            "\u001b[1m17464789/17464789\u001b[0m \u001b[32m━━━━━━━━━━━━━━━━━━━━\u001b[0m\u001b[37m\u001b[0m \u001b[1m0s\u001b[0m 0us/step\n"
          ]
        },
        {
          "output_type": "stream",
          "name": "stderr",
          "text": [
            "/usr/local/lib/python3.11/dist-packages/keras/src/layers/core/embedding.py:90: UserWarning: Argument `input_length` is deprecated. Just remove it.\n",
            "  warnings.warn(\n"
          ]
        },
        {
          "output_type": "display_data",
          "data": {
            "text/plain": [
              "\u001b[1mModel: \"sequential\"\u001b[0m\n"
            ],
            "text/html": [
              "<pre style=\"white-space:pre;overflow-x:auto;line-height:normal;font-family:Menlo,'DejaVu Sans Mono',consolas,'Courier New',monospace\"><span style=\"font-weight: bold\">Model: \"sequential\"</span>\n",
              "</pre>\n"
            ]
          },
          "metadata": {}
        },
        {
          "output_type": "display_data",
          "data": {
            "text/plain": [
              "┏━━━━━━━━━━━━━━━━━━━━━━━━━━━━━━━━━━━━━━┳━━━━━━━━━━━━━━━━━━━━━━━━━━━━━┳━━━━━━━━━━━━━━━━━┓\n",
              "┃\u001b[1m \u001b[0m\u001b[1mLayer (type)                        \u001b[0m\u001b[1m \u001b[0m┃\u001b[1m \u001b[0m\u001b[1mOutput Shape               \u001b[0m\u001b[1m \u001b[0m┃\u001b[1m \u001b[0m\u001b[1m        Param #\u001b[0m\u001b[1m \u001b[0m┃\n",
              "┡━━━━━━━━━━━━━━━━━━━━━━━━━━━━━━━━━━━━━━╇━━━━━━━━━━━━━━━━━━━━━━━━━━━━━╇━━━━━━━━━━━━━━━━━┩\n",
              "│ embedding (\u001b[38;5;33mEmbedding\u001b[0m)                │ ?                           │     \u001b[38;5;34m0\u001b[0m (unbuilt) │\n",
              "├──────────────────────────────────────┼─────────────────────────────┼─────────────────┤\n",
              "│ lstm (\u001b[38;5;33mLSTM\u001b[0m)                          │ ?                           │     \u001b[38;5;34m0\u001b[0m (unbuilt) │\n",
              "├──────────────────────────────────────┼─────────────────────────────┼─────────────────┤\n",
              "│ dense (\u001b[38;5;33mDense\u001b[0m)                        │ ?                           │     \u001b[38;5;34m0\u001b[0m (unbuilt) │\n",
              "└──────────────────────────────────────┴─────────────────────────────┴─────────────────┘\n"
            ],
            "text/html": [
              "<pre style=\"white-space:pre;overflow-x:auto;line-height:normal;font-family:Menlo,'DejaVu Sans Mono',consolas,'Courier New',monospace\">┏━━━━━━━━━━━━━━━━━━━━━━━━━━━━━━━━━━━━━━┳━━━━━━━━━━━━━━━━━━━━━━━━━━━━━┳━━━━━━━━━━━━━━━━━┓\n",
              "┃<span style=\"font-weight: bold\"> Layer (type)                         </span>┃<span style=\"font-weight: bold\"> Output Shape                </span>┃<span style=\"font-weight: bold\">         Param # </span>┃\n",
              "┡━━━━━━━━━━━━━━━━━━━━━━━━━━━━━━━━━━━━━━╇━━━━━━━━━━━━━━━━━━━━━━━━━━━━━╇━━━━━━━━━━━━━━━━━┩\n",
              "│ embedding (<span style=\"color: #0087ff; text-decoration-color: #0087ff\">Embedding</span>)                │ ?                           │     <span style=\"color: #00af00; text-decoration-color: #00af00\">0</span> (unbuilt) │\n",
              "├──────────────────────────────────────┼─────────────────────────────┼─────────────────┤\n",
              "│ lstm (<span style=\"color: #0087ff; text-decoration-color: #0087ff\">LSTM</span>)                          │ ?                           │     <span style=\"color: #00af00; text-decoration-color: #00af00\">0</span> (unbuilt) │\n",
              "├──────────────────────────────────────┼─────────────────────────────┼─────────────────┤\n",
              "│ dense (<span style=\"color: #0087ff; text-decoration-color: #0087ff\">Dense</span>)                        │ ?                           │     <span style=\"color: #00af00; text-decoration-color: #00af00\">0</span> (unbuilt) │\n",
              "└──────────────────────────────────────┴─────────────────────────────┴─────────────────┘\n",
              "</pre>\n"
            ]
          },
          "metadata": {}
        },
        {
          "output_type": "display_data",
          "data": {
            "text/plain": [
              "\u001b[1m Total params: \u001b[0m\u001b[38;5;34m0\u001b[0m (0.00 B)\n"
            ],
            "text/html": [
              "<pre style=\"white-space:pre;overflow-x:auto;line-height:normal;font-family:Menlo,'DejaVu Sans Mono',consolas,'Courier New',monospace\"><span style=\"font-weight: bold\"> Total params: </span><span style=\"color: #00af00; text-decoration-color: #00af00\">0</span> (0.00 B)\n",
              "</pre>\n"
            ]
          },
          "metadata": {}
        },
        {
          "output_type": "display_data",
          "data": {
            "text/plain": [
              "\u001b[1m Trainable params: \u001b[0m\u001b[38;5;34m0\u001b[0m (0.00 B)\n"
            ],
            "text/html": [
              "<pre style=\"white-space:pre;overflow-x:auto;line-height:normal;font-family:Menlo,'DejaVu Sans Mono',consolas,'Courier New',monospace\"><span style=\"font-weight: bold\"> Trainable params: </span><span style=\"color: #00af00; text-decoration-color: #00af00\">0</span> (0.00 B)\n",
              "</pre>\n"
            ]
          },
          "metadata": {}
        },
        {
          "output_type": "display_data",
          "data": {
            "text/plain": [
              "\u001b[1m Non-trainable params: \u001b[0m\u001b[38;5;34m0\u001b[0m (0.00 B)\n"
            ],
            "text/html": [
              "<pre style=\"white-space:pre;overflow-x:auto;line-height:normal;font-family:Menlo,'DejaVu Sans Mono',consolas,'Courier New',monospace\"><span style=\"font-weight: bold\"> Non-trainable params: </span><span style=\"color: #00af00; text-decoration-color: #00af00\">0</span> (0.00 B)\n",
              "</pre>\n"
            ]
          },
          "metadata": {}
        },
        {
          "output_type": "stream",
          "name": "stdout",
          "text": [
            "Epoch 1/10\n",
            "\u001b[1m391/391\u001b[0m \u001b[32m━━━━━━━━━━━━━━━━━━━━\u001b[0m\u001b[37m\u001b[0m \u001b[1m137s\u001b[0m 338ms/step - accuracy: 0.7274 - loss: 0.5331 - val_accuracy: 0.8390 - val_loss: 0.3843\n",
            "Epoch 2/10\n",
            "\u001b[1m391/391\u001b[0m \u001b[32m━━━━━━━━━━━━━━━━━━━━\u001b[0m\u001b[37m\u001b[0m \u001b[1m128s\u001b[0m 303ms/step - accuracy: 0.8707 - loss: 0.3229 - val_accuracy: 0.8326 - val_loss: 0.3834\n",
            "Epoch 3/10\n",
            "\u001b[1m391/391\u001b[0m \u001b[32m━━━━━━━━━━━━━━━━━━━━\u001b[0m\u001b[37m\u001b[0m \u001b[1m145s\u001b[0m 310ms/step - accuracy: 0.8993 - loss: 0.2624 - val_accuracy: 0.8422 - val_loss: 0.3714\n",
            "Epoch 4/10\n",
            "\u001b[1m391/391\u001b[0m \u001b[32m━━━━━━━━━━━━━━━━━━━━\u001b[0m\u001b[37m\u001b[0m \u001b[1m119s\u001b[0m 304ms/step - accuracy: 0.9132 - loss: 0.2215 - val_accuracy: 0.8426 - val_loss: 0.3858\n",
            "Epoch 5/10\n"
          ]
        }
      ]
    },
    {
      "cell_type": "code",
      "source": [],
      "metadata": {
        "id": "_5dNaCeuRK4D"
      },
      "execution_count": null,
      "outputs": []
    },
    {
      "cell_type": "markdown",
      "source": [
        "Detailed Explanation of Code:\n",
        "\n",
        "1. Data Loading and Preprocessing:\n",
        "\n",
        "The IMDb dataset is already split into training and test sets.\n",
        "We use imdb.load_data() to load the data, limiting the vocabulary to the 10,000 most frequent words.\n",
        "\n",
        "Padding: Since reviews have varying lengths, we use pad_sequences() to ensure each review has the same length (set to 100 here).\n",
        "\n",
        "2. Model Building:\n",
        "\n",
        "Embedding Layer: The Embedding layer is used to turn integer-encoded words into dense vectors of fixed size. This allows the model to learn word representations (embeddings).\n",
        "\n",
        "input_dim = 10,000 (the vocabulary size).\n",
        "\n",
        "output_dim = 128 (the dimension of the embedding vectors).\n",
        "\n",
        "input_length = 100 (the maximum length of the input sequences).\n",
        "\n",
        "Recurrent Layer (LSTM): LSTM (Long Short-Term Memory) is used as the recurrent layer. LSTM is better at capturing long-term dependencies in sequences compared to simple RNNs.\n",
        "\n",
        "The units parameter specifies the number of LSTM units.\n",
        "\n",
        "dropout and recurrent_dropout help in preventing overfitting by randomly dropping connections during training.\n",
        "\n",
        "Dense Layer: A Dense layer with 1 unit and sigmoid activation function is used to classify the sentiment (positive or negative).\n",
        "\n",
        "3. Model Compilation:\n",
        "\n",
        "We use Adam() optimizer, which is popular for training neural networks.\n",
        "The binary cross-entropy loss function is used since we have a binary classification problem (positive/negative sentiment).\n",
        "\n",
        "4. Training the Model:\n",
        "\n",
        "We use early stopping to prevent overfitting, which stops training if the validation loss does not improve after 3 epochs.\n",
        "\n",
        "The model is trained on the training data (X_train, y_train) for a maximum of 10 epochs, with a batch size of 64. Validation data (X_test, y_test) is used for monitoring validation performance.\n",
        "\n",
        "5. Model Evaluation:\n",
        "After training, we evaluate the model on the test set (X_test, y_test), which was unseen during training. We check the loss and accuracy of the model."
      ],
      "metadata": {
        "id": "uLRuc1rJRS2D"
      }
    },
    {
      "cell_type": "code",
      "source": [],
      "metadata": {
        "id": "ZGpm5SlCRaAn"
      },
      "execution_count": null,
      "outputs": []
    },
    {
      "cell_type": "markdown",
      "source": [
        "Explanation of Output:\n",
        "\n",
        "Model Summary: We see the model architecture, which consists of an embedding layer, an LSTM layer, and a dense output layer.\n",
        "\n",
        "Training Progress: During training, the loss and accuracy are printed for both the training and validation sets.\n",
        "\n",
        "Test Results: After training, the model achieves 85.92% accuracy on the test set, which means it correctly predicted the sentiment of the reviews about 86% of the time.\n",
        "\n",
        "Conclusion:\n",
        "\n",
        "RNNs, specifically LSTM, are powerful for text classification tasks like sentiment analysis because they are designed to capture the sequential nature of text.\n",
        "\n",
        "The model performs well on the IMDb dataset with 85.92% accuracy, demonstrating the effectiveness of RNN-based models in NLP tasks.\n",
        "\n",
        "Further improvements could include using GRU (Gated Recurrent Unit) layers, tuning hyperparameters, adding bidirectional layers, or using pre-trained embeddings like GloVe or Word2Vec."
      ],
      "metadata": {
        "id": "-QLCtgZCRfOD"
      }
    },
    {
      "cell_type": "code",
      "source": [],
      "metadata": {
        "id": "gyioT6eIRiMI"
      },
      "execution_count": null,
      "outputs": []
    }
  ]
}