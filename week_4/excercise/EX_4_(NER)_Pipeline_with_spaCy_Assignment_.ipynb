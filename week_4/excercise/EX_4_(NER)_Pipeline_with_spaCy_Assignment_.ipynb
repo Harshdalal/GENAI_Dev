{
  "cells": [
    {
      "cell_type": "markdown",
      "metadata": {
        "id": "bVC72UMPwbCA"
      },
      "source": [
        "# Named Entity Recognition (NER) Pipeline with spaCy Assignment"
      ]
    },
    {
      "cell_type": "markdown",
      "metadata": {
        "id": "uqj2Ae0ywbCC"
      },
      "source": [
        "## Introduction\n",
        "**Named Entity Recognition (NER)** is a fundamental task in Natural Language Processing (NLP) that involves identifying and classifying named entities in text into pre-defined categories such as person names, organizations, locations, dates, monetary values, etc. It's a crucial step for information extraction, question answering, and many other NLP applications.\n",
        "\n",
        "In this assignment, you will build and explore an NER pipeline using **spaCy**, a highly optimized and efficient NLP library for Python. spaCy offers pre-trained models that can perform NER out-of-the-box, as well as tools to customize and extend its capabilities.\n",
        "\n",
        "---"
      ]
    },
    {
      "cell_type": "markdown",
      "metadata": {
        "id": "54MRHsTiwbCD"
      },
      "source": [
        "## Learning Objectives\n",
        "Upon completion of this assignment, you should be able to:\n",
        "- Load and use pre-trained spaCy models for Named Entity Recognition.\n",
        "- Extract and interpret entities (text, label, span) from a document.\n",
        "- Visualize NER results using `displacy`.\n",
        "- Understand common spaCy entity types.\n",
        "- Implement rule-based custom NER using `EntityRuler`.\n",
        "- Discuss the challenges and real-world applications of NER.\n",
        "\n",
        "---"
      ]
    },
    {
      "cell_type": "markdown",
      "metadata": {
        "id": "30LUuBUfwbCE"
      },
      "source": [
        "## Setup and Sample Data\n",
        "We will start by loading the necessary spaCy model. Ensure you have installed spaCy (`pip install spacy`) and downloaded a model (e.g., `python -m spacy download en_core_web_sm`).\n",
        "\n",
        "We'll use a few sample sentences for demonstration. For training a statistical custom NER model, you would typically need a large, *annotated* dataset, which is beyond the scope of this assignment's direct implementation, but we'll discuss it.\n",
        "\n",
        "---"
      ]
    },
    {
      "cell_type": "code",
      "execution_count": null,
      "metadata": {
        "id": "9_6eJkwiwbCF"
      },
      "outputs": [],
      "source": [
        "import spacy\n",
        "from spacy import displacy\n",
        "\n",
        "print(f\"spaCy Version: {spacy.__version__}\")\n",
        "\n",
        "# Load a pre-trained English model\n",
        "try:\n",
        "    nlp = spacy.load('en_core_web_sm')\n",
        "    print(\"\\nspaCy model 'en_core_web_sm' loaded successfully.\")\n",
        "except OSError:\n",
        "    print(\"\\nDownloading spaCy model 'en_core_web_sm'...\")\n",
        "    spacy.cli.download('en_core_web_sm')\n",
        "    nlp = spacy.load('en_core_web_sm')\n",
        "\n",
        "# Sample texts for the assignment\n",
        "sample_texts = [\n",
        "    \"Apple Inc. was founded by Steve Jobs, Steve Wozniak, and Ronald Wayne on April 1, 1976, in Cupertino, California.\",\n",
        "    \"Google's CEO Sundar Pichai announced a new AI initiative in Mountain View, California, promising billions in investment by 2025.\",\n",
        "    \"Dr. Emily White, a senior researcher at the Oxford University, presented her findings on quantum physics at the recent conference in London.\",\n",
        "    \"Tesla is planning to open a new Gigafactory in Texas, creating thousands of jobs and boosting its production capacity by 50%.\",\n",
        "    \"The United Nations will hold its next general assembly in New York City, discussing global climate action. France will attend.\",\n",
        "    \"My new MacBook Pro, bought for $2500, has 16GB RAM. I love its speed.\"\n",
        "]\n",
        "\n",
        "print(\"\\nSample texts loaded. Total texts:\", len(sample_texts))\n",
        "print(\"\\nFirst sample text:\\n\", sample_texts[0])\n",
        "\n",
        "---"
      ]
    },
    {
      "cell_type": "markdown",
      "metadata": {
        "id": "TW88Zph8wbCH"
      },
      "source": [
        "## Assignment Questions\n",
        "\n",
        "---"
      ]
    },
    {
      "cell_type": "markdown",
      "metadata": {
        "id": "hFFbRTtWwbCI"
      },
      "source": [
        "### Question 1: Basic NER with Pre-trained Model\n",
        "Use the loaded `en_core_web_sm` model to perform NER on the first `sample_text`.\n",
        "\n",
        "1.  **Process the Text:** Pass `sample_texts[0]` through the `nlp` pipeline to create a `Doc` object.\n",
        "2.  **Extract Entities:** Iterate through `doc.ents` and print the `text`, `label_`, and `start_char`/`end_char` for each detected entity.\n",
        "3.  **Visualize Entities:** Use `displacy.render()` to visualize the entities in the text. (Set `jupyter=True` if running in Jupyter for inline rendering).\n",
        "\n",
        "---"
      ]
    },
    {
      "cell_type": "code",
      "execution_count": null,
      "metadata": {
        "id": "ncURxIQzwbCI"
      },
      "outputs": [],
      "source": []
    },
    {
      "cell_type": "markdown",
      "metadata": {
        "id": "Ov1xenW1wbCJ"
      },
      "source": [
        "---"
      ]
    },
    {
      "cell_type": "markdown",
      "metadata": {
        "id": "UUwrb8YnwbCJ"
      },
      "source": [
        "### Question 2: Understanding spaCy Entity Types\n",
        "spaCy's pre-trained models recognize a variety of entity types.\n",
        "\n",
        "1.  **List Entity Types:** Print all the entity types (labels) that the `en_core_web_sm` model can recognize. You can typically find this in the model's documentation or by inspecting `nlp.get_pipe('ner').labels`.\n",
        "2.  **Describe 3 Entity Types:** Choose any three entity types that were *not* present in the output of Question 1 and briefly describe what they represent (e.g., `GPE`, `PRODUCT`, `EVENT`).\n",
        "\n",
        "---"
      ]
    },
    {
      "cell_type": "code",
      "execution_count": null,
      "metadata": {
        "id": "sueHLKh1wbCK"
      },
      "outputs": [],
      "source": []
    },
    {
      "cell_type": "markdown",
      "metadata": {
        "id": "N7z_-F_XwbCK"
      },
      "source": []
    },
    {
      "cell_type": "markdown",
      "metadata": {
        "id": "tRz2XTF2wbCK"
      },
      "source": [
        "---"
      ]
    },
    {
      "cell_type": "markdown",
      "metadata": {
        "id": "2Ud9RqDVwbCK"
      },
      "source": [
        "### Question 3: Custom NER with `EntityRuler` (Rule-based)\n",
        "Sometimes, pre-trained models might miss specific entities or you might need to recognize custom entity types not present in the standard labels. `EntityRuler` allows you to add rule-based entities to your pipeline.\n",
        "\n",
        "Imagine you want to extract `SOFTWARE_PRODUCT` entities, like \"MacBook Pro\" or \"Windows 11\", and `JOB_TITLE` entities like \"senior researcher\" or \"CEO\" more reliably.\n",
        "\n",
        "1.  **Create an `EntityRuler`:** Initialize an `EntityRuler`.\n",
        "2.  **Define Patterns:** Create a list of patterns for at least 2 `SOFTWARE_PRODUCT` entities and 2 `JOB_TITLE` entities. Patterns are dictionaries with `label` and `pattern` keys. The `pattern` is a list of token dictionaries.\n",
        "    * Example for `SOFTWARE_PRODUCT`: `{'label': 'SOFTWARE_PRODUCT', 'pattern': [{'TEXT': 'MacBook'}, {'TEXT': 'Pro'}]}`\n",
        "    * Example for `JOB_TITLE`: `{'label': 'JOB_TITLE', 'pattern': [{'LOWER': 'senior'}, {'LOWER': 'researcher'}]}`\n",
        "3.  **Add Ruler to Pipeline:** Add the `entity_ruler` to your `nlp` pipeline *before* the existing `ner` component (using `nlp.add_pipe('entity_ruler', before='ner')`). This ensures your rules take precedence or augment the existing NER.\n",
        "4.  **Test and Visualize:** Process `sample_texts[5]` (the MacBook Pro example) and `sample_texts[1]` (the CEO example) with the *modified* pipeline. Print and visualize the detected entities using `displacy.render()`. Check if your new entity types are correctly identified.\n",
        "\n",
        "**Note:** If you add the ruler *after* `ner`, `ner` might already have identified some of your custom entities with different labels. Placing it `before` or `after` depends on desired behavior.\n",
        "\n",
        "---"
      ]
    },
    {
      "cell_type": "code",
      "execution_count": null,
      "metadata": {
        "id": "aVj3GEoawbCL"
      },
      "outputs": [],
      "source": []
    },
    {
      "cell_type": "markdown",
      "metadata": {
        "id": "aIxNeiNjwbCL"
      },
      "source": [
        "---"
      ]
    },
    {
      "cell_type": "markdown",
      "metadata": {
        "id": "OpJEaicEwbCL"
      },
      "source": [
        "### Question 4: Advanced NER Concepts (Discussion)\n",
        "Training a full statistical custom NER model from scratch involves more steps than rule-based approaches.\n",
        "\n",
        "1.  **Data Annotation:** Briefly describe why data annotation is critical for training a statistical NER model. What tools or approaches are commonly used for this?\n",
        "2.  **Training Process (High-Level):** Outline the high-level steps involved in training a statistical custom NER model with spaCy (e.g., data format, training loop, evaluation).\n",
        "3.  **Evaluation Metrics for NER:** Beyond simple accuracy, what specific metrics are commonly used to evaluate NER models (e.g., Precision, Recall, F1-score for entities)? Why are they important?\n",
        "\n",
        "---"
      ]
    },
    {
      "cell_type": "markdown",
      "metadata": {
        "id": "lSq-dPrOwbCL"
      },
      "source": []
    },
    {
      "cell_type": "markdown",
      "metadata": {
        "id": "5lnX5SgFwbCM"
      },
      "source": [
        "---"
      ]
    },
    {
      "cell_type": "markdown",
      "metadata": {
        "id": "qtihjyzhwbCM"
      },
      "source": [
        "### Question 5: Applications of NER\n",
        "Named Entity Recognition has numerous practical applications across various industries.\n",
        "\n",
        "1.  **Information Extraction:** Describe how NER can be used for automated information extraction from unstructured text (e.g., resumes, legal documents).\n",
        "2.  **Search and Recommendation:** How can NER enhance search functionality or recommendation systems?\n",
        "3.  **Customer Support/Chatbots:** Provide an example of how NER can improve customer support or chatbot interactions.\n",
        "\n",
        "---"
      ]
    },
    {
      "cell_type": "markdown",
      "metadata": {
        "id": "1IrTdAxowbCM"
      },
      "source": []
    },
    {
      "cell_type": "markdown",
      "metadata": {
        "id": "1LlDz64GwbCM"
      },
      "source": [
        "## Submission Guidelines\n",
        "- Ensure your notebook runs without errors from top to bottom.\n",
        "- Save your notebook as `your_name_spacy_ner_assignment.ipynb`.\n",
        "- Clearly answer all questions and provide explanations where requested in Markdown cells.\n",
        "- Feel free to add additional code cells or markdown cells for clarity or experimentation.\n",
        "\n",
        "---"
      ]
    }
  ],
  "metadata": {
    "kernelspec": {
      "display_name": "Python 3",
      "language": "python",
      "name": "python3"
    },
    "language_info": {
      "codemirror_mode": {
        "name": "ipython",
        "version": 3
      },
      "file_extension": ".py",
      "mimetype": "text/x-python",
      "name": "python",
      "nbconvert_exporter": "python",
      "pygments_lexer": "ipython3",
      "version": "3.9.7"
    },
    "colab": {
      "provenance": []
    }
  },
  "nbformat": 4,
  "nbformat_minor": 0
}