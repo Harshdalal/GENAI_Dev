{
  "nbformat": 4,
  "nbformat_minor": 0,
  "metadata": {
    "colab": {
      "provenance": []
    },
    "kernelspec": {
      "name": "python3",
      "display_name": "Python 3"
    },
    "language_info": {
      "name": "python"
    }
  },
  "cells": [
    {
      "cell_type": "markdown",
      "source": [
        "Practical: Implementing Bag of Words (BoW) and TF-IDF using Scikit-Learn"
      ],
      "metadata": {
        "id": "fx394FaLFnh_"
      }
    },
    {
      "cell_type": "markdown",
      "source": [
        "#Objective:\n",
        "To understand and implement the Bag of Words (BoW) model and TF-IDF (Term Frequency-Inverse Document Frequency) model for text data using Python's sklearn library."
      ],
      "metadata": {
        "id": "8gcJmggVFqMQ"
      }
    },
    {
      "cell_type": "markdown",
      "source": [
        "#Dataset:\n",
        "We will create a small, unique dataset containing product reviews from a fictional online store. Each review will contain descriptive text of the product, and we will use this dataset to apply both BoW and TF-IDF techniques."
      ],
      "metadata": {
        "id": "YPKCy3AqFrqM"
      }
    },
    {
      "cell_type": "markdown",
      "source": [
        "#Dataset Creation:\n",
        "Here is a sample dataset with product reviews:"
      ],
      "metadata": {
        "id": "hmXJBcKrFwFF"
      }
    },
    {
      "cell_type": "code",
      "source": [
        "documents = [\n",
        "    \"This phone has an excellent camera\",\n",
        "    \"I love the screen quality of this laptop\",\n",
        "    \"The tablet is light and easy to carry around\",\n",
        "    \"Amazing sound quality from the speaker\",\n",
        "    \"The camera quality is amazing, best phone camera\",\n",
        "    \"Battery life of this phone lasts longer than expected\",\n",
        "    \"The laptop is very fast and has a great processor\",\n",
        "    \"The speaker has very clear sound and good bass\",\n",
        "    \"I would recommend this tablet to anyone looking for portability\",\n",
        "    \"This phone is very user friendly and fast\"\n",
        "]\n"
      ],
      "metadata": {
        "id": "mt5dLoTbFw1F"
      },
      "execution_count": 1,
      "outputs": []
    },
    {
      "cell_type": "markdown",
      "source": [
        "Steps to Implement BoW and TF-IDF\n",
        "1. Import necessary libraries:"
      ],
      "metadata": {
        "id": "iz04pWNcF0-E"
      }
    },
    {
      "cell_type": "code",
      "source": [
        "from sklearn.feature_extraction.text import CountVectorizer, TfidfVectorizer\n",
        "import pandas as pd\n"
      ],
      "metadata": {
        "id": "VP0FLA39F2Cd"
      },
      "execution_count": 2,
      "outputs": []
    },
    {
      "cell_type": "markdown",
      "source": [
        "2. Create the dataset:"
      ],
      "metadata": {
        "id": "191OQZKkGA8y"
      }
    },
    {
      "cell_type": "code",
      "source": [
        "documents = [\n",
        "    \"This phone has an excellent camera\",\n",
        "    \"I love the screen quality of this laptop\",\n",
        "    \"The tablet is light and easy to carry around\",\n",
        "    \"Amazing sound quality from the speaker\",\n",
        "    \"The camera quality is amazing, best phone camera\",\n",
        "    \"Battery life of this phone lasts longer than expected\",\n",
        "    \"The laptop is very fast and has a great processor\",\n",
        "    \"The speaker has very clear sound and good bass\",\n",
        "    \"I would recommend this tablet to anyone looking for portability\",\n",
        "    \"This phone is very user friendly and fast\"\n",
        "]"
      ],
      "metadata": {
        "id": "QVbu9mU_GDEa"
      },
      "execution_count": 3,
      "outputs": []
    },
    {
      "cell_type": "markdown",
      "source": [
        "2. Bag of Words (BoW):\n",
        "\n",
        "CountVectorizer() is used to convert the text into a \"bag\" of word counts.\n",
        "fit_transform() learns the vocabulary of the documents and returns a sparse matrix containing the counts of each word across all documents.\n",
        "We then convert this sparse matrix into a Pandas DataFrame to display the word counts in a readable format."
      ],
      "metadata": {
        "id": "ggsBrTqeG32T"
      }
    },
    {
      "cell_type": "markdown",
      "source": [
        "3. Implement Bag of Words (BoW) Model:"
      ],
      "metadata": {
        "id": "AdabQfS7GI8a"
      }
    },
    {
      "cell_type": "code",
      "source": [
        "# Initialize CountVectorizer (BoW)\n",
        "bow_vectorizer = CountVectorizer()\n",
        "\n",
        "# Fit and transform the documents to get the BoW representation\n",
        "# This step creates a matrix of word counts for each document\n",
        "bow_matrix = bow_vectorizer.fit_transform(documents)\n",
        "\n",
        "# Convert the BoW matrix to a DataFrame for better visualization\n",
        "# The DataFrame will display the word counts for each word in the vocabulary\n",
        "bow_df = pd.DataFrame(bow_matrix.toarray(), columns=bow_vectorizer.get_feature_names_out())\n",
        "\n",
        "# Display the BoW representation\n",
        "print(\"BoW Representation:\")\n",
        "print(bow_df)"
      ],
      "metadata": {
        "colab": {
          "base_uri": "https://localhost:8080/"
        },
        "id": "nnUjmC21GJcD",
        "outputId": "c962dac8-9dae-4704-c73c-7282712e332d"
      },
      "execution_count": 6,
      "outputs": [
        {
          "output_type": "stream",
          "name": "stdout",
          "text": [
            "BoW Representation:\n",
            "   amazing  an  and  anyone  around  bass  battery  best  camera  carry  ...  \\\n",
            "0        0   1    0       0       0     0        0     0       1      0  ...   \n",
            "1        0   0    0       0       0     0        0     0       0      0  ...   \n",
            "2        0   0    1       0       1     0        0     0       0      1  ...   \n",
            "3        1   0    0       0       0     0        0     0       0      0  ...   \n",
            "4        1   0    0       0       0     0        0     1       2      0  ...   \n",
            "5        0   0    0       0       0     0        1     0       0      0  ...   \n",
            "6        0   0    1       0       0     0        0     0       0      0  ...   \n",
            "7        0   0    1       0       0     1        0     0       0      0  ...   \n",
            "8        0   0    0       1       0     0        0     0       0      0  ...   \n",
            "9        0   0    1       0       0     0        0     0       0      0  ...   \n",
            "\n",
            "   sound  speaker  tablet  than  the  this  to  user  very  would  \n",
            "0      0        0       0     0    0     1   0     0     0      0  \n",
            "1      0        0       0     0    1     1   0     0     0      0  \n",
            "2      0        0       1     0    1     0   1     0     0      0  \n",
            "3      1        1       0     0    1     0   0     0     0      0  \n",
            "4      0        0       0     0    1     0   0     0     0      0  \n",
            "5      0        0       0     1    0     1   0     0     0      0  \n",
            "6      0        0       0     0    1     0   0     0     1      0  \n",
            "7      1        1       0     0    1     0   0     0     1      0  \n",
            "8      0        0       1     0    0     1   1     0     0      1  \n",
            "9      0        0       0     0    0     1   0     1     1      0  \n",
            "\n",
            "[10 rows x 46 columns]\n"
          ]
        }
      ]
    },
    {
      "cell_type": "code",
      "source": [],
      "metadata": {
        "id": "D7qFz0kPGKq9"
      },
      "execution_count": null,
      "outputs": []
    },
    {
      "cell_type": "markdown",
      "source": [
        "This will show a matrix where rows correspond to documents, and columns correspond to unique words. Each cell contains the count of occurrences of that word in the document."
      ],
      "metadata": {
        "id": "xbBx8KUNGNG_"
      }
    },
    {
      "cell_type": "code",
      "source": [],
      "metadata": {
        "id": "O79pkhUgGNip"
      },
      "execution_count": null,
      "outputs": []
    },
    {
      "cell_type": "markdown",
      "source": [
        "3. TF-IDF (Term Frequency-Inverse Document Frequency):\n",
        "\n",
        "TfidfVectorizer() is used to convert the text into a matrix of TF-IDF features.\n",
        "TF-IDF adjusts the frequency of each word by considering how common or rare the word is in the entire corpus of documents.\n",
        "Again, the resulting sparse matrix is converted into a DataFrame for visualization."
      ],
      "metadata": {
        "id": "e0xuDtN6G9-D"
      }
    },
    {
      "cell_type": "markdown",
      "source": [
        "4. Implement TF-IDF Model:"
      ],
      "metadata": {
        "id": "ChOIZz6qGQQh"
      }
    },
    {
      "cell_type": "code",
      "source": [
        "# Initialize TfidfVectorizer\n",
        "# This vectorizer will compute the TF-IDF scores for each word in each document\n",
        "tfidf_vectorizer = TfidfVectorizer()\n",
        "\n",
        "# Fit and transform the documents to get the TF-IDF representation\n",
        "# This step creates a matrix of TF-IDF scores for each document\n",
        "tfidf_matrix = tfidf_vectorizer.fit_transform(documents)\n",
        "\n",
        "# Convert the TF-IDF matrix to a DataFrame\n",
        "# The DataFrame will display the TF-IDF scores for each word in the vocabulary\n",
        "tfidf_df = pd.DataFrame(tfidf_matrix.toarray(), columns=tfidf_vectorizer.get_feature_names_out())\n",
        "\n",
        "# Display the TF-IDF representation\n",
        "print(\"\\nTF-IDF Representation:\")\n",
        "print(tfidf_df)"
      ],
      "metadata": {
        "colab": {
          "base_uri": "https://localhost:8080/"
        },
        "id": "3ZUFeVfSGQp-",
        "outputId": "fd30d0d5-0fc2-4c0e-ba72-dde880ea0745"
      },
      "execution_count": 7,
      "outputs": [
        {
          "output_type": "stream",
          "name": "stdout",
          "text": [
            "\n",
            "TF-IDF Representation:\n",
            "    amazing        an       and    anyone    around      bass   battery  \\\n",
            "0  0.000000  0.495948  0.000000  0.000000  0.000000  0.000000  0.000000   \n",
            "1  0.000000  0.000000  0.000000  0.000000  0.000000  0.000000  0.000000   \n",
            "2  0.000000  0.000000  0.257228  0.000000  0.389015  0.000000  0.000000   \n",
            "3  0.424553  0.000000  0.000000  0.000000  0.000000  0.000000  0.000000   \n",
            "4  0.337907  0.000000  0.000000  0.000000  0.000000  0.000000  0.000000   \n",
            "5  0.000000  0.000000  0.000000  0.000000  0.000000  0.000000  0.364844   \n",
            "6  0.000000  0.000000  0.276614  0.000000  0.000000  0.000000  0.000000   \n",
            "7  0.000000  0.000000  0.263922  0.000000  0.000000  0.399139  0.000000   \n",
            "8  0.000000  0.000000  0.000000  0.358105  0.000000  0.000000  0.000000   \n",
            "9  0.000000  0.000000  0.297498  0.000000  0.000000  0.000000  0.000000   \n",
            "\n",
            "       best    camera     carry  ...     sound   speaker    tablet      than  \\\n",
            "0  0.000000  0.421601  0.000000  ...  0.000000  0.000000  0.000000  0.000000   \n",
            "1  0.000000  0.000000  0.000000  ...  0.000000  0.000000  0.000000  0.000000   \n",
            "2  0.000000  0.000000  0.389015  ...  0.000000  0.000000  0.330699  0.000000   \n",
            "3  0.000000  0.000000  0.000000  ...  0.424553  0.424553  0.000000  0.000000   \n",
            "4  0.397494  0.675813  0.000000  ...  0.000000  0.000000  0.000000  0.000000   \n",
            "5  0.000000  0.000000  0.000000  ...  0.000000  0.000000  0.000000  0.364844   \n",
            "6  0.000000  0.000000  0.000000  ...  0.000000  0.000000  0.000000  0.000000   \n",
            "7  0.000000  0.000000  0.000000  ...  0.339305  0.339305  0.000000  0.000000   \n",
            "8  0.000000  0.000000  0.000000  ...  0.000000  0.000000  0.304422  0.000000   \n",
            "9  0.000000  0.000000  0.000000  ...  0.000000  0.000000  0.000000  0.000000   \n",
            "\n",
            "        the      this        to      user      very     would  \n",
            "0  0.000000  0.294504  0.000000  0.000000  0.000000  0.000000  \n",
            "1  0.249236  0.275697  0.000000  0.000000  0.000000  0.000000  \n",
            "2  0.208834  0.000000  0.330699  0.000000  0.000000  0.000000  \n",
            "3  0.268103  0.000000  0.000000  0.000000  0.000000  0.000000  \n",
            "4  0.213386  0.000000  0.000000  0.000000  0.000000  0.000000  \n",
            "5  0.000000  0.216652  0.000000  0.000000  0.000000  0.000000  \n",
            "6  0.224573  0.000000  0.000000  0.000000  0.311126  0.000000  \n",
            "7  0.214269  0.000000  0.000000  0.000000  0.296852  0.000000  \n",
            "8  0.000000  0.212650  0.304422  0.000000  0.000000  0.358105  \n",
            "9  0.000000  0.267170  0.000000  0.449918  0.334617  0.000000  \n",
            "\n",
            "[10 rows x 46 columns]\n"
          ]
        }
      ]
    },
    {
      "cell_type": "code",
      "source": [],
      "metadata": {
        "id": "7toyStb_GR5N"
      },
      "execution_count": null,
      "outputs": []
    },
    {
      "cell_type": "markdown",
      "source": [
        "This will show a matrix where rows correspond to documents and columns correspond to unique words. Each cell contains the TF-IDF value for the word in that document.\n",
        "\n",
        "5. Explanation of Output:\n",
        "\n",
        "BoW (Bag of Words): The BoW representation simply counts the number of times a word appears in a document. It doesn’t consider the word order, just the frequency of each word in each document.\n",
        "\n",
        "TF-IDF (Term Frequency-Inverse Document Frequency): The TF-IDF representation is a more advanced version that weighs the word frequency (Term Frequency) by how common or rare the word is across all documents (Inverse Document Frequency). This helps to give more importance to rare words in the documents."
      ],
      "metadata": {
        "id": "MeEAjWDZGWrV"
      }
    },
    {
      "cell_type": "code",
      "source": [],
      "metadata": {
        "id": "rz-DxKkAGXQl"
      },
      "execution_count": null,
      "outputs": []
    },
    {
      "cell_type": "markdown",
      "source": [
        "BoW Output:\n",
        "amazing\tand\tbass\tbattery\tcamera\tclear\teasy\texpected\t...\n",
        "0\t0\t0\t0\t0\t1\t0\t0\t0\t...\n",
        "1\t0\t0\t0\t0\t0\t0\t0\t0\t...\n",
        "2\t0\t1\t0\t0\t0\t0\t1\t0\t...\n",
        "3\t1\t0\t1\t0\t0\t1\t0\t0\t...\n",
        "TF-IDF Output:\n",
        "amazing\tand\tbass\tbattery\tcamera\tclear\teasy\texpected\t...\n",
        "0\t0.5\t0.0\t0.0\t0.0\t0.6\t0.0\t0.0\t0.0\t...\n",
        "1\t0.0\t0.0\t0.0\t0.0\t0.0\t0.0\t0.0\t0.0\t...\n",
        "2\t0.0\t0.4\t0.0\t0.0\t0.0\t0.0\t0.5\t0.0\t...\n",
        "3\t0.6\t0.0\t0.7\t0.0\t0.0\t0.6\t0.0\t0.0\t...\n"
      ],
      "metadata": {
        "id": "RDoEdnqxGcBW"
      }
    },
    {
      "cell_type": "code",
      "source": [],
      "metadata": {
        "id": "xd4ljqaoGcct"
      },
      "execution_count": null,
      "outputs": []
    },
    {
      "cell_type": "markdown",
      "source": [
        "6. Conclusion:\n",
        "\n",
        "Bag of Words (BoW) is simple and useful for basic text classification tasks, where word frequency is the primary focus.\n",
        "TF-IDF is more sophisticated and useful when we want to consider the importance of words across the entire corpus, making it suitable for more nuanced tasks like document similarity, search engines, and information retrieval."
      ],
      "metadata": {
        "id": "OwB92w0xGggp"
      }
    },
    {
      "cell_type": "code",
      "source": [],
      "metadata": {
        "id": "GS3R3M04GhRE"
      },
      "execution_count": null,
      "outputs": []
    }
  ]
}