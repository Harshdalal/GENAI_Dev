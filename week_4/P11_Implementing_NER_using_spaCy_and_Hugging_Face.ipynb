{
  "nbformat": 4,
  "nbformat_minor": 0,
  "metadata": {
    "colab": {
      "provenance": []
    },
    "kernelspec": {
      "name": "python3",
      "display_name": "Python 3"
    },
    "language_info": {
      "name": "python"
    }
  },
  "cells": [
    {
      "cell_type": "code",
      "execution_count": null,
      "metadata": {
        "id": "Up9ZkcDb6mFw"
      },
      "outputs": [],
      "source": []
    },
    {
      "cell_type": "markdown",
      "source": [
        "1. NER with spaCy\n",
        "\n",
        "First, let's implement NER using spaCy, a popular library for NLP tasks."
      ],
      "metadata": {
        "id": "QfN_NBmc7RVX"
      }
    },
    {
      "cell_type": "code",
      "source": [
        "import spacy\n",
        "\n",
        "# Load the small English model in spaCy\n",
        "nlp = spacy.load(\"en_core_web_sm\")\n"
      ],
      "metadata": {
        "id": "NtWr3sfHH8H9"
      },
      "execution_count": 1,
      "outputs": []
    },
    {
      "cell_type": "code",
      "source": [],
      "metadata": {
        "id": "6fLoQVVoH8o1"
      },
      "execution_count": null,
      "outputs": []
    },
    {
      "cell_type": "markdown",
      "source": [
        " Implement NER with spaCy"
      ],
      "metadata": {
        "id": "NKmEr5RlH_Xt"
      }
    },
    {
      "cell_type": "code",
      "source": [
        "# Sample text\n",
        "text = \"Apple is looking at buying U.K. startup for $1 billion\"\n",
        "\n",
        "# Process the text using the loaded model\n",
        "doc = nlp(text)\n",
        "\n",
        "# Print named entities found in the text\n",
        "print(\"Named Entities, Phrases, and Concepts:\")\n",
        "for entity in doc.ents:\n",
        "    print(f\"{entity.text} ({entity.label_})\")\n"
      ],
      "metadata": {
        "colab": {
          "base_uri": "https://localhost:8080/"
        },
        "id": "I4OufZJQH_yt",
        "outputId": "4027fe85-6346-4a70-b01a-51d5bb6bc289"
      },
      "execution_count": 2,
      "outputs": [
        {
          "output_type": "stream",
          "name": "stdout",
          "text": [
            "Named Entities, Phrases, and Concepts:\n",
            "Apple (ORG)\n",
            "U.K. (GPE)\n",
            "$1 billion (MONEY)\n"
          ]
        }
      ]
    },
    {
      "cell_type": "code",
      "source": [],
      "metadata": {
        "id": "shTRHE_uIBFb"
      },
      "execution_count": null,
      "outputs": []
    },
    {
      "cell_type": "markdown",
      "source": [
        "Explanation:\n",
        "\n",
        "nlp is the spaCy model loaded with pre-trained NER capabilities.\n",
        "\n",
        "doc = nlp(text) processes the input text and returns a Doc object, which contains the entities identified in the text.\n",
        "\n",
        "doc.ents gives a list of the named entities found, and we print both the entity text and its type (like PERSON, ORG, MONEY, etc.)."
      ],
      "metadata": {
        "id": "5ughrM5-IDNf"
      }
    },
    {
      "cell_type": "code",
      "source": [],
      "metadata": {
        "id": "JN8sYpJWIEqC"
      },
      "execution_count": null,
      "outputs": []
    },
    {
      "cell_type": "markdown",
      "source": [
        "**NER with Hugging Face's Transformers**\n",
        "\n",
        "Now, let's use Hugging Face's transformers library with a pre-trained model like BERT or RoBERTa for NER."
      ],
      "metadata": {
        "id": "dYjsJI3nIJg5"
      }
    },
    {
      "cell_type": "code",
      "source": [
        "from transformers import pipeline\n",
        "\n",
        "# Load pre-trained NER model from Hugging Face\n",
        "ner_model = pipeline(\"ner\", model=\"dbmdz/bert-large-cased-finetuned-conll03-english\")\n"
      ],
      "metadata": {
        "colab": {
          "base_uri": "https://localhost:8080/"
        },
        "id": "wKqmOcS6ILSM",
        "outputId": "a8b0bf82-117e-417a-9e3e-ea618e2063e3"
      },
      "execution_count": 3,
      "outputs": [
        {
          "output_type": "stream",
          "name": "stderr",
          "text": [
            "/usr/local/lib/python3.11/dist-packages/huggingface_hub/utils/_auth.py:94: UserWarning: \n",
            "The secret `HF_TOKEN` does not exist in your Colab secrets.\n",
            "To authenticate with the Hugging Face Hub, create a token in your settings tab (https://huggingface.co/settings/tokens), set it as secret in your Google Colab and restart your session.\n",
            "You will be able to reuse this secret in all of your notebooks.\n",
            "Please note that authentication is recommended but still optional to access public models or datasets.\n",
            "  warnings.warn(\n",
            "Some weights of the model checkpoint at dbmdz/bert-large-cased-finetuned-conll03-english were not used when initializing BertForTokenClassification: ['bert.pooler.dense.bias', 'bert.pooler.dense.weight']\n",
            "- This IS expected if you are initializing BertForTokenClassification from the checkpoint of a model trained on another task or with another architecture (e.g. initializing a BertForSequenceClassification model from a BertForPreTraining model).\n",
            "- This IS NOT expected if you are initializing BertForTokenClassification from the checkpoint of a model that you expect to be exactly identical (initializing a BertForSequenceClassification model from a BertForSequenceClassification model).\n",
            "Device set to use cpu\n"
          ]
        }
      ]
    },
    {
      "cell_type": "code",
      "source": [],
      "metadata": {
        "id": "GNVMLUBhIM2K"
      },
      "execution_count": null,
      "outputs": []
    },
    {
      "cell_type": "markdown",
      "source": [
        "#Implement NER with Hugging Face"
      ],
      "metadata": {
        "id": "eKpdqbYeIO75"
      }
    },
    {
      "cell_type": "code",
      "source": [
        "# Sample text\n",
        "text = \"Apple is looking at buying U.K. startup for $1 billion\"\n",
        "\n",
        "# Perform NER on the input text\n",
        "entities = ner_model(text)\n",
        "\n",
        "# Print the named entities and their respective labels\n",
        "print(\"Named Entities and Labels:\")\n",
        "for entity in entities:\n",
        "    print(f\"{entity['word']} ({entity['entity']}) - Confidence: {entity['score']}\")\n"
      ],
      "metadata": {
        "colab": {
          "base_uri": "https://localhost:8080/"
        },
        "id": "IYsNdppsIQ6t",
        "outputId": "7e52dfc6-21f5-4996-99ce-36010fc866cc"
      },
      "execution_count": 4,
      "outputs": [
        {
          "output_type": "stream",
          "name": "stdout",
          "text": [
            "Named Entities and Labels:\n",
            "Apple (I-ORG) - Confidence: 0.9990183115005493\n",
            "U (I-LOC) - Confidence: 0.9996721744537354\n",
            "K (I-LOC) - Confidence: 0.997936487197876\n"
          ]
        }
      ]
    },
    {
      "cell_type": "code",
      "source": [],
      "metadata": {
        "id": "mWdvdy13ISl8"
      },
      "execution_count": null,
      "outputs": []
    },
    {
      "cell_type": "markdown",
      "source": [
        "Explanation:\n",
        "\n",
        "pipeline(\"ner\") loads a pre-trained Named Entity Recognition model from Hugging Face.\n",
        "\n",
        "ner_model(text) runs NER on the input text and returns a list of dictionaries with word, entity, and score (confidence of detection).\n",
        "\n",
        "The output includes the word (entity), entity label (e.g., ORG, LOC, MISC), and confidence score.\n",
        "\n"
      ],
      "metadata": {
        "id": "rFVf53KJIXTr"
      }
    },
    {
      "cell_type": "code",
      "source": [],
      "metadata": {
        "id": "Io_hqVlOIbao"
      },
      "execution_count": null,
      "outputs": []
    },
    {
      "cell_type": "markdown",
      "source": [
        "3. Comparison of spaCy and Hugging Face NER Outputs\n",
        "\n",
        "While both spaCy and Hugging Face's transformers model can perform NER, the differences in their outputs can be noticeable.\n",
        "\n",
        "spaCy provides a simple interface to work with and tends to use predefined models. Hugging Face, on the other hand, can offer a broader variety of fine-tuned models, which can often be more accurate and customized for specific tasks."
      ],
      "metadata": {
        "id": "2jAQzpK6IeKn"
      }
    },
    {
      "cell_type": "code",
      "source": [
        "# spaCy output\n",
        "print(\"spaCy NER Output:\")\n",
        "for entity in doc.ents:\n",
        "    print(f\"{entity.text} ({entity.label_})\")\n",
        "\n",
        "# Hugging Face output\n",
        "print(\"\\nHugging Face NER Output:\")\n",
        "for entity in entities:\n",
        "    print(f\"{entity['word']} ({entity['entity']}) - Confidence: {entity['score']}\")\n"
      ],
      "metadata": {
        "colab": {
          "base_uri": "https://localhost:8080/"
        },
        "id": "kAyyCtlkIgEi",
        "outputId": "b1a4bb7f-bd28-4e89-da62-dd77bb80dc28"
      },
      "execution_count": 5,
      "outputs": [
        {
          "output_type": "stream",
          "name": "stdout",
          "text": [
            "spaCy NER Output:\n",
            "Apple (ORG)\n",
            "U.K. (GPE)\n",
            "$1 billion (MONEY)\n",
            "\n",
            "Hugging Face NER Output:\n",
            "Apple (I-ORG) - Confidence: 0.9990183115005493\n",
            "U (I-LOC) - Confidence: 0.9996721744537354\n",
            "K (I-LOC) - Confidence: 0.997936487197876\n"
          ]
        }
      ]
    },
    {
      "cell_type": "code",
      "source": [],
      "metadata": {
        "id": "3eqesWtBIhoy"
      },
      "execution_count": null,
      "outputs": []
    },
    {
      "cell_type": "markdown",
      "source": [
        "Key Differences:\n",
        "\n",
        "spaCy gives more concise output with labels such as \"ORG\", \"PERSON\", and \"GPE\" (Geopolitical Entity).\n",
        "\n",
        "Hugging Face's pipeline gives more detailed output, including confidence scores and more granular entity classification.\n",
        "\n",
        "Conclusion\n",
        "\n",
        "Both spaCy and Hugging Face are excellent tools for Named Entity Recognition, and each has its strengths.\n",
        "\n",
        "spaCy is fast and efficient for common NLP tasks, while Hugging Face’s models can leverage more complex and fine-tuned pre-trained models like BERT, RoBERTa, and others."
      ],
      "metadata": {
        "id": "ihGn-NKHIj9I"
      }
    },
    {
      "cell_type": "code",
      "source": [],
      "metadata": {
        "id": "nQUJ2NogImGa"
      },
      "execution_count": null,
      "outputs": []
    }
  ]
}