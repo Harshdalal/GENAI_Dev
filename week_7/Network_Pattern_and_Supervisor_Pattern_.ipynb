{
  "nbformat": 4,
  "nbformat_minor": 0,
  "metadata": {
    "colab": {
      "provenance": []
    },
    "kernelspec": {
      "name": "python3",
      "display_name": "Python 3"
    },
    "language_info": {
      "name": "python"
    }
  },
  "cells": [
    {
      "cell_type": "markdown",
      "source": [
        "#practical implementation of a Multi-Agent System using LangGraph with: Network Pattern and Supervisor Pattern"
      ],
      "metadata": {
        "id": "eJdU4LkUJSFT"
      }
    },
    {
      "cell_type": "markdown",
      "source": [
        "#🔧 Step 1: Install Required Libraries"
      ],
      "metadata": {
        "id": "u5_YgqotIZTl"
      }
    },
    {
      "cell_type": "code",
      "execution_count": 14,
      "metadata": {
        "id": "BKhHq6ElHBER"
      },
      "outputs": [],
      "source": [
        "# Install the required libraries in Colab (quietly suppressing extra output)\n",
        "!pip install --quiet langchain langgraph google-generativeai\n"
      ]
    },
    {
      "cell_type": "markdown",
      "source": [
        "#🔐 Step 2: Set Environment Variable for Gemini API Key"
      ],
      "metadata": {
        "id": "YZgNQOx7Iehy"
      }
    },
    {
      "cell_type": "code",
      "source": [
        "import os\n",
        "from getpass import getpass\n",
        "\n",
        "# Prompt user to enter their free Google Gemini API key securely\n",
        "# Get the key from: https://makersuite.google.com/app/apikey\n",
        "os.environ[\"GOOGLE_API_KEY\"] = getpass(\"🔑 Enter your Gemini API Key: \")\n"
      ],
      "metadata": {
        "colab": {
          "base_uri": "https://localhost:8080/"
        },
        "id": "RxVkneHCHCeU",
        "outputId": "5c8a55c6-7d37-429b-aa47-3795fb8dd622"
      },
      "execution_count": 15,
      "outputs": [
        {
          "name": "stdout",
          "output_type": "stream",
          "text": [
            "🔑 Enter your Gemini API Key: ··········\n"
          ]
        }
      ]
    },
    {
      "cell_type": "markdown",
      "source": [
        "#🧠 Step 3: Configure Gemini LLM for LangChain"
      ],
      "metadata": {
        "id": "RaKycQjuIiWE"
      }
    },
    {
      "cell_type": "code",
      "source": [
        "from langchain_google_genai import ChatGoogleGenerativeAI\n",
        "from langchain_core.messages import HumanMessage\n",
        "\n",
        "# Initialize Gemini LLM with model \"gemini-1.5-flash\"\n",
        "llm = ChatGoogleGenerativeAI(\n",
        "    model=\"gemini-1.5-flash\",\n",
        "    google_api_key=os.environ[\"GOOGLE_API_KEY\"],\n",
        "    convert_system_message_to_human=True\n",
        ")\n",
        "\n",
        "# Test if Gemini API is working\n",
        "llm.invoke([HumanMessage(content=\"Hello, are you working?\")])\n"
      ],
      "metadata": {
        "colab": {
          "base_uri": "https://localhost:8080/"
        },
        "id": "9O1F1HLZHZOh",
        "outputId": "16900bb6-84f0-4bbb-a2c6-ac86d5ef6287"
      },
      "execution_count": 16,
      "outputs": [
        {
          "output_type": "stream",
          "name": "stderr",
          "text": [
            "/usr/local/lib/python3.11/dist-packages/langchain_google_genai/chat_models.py:483: UserWarning: Convert_system_message_to_human will be deprecated!\n",
            "  warnings.warn(\"Convert_system_message_to_human will be deprecated!\")\n"
          ]
        },
        {
          "output_type": "execute_result",
          "data": {
            "text/plain": [
              "AIMessage(content=\"Yes, I am working.  I'm ready to assist you with your requests.\", additional_kwargs={}, response_metadata={'prompt_feedback': {'block_reason': 0, 'safety_ratings': []}, 'finish_reason': 'STOP', 'model_name': 'gemini-1.5-flash', 'safety_ratings': []}, id='run--7f684e1e-1b7f-43e4-8b0d-925938cc269c-0')"
            ]
          },
          "metadata": {},
          "execution_count": 16
        }
      ]
    },
    {
      "cell_type": "markdown",
      "source": [
        "#🧭 Step 4: Create Agent Functions for Multi-Agent System"
      ],
      "metadata": {
        "id": "2HQL5FduIoon"
      }
    },
    {
      "cell_type": "code",
      "source": [
        "from langchain_core.runnables import Runnable\n",
        "from langgraph.graph import END, StateGraph\n",
        "from typing import TypedDict\n",
        "\n",
        "# Define the structure of the shared agent state\n",
        "class AgentState(TypedDict):\n",
        "    input: str\n",
        "    summary: str\n",
        "    agent_1_response: str\n",
        "    agent_2_response: str\n",
        "\n",
        "# Agent 1: Extracts key points from the input\n",
        "def agent1(state: AgentState):\n",
        "    user_input = state['input']\n",
        "    response = llm.invoke(f\"Extract key points from: {user_input}\")\n",
        "    return {\"agent_1_response\": response.content}\n",
        "\n",
        "# Agent 2: Suggests improvements to the input text\n",
        "def agent2(state: AgentState):\n",
        "    user_input = state['input']\n",
        "    response = llm.invoke(f\"Suggest improvements for the text: {user_input}\")\n",
        "    return {\"agent_2_response\": response.content}\n",
        "\n",
        "# Supervisor: Combines outputs of agent1 and agent2 into a final summary\n",
        "def supervisor(state: AgentState):\n",
        "    combined = f\"Summary:\\n{state['agent_1_response']}\\n\\nSuggestions:\\n{state['agent_2_response']}\"\n",
        "    return {\"summary\": combined}\n"
      ],
      "metadata": {
        "id": "lkfhpGNTH4-B"
      },
      "execution_count": 17,
      "outputs": []
    },
    {
      "cell_type": "markdown",
      "source": [
        "#🔗 Step 5: Define LangGraph Network Pattern (Parallel Agents)"
      ],
      "metadata": {
        "id": "AbsYe4_SIuIO"
      }
    },
    {
      "cell_type": "code",
      "source": [
        "# Create a LangGraph state machine for parallel agent execution\n",
        "network_graph = StateGraph(AgentState)\n",
        "\n",
        "# Add all agent and supervisor nodes\n",
        "network_graph.add_node(\"agent1\", agent1)\n",
        "network_graph.add_node(\"agent2\", agent2)\n",
        "network_graph.add_node(\"supervisor\", supervisor)\n",
        "\n",
        "# Connect agent1 → supervisor and agent2 → supervisor\n",
        "network_graph.add_edge(\"agent1\", \"supervisor\")\n",
        "network_graph.add_edge(\"agent2\", \"supervisor\")\n",
        "\n",
        "# Both agents start execution from the entry point\n",
        "network_graph.set_entry_point(\"agent1\")\n",
        "network_graph.set_entry_point(\"agent2\")\n",
        "\n",
        "# Supervisor is the final node\n",
        "network_graph.set_finish_point(\"supervisor\")\n",
        "\n",
        "# Compile the graph\n",
        "network_app = network_graph.compile()\n"
      ],
      "metadata": {
        "id": "t9x_VtfVH8pN"
      },
      "execution_count": 18,
      "outputs": []
    },
    {
      "cell_type": "markdown",
      "source": [
        "#🧪 Step 6: Test Network Pattern (Parallel Execution)"
      ],
      "metadata": {
        "id": "HW1F32-oI0lF"
      }
    },
    {
      "cell_type": "code",
      "source": [
        "# Sample input text\n",
        "input_text = \"OpenAI's ChatGPT has revolutionized conversational AI by introducing context-aware large language models into mainstream applications.\"\n",
        "\n",
        "# Invoke the parallel agent system\n",
        "result = network_app.invoke({\"input\": input_text})\n",
        "\n",
        "# Print final output from supervisor\n",
        "print(\"📋 Final Output (Network Pattern):\\n\")\n",
        "print(result[\"summary\"])\n"
      ],
      "metadata": {
        "colab": {
          "base_uri": "https://localhost:8080/"
        },
        "id": "MAEZdlGJH_c8",
        "outputId": "ca69b810-4017-4e9b-f609-732548bf8294"
      },
      "execution_count": 19,
      "outputs": [
        {
          "output_type": "stream",
          "name": "stderr",
          "text": [
            "/usr/local/lib/python3.11/dist-packages/langchain_google_genai/chat_models.py:483: UserWarning: Convert_system_message_to_human will be deprecated!\n",
            "  warnings.warn(\"Convert_system_message_to_human will be deprecated!\")\n",
            "/usr/local/lib/python3.11/dist-packages/langchain_google_genai/chat_models.py:483: UserWarning: Convert_system_message_to_human will be deprecated!\n",
            "  warnings.warn(\"Convert_system_message_to_human will be deprecated!\")\n"
          ]
        },
        {
          "output_type": "stream",
          "name": "stdout",
          "text": [
            "📋 Final Output (Network Pattern):\n",
            "\n",
            "Summary:\n",
            "* **ChatGPT revolutionized conversational AI.**  This highlights its significant impact.\n",
            "* **Context-aware large language models.** This explains the technology behind the revolution.\n",
            "* **Mainstream applications.** This points to its widespread adoption and accessibility.\n",
            "\n",
            "Suggestions:\n",
            "Here are a few suggestions for improvement, each with a slightly different emphasis:\n",
            "\n",
            "**Option 1 (More concise):**\n",
            "\n",
            "> ChatGPT, from OpenAI, revolutionized conversational AI by bringing context-aware large language models to mainstream applications.\n",
            "\n",
            "\n",
            "**Option 2 (Emphasis on impact):**\n",
            "\n",
            "> OpenAI's ChatGPT has dramatically reshaped the conversational AI landscape by introducing context-aware large language models to mainstream use.\n",
            "\n",
            "\n",
            "**Option 3 (More specific):**\n",
            "\n",
            "> OpenAI's ChatGPT has revolutionized conversational AI by making context-aware large language models accessible and widely adopted in mainstream applications.\n",
            "\n",
            "\n",
            "**Option 4 (More cautious, acknowledging limitations):**\n",
            "\n",
            "> OpenAI's ChatGPT significantly advanced conversational AI by introducing context-aware large language models into mainstream applications, though challenges remain.\n",
            "\n",
            "\n",
            "The best option depends on the context of where this sentence will be used.  Consider:\n",
            "\n",
            "* **Audience:** Are you writing for technical experts or a general audience?\n",
            "* **Purpose:** Are you aiming for a headline, a summary, or part of a longer explanation?\n",
            "* **Tone:** Do you want to be enthusiastic, cautious, or neutral?\n",
            "\n",
            "\n",
            "For example, option 1 is good for a concise headline, while option 4 is better suited for a more in-depth analysis acknowledging the limitations of the technology.\n"
          ]
        }
      ]
    },
    {
      "cell_type": "markdown",
      "source": [
        "#👮‍♂️ Step 7: Define Supervisor Pattern (Sequential Execution)"
      ],
      "metadata": {
        "id": "zguOYRYTI3xI"
      }
    },
    {
      "cell_type": "code",
      "source": [
        "# New state graph for sequential flow: agent1 → agent2 → supervisor\n",
        "supervisor_graph = StateGraph(AgentState)\n",
        "\n",
        "# Add same nodes\n",
        "supervisor_graph.add_node(\"agent1\", agent1)\n",
        "supervisor_graph.add_node(\"agent2\", agent2)\n",
        "supervisor_graph.add_node(\"supervisor\", supervisor)\n",
        "\n",
        "# Define sequential path\n",
        "supervisor_graph.set_entry_point(\"agent1\")            # Start with agent1\n",
        "supervisor_graph.add_edge(\"agent1\", \"agent2\")          # Then go to agent2\n",
        "supervisor_graph.add_edge(\"agent2\", \"supervisor\")      # Finally go to supervisor\n",
        "\n",
        "# End node\n",
        "supervisor_graph.set_finish_point(\"supervisor\")\n",
        "\n",
        "# Compile supervisor pattern\n",
        "supervisor_app = supervisor_graph.compile()\n"
      ],
      "metadata": {
        "id": "hvdbgJq8IBAS"
      },
      "execution_count": 20,
      "outputs": []
    },
    {
      "cell_type": "markdown",
      "source": [
        "#🧪 Step 8: Test Supervisor Pattern (Sequential Execution)"
      ],
      "metadata": {
        "id": "Vop_LPnQI9WX"
      }
    },
    {
      "cell_type": "code",
      "source": [
        "# Run same input through supervisor-controlled flow\n",
        "result2 = supervisor_app.invoke({\"input\": input_text})\n",
        "\n",
        "# Print result\n",
        "print(\"🧠 Final Output (Supervisor Pattern):\\n\")\n",
        "print(result2[\"summary\"])\n"
      ],
      "metadata": {
        "colab": {
          "base_uri": "https://localhost:8080/"
        },
        "id": "1e402babIFj_",
        "outputId": "4ff99ad3-1afa-4076-eabd-0e68483c7996"
      },
      "execution_count": 21,
      "outputs": [
        {
          "output_type": "stream",
          "name": "stderr",
          "text": [
            "/usr/local/lib/python3.11/dist-packages/langchain_google_genai/chat_models.py:483: UserWarning: Convert_system_message_to_human will be deprecated!\n",
            "  warnings.warn(\"Convert_system_message_to_human will be deprecated!\")\n",
            "/usr/local/lib/python3.11/dist-packages/langchain_google_genai/chat_models.py:483: UserWarning: Convert_system_message_to_human will be deprecated!\n",
            "  warnings.warn(\"Convert_system_message_to_human will be deprecated!\")\n"
          ]
        },
        {
          "output_type": "stream",
          "name": "stdout",
          "text": [
            "🧠 Final Output (Supervisor Pattern):\n",
            "\n",
            "Summary:\n",
            "* **ChatGPT revolutionized conversational AI:**  It significantly advanced the field.\n",
            "* **Context-aware large language models:**  Its core technology is based on these models, allowing for more natural and coherent conversations.\n",
            "* **Mainstream applications:**  ChatGPT's impact extends beyond research and is now used in widely accessible applications.\n",
            "\n",
            "Suggestions:\n",
            "Here are a few suggestions for improving the text, each with a slightly different emphasis:\n",
            "\n",
            "**Option 1 (More concise):**\n",
            "\n",
            "> ChatGPT, from OpenAI, has revolutionized conversational AI by bringing context-aware large language models to mainstream applications.\n",
            "\n",
            "This version is shorter and more direct, prioritizing clarity.\n",
            "\n",
            "**Option 2 (More impactful):**\n",
            "\n",
            "> OpenAI's ChatGPT has revolutionized conversational AI, bringing the power of context-aware large language models to mainstream applications for the first time.\n",
            "\n",
            "This version emphasizes the novelty of ChatGPT's achievement.\n",
            "\n",
            "**Option 3 (More nuanced):**\n",
            "\n",
            "> OpenAI's ChatGPT has significantly advanced conversational AI by introducing context-aware large language models to mainstream applications, impacting [mention a specific area of impact, e.g., customer service, education].\n",
            "\n",
            "This version adds specificity and avoids the potentially overstated \"revolutionized.\"  Replacing \"revolutionized\" with a more measured term is often preferable for greater accuracy and credibility.\n",
            "\n",
            "**Option 4 (More formal):**\n",
            "\n",
            "> The introduction of OpenAI's ChatGPT has marked a significant advancement in conversational AI, enabling the widespread adoption of context-aware large language models.\n",
            "\n",
            "This version is more formal and suitable for academic or professional contexts.\n",
            "\n",
            "\n",
            "The best option depends on the specific context and intended audience.  Consider what aspect of ChatGPT's impact you want to highlight most strongly.\n"
          ]
        }
      ]
    },
    {
      "cell_type": "markdown",
      "source": [
        "#✅ Output Behavior\n",
        "\n",
        "| Agent        | Task                  | Model            |\n",
        "| ------------ | --------------------- | ---------------- |\n",
        "| `agent1`     | Extracts key points   | Gemini 1.5 Flash |\n",
        "| `agent2`     | Suggests improvements | Gemini 1.5 Flash |\n",
        "| `supervisor` | Combines & summarizes | Final Step       |\n"
      ],
      "metadata": {
        "id": "cGahFXX0JBcL"
      }
    },
    {
      "cell_type": "code",
      "source": [],
      "metadata": {
        "id": "QOlUg6AZIOvg"
      },
      "execution_count": 21,
      "outputs": []
    }
  ]
}