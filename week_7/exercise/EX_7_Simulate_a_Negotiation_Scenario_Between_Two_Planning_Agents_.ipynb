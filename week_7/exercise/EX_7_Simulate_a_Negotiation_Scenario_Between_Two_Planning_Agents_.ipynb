{
  "nbformat": 4,
  "nbformat_minor": 5,
  "metadata": {
    "kernelspec": {
      "display_name": "Python 3",
      "language": "python",
      "name": "python3"
    },
    "language_info": {
      "codemirror_mode": {
        "name": "ipython",
        "version": 3
      },
      "file_extension": ".py",
      "mimetype": "text/x-python",
      "name": "python",
      "nbconvert_exporter": "python",
      "pygments_lexer": "ipython3",
      "version": "3.9.18"
    },
    "colab": {
      "provenance": []
    }
  },
  "cells": [
    {
      "cell_type": "markdown",
      "source": [
        "# Assignment: Simulate a Negotiation Scenario Between Two Planning Agents\n",
        "\n",
        "\n",
        "---"
      ],
      "metadata": {
        "id": "RyWMMP35hQLT"
      },
      "id": "RyWMMP35hQLT"
    },
    {
      "cell_type": "markdown",
      "source": [
        "### Objective:\n",
        "This assignment challenges you to design and implement a **negotiation scenario between two AI planning agents** using a multi-agent framework. Each agent will have its own goals, preferences, and a strategy for negotiation. The goal is to observe how these agents interact, propose solutions, and potentially reach a mutually agreeable outcome or a stalemate. This will demonstrate the complexities of multi-agent communication and strategic decision-making in a constrained environment."
      ],
      "metadata": {
        "id": "YVlNe15rhQLW"
      },
      "id": "YVlNe15rhQLW"
    },
    {
      "cell_type": "markdown",
      "source": [
        "---"
      ],
      "metadata": {
        "id": "Uyu7SjAzhQLW"
      },
      "id": "Uyu7SjAzhQLW"
    },
    {
      "cell_type": "markdown",
      "source": [
        "### Instructions:\n",
        "1.  **LLM Access**: You'll need access to an LLM API (e.g., OpenAI's GPT-4o, GPT-4, GPT-3.5-turbo). Configure your API key securely.\n",
        "2.  **Multi-Agent Framework**: **AutoGen** is highly recommended for simulating the agent interactions. Its flexibility in defining roles and conversational patterns makes it ideal for this task.\n",
        "3.  **Scenario: Project Task Allocation Negotiation**: Imagine two project managers (Agent A and Agent B) who need to allocate a set of tasks for an upcoming project. They have different preferences for tasks and deadlines.\n",
        "    * **Agent A's Goal**: Prioritize Task X and complete it by Monday.\n",
        "    * **Agent B's Goal**: Prioritize Task Y and ensure no task extends beyond Wednesday.\n",
        "    * **Tasks**: A list of tasks with estimated efforts and ideal deadlines (e.g., `{'Task A': {'effort': 3, 'deadline': 'Tuesday'}, ...}`).\n",
        "    * **Constraints**: Total effort per agent per day, or combined effort constraints.\n",
        "4.  **Agent Design**: Create at least two `AssistantAgent`s. Each agent should have:\n",
        "    * A distinct **role** and **system message** defining its personality and negotiation objectives.\n",
        "    * The ability to propose a task allocation plan.\n",
        "    * The ability to evaluate a proposal from the other agent against its own goals.\n",
        "    * The ability to counter-propose or accept/reject proposals.\n",
        "    * A mechanism to indicate successful negotiation or a stalemate (e.g., a specific termination message).\n",
        "5.  **User Proxy**: A `UserProxyAgent` will act as an impartial observer or a facilitator, initiating the negotiation and signaling termination.\n",
        "6.  **Jupyter Notebook**: All your code, outputs, observations, and analysis must be documented in this Jupyter Notebook.\n",
        "7.  **Analysis**: Explain your agent design, negotiation strategy, and the observed outcomes. Discuss the challenges and insights gained from simulating this scenario."
      ],
      "metadata": {
        "id": "G17WOfCUhQLX"
      },
      "id": "G17WOfCUhQLX"
    },
    {
      "cell_type": "markdown",
      "source": [
        "---"
      ],
      "metadata": {
        "id": "BUbhrPV3hQLY"
      },
      "id": "BUbhrPV3hQLY"
    },
    {
      "cell_type": "markdown",
      "source": [
        "## Part 1: Setup and LLM Configuration\n",
        "Configure your LLM and install necessary libraries."
      ],
      "metadata": {
        "id": "SnfIzQYzhQLY"
      },
      "id": "SnfIzQYzhQLY"
    },
    {
      "cell_type": "markdown",
      "source": [
        "### Task 1.1: Install Libraries and Configure LLM\n",
        "Install `pyautogen` and `python-dotenv`. Set up your LLM configuration."
      ],
      "metadata": {
        "id": "Z1v8OIt3hQLZ"
      },
      "id": "Z1v8OIt3hQLZ"
    },
    {
      "cell_type": "code",
      "source": [
        "# Install necessary libraries (if not already installed)\n",
        "# !pip install pyautogen python-dotenv --quiet\n",
        "\n",
        "import autogen\n",
        "import os\n",
        "from dotenv import load_dotenv\n",
        "\n",
        "# Load environment variables from .env file\n",
        "load_dotenv()\n",
        "\n",
        "# --- IMPORTANT: Create a .env file in the same directory as this notebook with the line: ---\n",
        "# OPENAI_API_KEY=\"YOUR_OPENAI_API_KEY_HERE\"\n",
        "\n",
        "# Configure LLM (OpenAI model recommended)\n",
        "llm_config = {\n",
        "    \"config_list\": autogen.config_list_from_json(\n",
        "        \"OAI_CONFIG_LIST\",\n",
        "        filter_dict={\n",
        "            \"model\": [\"gpt-4o\", \"gpt-4\", \"gpt-3.5-turbo\"], # Use capable models for negotiation\n",
        "        },\n",
        "    ),\n",
        "    \"temperature\": 0.7, # Higher temperature for more creative negotiation responses\n",
        "}\n",
        "\n",
        "# Fallback if OAI_CONFIG_LIST not found or for direct API key usage\n",
        "if not llm_config[\"config_list\"] and os.getenv(\"OPENAI_API_KEY\"):\n",
        "    print(\"Using OPENAI_API_KEY from environment variable as fallback for LLM config.\")\n",
        "    llm_config[\"config_list\"] = [\n",
        "        {\"model\": os.getenv(\"OPENAI_MODEL_ID\", \"gpt-4o\"), \"api_key\": os.getenv(\"OPENAI_API_KEY\")}\n",
        "    ]\n",
        "elif not llm_config[\"config_list\"]:\n",
        "    print(\"WARNING: No LLM configuration found. Please set OPENAI_API_KEY or create OAI_CONFIG_LIST.\")\n",
        "\n",
        "print(\"AutoGen environment and LLM configured!\")"
      ],
      "outputs": [],
      "metadata": {
        "id": "c6jfCubThQLZ"
      },
      "id": "c6jfCubThQLZ",
      "execution_count": null
    },
    {
      "cell_type": "markdown",
      "source": [
        "### Task 1.2: Define Project Tasks and Deadlines\n",
        "Create a dictionary representing the tasks, their estimated effort (e.g., in person-hours or points), and preferred deadlines. Also define the allowed negotiation parameters (e.g., available days)."
      ],
      "metadata": {
        "id": "JfeiZFBxhQLb"
      },
      "id": "JfeiZFBxhQLb"
    },
    {
      "cell_type": "code",
      "source": [
        "project_tasks = {\n",
        "    \"Task A\": {\"effort\": 5, \"preferred_deadline\": \"Monday\"},\n",
        "    \"Task B\": {\"effort\": 3, \"preferred_deadline\": \"Tuesday\"},\n",
        "    \"Task C\": {\"effort\": 7, \"preferred_deadline\": \"Wednesday\"},\n",
        "    \"Task D\": {\"effort\": 4, \"preferred_deadline\": \"Tuesday\"},\n",
        "    \"Task E\": {\"effort\": 6, \"preferred_deadline\": \"Thursday\"}\n",
        "}\n",
        "\n",
        "available_days = [\"Monday\", \"Tuesday\", \"Wednesday\", \"Thursday\", \"Friday\"]\n",
        "daily_effort_capacity = 10 # Max effort an agent can handle per day\n",
        "\n",
        "print(\"Project tasks and constraints defined!\")"
      ],
      "outputs": [],
      "metadata": {
        "id": "YItaIw8GhQLb"
      },
      "id": "YItaIw8GhQLb",
      "execution_count": null
    },
    {
      "cell_type": "markdown",
      "source": [
        "---"
      ],
      "metadata": {
        "id": "19iCYYzLhQLc"
      },
      "id": "19iCYYzLhQLc"
    },
    {
      "cell_type": "markdown",
      "source": [
        "## Part 2: Design Agents with Negotiation Strategies\n",
        "Create two `AssistantAgent`s, each with distinct goals and a system message that guides its negotiation behavior. You'll also need a `UserProxyAgent` to facilitate."
      ],
      "metadata": {
        "id": "JGCaY0rAhQLc"
      },
      "id": "JGCaY0rAhQLc"
    },
    {
      "cell_type": "markdown",
      "source": [
        "### Task 2.1: `UserProxyAgent` (The Facilitator)\n",
        "This agent will initiate the negotiation and serve as the human interface for observing the conversation. It should be able to terminate the chat."
      ],
      "metadata": {
        "id": "JvVUaT8dhQLc"
      },
      "id": "JvVUaT8dhQLc"
    },
    {
      "cell_type": "code",
      "source": [
        "def is_termination_message(message):\n",
        "    content = message.get(\"content\", \"\").upper()\n",
        "    # Agents should explicitly state 'AGREEMENT REACHED' or 'NO AGREEMENT' for termination\n",
        "    return \"AGREEMENT REACHED\" in content or \"NO AGREEMENT\" in content or \"TERMINATE\" in content\n",
        "\n",
        "user_proxy = autogen.UserProxyAgent(\n",
        "    name=\"Mediator\",\n",
        "    human_input_mode=\"NEVER\", # Set to NEVER for full automation\n",
        "    max_consecutive_auto_reply=20, # Allow ample turns for negotiation\n",
        "    is_termination_msg=is_termination_message,\n",
        "    system_message=(\n",
        "        \"You are an impartial mediator overseeing a task allocation negotiation. \"\n",
        "        \"Your role is to initiate the negotiation, observe the proposals, and allow the agents to reach a conclusion. \"\n",
        "        \"When either 'AGREEMENT REACHED' or 'NO AGREEMENT' is stated by the agents, conclude the chat with 'TERMINATE'.\"\n",
        "    )\n",
        ")\n",
        "\n",
        "print(\"UserProxyAgent 'Mediator' created!\")"
      ],
      "outputs": [],
      "metadata": {
        "id": "wYU2iX4BhQLd"
      },
      "id": "wYU2iX4BhQLd",
      "execution_count": null
    },
    {
      "cell_type": "markdown",
      "source": [
        "### Task 2.2: `AgentA` (Project Manager Alpha)\n",
        "Define `AgentA` with a system message reflecting its specific goals and negotiation approach."
      ],
      "metadata": {
        "id": "4Wv6gdnshQLd"
      },
      "id": "4Wv6gdnshQLd"
    },
    {
      "cell_type": "code",
      "source": [
        "agent_a = autogen.AssistantAgent(\n",
        "    name=\"Project_Manager_Alpha\",\n",
        "    system_message=(\n",
        "        \"You are Project Manager Alpha, a negotiator focused on efficiently allocating tasks for a project. \"\n",
        "        \"Your primary goal is to ensure 'Task A' is completed by Monday and 'Task B' by Tuesday. \"\n",
        "        \"You prefer to take on tasks with higher effort ratings if they align with your deadlines. \"\n",
        "        \"When proposing a plan, list tasks assigned to you and their proposed deadlines. \"\n",
        "        \"You must consider the daily_effort_capacity of 10 points per agent. \"\n",
        "        \"If a satisfactory agreement is reached, state 'AGREEMENT REACHED'. If negotiations reach a deadlock, state 'NO AGREEMENT'.\"\n",
        "    ),\n",
        "    llm_config=llm_config,\n",
        ")\n",
        "\n",
        "print(\"Agent A 'Project_Manager_Alpha' created!\")"
      ],
      "outputs": [],
      "metadata": {
        "id": "1jlscVNPhQLe"
      },
      "id": "1jlscVNPhQLe",
      "execution_count": null
    },
    {
      "cell_type": "markdown",
      "source": [
        "### Task 2.3: `AgentB` (Project Manager Beta)\n",
        "Define `AgentB` with a system message reflecting its specific goals and negotiation approach."
      ],
      "metadata": {
        "id": "SX3rOf4WhQLe"
      },
      "id": "SX3rOf4WhQLe"
    },
    {
      "cell_type": "code",
      "source": [
        "agent_b = autogen.AssistantAgent(\n",
        "    name=\"Project_Manager_Beta\",\n",
        "    system_message=(\n",
        "        \"You are Project Manager Beta, a negotiator focused on ensuring smooth project execution and preventing delays. \"\n",
        "        \"Your primary goal is to ensure 'Task C' is completed by Wednesday and no task extends beyond Thursday. \"\n",
        "        \"You prefer tasks with lower effort ratings if possible, but are flexible for critical tasks. \"\n",
        "        \"When proposing a plan, list tasks assigned to you and their proposed deadlines. \"\n",
        "        \"You must consider the daily_effort_capacity of 10 points per agent. \"\n",
        "        \"If a satisfactory agreement is reached, state 'AGREEMENT REACHED'. If negotiations reach a deadlock, state 'NO AGREEMENT'.\"\n",
        "    ),\n",
        "    llm_config=llm_config,\n",
        ")\n",
        "\n",
        "print(\"Agent B 'Project_Manager_Beta' created!\")"
      ],
      "outputs": [],
      "metadata": {
        "id": "sQPtiC2jhQLe"
      },
      "id": "sQPtiC2jhQLe",
      "execution_count": null
    },
    {
      "cell_type": "markdown",
      "source": [
        "---"
      ],
      "metadata": {
        "id": "_A8mV2HfhQLf"
      },
      "id": "_A8mV2HfhQLf"
    },
    {
      "cell_type": "markdown",
      "source": [
        "## Part 3: Orchestrate the Negotiation\n",
        "Set up the `GroupChat` and `GroupChatManager` to allow the agents to communicate and negotiate."
      ],
      "metadata": {
        "id": "7lOh-NH1hQLf"
      },
      "id": "7lOh-NH1hQLf"
    },
    {
      "cell_type": "markdown",
      "source": [
        "### Task 3.1: Create `GroupChat` and `GroupChatManager`\n",
        "Assemble your agents into a `GroupChat` and manage their conversation. Ensure the agents can freely speak to each other."
      ],
      "metadata": {
        "id": "bo4GSuQxhQLf"
      },
      "id": "bo4GSuQxhQLf"
    },
    {
      "cell_type": "code",
      "source": [
        "agents = [user_proxy, agent_a, agent_b]\n",
        "\n",
        "groupchat = autogen.GroupChat(\n",
        "    agents=agents,\n",
        "    messages=[],\n",
        "    max_round=30, # Allow sufficient turns for negotiation\n",
        "    speaker_selection_method=\"auto\", # AutoGen decides who speaks next\n",
        "    allow_repeat_speaker=False, # Encourage agents to take turns\n",
        ")\n",
        "\n",
        "manager = autogen.GroupChatManager(\n",
        "    groupchat=groupchat,\n",
        "    llm_config=llm_config,\n",
        ")\n",
        "\n",
        "print(\"GroupChat and GroupChatManager created!\")"
      ],
      "outputs": [],
      "metadata": {
        "id": "TzOeUlLdhQLf"
      },
      "id": "TzOeUlLdhQLf",
      "execution_count": null
    },
    {
      "cell_type": "markdown",
      "source": [
        "### Task 3.2: Initiate the Negotiation\n",
        "Start the chat with an initial message from the `Mediator` that sets the stage for the negotiation."
      ],
      "metadata": {
        "id": "e-CBmVxqhQLg"
      },
      "id": "e-CBmVxqhQLg"
    },
    {
      "cell_type": "code",
      "source": [
        "initial_negotiation_message = (\n",
        "    f\"Mediator: Project Managers Alpha and Beta, we need to allocate the following tasks \"\n",
        "    f\"for the upcoming project. The total daily effort capacity for each of you is {daily_effort_capacity} points. \"\n",
        "    f\"Here are the tasks with their effort and preferred deadlines:\\n\\n\"\n",
        "    f\"{project_tasks}\\n\\n\"\n",
        "    f\"Please discuss and propose a task allocation plan that satisfies both your primary goals \"\n",
        "    f\"and the overall project constraints. Once an agreement is reached, state 'AGREEMENT REACHED' \"\n",
        "    f\"and summarize the final plan. If you cannot agree, state 'NO AGREEMENT'. \"\n",
        "    f\"Start your discussion.\"\n",
        ")\n",
        "\n",
        "print(\"\\n--- Initiating Task Allocation Negotiation ---\")\n",
        "\n",
        "chat_history = user_proxy.initiate_chat(\n",
        "    manager, # The manager agent to start the group chat\n",
        "    message=initial_negotiation_message,\n",
        "    clear_history=True, # Clear previous chat history\n",
        "    silent=False, # Keep False to observe conversation flow\n",
        ")\n",
        "\n",
        "print(\"\\n--- Negotiation Conversation Ended ---\")"
      ],
      "outputs": [],
      "metadata": {
        "id": "XHQzpa64hQLg"
      },
      "id": "XHQzpa64hQLg",
      "execution_count": null
    },
    {
      "cell_type": "markdown",
      "source": [
        "---"
      ],
      "metadata": {
        "id": "5l5ntnsNhQLg"
      },
      "id": "5l5ntnsNhQLg"
    },
    {
      "cell_type": "markdown",
      "source": [
        "## Part 4: Analysis and Reflection\n",
        "Review the entire chat history in the console output. Analyze the negotiation process and the outcome."
      ],
      "metadata": {
        "id": "auNZf0kZhQLg"
      },
      "id": "auNZf0kZhQLg"
    },
    {
      "cell_type": "markdown",
      "source": [
        "### Task 4.1: Negotiation Process Analysis\n",
        "* **Opening Proposals**: Describe the initial proposals from each agent. Did they immediately try to satisfy their own primary goals?\n",
        "* **Counter-Proposals and Concessions**: How did the agents respond to each other's proposals? Did they offer counter-proposals? Did you observe any explicit or implicit concessions being made by either agent to reach an agreement?\n",
        "* **Turn-Taking and Communication**: How well did the agents manage turn-taking and communication? Was the dialogue clear and constructive, or did it become repetitive or confused at any point?"
      ],
      "metadata": {
        "id": "Zrra65UshQLh"
      },
      "id": "Zrra65UshQLh"
    },
    {
      "cell_type": "markdown",
      "source": [
        "### Task 4.2: Outcome Evaluation\n",
        "* **Agreement Reached?**: Was a final agreement reached? If so, what was the agreed-upon task allocation plan and deadlines?\n",
        "* **Goal Satisfaction**: To what extent did the final agreement (or lack thereof) satisfy the primary goals of `AgentA` and `AgentB`? Were some goals prioritized over others?\n",
        "* **Stalemate Analysis**: If no agreement was reached, at what point did the negotiation break down? What were the key sticking points that prevented a resolution?"
      ],
      "metadata": {
        "id": "lZqXTi_1hQLh"
      },
      "id": "lZqXTi_1hQLh"
    },
    {
      "cell_type": "markdown",
      "source": [
        "### Task 4.3: Agent Design and Limitations\n",
        "* **System Message Impact**: How did your design of the system messages influence the agents' negotiation behavior and their ability to reach an agreement?\n",
        "* **LLM Role**: What role did the underlying LLM play in enabling this negotiation? What aspects of its capabilities (e.g., understanding complex instructions, generating creative responses, maintaining context) were most critical?\n",
        "* **Limitations**: What are the current limitations of this simulated negotiation? Consider:\n",
        "    * Lack of explicit 'negotiation strategy' logic within agents (it's largely LLM-driven).\n",
        "    * Difficulty in quantifying 'utility' or 'satisfaction' for each agent.\n",
        "    * Scalability to many tasks or many agents.\n",
        "    * Handling ambiguous or conflicting requirements.\n",
        "* **Future Improvements**: How could you improve this negotiation simulation? Consider adding:\n",
        "    * Tools for agents to evaluate proposed plans programmatically.\n",
        "    * More sophisticated negotiation tactics (e.g., offering trade-offs, conditional proposals).\n",
        "    * A formal utility function for each agent to guide their decisions.\n",
        "    * A mechanism for the mediator to intervene or suggest compromises."
      ],
      "metadata": {
        "id": "ivMiSwLfhQLh"
      },
      "id": "ivMiSwLfhQLh"
    },
    {
      "cell_type": "markdown",
      "source": [
        "---"
      ],
      "metadata": {
        "id": "9kru3lMwhQLh"
      },
      "id": "9kru3lMwhQLh"
    },
    {
      "cell_type": "markdown",
      "source": [
        "### Submission:\n",
        "* Ensure all code cells have been executed and their outputs are visible.\n",
        "* All analysis and reflections are clearly written in markdown cells.\n",
        "* Make sure your `.env` file (or equivalent API key setup) is mentioned but **NOT** included in the submitted notebook for security reasons.\n",
        "* Save your Jupyter Notebook as `[YourName]_Agent_Negotiation_Assignment.ipynb`."
      ],
      "metadata": {
        "id": "YhILaorzhQLi"
      },
      "id": "YhILaorzhQLi"
    }
  ]
}