{
  "nbformat": 4,
  "nbformat_minor": 5,
  "metadata": {
    "kernelspec": {
      "display_name": "Python 3",
      "language": "python",
      "name": "python3"
    },
    "language_info": {
      "codemirror_mode": {
        "name": "ipython",
        "version": 3
      },
      "file_extension": ".py",
      "mimetype": "text/x-python",
      "name": "python",
      "nbconvert_exporter": "python",
      "pygments_lexer": "ipython3",
      "version": "3.9.18"
    },
    "colab": {
      "provenance": []
    }
  },
  "cells": [
    {
      "cell_type": "markdown",
      "source": [
        "# Assignment: Connect Multiple Tools via APIs and Enable Multi-Agent Triggers\n",
        "\n",
        "\n",
        "---"
      ],
      "metadata": {
        "id": "PPQ1Azk4gS-D"
      },
      "id": "PPQ1Azk4gS-D"
    },
    {
      "cell_type": "markdown",
      "source": [
        "### Objective:\n",
        "This assignment challenges you to build a sophisticated **multi-agent system** that integrates with **multiple external APIs (tools)**. The key aspect is to design the agents' collaboration such that the output of one agent or the successful execution of one tool **triggers** another agent to perform a subsequent action, potentially involving another tool. You will orchestrate a workflow where agents dynamically decide which tools to use and when, based on the conversation flow and task requirements."
      ],
      "metadata": {
        "id": "gwtgcM2lgS-F"
      },
      "id": "gwtgcM2lgS-F"
    },
    {
      "cell_type": "markdown",
      "source": [
        "---"
      ],
      "metadata": {
        "id": "CcIFmf-kgS-F"
      },
      "id": "CcIFmf-kgS-F"
    },
    {
      "cell_type": "markdown",
      "source": [
        "### Instructions:\n",
        "1.  **LLM Access**: You'll need access to an LLM API (e.g., OpenAI's GPT-4o, GPT-4, GPT-3.5-turbo). Configure your API key securely.\n",
        "2.  **Multi-Agent Framework**: **AutoGen** is highly recommended for its powerful multi-agent orchestration capabilities. Alternatively, you can use `CrewAI` or build a custom agent system, but AutoGen will simplify tool integration and agent communication.\n",
        "3.  **External APIs (Tools)**: You must integrate with at least **two distinct external APIs** that provide data or actions. Good combinations could be:\n",
        "    * **Weather API** (e.g., OpenWeatherMap, WeatherAPI.com) - to get current weather.\n",
        "    * **News API** (e.g., NewsAPI.org, GNews API) - to get trending news.\n",
        "    * **Public REST API for Jokes/Facts** (e.g., Chuck Norris Jokes API, Numbers API) - for simple data retrieval.\n",
        "    * **Stock Market Data API** (e.g., Alpha Vantage, Twelve Data) - for stock prices.\n",
        "    * *(Avoid APIs requiring complex OAuth for this assignment's scope)*.\n",
        "4.  **Scenario: Event Planner Assistant**: Design a multi-agent system that helps plan a simple event based on a user's query. The workflow should demonstrate multi-agent triggers. For example:\n",
        "    * **User asks**: \"I want to plan an outdoor event in London this weekend. What's the weather like and what's happening in the news?\"\n",
        "    * **Planner Agent**: Recognizes the need for weather and news.\n",
        "    * **Weather Agent**: Gets weather for London.\n",
        "    * **News Agent**: Gets news for London or related to events.\n",
        "    * **Aggregator/Reporter Agent**: Combines info and provides recommendations (e.g., \"Weather is sunny, good for outdoor. No major events in news. Consider [event idea].\")\n",
        "    * **Trigger Example**: The Planner agent triggers the Weather Agent, whose successful output might then trigger the News Agent.\n",
        "5.  **Jupyter Notebook**: All your code, outputs, observations, and analysis must be documented in this Jupyter Notebook.\n",
        "6.  **Analysis**: Explain your agent design, tool integration, and how multi-agent triggers were achieved. Discuss the advantages and challenges."
      ],
      "metadata": {
        "id": "zc6yssiwgS-G"
      },
      "id": "zc6yssiwgS-G"
    },
    {
      "cell_type": "markdown",
      "source": [
        "---"
      ],
      "metadata": {
        "id": "ZpoGs-BfgS-G"
      },
      "id": "ZpoGs-BfgS-G"
    },
    {
      "cell_type": "markdown",
      "source": [
        "## Part 1: Setup and API Configuration\n",
        "Configure your LLM and external API keys. Install necessary libraries."
      ],
      "metadata": {
        "id": "PhyxWzsrgS-H"
      },
      "id": "PhyxWzsrgS-H"
    },
    {
      "cell_type": "markdown",
      "source": [
        "### Task 1.1: Install Libraries and Configure API Keys\n",
        "Install `pyautogen`, `python-dotenv`, and `requests`. Set up your LLM and external API keys.\n",
        "\n",
        "For external APIs, you'll need:\n",
        "* **OpenWeatherMap API Key**: Get from [openweathermap.org/api](https://openweathermap.org/api)\n",
        "* **NewsAPI API Key**: Get from [newsapi.org](https://newsapi.org/)"
      ],
      "metadata": {
        "id": "uYVVnWmHgS-H"
      },
      "id": "uYVVnWmHgS-H"
    },
    {
      "cell_type": "code",
      "source": [
        "# Install necessary libraries (if not already installed)\n",
        "# !pip install pyautogen python-dotenv requests --quiet\n",
        "\n",
        "import autogen\n",
        "import os\n",
        "import requests\n",
        "from dotenv import load_dotenv\n",
        "\n",
        "# Load environment variables from .env file\n",
        "load_dotenv()\n",
        "\n",
        "# --- IMPORTANT: Create a .env file in the same directory as this notebook with the following lines: ---\n",
        "# OPENAI_API_KEY=\"YOUR_OPENAI_API_KEY_HERE\"\n",
        "# OPENWEATHERMAP_API_KEY=\"YOUR_OPENWEATHERMAP_API_KEY_HERE\"\n",
        "# NEWSAPI_API_KEY=\"YOUR_NEWSAPI_API_KEY_HERE\"\n",
        "\n",
        "# Configure LLM (OpenAI model recommended)\n",
        "llm_config = {\n",
        "    \"config_list\": autogen.config_list_from_json(\n",
        "        \"OAI_CONFIG_LIST\",\n",
        "        filter_dict={\n",
        "            \"model\": [\"gpt-4o\", \"gpt-4\", \"gpt-3.5-turbo\"], # Prioritize capable models\n",
        "        },\n",
        "    ),\n",
        "    \"temperature\": 0.2, # Lower temperature for factual and analytical tasks\n",
        "}\n",
        "\n",
        "# Fallback if OAI_CONFIG_LIST not found or for direct API key usage\n",
        "if not llm_config[\"config_list\"] and os.getenv(\"OPENAI_API_KEY\"):\n",
        "    print(\"Using OPENAI_API_KEY from environment variable as fallback for LLM config.\")\n",
        "    llm_config[\"config_list\"] = [\n",
        "        {\"model\": os.getenv(\"OPENAI_MODEL_ID\", \"gpt-4o\"), \"api_key\": os.getenv(\"OPENAI_API_KEY\")}\n",
        "    ]\n",
        "elif not llm_config[\"config_list\"]:\n",
        "    print(\"WARNING: No LLM configuration found. Please set OPENAI_API_KEY or create OAI_CONFIG_LIST.\")\n",
        "\n",
        "# Get external API keys\n",
        "OPENWEATHERMAP_API_KEY = os.getenv(\"OPENWEATHERMAP_API_KEY\")\n",
        "NEWSAPI_API_KEY = os.getenv(\"NEWSAPI_API_KEY\")\n",
        "\n",
        "if not OPENWEATHERMAP_API_KEY:\n",
        "    print(\"WARNING: OPENWEATHERMAP_API_KEY not found.\")\n",
        "if not NEWSAPI_API_KEY:\n",
        "    print(\"WARNING: NEWSAPI_API_KEY not found.\")\n",
        "\n",
        "print(\"AutoGen environment and API keys configured!\")"
      ],
      "outputs": [],
      "metadata": {
        "id": "b7PgwxqlgS-H"
      },
      "id": "b7PgwxqlgS-H",
      "execution_count": null
    },
    {
      "cell_type": "markdown",
      "source": [
        "---"
      ],
      "metadata": {
        "id": "UcTcTkajgS-J"
      },
      "id": "UcTcTkajgS-J"
    },
    {
      "cell_type": "markdown",
      "source": [
        "## Part 2: Define Tools (API Wrappers)\n",
        "Create Python functions that encapsulate API calls to your chosen external services. These functions will be callable by your AutoGen agents."
      ],
      "metadata": {
        "id": "TPG0vDeTgS-J"
      },
      "id": "TPG0vDeTgS-J"
    },
    {
      "cell_type": "markdown",
      "source": [
        "### Task 2.1: `get_current_weather` Tool\n",
        "Create a function that takes `location` (city, country) and `unit` (celsius/fahrenheit) and calls the OpenWeatherMap API. Handle potential errors gracefully."
      ],
      "metadata": {
        "id": "fG2nmnZ6gS-J"
      },
      "id": "fG2nmnZ6gS-J"
    },
    {
      "cell_type": "code",
      "source": [
        "def get_current_weather(location: str, unit: str = \"celsius\") -> str:\n",
        "    \"\"\"\n",
        "    Gets the current weather for a specified location.\n",
        "    :param location: The city and country (e.g., 'London, UK') to get weather for.\n",
        "    :param unit: Temperature unit: 'celsius' or 'fahrenheit'. Defaults to celsius.\n",
        "    :return: A string summarizing the weather or an error message.\n",
        "    \"\"\"\n",
        "    if not OPENWEATHERMAP_API_KEY:\n",
        "        return \"Weather API key not configured.\"\n",
        "\n",
        "    base_url = \"https://api.openweathermap.org/data/2.5/weather\"\n",
        "    units_param = \"metric\" if unit.lower() == \"celsius\" else \"imperial\"\n",
        "\n",
        "    params = {\n",
        "        \"q\": location,\n",
        "        \"appid\": OPENWEATHERMAP_API_KEY,\n",
        "        \"units\": units_param\n",
        "    }\n",
        "\n",
        "    try:\n",
        "        response = requests.get(base_url, params=params)\n",
        "        response.raise_for_status() # Raise an exception for HTTP errors (4xx or 5xx)\n",
        "        data = response.json()\n",
        "\n",
        "        if data.get(\"cod\") == \"404\":\n",
        "            return f\"Weather for '{location}' not found.\"\n",
        "\n",
        "        main = data.get(\"main\", {})\n",
        "        weather_desc = data.get(\"weather\", [{}])[0].get(\"description\", \"\")\n",
        "        temp = main.get(\"temp\")\n",
        "        humidity = main.get(\"humidity\")\n",
        "\n",
        "        if temp is not None:\n",
        "            return f\"Current weather in {location}: {temp}°{unit.upper()[0]}, {weather_desc}, humidity: {humidity}%.\"\n",
        "        else:\n",
        "            return f\"Could not retrieve temperature for {location}.\"\n",
        "    except requests.exceptions.RequestException as e:\n",
        "        return f\"Error fetching weather for {location}: {e}\"\n",
        "    except Exception as e:\n",
        "        return f\"An unexpected error occurred while processing weather data: {e}\"\n",
        "\n",
        "print(\"get_current_weather tool defined!\")"
      ],
      "outputs": [],
      "metadata": {
        "id": "DVQ-tNiggS-J"
      },
      "id": "DVQ-tNiggS-J",
      "execution_count": null
    },
    {
      "cell_type": "markdown",
      "source": [
        "### Task 2.2: `get_latest_news` Tool\n",
        "Create a function that takes a `topic` and `location` (optional) and calls the NewsAPI. Return a summary of news articles. Handle errors."
      ],
      "metadata": {
        "id": "3Ax9G4R9gS-K"
      },
      "id": "3Ax9G4R9gS-K"
    },
    {
      "cell_type": "code",
      "source": [
        "def get_latest_news(topic: str = \"general\", location: str = \"\", count: int = 3) -> str:\n",
        "    \"\"\"\n",
        "    Gets the latest news articles for a specified topic and optional location.\n",
        "    :param topic: The news topic or keyword to search for (e.g., 'technology', 'events').\n",
        "    :param location: Optional. The location to filter news by (e.g., 'London', 'UK'). NewsAPI typically uses country codes.\n",
        "    :param count: The number of news articles to retrieve. Defaults to 3.\n",
        "    :return: A formatted string listing the news articles or an error message.\n",
        "    \"\"\"\n",
        "    if not NEWSAPI_API_KEY:\n",
        "        return \"News API key not configured.\"\n",
        "\n",
        "    base_url = \"https://newsapi.org/v2/everything\" # Use 'everything' for topic-based search\n",
        "    if count > 5: # Limit to avoid excessive API calls on free tier\n",
        "        count = 5\n",
        "\n",
        "    params = {\n",
        "        \"q\": topic, # Primary query parameter\n",
        "        \"apiKey\": NEWSAPI_API_KEY,\n",
        "        \"pageSize\": count,\n",
        "        \"language\": \"en\" # Limit to English news\n",
        "    }\n",
        "\n",
        "    # NewsAPI 'country' parameter is for 'top-headlines', not 'everything' search\n",
        "    # For location relevance in 'everything', the LLM will integrate 'location' into 'q' if needed.\n",
        "    # If you want strictly country-specific news, you'd use 'top-headlines' and ISO 3166-1 alpha-2 country codes.\n",
        "    # For simplicity, we'll let the LLM integrate location into the query if relevant for 'everything' endpoint.\n",
        "    if location:\n",
        "        params[\"q\"] = f\"{topic} {location}\"\n",
        "\n",
        "    try:\n",
        "        response = requests.get(base_url, params=params)\n",
        "        response.raise_for_status()\n",
        "        data = response.json()\n",
        "\n",
        "        articles = data.get(\"articles\", [])\n",
        "        if not articles:\n",
        "            return f\"No news found for topic '{topic}' in '{location}'.\"\n",
        "\n",
        "        news_summary = []\n",
        "        for i, article in enumerate(articles):\n",
        "            title = article.get(\"title\", \"No Title\")\n",
        "            source = article.get(\"source\", {}).get(\"name\", \"Unknown Source\")\n",
        "            url = article.get(\"url\", \"\")\n",
        "            news_summary.append(f\"{i+1}. {title} (Source: {source}) - {url}\")\n",
        "\n",
        "        return f\"Latest news on '{topic}' in '{location}':\\n\" + \"\\n\".join(news_summary)\n",
        "    except requests.exceptions.RequestException as e:\n",
        "        return f\"Error fetching news for '{topic}' in '{location}': {e}\"\n",
        "    except Exception as e:\n",
        "        return f\"An unexpected error occurred while processing news data: {e}\"\n",
        "\n",
        "print(\"get_latest_news tool defined!\")"
      ],
      "outputs": [],
      "metadata": {
        "id": "M1YEvVJrgS-K"
      },
      "id": "M1YEvVJrgS-K",
      "execution_count": null
    },
    {
      "cell_type": "markdown",
      "source": [
        "---"
      ],
      "metadata": {
        "id": "puLkR7CDgS-K"
      },
      "id": "puLkR7CDgS-K"
    },
    {
      "cell_type": "markdown",
      "source": [
        "## Part 3: Define Agents and their Capabilities\n",
        "Create different `AssistantAgent`s with specific roles and register the tools to the appropriate agents."
      ],
      "metadata": {
        "id": "0PF45KJggS-L"
      },
      "id": "0PF45KJggS-L"
    },
    {
      "cell_type": "markdown",
      "source": [
        "### Task 3.1: `UserProxyAgent` (The Initiator & Executor)\n",
        "This agent initiates the conversation, executes tool calls when delegated, and manages termination."
      ],
      "metadata": {
        "id": "PHwMZ4cigS-L"
      },
      "id": "PHwMZ4cigS-L"
    },
    {
      "cell_type": "code",
      "source": [
        "def is_termination_message(message):\n",
        "    return \"TERMINATE\" in message.get(\"content\", \"\").upper() or \"FINISH\" in message.get(\"content\", \"\").upper()\n",
        "\n",
        "user_proxy = autogen.UserProxyAgent(\n",
        "    name=\"Admin\",\n",
        "    human_input_mode=\"NEVER\", # Set to NEVER for full automation\n",
        "    max_consecutive_auto_reply=15, # Allow enough turns for complex tasks\n",
        "    is_termination_msg=is_termination_message,\n",
        "    code_execution_config={\n",
        "        \"work_dir\": \"event_planner_workdir\", # Directory for code execution\n",
        "        \"use_docker\": False, # Set to True if you have Docker installed for isolated execution\n",
        "    },\n",
        "    system_message=\"A human administrator who oversees the event planning team. Provide high-level event planning requests and approve final recommendations. Conclude with 'TERMINATE' when satisfied.\"\n",
        ")\n",
        "\n",
        "print(\"UserProxyAgent 'Admin' created!\")"
      ],
      "outputs": [],
      "metadata": {
        "id": "Pd7lwl6DgS-L"
      },
      "id": "Pd7lwl6DgS-L",
      "execution_count": null
    },
    {
      "cell_type": "markdown",
      "source": [
        "### Task 3.2: Specialized Agents (`WeatherAgent`, `NewsAgent`, `EventPlannerAgent`)\n",
        "Define `AssistantAgent`s for each role. Assign tools to the `UserProxyAgent` but make them callable by specific `AssistantAgent`s."
      ],
      "metadata": {
        "id": "m0m0Si3lgS-L"
      },
      "id": "m0m0Si3lgS-L"
    },
    {
      "cell_type": "code",
      "source": [
        "# Weather Agent\n",
        "weather_agent = autogen.AssistantAgent(\n",
        "    name=\"WeatherAgent\",\n",
        "    system_message=(\n",
        "        \"You are a specialized weather information retriever. Your task is to use the 'get_current_weather' tool \"\n",
        "        \"to find weather conditions for a given location and unit. Report the findings clearly. \"\n",
        "        \"Only provide weather information and pass it to the EventPlannerAgent.\"\n",
        "    ),\n",
        "    llm_config=llm_config,\n",
        ")\n",
        "\n",
        "# News Agent\n",
        "news_agent = autogen.AssistantAgent(\n",
        "    name=\"NewsAgent\",\n",
        "    system_message=(\n",
        "        \"You are a specialized news researcher. Your task is to use the 'get_latest_news' tool \"\n",
        "        \"to find relevant news articles for a given topic and location. Summarize the key headlines. \"\n",
        "        \"Only provide news information and pass it to the EventPlannerAgent.\"\n",
        "    ),\n",
        "    llm_config=llm_config,\n",
        ")\n",
        "\n",
        "# Event Planner Agent (Orchestrator and Reporter)\n",
        "event_planner_agent = autogen.AssistantAgent(\n",
        "    name=\"EventPlannerAgent\",\n",
        "    system_message=(\n",
        "        \"You are a central event planning assistant. Your role is to understand the user's event request, \"\n",
        "        \"coordinate with the WeatherAgent and NewsAgent to gather necessary information, \"\n",
        "        \"and then synthesize all gathered data into a comprehensive event recommendation. \"\n",
        "        \"Suggest suitable outdoor event ideas based on weather and news. Once the recommendation is ready, \"\n",
        "        \"present it clearly to the Admin. Conclude your final message to Admin with 'TERMINATE'.\"\n",
        "    ),\n",
        "    llm_config=llm_config,\n",
        ")\n",
        "\n",
        "print(\"Specialized agents created!\")"
      ],
      "outputs": [],
      "metadata": {
        "id": "nHh24OkkgS-L"
      },
      "id": "nHh24OkkgS-L",
      "execution_count": null
    },
    {
      "cell_type": "markdown",
      "source": [
        "### Task 3.3: Register Tools\n",
        "Register the tools to the `UserProxyAgent`, making them available for the other agents to call via the `UserProxyAgent`."
      ],
      "metadata": {
        "id": "ok209uEugS-M"
      },
      "id": "ok209uEugS-M"
    },
    {
      "cell_type": "code",
      "source": [
        "# Register weather tool\n",
        "user_proxy.register_for_execution(get_current_weather, caller=weather_agent)\n",
        "weather_agent.register_for_tool_use(user_proxy, get_current_weather)\n",
        "\n",
        "# Register news tool\n",
        "user_proxy.register_for_execution(get_latest_news, caller=news_agent)\n",
        "news_agent.register_for_tool_use(user_proxy, get_latest_news)\n",
        "\n",
        "print(\"Tools registered for execution and use by agents!\")"
      ],
      "outputs": [],
      "metadata": {
        "id": "R49UHAgjgS-M"
      },
      "id": "R49UHAgjgS-M",
      "execution_count": null
    },
    {
      "cell_type": "markdown",
      "source": [
        "---"
      ],
      "metadata": {
        "id": "xyAjy063gS-M"
      },
      "id": "xyAjy063gS-M"
    },
    {
      "cell_type": "markdown",
      "source": [
        "## Part 4: Orchestrate Multi-Agent Triggers and Conversation Flow\n",
        "Define the `GroupChat` and `GroupChatManager` to enable dynamic agent interaction and tool triggering."
      ],
      "metadata": {
        "id": "xJeovHlKgS-M"
      },
      "id": "xJeovHlKgS-M"
    },
    {
      "cell_type": "markdown",
      "source": [
        "### Task 4.1: Create `GroupChat` and `GroupChatManager`\n",
        "Assemble your agents into a `GroupChat` and manage their conversation with a `GroupChatManager`."
      ],
      "metadata": {
        "id": "zzZLmqssgS-M"
      },
      "id": "zzZLmqssgS-M"
    },
    {
      "cell_type": "code",
      "source": [
        "agents = [user_proxy, weather_agent, news_agent, event_planner_agent]\n",
        "\n",
        "groupchat = autogen.GroupChat(\n",
        "    agents=agents,\n",
        "    messages=[],\n",
        "    max_round=25, # Allow enough turns for complex tasks\n",
        "    speaker_selection_method=\"auto\", # AutoGen decides who speaks next\n",
        ")\n",
        "\n",
        "manager = autogen.GroupChatManager(\n",
        "    groupchat=groupchat,\n",
        "    llm_config=llm_config,\n",
        ")\n",
        "\n",
        "print(\"GroupChat and GroupChatManager created!\")"
      ],
      "outputs": [],
      "metadata": {
        "id": "cRNOpcrzgS-M"
      },
      "id": "cRNOpcrzgS-M",
      "execution_count": null
    },
    {
      "cell_type": "markdown",
      "source": [
        "### Task 4.2: Initiate the Multi-Agent Conversation\n",
        "Start the chat with a specific event planning query that requires both weather and news information."
      ],
      "metadata": {
        "id": "23kiZsrCgS-N"
      },
      "id": "23kiZsrCgS-N"
    },
    {
      "cell_type": "code",
      "source": [
        "# Make sure the work directory exists\n",
        "if not os.path.exists(user_proxy.code_execution_config[\"work_dir\"]):\n",
        "    os.makedirs(user_proxy.code_execution_config[\"work_dir\"])\n",
        "\n",
        "event_query = \"I need to plan an outdoor picnic event in London this Saturday. What's the weather forecast, and are there any major local news or events happening that might affect it? Provide me with a recommendation.\"\n",
        "\n",
        "print(\"\\n--- Initiating Event Planning Conversation ---\")\n",
        "\n",
        "chat_history = user_proxy.initiate_chat(\n",
        "    manager, # The manager agent to start the group chat\n",
        "    message=event_query,\n",
        "    clear_history=True, # Clear previous chat history\n",
        "    silent=False, # Set to True to suppress console output during chat\n",
        ")\n",
        "\n",
        "print(\"\\n--- Event Planning Conversation Ended ---\")"
      ],
      "outputs": [],
      "metadata": {
        "id": "XGA2yUH7gS-N"
      },
      "id": "XGA2yUH7gS-N",
      "execution_count": null
    },
    {
      "cell_type": "markdown",
      "source": [
        "---"
      ],
      "metadata": {
        "id": "vLvidI6dgS-N"
      },
      "id": "vLvidI6dgS-N"
    },
    {
      "cell_type": "markdown",
      "source": [
        "## Part 5: Analysis and Reflection\n",
        "Review the console output and the final event recommendation. Answer the following questions."
      ],
      "metadata": {
        "id": "7eC7tk-vgS-N"
      },
      "id": "7eC7tk-vgS-N"
    },
    {
      "cell_type": "markdown",
      "source": [
        "### Task 5.1: Multi-Agent Triggers and Workflow\n",
        "* **Trigger Mechanism**: Describe how the initial query from `Admin` implicitly or explicitly triggered the `EventPlannerAgent` to then trigger `WeatherAgent` and `NewsAgent`. Analyze the conversation flow to show this sequence.\n",
        "* **Information Flow**: Trace the flow of information: how did the weather data and news data get from the respective tool functions to the `EventPlannerAgent` for synthesis?\n",
        "* **Collaboration**: How effectively did the agents collaborate? Did they communicate clearly and pass necessary context? Provide examples from the chat log."
      ],
      "metadata": {
        "id": "GPQC7QJEgS-N"
      },
      "id": "GPQC7QJEgS-N"
    },
    {
      "cell_type": "markdown",
      "source": [
        "### Task 5.2: Tool Integration and Orchestration\n",
        "* **Tool Use**: Did the `WeatherAgent` and `NewsAgent` correctly identify when to use their respective tools and with appropriate parameters? Provide console snippets showing tool calls and their results.\n",
        "* **LLM Role**: How crucial was the LLM in the `AssistantAgent`s for deciding *when* and *how* to use the tools, as opposed to rigid, hardcoded logic? What benefits does this dynamic decision-making provide?\n",
        "* **Error Handling**: How did the system handle cases where an API call failed (e.g., if an API key was invalid or a network error occurred)? Did it recover gracefully or fail?"
      ],
      "metadata": {
        "id": "spA2u_wTgS-O"
      },
      "id": "spA2u_wTgS-O"
    },
    {
      "cell_type": "markdown",
      "source": [
        "### Task 5.3: Limitations and Future Enhancements\n",
        "* **Current Limitations**: What are the current limitations of your multi-agent event planner? (e.g., lack of real-time event data, handling complex follow-up questions, reliance on exact location names).\n",
        "* **Scalability**: How would you enhance this system for a more robust and scalable event planning service? Consider:\n",
        "    * Adding more specialized agents (e.g., a \"Venue Booker\", \"Catering Agent\", \"Budget Agent\").\n",
        "    * Integrating more complex APIs (e.g., calendar APIs, ticketing APIs, real-time event databases).\n",
        "    * Implementing mechanisms for human feedback and correction within the loop.\n",
        "* **Robustness**: How could you make the system more robust against ambiguous queries or unexpected API responses?"
      ],
      "metadata": {
        "id": "OgfjhIYRgS-O"
      },
      "id": "OgfjhIYRgS-O"
    },
    {
      "cell_type": "markdown",
      "source": [
        "---"
      ],
      "metadata": {
        "id": "6WsYV_degS-O"
      },
      "id": "6WsYV_degS-O"
    },
    {
      "cell_type": "markdown",
      "source": [
        "### Submission:\n",
        "* Ensure all code cells have been executed and their outputs are visible.\n",
        "* All analysis and reflections are clearly written in markdown cells.\n",
        "* Make sure your `.env` file (or equivalent API key setup) is mentioned but **NOT** included in the submitted notebook for security reasons.\n",
        "* Save your Jupyter Notebook as `[YourName]_Multi_Agent_Tool_Orchestration_Assignment.ipynb`."
      ],
      "metadata": {
        "id": "VKYGPO37gS-O"
      },
      "id": "VKYGPO37gS-O"
    }
  ]
}