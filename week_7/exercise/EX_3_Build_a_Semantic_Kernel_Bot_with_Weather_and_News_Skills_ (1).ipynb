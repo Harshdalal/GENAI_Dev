{
  "nbformat": 4,
  "nbformat_minor": 5,
  "metadata": {
    "kernelspec": {
      "display_name": "Python 3",
      "language": "python",
      "name": "python3"
    },
    "language_info": {
      "codemirror_mode": {
        "name": "ipython",
        "version": 3
      },
      "file_extension": ".py",
      "mimetype": "text/x-python",
      "name": "python",
      "nbconvert_exporter": "python",
      "pygments_lexer": "ipython3",
      "version": "3.9.18"
    },
    "colab": {
      "provenance": []
    }
  },
  "cells": [
    {
      "cell_type": "markdown",
      "source": [
        "# Assignment: Build a Semantic Kernel Bot with Weather and News Skills\n",
        "\n",
        "\n",
        "---"
      ],
      "metadata": {
        "id": "W1HQpeu3dULX"
      },
      "id": "W1HQpeu3dULX"
    },
    {
      "cell_type": "markdown",
      "source": [
        "### Objective:\n",
        "This assignment will guide you through building a **Semantic Kernel (SK) bot** that can answer user queries by executing specialized \"skills\" (also known as plugins or native functions). You will create two such skills: one for fetching **weather information** and another for retrieving **news articles**. This demonstrates how SK enables LLMs to leverage external tools and data sources to perform complex, real-world tasks."
      ],
      "metadata": {
        "id": "0AC2nZYndULZ"
      },
      "id": "0AC2nZYndULZ"
    },
    {
      "cell_type": "markdown",
      "source": [
        "---"
      ],
      "metadata": {
        "id": "3SFj43hMdULa"
      },
      "id": "3SFj43hMdULa"
    },
    {
      "cell_type": "markdown",
      "source": [
        "### Instructions:\n",
        "1.  **LLM Access**: You will need access to an LLM API. **OpenAI's models (e.g., GPT-4o, GPT-4, GPT-3.5-turbo)** are recommended for their robust function calling capabilities, which Semantic Kernel relies on. You can also use Azure OpenAI or Google Gemini.\n",
        "2.  **External API Keys**: To build functional skills, you'll need API keys for external services:\n",
        "    * **Weather**: Obtain a free API key from [OpenWeatherMap](https://openweathermap.org/api) (Current Weather Data API is sufficient).\n",
        "    * **News**: Obtain a free API key from [NewsAPI](https://newsapi.org/) (Developer API is sufficient for non-commercial use).\n",
        "3.  **Environment Setup**: Install the necessary Python library: `pip install semantic-kernel python-dotenv requests`.\n",
        "4.  **API Key Management**: Securely handle all your API keys. It's **highly recommended** to use environment variables and `python-dotenv` for this. Create a `.env` file in your project root.\n",
        "5.  **Jupyter Notebook**: All your code, outputs, observations, and analysis must be documented in this Jupyter Notebook.\n",
        "6.  **Error Handling**: Implement basic `try-except` blocks within your skill functions to handle potential API call failures gracefully.\n",
        "7.  **Analysis**: Critically evaluate your bot's performance, skill orchestration, and limitations."
      ],
      "metadata": {
        "id": "btNzsR68dULa"
      },
      "id": "btNzsR68dULa"
    },
    {
      "cell_type": "markdown",
      "source": [
        "---"
      ],
      "metadata": {
        "id": "VObzaAa5dULb"
      },
      "id": "VObzaAa5dULb"
    },
    {
      "cell_type": "markdown",
      "source": [
        "## Part 1: Setup and LLM/API Configuration\n",
        "Begin by installing necessary libraries and configuring your LLM and external API keys."
      ],
      "metadata": {
        "id": "XJBUGXPMdULc"
      },
      "id": "XJBUGXPMdULc"
    },
    {
      "cell_type": "markdown",
      "source": [
        "### Task 1.1: Install Libraries and Load Environment Variables\n",
        "Install `semantic-kernel` and `python-dotenv`. Load your API keys from a `.env` file. You'll also need `requests` for API calls."
      ],
      "metadata": {
        "id": "_tnzb63fdULc"
      },
      "id": "_tnzb63fdULc"
    },
    {
      "cell_type": "code",
      "source": [
        "# Install necessary libraries (if not already installed)\n",
        "# !pip install semantic-kernel python-dotenv requests --quiet\n",
        "\n",
        "import os\n",
        "import semantic_kernel as sk\n",
        "from semantic_kernel.functions import kernel_function # Changed from sk_function for newer SK versions\n",
        "from semantic_kernel.connectors.ai.open_ai import OpenAIClient, OpenAIChatCompletion\n",
        "import requests\n",
        "from dotenv import load_dotenv\n",
        "\n",
        "# Load environment variables from .env file\n",
        "load_dotenv()\n",
        "\n",
        "# --- IMPORTANT: Create a .env file in the same directory as this notebook with the following lines: ---\n",
        "# OPENAI_API_KEY=\"YOUR_OPENAI_API_KEY_HERE\"\n",
        "# OPENWEATHERMAP_API_KEY=\"YOUR_OPENWEATHERMAP_API_KEY_HERE\"\n",
        "# NEWSAPI_API_KEY=\"YOUR_NEWSAPI_API_KEY_HERE\"\n",
        "\n",
        "# Initialize the kernel\n",
        "kernel = sk.Kernel()\n",
        "\n",
        "# Configure LLM (OpenAI example)\n",
        "api_key = os.getenv(\"OPENAI_API_KEY\")\n",
        "if api_key:\n",
        "    # Use OpenAIChatCompletion for chat-based models\n",
        "    kernel.add_service(\n",
        "        OpenAIChatCompletion(\n",
        "            service_id=\"chat-gpt\",\n",
        "            ai_model_id=\"gpt-4o\", # Or \"gpt-4\", \"gpt-3.5-turbo\"\n",
        "            api_key=api_key\n",
        "        ),\n",
        "    )\n",
        "    print(\"Semantic Kernel initialized with OpenAI LLM!\")\n",
        "else:\n",
        "    print(\"WARNING: OPENAI_API_KEY not found in environment variables. Please set it in .env file.\")\n",
        "\n",
        "print(\"Libraries loaded and environment setup complete!\")"
      ],
      "outputs": [],
      "metadata": {
        "id": "gtiwPDG1dULd"
      },
      "id": "gtiwPDG1dULd",
      "execution_count": null
    },
    {
      "cell_type": "markdown",
      "source": [
        "---"
      ],
      "metadata": {
        "id": "1aKNe7r5dULf"
      },
      "id": "1aKNe7r5dULf"
    },
    {
      "cell_type": "markdown",
      "source": [
        "## Part 2: Define Native Skills (Plugins)\n",
        "Create Python classes that encapsulate your weather and news functionalities. Each method that should be exposed to the LLM will be decorated with `@kernel_function` (or `@sk_function` depending on your SK version)."
      ],
      "metadata": {
        "id": "mdskdPuRdULg"
      },
      "id": "mdskdPuRdULg"
    },
    {
      "cell_type": "markdown",
      "source": [
        "### Task 2.1: `WeatherPlugin`\n",
        "Create a class `WeatherPlugin` with a method `get_current_weather`. This method should make an API call to OpenWeatherMap to fetch current weather data."
      ],
      "metadata": {
        "id": "jufI4Km9dULg"
      },
      "id": "jufI4Km9dULg"
    },
    {
      "cell_type": "markdown",
      "source": [
        "* **Method Signature**: `@kernel_function(description=\"Gets the current weather for a specified location.\")`\n",
        "    * `location`: `str` (required), description=\"The city and country (e.g., 'London, UK') to get weather for.\"\n",
        "    * `unit`: `str` (optional, default='celsius'), description=\"Temperature unit: 'celsius' or 'fahrenheit'.\"\n",
        "* **API Call**: Use `requests` to call OpenWeatherMap's Current Weather Data API.\n",
        "    * Base URL: `https://api.openweathermap.org/data/2.5/weather`\n",
        "    * Parameters: `q={location}`, `appid={API_KEY}`, `units={metric/imperial}`.\n",
        "* **Return Value**: A string summarizing the weather (e.g., \"Current weather in London: 15°C, cloudy.\") or an error message if the API call fails.\n",
        "* **Error Handling**: Implement `try-except` for network errors or API response issues."
      ],
      "metadata": {
        "id": "uj9lEDZ8dULj"
      },
      "id": "uj9lEDZ8dULj"
    },
    {
      "cell_type": "code",
      "source": [
        "class WeatherPlugin:\n",
        "    def __init__(self):\n",
        "        self.api_key = os.getenv(\"OPENWEATHERMAP_API_KEY\")\n",
        "        self.base_url = \"https://api.openweathermap.org/data/2.5/weather\"\n",
        "\n",
        "    @kernel_function(\n",
        "        description=\"Gets the current weather for a specified location.\",\n",
        "        name=\"get_current_weather\"\n",
        "    )\n",
        "    @sk.kernel_function.input(\"location\", description=\"The city and country (e.g., 'London, UK') to get weather for.\")\n",
        "    @sk.kernel_function.input(\"unit\", description=\"Temperature unit: 'celsius' or 'fahrenheit'. Defaults to celsius.\", default_value=\"celsius\")\n",
        "    async def get_current_weather(self, location: str, unit: str = \"celsius\") -> str:\n",
        "        if not self.api_key:\n",
        "            return \"Weather API key not configured.\"\n",
        "\n",
        "        units_param = \"metric\" if unit.lower() == \"celsius\" else \"imperial\"\n",
        "\n",
        "        params = {\n",
        "            \"q\": location,\n",
        "            \"appid\": self.api_key,\n",
        "            \"units\": units_param\n",
        "        }\n",
        "\n",
        "        try:\n",
        "            response = requests.get(self.base_url, params=params)\n",
        "            response.raise_for_status() # Raise an exception for HTTP errors (4xx or 5xx)\n",
        "            data = response.json()\n",
        "\n",
        "            if data.get(\"cod\") == \"404\":\n",
        "                return f\"Location '{location}' not found.\"\n",
        "\n",
        "            main = data.get(\"main\", {})\n",
        "            weather_desc = data.get(\"weather\", [{}])[0].get(\"description\", \"\")\n",
        "            temp = main.get(\"temp\")\n",
        "            humidity = main.get(\"humidity\")\n",
        "\n",
        "            if temp is not None:\n",
        "                return f\"Current weather in {location}: {temp}°{unit.upper()[0]}, {weather_desc}, humidity: {humidity}%.\"\n",
        "            else:\n",
        "                return f\"Could not retrieve temperature for {location}.\"\n",
        "        except requests.exceptions.RequestException as e:\n",
        "            return f\"Error fetching weather for {location}: {e}\"\n",
        "        except Exception as e:\n",
        "            return f\"An unexpected error occurred while processing weather data: {e}\"\n",
        "\n",
        "print(\"WeatherPlugin created!\")"
      ],
      "outputs": [],
      "metadata": {
        "id": "_cKbLtRxdULk"
      },
      "id": "_cKbLtRxdULk",
      "execution_count": null
    },
    {
      "cell_type": "markdown",
      "source": [
        "### Task 2.2: `NewsPlugin`\n",
        "Create a class `NewsPlugin` with a method `get_latest_news`. This method should make an API call to NewsAPI to fetch recent news articles on a given topic."
      ],
      "metadata": {
        "id": "npJgeTjOdULl"
      },
      "id": "npJgeTjOdULl"
    },
    {
      "cell_type": "markdown",
      "source": [
        "* **Method Signature**: `@kernel_function(description=\"Gets the latest news articles for a specified topic.\")`\n",
        "    * `topic`: `str` (required), description=\"The news topic or keyword to search for.\"\n",
        "    * `count`: `int` (optional, default=3), description=\"The number of news articles to retrieve.\"\n",
        "* **API Call**: Use `requests` to call NewsAPI's `everything` endpoint.\n",
        "    * Base URL: `https://newsapi.org/v2/everything`\n",
        "    * Parameters: `q={topic}`, `apiKey={API_KEY}`, `pageSize={count}`.\n",
        "* **Return Value**: A formatted string listing the news articles (title, source, URL) or an error message.\n",
        "* **Error Handling**: Implement `try-except` for network errors or API response issues."
      ],
      "metadata": {
        "id": "MXPFNlGEdULm"
      },
      "id": "MXPFNlGEdULm"
    },
    {
      "cell_type": "code",
      "source": [
        "class NewsPlugin:\n",
        "    def __init__(self):\n",
        "        self.api_key = os.getenv(\"NEWSAPI_API_KEY\")\n",
        "        self.base_url = \"https://newsapi.org/v2/everything\"\n",
        "\n",
        "    @kernel_function(\n",
        "        description=\"Gets the latest news articles for a specified topic.\",\n",
        "        name=\"get_latest_news\"\n",
        "    )\n",
        "    @sk.kernel_function.input(\"topic\", description=\"The news topic or keyword to search for.\")\n",
        "    @sk.kernel_function.input(\"count\", description=\"The number of news articles to retrieve. Defaults to 3.\", default_value=3, type=int)\n",
        "    async def get_latest_news(self, topic: str, count: int = 3) -> str:\n",
        "        if not self.api_key:\n",
        "            return \"News API key not configured.\"\n",
        "\n",
        "        if count > 5: # Limit to avoid excessive API calls on free tier\n",
        "            count = 5\n",
        "\n",
        "        params = {\n",
        "            \"q\": topic,\n",
        "            \"apiKey\": self.api_key,\n",
        "            \"pageSize\": count,\n",
        "            \"language\": \"en\" # Limit to English news\n",
        "        }\n",
        "\n",
        "        try:\n",
        "            response = requests.get(self.base_url, params=params)\n",
        "            response.raise_for_status()\n",
        "            data = response.json()\n",
        "\n",
        "            articles = data.get(\"articles\", [])\n",
        "            if not articles:\n",
        "                return f\"No news found for topic '{topic}'.\"\n",
        "\n",
        "            news_summary = []\n",
        "            for i, article in enumerate(articles):\n",
        "                title = article.get(\"title\", \"No Title\")\n",
        "                source = article.get(\"source\", {}).get(\"name\", \"Unknown Source\")\n",
        "                url = article.get(\"url\", \"\")\n",
        "                news_summary.append(f\"{i+1}. {title} (Source: {source}) - {url}\")\n",
        "\n",
        "            return f\"Latest news on '{topic}':\\n\" + \"\\n\".join(news_summary)\n",
        "        except requests.exceptions.RequestException as e:\n",
        "            return f\"Error fetching news for '{topic}': {e}\"\n",
        "        except Exception as e:\n",
        "            return f\"An unexpected error occurred while processing news data: {e}\"\n",
        "\n",
        "print(\"NewsPlugin created!\")"
      ],
      "outputs": [],
      "metadata": {
        "id": "EEFxDhq5dULm"
      },
      "id": "EEFxDhq5dULm",
      "execution_count": null
    },
    {
      "cell_type": "markdown",
      "source": [
        "---"
      ],
      "metadata": {
        "id": "xOndC4KzdULo"
      },
      "id": "xOndC4KzdULo"
    },
    {
      "cell_type": "markdown",
      "source": [
        "## Part 3: Integrate Skills and Build the Bot\n",
        "Add your newly created `WeatherPlugin` and `NewsPlugin` instances to the Semantic Kernel and set up an interaction loop."
      ],
      "metadata": {
        "id": "BdjmnT5ydULo"
      },
      "id": "BdjmnT5ydULo"
    },
    {
      "cell_type": "markdown",
      "source": [
        "### Task 3.1: Import Skills into the Kernel\n",
        "Instantiate your plugin classes and import them into the `kernel`."
      ],
      "metadata": {
        "id": "SpAOJkwmdULo"
      },
      "id": "SpAOJkwmdULo"
    },
    {
      "cell_type": "code",
      "source": [
        "weather_skill = kernel.import_plugin_from_object(WeatherPlugin(), plugin_name=\"WeatherPlugin\")\n",
        "news_skill = kernel.import_plugin_from_object(NewsPlugin(), plugin_name=\"NewsPlugin\")\n",
        "\n",
        "print(\"WeatherPlugin and NewsPlugin imported into the kernel!\")"
      ],
      "outputs": [],
      "metadata": {
        "id": "kDl4-gDZdULp"
      },
      "id": "kDl4-gDZdULp",
      "execution_count": null
    },
    {
      "cell_type": "markdown",
      "source": [
        "### Task 3.2: Create the Bot Interaction Loop\n",
        "Define an asynchronous function `chat_with_bot` that takes user input, uses `kernel.invoke()`, and prints the bot's response. This will be your main interaction point."
      ],
      "metadata": {
        "id": "xvO0vsNQdULp"
      },
      "id": "xvO0vsNQdULp"
    },
    {
      "cell_type": "code",
      "source": [
        "async def chat_with_bot(query: str) -> str:\n",
        "    print(f\"\\nUser: {query}\")\n",
        "    try:\n",
        "        # The kernel will automatically decide which skill/function to use based on the query\n",
        "        result = await kernel.invoke(query)\n",
        "        # For simpler queries, the result will directly be the LLM's response\n",
        "        # For tool calls, the LLM will orchestrate and use the tool, then respond\n",
        "\n",
        "        # Newer SK versions return a FunctionResult or ChatMessageContent\n",
        "        if hasattr(result, 'value'): # Check if it's an old style result object\n",
        "            response_content = str(result.value)\n",
        "        elif hasattr(result, 'text'): # Check if it's a ChatMessageContent\n",
        "            response_content = result.text\n",
        "        else:\n",
        "            response_content = str(result)\n",
        "\n",
        "        print(f\"Bot: {response_content}\")\n",
        "        return response_content\n",
        "    except Exception as e:\n",
        "        print(f\"Bot (Error): An error occurred during processing: {e}\")\n",
        "        return f\"Sorry, I encountered an error: {e}\"\n",
        "\n",
        "print(\"chat_with_bot function defined!\")"
      ],
      "outputs": [],
      "metadata": {
        "id": "riMLCSX-dULq"
      },
      "id": "riMLCSX-dULq",
      "execution_count": null
    },
    {
      "cell_type": "markdown",
      "source": [
        "---"
      ],
      "metadata": {
        "id": "nN79RyxHdULr"
      },
      "id": "nN79RyxHdULr"
    },
    {
      "cell_type": "markdown",
      "source": [
        "## Part 4: Test and Evaluate the Bot\n",
        "Run various queries to test your bot's ability to use the weather and news skills. Observe the console output carefully to see how the LLM orchestrates the skill calls."
      ],
      "metadata": {
        "id": "gMHlRs1vdULr"
      },
      "id": "gMHlRs1vdULr"
    },
    {
      "cell_type": "markdown",
      "source": [
        "### Task 4.1: Test with Weather Queries\n",
        "Run the `chat_with_bot` function with queries that require the `WeatherPlugin`."
      ],
      "metadata": {
        "id": "RsvTMajUdULr"
      },
      "id": "RsvTMajUdULr"
    },
    {
      "cell_type": "code",
      "source": [
        "import asyncio\n",
        "\n",
        "# Test Case 1: Simple weather query\n",
        "await chat_with_bot(\"What's the weather like in London, UK?\")\n",
        "\n",
        "# Test Case 2: Weather with unit specification\n",
        "await chat_with_bot(\"Tell me the temperature in Paris, France in Fahrenheit.\")\n",
        "\n",
        "# Test Case 3: Unknown location\n",
        "await chat_with_bot(\"How's the weather in Narnia?\")"
      ],
      "outputs": [],
      "metadata": {
        "id": "IpWYu6-gdULs"
      },
      "id": "IpWYu6-gdULs",
      "execution_count": null
    },
    {
      "cell_type": "markdown",
      "source": [
        "### Task 4.2: Test with News Queries\n",
        "Run the `chat_with_bot` function with queries that require the `NewsPlugin`."
      ],
      "metadata": {
        "id": "nBLqBpzhdULs"
      },
      "id": "nBLqBpzhdULs"
    },
    {
      "cell_type": "code",
      "source": [
        "# Test Case 4: Simple news query\n",
        "await chat_with_bot(\"Give me the latest news on AI.\")\n",
        "\n",
        "# Test Case 5: News with specific count\n",
        "await chat_with_bot(\"Find 2 recent news articles about electric vehicles.\")\n",
        "\n",
        "# Test Case 6: No news found\n",
        "await chat_with_bot(\"What's the news about sentient potatoes?\")"
      ],
      "outputs": [],
      "metadata": {
        "id": "nqyFQfuQdULt"
      },
      "id": "nqyFQfuQdULt",
      "execution_count": null
    },
    {
      "cell_type": "markdown",
      "source": [
        "### Task 4.3: Test with Mixed/Complex Queries\n",
        "Challenge your bot with queries that might require a combination of general knowledge and skill execution, or even multiple skill calls (though SK's default chaining might require explicit prompting for multi-step tasks)."
      ],
      "metadata": {
        "id": "5QFH5I2cdULt"
      },
      "id": "5QFH5I2cdULt"
    },
    {
      "cell_type": "code",
      "source": [
        "# Test Case 7: Mixed query (might only use one skill or general knowledge)\n",
        "await chat_with_bot(\"What's the current weather in Tokyo and any recent news about technology companies?\")\n",
        "\n",
        "# Test Case 8: Query that requires general LLM response\n",
        "await chat_with_bot(\"What is the capital of France?\")"
      ],
      "outputs": [],
      "metadata": {
        "id": "3vqFZpWsdULu"
      },
      "id": "3vqFZpWsdULu",
      "execution_count": null
    },
    {
      "cell_type": "markdown",
      "source": [
        "---"
      ],
      "metadata": {
        "id": "4F6Cil2PdULu"
      },
      "id": "4F6Cil2PdULu"
    },
    {
      "cell_type": "markdown",
      "source": [
        "## Part 5: Analysis and Reflection\n",
        "Based on your testing, answer the following questions."
      ],
      "metadata": {
        "id": "VNun5_updULu"
      },
      "id": "VNun5_updULu"
    },
    {
      "cell_type": "markdown",
      "source": [
        "### Task 5.1: Skill Orchestration and Intent Recognition\n",
        "* **Effectiveness**: How effectively did Semantic Kernel (and the underlying LLM) determine which skill to call based on your queries? Provide examples where it succeeded and where it might have struggled.\n",
        "* **Parameter Extraction**: Did the LLM correctly extract parameters (like `location`, `topic`, `unit`, `count`) from your natural language queries and pass them to the skills?\n",
        "* **Fallback Behavior**: How did the bot respond to queries that did not align with any of its defined skills? Did it provide a reasonable general LLM response?"
      ],
      "metadata": {
        "id": "bhYmFtRpdULv"
      },
      "id": "bhYmFtRpdULv"
    },
    {
      "cell_type": "markdown",
      "source": [
        "### Task 5.2: Tool Integration and Data Processing\n",
        "* **API Integration**: Describe the process of integrating external APIs (OpenWeatherMap, NewsAPI) as native functions within Semantic Kernel. What are the advantages of this approach?\n",
        "* **Data Presentation**: How well did your skill functions process the raw API responses and present them in a user-friendly format in the bot's output?\n",
        "* **Error Handling**: Did your `try-except` blocks effectively catch and report errors from the external APIs? Provide an example of an error message you observed."
      ],
      "metadata": {
        "id": "QiePbLOQdULv"
      },
      "id": "QiePbLOQdULv"
    },
    {
      "cell_type": "markdown",
      "source": [
        "### Task 5.3: Limitations and Future Improvements\n",
        "* **Current Limitations**: What are the current limitations of your bot? (e.g., restricted to specific locations/topics, limited number of news articles, no support for complex chained requests).\n",
        "* **Future Enhancements**: If you were to extend this bot, what additional skills or functionalities would you add? How would you improve its robustness or user experience?\n",
        "* **Prompt Engineering vs. Skills**: Discuss how skills (native functions) enhance the LLM's capabilities beyond pure prompt engineering for tasks requiring external, real-time data or specific actions."
      ],
      "metadata": {
        "id": "vhOsoi8OdULw"
      },
      "id": "vhOsoi8OdULw"
    },
    {
      "cell_type": "markdown",
      "source": [
        "---"
      ],
      "metadata": {
        "id": "k9Nf25SedULx"
      },
      "id": "k9Nf25SedULx"
    },
    {
      "cell_type": "markdown",
      "source": [
        "### Submission:\n",
        "* Ensure all code cells have been executed and their outputs are visible.\n",
        "* All analysis and reflections are clearly written in markdown cells.\n",
        "* Make sure your `.env` file (or equivalent API key setup) is mentioned but **NOT** included in the submitted notebook for security reasons.\n",
        "* Save your Jupyter Notebook as `[YourName]_SemanticKernel_Skills_Assignment.ipynb`."
      ],
      "metadata": {
        "id": "yeFLBMNUdULx"
      },
      "id": "yeFLBMNUdULx"
    }
  ]
}