{
  "nbformat": 4,
  "nbformat_minor": 5,
  "metadata": {
    "kernelspec": {
      "display_name": "Python 3",
      "language": "python",
      "name": "python3"
    },
    "language_info": {
      "codemirror_mode": {
        "name": "ipython",
        "version": 3
      },
      "file_extension": ".py",
      "mimetype": "text/x-python",
      "name": "python",
      "nbconvert_exporter": "python",
      "pygments_lexer": "ipython3",
      "version": "3.9.18"
    },
    "colab": {
      "provenance": []
    }
  },
  "cells": [
    {
      "cell_type": "markdown",
      "source": [
        "# Assignment: Develop a Multi-Agent Financial Analyst with AutoGen Planner\n",
        "\n"
      ],
      "metadata": {
        "id": "D1cxUqaXb2qM"
      },
      "id": "D1cxUqaXb2qM"
    },
    {
      "cell_type": "markdown",
      "source": [
        "### Objective:\n",
        "This assignment challenges you to design and implement a **multi-agent financial analysis system using AutoGen**. The core of this system will be a **\"Planner\" agent** responsible for breaking down complex financial queries into actionable steps. Other agents (Researcher, Analyst, Reporter) will then execute these steps, leveraging external tools (like web search) to gather and synthesize financial information. This exercise demonstrates advanced multi-agent orchestration for specialized, data-intensive tasks."
      ],
      "metadata": {
        "id": "76Xvv5zTb2qO"
      },
      "id": "76Xvv5zTb2qO"
    },
    {
      "cell_type": "markdown",
      "source": [
        "---"
      ],
      "metadata": {
        "id": "oIXzdSjBb2qP"
      },
      "id": "oIXzdSjBb2qP"
    },
    {
      "cell_type": "markdown",
      "source": [
        "### Instructions:\n",
        "1.  **LLM Access**: You will need access to an LLM API. **OpenAI's models (e.g., GPT-4o, GPT-4, GPT-3.5-turbo)** are highly recommended due to their robust function calling capabilities, which AutoGen leverages extensively. You can also use local LLMs via `ollama` or `lmstudio` if configured correctly (see AutoGen docs).\n",
        "2.  **External Tool Access (Search)**: You **must** use an internet search tool. **SerperDevTool** from `crewai_tools` (or a similar tool like `DuckDuckGoSearchRun` from `langchain_community.tools`) is recommended for its ease of integration. You will need an **API key for Serper (from serper.dev)** or configure other search tools.\n",
        "3.  **Environment Setup**: Install the necessary Python libraries: `pip install pyautogen crewai_tools langchain_community`.\n",
        "4.  **API Keys**: Securely handle your LLM API key and your Serper API key. It's best practice to load them from environment variables or `OAI_CONFIG_LIST`.\n",
        "5.  **Jupyter Notebook**: All your code, outputs, observations, and analysis must be documented in this Jupyter Notebook.\n",
        "6.  **Financial Analysis Scenario**: Define a specific financial analysis query (e.g., \"Analyze the recent performance of NVIDIA (NVDA) stock and its future outlook, considering market trends and competitive landscape.\").\n",
        "7.  **Analysis**: Evaluate the planning process, agent collaboration, tool utilization, and the quality of the final report."
      ],
      "metadata": {
        "id": "eKyC6vZab2qP"
      },
      "id": "eKyC6vZab2qP"
    },
    {
      "cell_type": "markdown",
      "source": [
        "---"
      ],
      "metadata": {
        "id": "W0mwokT8b2qQ"
      },
      "id": "W0mwokT8b2qQ"
    },
    {
      "cell_type": "markdown",
      "source": [
        "## Part 1: Setup and Configuration\n",
        "Configure your LLM and external tools required for the financial analyst agents."
      ],
      "metadata": {
        "id": "bH9aSRJdb2qQ"
      },
      "id": "bH9aSRJdb2qQ"
    },
    {
      "cell_type": "markdown",
      "source": [
        "### Task 1.1: Install Libraries and Configure API Keys\n",
        "Install `pyautogen`, `crewai_tools`, and `langchain_community`. Set up your LLM and Serper API keys."
      ],
      "metadata": {
        "id": "jp-3vFHUb2qQ"
      },
      "id": "jp-3vFHUb2qQ"
    },
    {
      "cell_type": "code",
      "source": [
        "# Install necessary libraries (if not already installed)\n",
        "# !pip install pyautogen crewai_tools langchain_community --quiet\n",
        "\n",
        "import autogen\n",
        "import os\n",
        "from crewai_tools import SerperDevTool # Or from langchain_community.tools import DuckDuckGoSearchRun\n",
        "\n",
        "# --- YOUR API KEYS HERE ---\n",
        "# It's highly recommended to load your API keys from environment variables.\n",
        "# On Linux/macOS: export OPENAI_API_KEY='your_openai_key' ; export SERPER_API_KEY='your_serper_key'\n",
        "# On Windows (cmd): set OPENAI_API_KEY=your_openai_key & set SERPER_API_KEY=your_serper_key\n",
        "\n",
        "# Replace with your actual keys or ensure environment variables are set\n",
        "os.environ[\"OPENAI_API_KEY\"] = os.getenv(\"OPENAI_API_KEY\", \"YOUR_OPENAI_API_KEY_HERE\")\n",
        "os.environ[\"SERPER_API_KEY\"] = os.getenv(\"SERPER_API_KEY\", \"YOUR_SERPER_API_KEY_HERE\")\n",
        "\n",
        "# Configure LLM (OpenAI model recommended)\n",
        "llm_config = {\n",
        "    \"config_list\": autogen.config_list_from_json(\n",
        "        \"OAI_CONFIG_LIST\",\n",
        "        filter_dict={\n",
        "            \"model\": [\"gpt-4o\", \"gpt-4\", \"gpt-3.5-turbo\"], # Prioritize larger models\n",
        "        },\n",
        "    ),\n",
        "    \"temperature\": 0.2, # Lower temperature for factual and analytical tasks\n",
        "}\n",
        "\n",
        "# Fallback if OAI_CONFIG_LIST not found\n",
        "if not llm_config[\"config_list\"] and os.environ.get(\"OPENAI_API_KEY\"):\n",
        "    print(\"Using OPENAI_API_KEY from environment variable as fallback.\")\n",
        "    llm_config[\"config_list\"] = [\n",
        "        {\"model\": \"gpt-4o\", \"api_key\": os.environ[\"OPENAI_API_KEY\"]}\n",
        "    ]\n",
        "elif not llm_config[\"config_list\"]:\n",
        "    print(\"WARNING: No LLM configuration found. Please set OPENAI_API_KEY or create OAI_CONFIG_LIST.\")\n",
        "\n",
        "\n",
        "# Initialize the search tool\n",
        "search_tool = SerperDevTool() # Or DuckDuckGoSearchRun()\n",
        "\n",
        "print(\"AutoGen environment, LLM, and Search Tool configured!\")"
      ],
      "outputs": [],
      "metadata": {
        "id": "T2La-zfyb2qR"
      },
      "id": "T2La-zfyb2qR",
      "execution_count": null
    },
    {
      "cell_type": "markdown",
      "source": [
        "### Task 1.2: Define the Financial Analysis Query\n",
        "Choose a specific financial analysis query that requires multiple steps, including research and analysis."
      ],
      "metadata": {
        "id": "bE3eGDbfb2qS"
      },
      "id": "bE3eGDbfb2qS"
    },
    {
      "cell_type": "code",
      "source": [
        "financial_query = \"Perform a comprehensive financial analysis of Tesla (TSLA) for the last two quarters. Include revenue, net income, cash flow, debt, and recent news impacting its stock performance. Provide a summary of its current financial health and a brief outlook.\"\n",
        "\n",
        "print(\"Financial analysis query defined:\", financial_query)"
      ],
      "outputs": [],
      "metadata": {
        "id": "bEQsbbyAb2qT"
      },
      "id": "bEQsbbyAb2qT",
      "execution_count": null
    },
    {
      "cell_type": "markdown",
      "source": [
        "---"
      ],
      "metadata": {
        "id": "l9if5liYb2qT"
      },
      "id": "l9if5liYb2qT"
    },
    {
      "cell_type": "markdown",
      "source": [
        "## Part 2: Define Agents (Roles and Tools)\n",
        "Create the specialized AI agents that will form your financial analysis team. Each agent will have a distinct role and be equipped with necessary tools."
      ],
      "metadata": {
        "id": "xesunGZBb2qT"
      },
      "id": "xesunGZBb2qT"
    },
    {
      "cell_type": "markdown",
      "source": [
        "### Task 2.1: `UserProxyAgent` (The Initiator & Executor)\n",
        "This agent initiates the conversation and can execute code (though likely not in this specific flow, it's good practice for AutoGen's capabilities). It also acts as the interface to the user and manages termination."
      ],
      "metadata": {
        "id": "9Jamo58cb2qT"
      },
      "id": "9Jamo58cb2qT"
    },
    {
      "cell_type": "code",
      "source": [
        "# Define the termination condition for the UserProxyAgent\n",
        "def is_termination_message(message):\n",
        "    return \"TERMINATE\" in message.get(\"content\", \"\").upper() or \"FINISH\" in message.get(\"content\", \"\").upper()\n",
        "\n",
        "user_proxy = autogen.UserProxyAgent(\n",
        "    name=\"Admin\",\n",
        "    human_input_mode=\"NEVER\", # Set to NEVER for full automation\n",
        "    max_consecutive_auto_reply=15, # Allow enough turns for complex tasks\n",
        "    is_termination_msg=is_termination_message,\n",
        "    code_execution_config={\n",
        "        \"work_dir\": \"financial_analysis_workdir\", # Directory for code execution\n",
        "        \"use_docker\": False, # Set to True if you have Docker installed for isolated execution\n",
        "    },\n",
        "    system_message=\"A human administrator who manages the financial analysis team. Provide tasks and approve final reports. Conclude with 'TERMINATE' when satisfied.\"\n",
        ")\n",
        "\n",
        "print(\"UserProxyAgent 'Admin' created!\")"
      ],
      "outputs": [],
      "metadata": {
        "id": "Phr2lBN9b2qU"
      },
      "id": "Phr2lBN9b2qU",
      "execution_count": null
    },
    {
      "cell_type": "markdown",
      "source": [
        "### Task 2.2: `PlannerAgent` (The Strategist)\n",
        "This agent will take the high-level financial query and break it down into a detailed, step-by-step plan for the other agents to follow. It's crucial for managing complex, multi-stage processes."
      ],
      "metadata": {
        "id": "8RIIZABrb2qU"
      },
      "id": "8RIIZABrb2qU"
    },
    {
      "cell_type": "code",
      "source": [
        "planner = autogen.AssistantAgent(\n",
        "    name=\"Planner\",\n",
        "    system_message=\"You are an expert financial analysis planner. Your role is to receive a financial query, break it down into a clear, sequential plan of action for research, analysis, and reporting. Delegate tasks to the Researcher, Analyst, and Reporter. Ensure all parts of the initial query are addressed. Output the plan and then instruct the next agent.\",\n",
        "    llm_config=llm_config,\n",
        ")\n",
        "\n",
        "print(\"PlannerAgent 'Planner' created!\")"
      ],
      "outputs": [],
      "metadata": {
        "id": "_h2fln0Wb2qU"
      },
      "id": "_h2fln0Wb2qU",
      "execution_count": null
    },
    {
      "cell_type": "markdown",
      "source": [
        "### Task 2.3: `ResearcherAgent` (The Data Gatherer)\n",
        "This agent's primary responsibility is to gather relevant financial data and news using the search tool."
      ],
      "metadata": {
        "id": "EIR6biz3b2qU"
      },
      "id": "EIR6biz3b2qU"
    },
    {
      "cell_type": "code",
      "source": [
        "researcher = autogen.AssistantAgent(\n",
        "    name=\"Researcher\",\n",
        "    system_message=(\n",
        "        \"You are a highly skilled financial researcher. You are equipped with a web search tool. \"\n",
        "        \"Your task is to use the search tool to find recent financial data, news articles, \"\n",
        "        \"and relevant reports related to the query. Present the factual findings clearly, citing sources where possible. \"\n",
        "        \"Do not analyze, just gather and present raw information. Once research is complete, return the findings to the Analyst.\"\n",
        "    ),\n",
        "    llm_config=llm_config,\n",
        ")\n",
        "\n",
        "# Register the search tool for the Researcher agent\n",
        "user_proxy.register_for_execution(search_tool, caller=researcher)\n",
        "researcher.register_for_tool_use(user_proxy, search_tool)\n",
        "\n",
        "print(\"ResearcherAgent 'Researcher' created and search tool registered!\")"
      ],
      "outputs": [],
      "metadata": {
        "id": "nMgpVubFb2qV"
      },
      "id": "nMgpVubFb2qV",
      "execution_count": null
    },
    {
      "cell_type": "markdown",
      "source": [
        "### Task 2.4: `AnalystAgent` (The Interpreter)\n",
        "This agent will take the raw research findings and perform the actual financial analysis, identifying trends, key metrics, and implications."
      ],
      "metadata": {
        "id": "tVEJm9Jjb2qV"
      },
      "id": "tVEJm9Jjb2qV"
    },
    {
      "cell_type": "code",
      "source": [
        "analyst = autogen.AssistantAgent(\n",
        "    name=\"Analyst\",\n",
        "    system_message=(\n",
        "        \"You are a highly analytical financial expert. Your role is to take the raw research findings \"\n",
        "        \"from the Researcher and perform a thorough financial analysis. Identify key financial metrics \"\n",
        "        \"(revenue, net income, cash flow, debt), trends, and significant news impacts. \"\n",
        "        \"Synthesize these into concise insights. Present your analysis to the Reporter.\"\n",
        "    ),\n",
        "    llm_config=llm_config,\n",
        ")\n",
        "\n",
        "print(\"AnalystAgent 'Analyst' created!\")"
      ],
      "outputs": [],
      "metadata": {
        "id": "dwJEGePlb2qV"
      },
      "id": "dwJEGePlb2qV",
      "execution_count": null
    },
    {
      "cell_type": "markdown",
      "source": [
        "### Task 2.5: `ReporterAgent` (The Communicator)\n",
        "This agent's task is to compile all the analysis into a well-structured, professional financial report."
      ],
      "metadata": {
        "id": "sNzdtDMwb2qV"
      },
      "id": "sNzdtDMwb2qV"
    },
    {
      "cell_type": "code",
      "source": [
        "reporter = autogen.AssistantAgent(\n",
        "    name=\"Reporter\",\n",
        "    system_message=(\n",
        "        \"You are a professional financial report writer. Your task is to take the analysis from the Analyst \"\n",
        "        \"and compile it into a comprehensive, well-structured financial report. \"\n",
        "        \"The report should have an introduction, sections for key financial data, trends, impact of news, \"\n",
        "        \"a summary of financial health, and a brief outlook. Ensure clarity, conciseness, and professionalism. \"\n",
        "        \"Present the final report to the Admin. Conclude your final message to Admin with 'TERMINATE'.\"\n",
        "    ),\n",
        "    llm_config=llm_config,\n",
        ")\n",
        "\n",
        "print(\"ReporterAgent 'Reporter' created!\")"
      ],
      "outputs": [],
      "metadata": {
        "id": "iEZQstMjb2qW"
      },
      "id": "iEZQstMjb2qW",
      "execution_count": null
    },
    {
      "cell_type": "markdown",
      "source": [
        "---"
      ],
      "metadata": {
        "id": "couUexgcb2qW"
      },
      "id": "couUexgcb2qW"
    },
    {
      "cell_type": "markdown",
      "source": [
        "## Part 3: Define Communication Flow & Initiate Chat\n",
        "Orchestrate the interaction between the agents using `GroupChat` and `GroupChatManager`."
      ],
      "metadata": {
        "id": "y16SidE5b2qW"
      },
      "id": "y16SidE5b2qW"
    },
    {
      "cell_type": "markdown",
      "source": [
        "### Task 3.1: Create `GroupChat` and `GroupChatManager`\n",
        "Define the group of agents and the manager that will control their turn-taking and conversation flow."
      ],
      "metadata": {
        "id": "R_YRl-_Hb2qW"
      },
      "id": "R_YRl-_Hb2qW"
    },
    {
      "cell_type": "code",
      "source": [
        "agents = [user_proxy, planner, researcher, analyst, reporter]\n",
        "\n",
        "groupchat = autogen.GroupChat(\n",
        "    agents=agents,\n",
        "    messages=[],\n",
        "    max_round=20, # Maximum number of turns in the conversation\n",
        "    speaker_selection_method=\"auto\", # AutoGen decides who speaks next\n",
        ")\n",
        "\n",
        "manager = autogen.GroupChatManager(\n",
        "    groupchat=groupchat,\n",
        "    llm_config=llm_config,\n",
        ")\n",
        "\n",
        "print(\"GroupChat and GroupChatManager created!\")"
      ],
      "outputs": [],
      "metadata": {
        "id": "41x2mUzOb2qW"
      },
      "id": "41x2mUzOb2qW",
      "execution_count": null
    },
    {
      "cell_type": "markdown",
      "source": [
        "### Task 3.2: Initiate the Multi-Agent Conversation\n",
        "Start the chat by sending the `financial_query` to the `GroupChatManager` via the `user_proxy`."
      ],
      "metadata": {
        "id": "qJGAJER5b2qX"
      },
      "id": "qJGAJER5b2qX"
    },
    {
      "cell_type": "code",
      "source": [
        "# Make sure the work directory exists\n",
        "if not os.path.exists(user_proxy.code_execution_config[\"work_dir\"]):\n",
        "    os.makedirs(user_proxy.code_execution_config[\"work_dir\"])\n",
        "\n",
        "print(\"\\n--- Initiating Financial Analysis Conversation ---\")\n",
        "\n",
        "chat_history = user_proxy.initiate_chat(\n",
        "    manager, # The manager agent to start the group chat\n",
        "    message=financial_query,\n",
        "    clear_history=True, # Clear previous chat history\n",
        "    silent=False, # Set to True to suppress console output during chat\n",
        ")\n",
        "\n",
        "print(\"\\n--- Financial Analysis Conversation Ended ---\")"
      ],
      "outputs": [],
      "metadata": {
        "id": "NlLydBcxb2qX"
      },
      "id": "NlLydBcxb2qX",
      "execution_count": null
    },
    {
      "cell_type": "markdown",
      "source": [
        "---"
      ],
      "metadata": {
        "id": "EcCn7gAlb2qX"
      },
      "id": "EcCn7gAlb2qX"
    },
    {
      "cell_type": "markdown",
      "source": [
        "## Part 4: Analysis and Reflection\n",
        "Review the console output and the final report, then answer the following questions."
      ],
      "metadata": {
        "id": "lHTdEXiEb2qX"
      },
      "id": "lHTdEXiEb2qX"
    },
    {
      "cell_type": "markdown",
      "source": [
        "### Task 4.1: Review the Financial Analysis Report\n",
        "* **Quality of Report**: Is the final financial analysis report comprehensive, accurate, and well-structured? Does it address all parts of the initial `financial_query`?\n",
        "* **Key Findings**: What were the main financial insights provided about Tesla (TSLA) in the report?\n",
        "* **Completeness**: Did the report include revenue, net income, cash flow, debt, and recent news as requested?\n"
      ],
      "metadata": {
        "id": "2jrfkn35b2qY"
      },
      "id": "2jrfkn35b2qY"
    },
    {
      "cell_type": "markdown",
      "source": [
        "### Task 4.2: Role of the Planner Agent\n",
        "* **Planning Effectiveness**: Observe the initial messages from the `Planner` agent. Did it effectively break down the complex financial query into logical, sequential steps?\n",
        "* **Orchestration**: How did the `Planner` guide the conversation and delegate tasks to the other agents? Provide examples from the chat log.\n",
        "* **Necessity**: Why is a `Planner` agent particularly beneficial in complex, multi-stage tasks like financial analysis, compared to a direct interaction between a `UserProxyAgent` and specialized agents?"
      ],
      "metadata": {
        "id": "mosZkQh-b2qY"
      },
      "id": "mosZkQh-b2qY"
    },
    {
      "cell_type": "markdown",
      "source": [
        "### Task 4.3: Agent Collaboration and Tool Utilization\n",
        "* **Collaboration Flow**: Describe the flow of information and collaboration between the `Planner`, `Researcher`, `Analyst`, and `Reporter` agents. How did each agent's output become the input for the next?\n",
        "* **Search Tool Use**: Did the `Researcher` agent effectively use the `SerperDevTool`? Provide snippets from the log showing the tool calls and their results.\n",
        "* **Efficiency**: Do you think this multi-agent setup was an efficient way to perform the analysis? Why or why not?"
      ],
      "metadata": {
        "id": "db7a6tg9b2qY"
      },
      "id": "db7a6tg9b2qY"
    },
    {
      "cell_type": "markdown",
      "source": [
        "### Task 4.4: Limitations and Future Improvements\n",
        "* **Current Limitations**: What were the limitations of this multi-agent setup (e.g., occasional inaccuracies, verbose output, potential for loops, lack of real-time data)?\n",
        "* **Future Enhancements**: How could you improve this financial analyst system? Consider:\n",
        "    * Adding more specialized agents (e.g., a 'Risk Assessor', 'Chart Generator').\n",
        "    * Integrating more sophisticated tools (e.g., API access to financial data providers, a charting library).\n",
        "    * Implementing a human-in-the-loop mechanism for critical decisions or clarifications.\n",
        "    * Improving error handling and retry mechanisms."
      ],
      "metadata": {
        "id": "ds-MwYsZb2qY"
      },
      "id": "ds-MwYsZb2qY"
    },
    {
      "cell_type": "markdown",
      "source": [
        "---"
      ],
      "metadata": {
        "id": "BETYFKt8b2qY"
      },
      "id": "BETYFKt8b2qY"
    },
    {
      "cell_type": "markdown",
      "source": [
        "### Submission:\n",
        "* Ensure all code cells have been executed and their outputs are visible.\n",
        "* All analysis and reflections are clearly written in markdown cells.\n",
        "* Save your Jupyter Notebook as `[YourName]_AutoGen_Financial_Analyst_Assignment.ipynb`."
      ],
      "metadata": {
        "id": "6lbEskP_b2qZ"
      },
      "id": "6lbEskP_b2qZ"
    }
  ]
}