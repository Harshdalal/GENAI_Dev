{
  "cells": [
    {
      "cell_type": "markdown",
      "source": [
        "# Assignment: Track Experiment Versions using DVC\n",
        "\n",
        "## Objective\n",
        "This assignment focuses on leveraging Data Version Control (DVC) to track and manage different versions of data, models, and experiment parameters for a machine learning project. You will learn to use DVC alongside Git to ensure reproducibility and enable seamless collaboration on ML experiments."
      ],
      "metadata": {
        "id": "CimMBrbiDRqm"
      },
      "id": "CimMBrbiDRqm"
    },
    {
      "cell_type": "markdown",
      "source": [
        "## Part 1: Environment Setup and Project Initialization (25 Marks)\n",
        "\n",
        "1.  **Environment Setup:**\n",
        "    * Create a new Python virtual environment.\n",
        "    * Install necessary libraries: `dvc`, `scikit-learn`, `pandas`, `numpy`, `matplotlib` (for basic visualization), `git` (ensure Git is installed and configured on your system).\n",
        "    * Provide a `requirements.txt` file.\n",
        "\n",
        "2.  **Git Repository Initialization:**\n",
        "    * Create a new, empty directory for your project (e.g., `dvc_ml_project`).\n",
        "    * Initialize a Git repository within this directory (`git init`).\n",
        "    * Make an initial commit (e.g., \"Initial commit - empty project\").\n",
        "    * (Optional, but recommended for full experience) Create a remote repository on GitHub/GitLab and push your initial commit.\n",
        "\n",
        "3.  **DVC Initialization:**\n",
        "    * Initialize DVC within your Git repository (`dvc init`).\n",
        "    * Configure a **local** DVC cache for this assignment (e.g., `dvc config cache.dir ../.dvc/cache`). This simplifies setup without needing cloud storage, but mention how it would differ for cloud deployment.\n",
        "    * Make a Git commit with the `.dvc` directory and `.dvcignore` file (`git commit -m \"Initialize DVC\"`).\n",
        "\n",
        "4.  **Data Acquisition:**\n",
        "    * Download a small, well-known classification or regression dataset (e.g., Iris, Wine, Diabetes, or a small CSV from Kaggle) and save it as a CSV file (e.g., `data/raw_data.csv`) within your project directory.\n",
        "    * Describe your chosen dataset: what it represents, its size, and the task it's suitable for.\n",
        "\n",
        "5.  **DVC Add Data:**\n",
        "    * Add your raw data file to DVC (`dvc add data/raw_data.csv`).\n",
        "    * Explain what `dvc add` does (creates `.dvc` file, moves data to cache, updates `.gitignore`).\n",
        "    * Make a Git commit: `git commit -m \"Add raw data\"`."
      ],
      "metadata": {
        "id": "xKQRoKiWDRqp"
      },
      "id": "xKQRoKiWDRqp"
    },
    {
      "cell_type": "code",
      "execution_count": null,
      "metadata": {
        "id": "j2ZjWANgDRqq"
      },
      "outputs": [],
      "source": [
        "# Your commands for environment setup, Git/DVC initialization, and data acquisition.\n",
        "# Description of your dataset.\n",
        "# Git/DVC commands and explanation of their effects.\n",
        "# Show `git log` output to verify commits."
      ],
      "id": "j2ZjWANgDRqq"
    },
    {
      "cell_type": "markdown",
      "source": [
        "## Part 2: Data Preprocessing and Featurization (30 Marks)\n",
        "\n",
        "1.  **Preprocessing Script:**\n",
        "    * Create a Python script (`src/prepare.py`) that performs basic data preprocessing:\n",
        "        * Loads `data/raw_data.csv`.\n",
        "        * Splits the data into features (X) and target (y).\n",
        "        * Performs a train-test split (e.g., 80/20).\n",
        "        * Saves the processed data (e.g., `data/X_train.csv`, `data/X_test.csv`, `data/y_train.csv`, `data/y_test.csv`).\n",
        "    * Provide the full code for `src/prepare.py`.\n",
        "\n",
        "2.  **DVC Stage for Preprocessing:**\n",
        "    * Define a DVC stage for your preprocessing step using `dvc run`.\n",
        "    * The stage should:\n",
        "        * Name: `prepare`\n",
        "        * Dependencies: `data/raw_data.csv`, `src/prepare.py`\n",
        "        * Outputs: `data/X_train.csv`, `data/X_test.csv`, `data/y_train.csv`, `data/y_test.csv`\n",
        "        * Command: `python src/prepare.py`\n",
        "    * Explain what a DVC stage (`dvc.yaml`) represents and its components.\n",
        "    * Run the DVC stage (`dvc repro`).\n",
        "    * Make a Git commit: `git commit -m \"Add data preparation stage\"`."
      ],
      "metadata": {
        "id": "KzuBlTThDRqr"
      },
      "id": "KzuBlTThDRqr"
    },
    {
      "cell_type": "code",
      "execution_count": null,
      "metadata": {
        "id": "zBUNXMcIDRqs"
      },
      "outputs": [],
      "source": [
        "# Full code for `src/prepare.py`.\n",
        "# DVC commands and explanation of the stage.\n",
        "# Show `dvc status` and `git log` output."
      ],
      "id": "zBUNXMcIDRqs"
    },
    {
      "cell_type": "markdown",
      "source": [
        "## Part 3: Model Training and Evaluation (30 Marks)\n",
        "\n",
        "1.  **Training Script:**\n",
        "    * Create a Python script (`src/train.py`) that:\n",
        "        * Loads the processed training and test data (`data/X_train.csv`, `data/y_train.csv`, etc.).\n",
        "        * Trains a simple machine learning model (e.g., `LogisticRegression`, `DecisionTreeClassifier`, `RandomForestClassifier`) using `X_train` and `y_train`.\n",
        "        * Evaluates the model on `X_test` and `y_test`, calculating at least `accuracy` and `f1-score`.\n",
        "        * Saves the trained model (e.g., using `joblib.dump` or `pickle`) to `models/model.pkl`.\n",
        "        * Saves evaluation metrics to a JSON file (e.g., `metrics.json`).\n",
        "    * Provide the full code for `src/train.py`.\n",
        "\n",
        "2.  **DVC Stage for Training:**\n",
        "    * Define a DVC stage for your training step using `dvc run`.\n",
        "    * The stage should:\n",
        "        * Name: `train`\n",
        "        * Dependencies: Your processed data files (`data/X_train.csv`, etc.), `src/train.py`\n",
        "        * Outputs: `models/model.pkl`\n",
        "        * Metrics: `metrics.json`\n",
        "        * Command: `python src/train.py`\n",
        "    * Run the DVC stage (`dvc repro`).\n",
        "    * Make a Git commit: `git commit -m \"Add model training stage\"`.\n",
        "\n",
        "3.  **DVC Metrics and Visualization:**\n",
        "    * Use `dvc metrics show` to display your recorded metrics.\n",
        "    * Show the output of `dvc metrics show`.\n",
        "    * Explain how DVC tracks and allows viewing of metrics."
      ],
      "metadata": {
        "id": "zFOAzlHTDRqs"
      },
      "id": "zFOAzlHTDRqs"
    },
    {
      "cell_type": "code",
      "execution_count": null,
      "metadata": {
        "id": "PXQbE6-SDRqt"
      },
      "outputs": [],
      "source": [
        "# Full code for `src/train.py`.\n",
        "# DVC commands for the training stage and metrics.\n",
        "# Output of `dvc metrics show`."
      ],
      "id": "PXQbE6-SDRqt"
    },
    {
      "cell_type": "markdown",
      "source": [
        "## Part 4: Experiment Tracking and Reproducibility (15 Marks)\n",
        "\n",
        "1.  **Modify and Retrain:**\n",
        "    * Make a small change to your `src/train.py` script. For example:\n",
        "        * Change a model hyperparameter (e.g., `max_depth` for a Decision Tree).\n",
        "        * Change the random state for train-test split in `src/prepare.py`.\n",
        "    * Re-run the DVC pipeline to update the model and metrics (`dvc repro`).\n",
        "    * Make a Git commit: `git commit -m \"Experiment 2: Changed model hyperparameter\"`.\n",
        "\n",
        "2.  **Compare Experiments:**\n",
        "    * Use `dvc metrics diff` to compare the metrics between your initial training run and the new run.\n",
        "    * Use `dvc dag` to visualize the pipeline dependency graph.\n",
        "    * Show the output of `dvc metrics diff` and `dvc dag`.\n",
        "    * Analyze the changes in metrics and explain how `dvc metrics diff` helps in comparing experiments.\n",
        "\n",
        "3.  **Reproducibility (Bonus - 5 Marks):**\n",
        "    * Revert your Git repository to the first commit (e.g., `git checkout [first_commit_hash]`).\n",
        "    * Demonstrate how to `dvc pull` the correct data and model for that version, and then `dvc repro` to regenerate the exact results from that past experiment.\n",
        "    * Explain how DVC and Git together ensure full reproducibility of any experiment version.\n",
        "\n",
        "4.  **Reflection:**\n",
        "    * Discuss the benefits of using DVC for MLOps, especially in terms of data versioning, experiment tracking, and reproducibility.\n",
        "    * How does DVC complement Git in an ML workflow?\n",
        "    * What challenges did you face, if any, and how did you overcome them?"
      ],
      "metadata": {
        "id": "7HqH6gg6DRqt"
      },
      "id": "7HqH6gg6DRqt"
    },
    {
      "cell_type": "code",
      "execution_count": null,
      "metadata": {
        "id": "pX3XsYD2DRqu"
      },
      "outputs": [],
      "source": [
        "# Your code for modifying scripts and re-running DVC.\n",
        "# Output of `dvc metrics diff` and `dvc dag`.\n",
        "# (For bonus, show commands for reverting and reproducing a past state).\n",
        "# Your written reflection."
      ],
      "id": "pX3XsYD2DRqu"
    },
    {
      "cell_type": "markdown",
      "source": [
        "## Submission Guidelines\n",
        "\n",
        "* Submit this Jupyter Notebook (.ipynb file) with all cells executed and outputs visible.\n",
        "* Submit a `.zip` archive or a link to a Git repository containing your full DVC project (including `.dvc` files, `src/` folder, `data/` folder, `models/` folder, `metrics.json`, `dvc.yaml`, `README.md`, `.gitignore`, and `requirements.txt`).\n",
        "* Ensure your Git history is clean and demonstrates the DVC stages and experiments through commits.\n",
        "* Provide a `requirements.txt` file.\n",
        "* Ensure your code is well-commented and easy to understand.\n",
        "* All commands and outputs should be clearly presented as requested.\n",
        "* Make sure your project can be cloned and run successfully by the instructor."
      ],
      "metadata": {
        "id": "ejnQ7B-MDRqu"
      },
      "id": "ejnQ7B-MDRqu"
    }
  ],
  "metadata": {
    "kernelspec": {
      "display_name": "Python 3",
      "language": "python",
      "name": "python3"
    },
    "language_info": {
      "codemirror_mode": {
        "name": "ipython",
        "version": 3
      },
      "file_extension": ".py",
      "mimetype": "text/x-python",
      "name": "python",
      "nbconvert_exporter": "python",
      "pygments_lexer": "ipython3",
      "version": "3.9.13"
    },
    "colab": {
      "provenance": []
    }
  },
  "nbformat": 4,
  "nbformat_minor": 5
}