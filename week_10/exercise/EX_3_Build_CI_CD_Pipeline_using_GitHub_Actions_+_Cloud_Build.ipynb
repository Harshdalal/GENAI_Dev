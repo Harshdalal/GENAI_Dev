{
  "cells": [
    {
      "cell_type": "markdown",
      "source": [
        "# Assignment: Build CI/CD Pipeline using GitHub Actions + Cloud Build\n",
        "\n",
        "## Objective\n",
        "This assignment focuses on building a continuous integration and continuous deployment (CI/CD) pipeline using a hybrid approach: GitHub Actions for triggering and basic CI steps, and Google Cloud Build for more robust build, test, and deployment stages within Google Cloud Platform (GCP). You will deploy a simple web application (e.g., a Flask or Node.js app) to Cloud Run, demonstrating automated builds and deployments on code changes."
      ],
      "metadata": {
        "id": "nyYTcaMQHyR9"
      },
      "id": "nyYTcaMQHyR9"
    },
    {
      "cell_type": "markdown",
      "source": [
        "## Part 1: Application Setup and Initial Repository (20 Marks)\n",
        "\n",
        "1.  **GCP Project Setup:**\n",
        "    * Ensure you have an active Google Cloud Platform (GCP) project. If not, create a new one.\n",
        "    * Make sure billing is enabled for your project.\n",
        "    * Enable the following APIs: Cloud Run API, Cloud Build API, Artifact Registry API (or Container Registry API if preferred), Cloud IAM API.\n",
        "    * Provide `gcloud services enable` commands for each required API and confirm their successful enablement.\n",
        "\n",
        "2.  **Simple Web Application:**\n",
        "    * Create a very basic web application (e.g., a Python Flask app, Node.js Express app, or a simple Go server). It should:\n",
        "        * Listen on `0.0.0.0` and the port specified by the `PORT` environment variable (Cloud Run's default).\n",
        "        * Have a single endpoint (e.g., `/`) that returns a simple message like \"Hello from Cloud Run v1!\".\n",
        "    * Include a `Dockerfile` for your application that builds a runnable container image.\n",
        "    * Include a `.gitignore` file to exclude unnecessary files.\n",
        "    * Provide the source code for your application and its `Dockerfile`.\n",
        "\n",
        "3.  **GitHub Repository:**\n",
        "    * Create a new public (or private, but manage access for assessment) GitHub repository.\n",
        "    * Initialize it with your web application code, `Dockerfile`, and `.gitignore`.\n",
        "    * Make an initial commit and push it to your GitHub repository.\n",
        "    * Provide the link to your GitHub repository."
      ],
      "metadata": {
        "id": "m9-ZJQlLHyR-"
      },
      "id": "m9-ZJQlLHyR-"
    },
    {
      "cell_type": "code",
      "execution_count": null,
      "metadata": {
        "id": "NqU3majTHyR_"
      },
      "outputs": [],
      "source": [
        "# Your GCP CLI commands for API enablement.\n",
        "# Source code for your simple web application and Dockerfile.\n",
        "# Link to your GitHub repository.\n",
        "        # Verify initial commit and push."
      ],
      "id": "NqU3majTHyR_"
    },
    {
      "cell_type": "markdown",
      "source": [
        "## Part 2: Cloud Build Configuration (30 Marks)\n",
        "\n",
        "1.  **Cloud Build Service Account Permissions:**\n",
        "    * Ensure the default Cloud Build service account (`[PROJECT_NUMBER]@cloudbuild.gserviceaccount.com`) has the necessary roles:\n",
        "        * `Cloud Run Admin`\n",
        "        * `Service Account User` (for Cloud Run service account)\n",
        "        * `Artifact Registry Writer` (or `Storage Admin` for Container Registry).\n",
        "    * Provide the `gcloud projects add-iam-policy-binding` commands to grant these roles.\n",
        "\n",
        "2.  **`cloudbuild.yaml` for Containerization & Deployment:**\n",
        "    * Create a `cloudbuild.yaml` file in the root of your GitHub repository.\n",
        "    * This file should define a multi-step Cloud Build process:\n",
        "        * **Build Image:** Build your Docker image and push it to Artifact Registry (or Container Registry).\n",
        "            * Use the `gcr.io/cloud-builders/docker` builder.\n",
        "            * Tag the image with a dynamic tag, e.g., `_IMAGE_NAME:latest` or using `COMMIT_SHA`.\n",
        "        * **Deploy to Cloud Run:** Deploy the newly built image to Cloud Run.\n",
        "            * Use the `gcr.io/cloud-builders/gcloud` builder.\n",
        "            * Deploy to a new Cloud Run service or an existing one, specifying region and allowing unauthenticated invocations for easy testing.\n",
        "    * Include your `cloudbuild.yaml` content here.\n",
        "\n",
        "3.  **Manual Test of Cloud Build:**\n",
        "    * Manually trigger a Cloud Build using `gcloud builds submit --config cloudbuild.yaml .` from your project directory (ensure `.` refers to your application root).\n",
        "    * Verify that the image is built and pushed to Artifact Registry/Container Registry.\n",
        "    * Verify that the Cloud Run service is deployed and accessible via its URL.\n",
        "    * Provide the `gcloud builds submit` command and a screenshot of the successful build in the GCP Console. Include the Cloud Run service URL and a screenshot of hitting that URL in your browser."
      ],
      "metadata": {
        "id": "5qJT7k1zHySA"
      },
      "id": "5qJT7k1zHySA"
    },
    {
      "cell_type": "code",
      "execution_count": null,
      "metadata": {
        "id": "j3GznyVVHySA"
      },
      "outputs": [],
      "source": [
        "# Your GCP CLI commands for IAM permissions.\n",
        "        # Content of your `cloudbuild.yaml`.\n",
        "        # `gcloud builds submit` command and screenshots of successful Cloud Build and Cloud Run deployment."
      ],
      "id": "j3GznyVVHySA"
    },
    {
      "cell_type": "markdown",
      "source": [
        "## Part 3: GitHub Actions Workflow (30 Marks)\n",
        "\n",
        "1.  **GitHub Actions Workflow File:**\n",
        "    * Create a GitHub Actions workflow file (e.g., `.github/workflows/main.yml`) in your repository.\n",
        "    * This workflow should:\n",
        "        * **Trigger:** On `push` to the `main` branch.\n",
        "        * **Checkout Code:** Use `actions/checkout@v4`.\n",
        "        * **Authenticate to GCP:** Use `google-github-actions/auth@v2` with `workload_identity_provider` and `service_account` for secure authentication. You will need to set up Workload Identity Federation (WIF) in GCP.\n",
        "            * **Workload Identity Federation (WIF) Setup (Crucial):**\n",
        "                * Create an IAM Workload Identity Pool in your GCP project.\n",
        "                * Create a Workload Identity Provider within this pool for GitHub.\n",
        "                * Grant the GCP service account (used by Cloud Build) the necessary roles (`roles/iam.workloadIdentityUser`) on the Workload Identity Provider.\n",
        "                * Provide `gcloud iam workload-identity-pools create` and `gcloud iam workload-identity-pools providers create-oidc` commands and `gcloud iam service-accounts add-iam-policy-binding`.\n",
        "                * Set up the necessary GitHub repository secrets (`GCP_PROJECT_ID`, `WORKLOAD_IDENTITY_PROVIDER`, `SERVICE_ACCOUNT_EMAIL`).\n",
        "        * **Trigger Cloud Build:** Use `google-github-actions/cloudbuild-build@v2` to trigger the `cloudbuild.yaml` file from your repository.\n",
        "    * Include your `main.yml` content here.\n",
        "\n",
        "2.  **Automated CI/CD Test:**\n",
        "    * Make a small code change to your web application (e.g., change the \"Hello from Cloud Run v1!\" message to \"Hello from Cloud Run v2!\" or update the date).\n",
        "    * Commit and push this change to the `main` branch of your GitHub repository.\n",
        "    * Monitor the GitHub Actions run and the triggered Cloud Build in the GCP Console.\n",
        "    * Verify that the Cloud Run service is updated with the new version.\n",
        "    * Provide a screenshot of the successful GitHub Actions run and a screenshot of hitting the Cloud Run URL showing the updated message."
      ],
      "metadata": {
        "id": "TRrKz5ypHySA"
      },
      "id": "TRrKz5ypHySA"
    },
    {
      "cell_type": "code",
      "execution_count": null,
      "metadata": {
        "id": "DAQTpen2HySB"
      },
      "outputs": [],
      "source": [
        "# Your GCP CLI commands for Workload Identity Federation setup.\n",
        "        # Content of your `.github/workflows/main.yml`.\n",
        "        # Screenshots of successful GitHub Actions run and updated Cloud Run service."
      ],
      "id": "DAQTpen2HySB"
    },
    {
      "cell_type": "markdown",
      "source": [
        "## Part 4: Reflection and Clean-up (20 Marks)\n",
        "\n",
        "1.  **CI/CD Pipeline Analysis:**\n",
        "    * Discuss the advantages of this hybrid CI/CD approach (GitHub Actions + Cloud Build) over a purely GitHub Actions-based deployment or a purely Cloud Build-triggered approach.\n",
        "    * How does this pipeline ensure continuous delivery?\n",
        "    * What are the benefits of using Workload Identity Federation for authentication?\n",
        "\n",
        "2.  **Potential Improvements:**\n",
        "    * Suggest at least two enhancements to this CI/CD pipeline (e.g., adding unit tests, integration tests, rollbacks, blue/green deployments, notifications, environment-specific deployments).\n",
        "\n",
        "3.  **Clean Up Resources:**\n",
        "    * After completing the assignment, delete the Cloud Run service, the Artifact Registry repository (or Container Registry images), and any custom IAM roles/service accounts/Workload Identity Pools created specifically for this assignment to avoid incurring unnecessary costs.\n",
        "    * Provide the `gcloud run services delete`, `gcloud artifacts repositories delete` (or `gcloud container images delete`), and relevant `gcloud iam` commands for cleanup."
      ],
      "metadata": {
        "id": "QjkfJVBCHySB"
      },
      "id": "QjkfJVBCHySB"
    },
    {
      "cell_type": "markdown",
      "source": [
        "## Submission Guidelines\n",
        "\n",
        "* Submit this Jupyter Notebook (.ipynb file) with all cells executed and outputs visible.\n",
        "* Provide the link to your GitHub repository.\n",
        "* Ensure your GitHub repository contains:\n",
        "    * Your web application code and `Dockerfile`.\n",
        "    * `cloudbuild.yaml`\n",
        "    * `.github/workflows/main.yml`\n",
        "    * `.gitignore`\n",
        "* Clearly present all requested code, commands, and screenshots.\n",
        "* Make sure your pipeline is functional and demonstrable via the GitHub repository."
      ],
      "metadata": {
        "id": "qf-K_509HySB"
      },
      "id": "qf-K_509HySB"
    }
  ],
  "metadata": {
    "kernelspec": {
      "display_name": "Python 3",
      "language": "python",
      "name": "python3"
    },
    "language_info": {
      "codemirror_mode": {
        "name": "ipython",
        "version": 3
      },
      "file_extension": ".py",
      "mimetype": "text/x-python",
      "name": "python",
      "nbconvert_exporter": "python",
      "pygments_lexer": "ipython3",
      "version": "3.9.13"
    },
    "colab": {
      "provenance": []
    }
  },
  "nbformat": 4,
  "nbformat_minor": 5
}