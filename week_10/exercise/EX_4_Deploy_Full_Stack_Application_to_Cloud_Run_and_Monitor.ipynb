{
  "cells": [
    {
      "cell_type": "markdown",
      "source": [
        "# Assignment: Deploy Full-Stack Application to Cloud Run and Monitor\n",
        "\n",
        "## Objective\n",
        "This assignment focuses on deploying a full-stack web application with separate frontend and backend services to Google Cloud Run. You will learn to containerize both components, deploy them, manage environment variables, connect to a database (Cloud SQL), and set up basic monitoring and logging to observe your application's health and performance."
      ],
      "metadata": {
        "id": "2a7OUqpVIUDD"
      },
      "id": "2a7OUqpVIUDD"
    },
    {
      "cell_type": "markdown",
      "source": [
        "## Part 1: Application Setup and Cloud SQL (30 Marks)\n",
        "\n",
        "1.  **GCP Project Setup:**\n",
        "    * Ensure you have an active Google Cloud Platform (GCP) project with billing enabled.\n",
        "    * Enable the following APIs: Cloud Run API, Cloud SQL Admin API, Artifact Registry API, Cloud Logging API, Cloud Monitoring API.\n",
        "    * Provide `gcloud services enable` commands for each required API.\n",
        "\n",
        "2.  **Full-Stack Application:**\n",
        "    * Create a simple full-stack application. Recommended technologies:\n",
        "        * **Backend:** Python (Flask/FastAPI), Node.js (Express), Go, or Java (Spring Boot).\n",
        "            * Exposes a few REST API endpoints (e.g., `/api/items` for CRUD operations).\n",
        "            * **Must interact with a database.**\n",
        "        * **Frontend:** HTML/CSS/JavaScript, React, Vue, or Angular.\n",
        "            * Consumes the backend API to display data (e.g., a list of items) and allows basic interaction (e.g., adding a new item).\n",
        "    * The application should have a `frontend` directory and a `backend` directory, each with its own `Dockerfile`.\n",
        "    * Provide the full source code for both frontend and backend, along with their respective `Dockerfile`s and any `requirements.txt` or `package.json` files.\n",
        "\n",
        "3.  **Cloud SQL Database:**\n",
        "    * Create a new Cloud SQL instance (e.g., PostgreSQL or MySQL). Choose a small instance size for cost efficiency.\n",
        "    * Create a database within this instance (e.g., `myapp_db`).\n",
        "    * Create a database user with a strong password.\n",
        "    * Provide `gcloud sql instances create` and `gcloud sql databases create` commands.\n",
        "\n",
        "4.  **Database Integration in Backend:**\n",
        "    * Modify your backend application to connect to the Cloud SQL instance.\n",
        "    * **Important:** Do NOT hardcode database credentials. Use environment variables (e.g., `DB_HOST`, `DB_USER`, `DB_PASS`, `DB_NAME`). Cloud Run integrates with Cloud SQL via environment variables and connections.\n",
        "    * Implement basic CRUD operations (e.g., creating a table, inserting, retrieving data).\n",
        "    * Test your backend locally to ensure it connects to the *local* database (or a temporary Cloud SQL proxy) and performs operations correctly."
      ],
      "metadata": {
        "id": "zrFkgMqgIUDG"
      },
      "id": "zrFkgMqgIUDG"
    },
    {
      "cell_type": "code",
      "execution_count": null,
      "metadata": {
        "id": "bAUdlkATIUDG"
      },
      "outputs": [],
      "source": [
        "# Your GCP CLI commands for API enablement and Cloud SQL setup.\n",
        "# Full source code for your frontend and backend applications, including Dockerfiles.\n",
        "# Explanation of how database credentials are handled (environment variables).\n",
        "# Screenshot or output demonstrating local backend database interaction."
      ],
      "id": "bAUdlkATIUDG"
    },
    {
      "cell_type": "markdown",
      "source": [
        "## Part 2: Containerization and Deployment to Cloud Run (35 Marks)\n",
        "\n",
        "1.  **Frontend Containerization:**\n",
        "    * Create a `Dockerfile` for your frontend application. This typically involves building static assets and serving them with a lightweight web server (e.g., Nginx, Caddy, or a simple Python http.server).\n",
        "\n",
        "2.  **Backend Containerization:**\n",
        "    * Create a `Dockerfile` for your backend application. This should include all dependencies and define the command to run your server.\n",
        "\n",
        "3.  **Build and Push Images to Artifact Registry:**\n",
        "    * Build both frontend and backend Docker images using Cloud Build (or locally with Docker and then push).\n",
        "    * Push these images to Google Artifact Registry.\n",
        "    * Use appropriate tags (e.g., `gcr.io/[PROJECT-ID]/frontend:latest`, `gcr.io/[PROJECT-ID]/backend:latest`).\n",
        "    * Provide `gcloud builds submit` commands for both images and confirm their presence in Artifact Registry.\n",
        "\n",
        "4.  **Deploy Backend to Cloud Run:**\n",
        "    * Deploy your backend container image to Cloud Run.\n",
        "    * **Crucially:** Configure the Cloud Run service to connect to your Cloud SQL instance using the `--add-cloudsql-instances` flag.\n",
        "    * Pass database credentials as environment variables (`--set-env-vars`).\n",
        "    * Allow unauthenticated invocations for easier testing.\n",
        "    * Provide the `gcloud run deploy` command for the backend and its URL.\n",
        "\n",
        "5.  **Deploy Frontend to Cloud Run:**\n",
        "    * Deploy your frontend container image to Cloud Run.\n",
        "    * The frontend service typically does not need Cloud SQL connection.\n",
        "    * Configure your frontend to make API calls to the **backend Cloud Run service URL**. This URL should be passed as an environment variable to the frontend container.\n",
        "    * Provide the `gcloud run deploy` command for the frontend and its URL.\n",
        "\n",
        "6.  **Test Deployed Application:**\n",
        "    * Access your frontend Cloud Run URL in a web browser.\n",
        "    * Interact with the application to verify that the frontend communicates correctly with the backend, and the backend successfully interacts with Cloud SQL.\n",
        "    * Take screenshots of your running full-stack application, demonstrating data being fetched from and/or written to the database (e.g., a list of items displayed, or a successful item addition)."
      ],
      "metadata": {
        "id": "UWdDlw_FIUDH"
      },
      "id": "UWdDlw_FIUDH"
    },
    {
      "cell_type": "code",
      "execution_count": null,
      "metadata": {
        "id": "UgpJ8m6qIUDI"
      },
      "outputs": [],
      "source": [
        "# Your Dockerfiles for frontend and backend.\n",
        "        # `gcloud builds submit` commands.\n",
        "        # `gcloud run deploy` commands for both frontend and backend, including Cloud SQL connection for backend and env vars.\n",
        "        # Screenshots of your deployed full-stack application."
      ],
      "id": "UgpJ8m6qIUDI"
    },
    {
      "cell_type": "markdown",
      "source": [
        "## Part 3: Monitoring and Logging (25 Marks)\n",
        "\n",
        "1.  **Explore Cloud Logging:**\n",
        "    * Navigate to Cloud Logging in the GCP Console.\n",
        "    * Filter logs by your frontend and backend Cloud Run services.\n",
        "    * Generate some traffic to your application (e.g., refresh the page, add/delete items).\n",
        "    * Identify and filter for different log levels (INFO, WARNING, ERROR) if your application emits them.\n",
        "    * Take a screenshot of the Cloud Logging interface showing logs from both your frontend and backend services.\n",
        "    * Discuss how Cloud Logging helps in debugging and understanding application behavior.\n",
        "\n",
        "2.  **Explore Cloud Monitoring - Dashboards:**\n",
        "    * Navigate to Cloud Monitoring in the GCP Console.\n",
        "    * Find the default dashboards for your Cloud Run services (usually under \"Resources\" -> \"Cloud Run\").\n",
        "    * Observe key metrics like `Request count`, `Latency`, `Container instance count`, `CPU utilization`, `Memory utilization`.\n",
        "    * Take a screenshot of a relevant Cloud Run monitoring dashboard for one of your services (backend is often more interesting for resource usage).\n",
        "    * Discuss what insights these metrics provide about your application's performance and scalability.\n",
        "\n",
        "3.  **Create a Custom Alert Policy (Bonus - 5 Marks):**\n",
        "    * Create a simple alert policy in Cloud Monitoring.\n",
        "    * Example: Alert if the `request_count` for your backend service drops to 0 for 5 minutes (indicating downtime) or if `latency` exceeds a certain threshold.\n",
        "    * Configure notification channels (e.g., email).\n",
        "    * Take a screenshot of your configured alert policy.\n",
        "    * Explain the purpose of this alert and how it contributes to operational readiness."
      ],
      "metadata": {
        "id": "OALcl6MLIUDI"
      },
      "id": "OALcl6MLIUDI"
    },
    {
      "cell_type": "code",
      "execution_count": null,
      "metadata": {
        "id": "It7ul-3HIUDI"
      },
      "outputs": [],
      "source": [
        "# Screenshots of Cloud Logging and Cloud Monitoring dashboards.\n",
        "        # Discussion of insights from logs and metrics.\n",
        "        # (For bonus) Screenshot of custom alert policy and its explanation."
      ],
      "id": "It7ul-3HIUDI"
    },
    {
      "cell_type": "markdown",
      "source": [
        "## Part 4: Reflection and Clean-up (10 Marks)\n",
        "\n",
        "1.  **Advantages of Cloud Run:**\n",
        "    * Discuss the key advantages of using Cloud Run for deploying full-stack applications compared to traditional VMs or Kubernetes, especially in terms of scalability, cost-efficiency, and operational overhead.\n",
        "    * What are the specific benefits for a full-stack architecture with separate frontend/backend services?\n",
        "\n",
        "2.  **Deployment Best Practices:**\n",
        "    * What best practices for containerization and deployment did you follow (or learn about) during this assignment?\n",
        "    * How would you handle continuous deployment for this application (e.g., using GitHub Actions or Cloud Build triggers)?\n",
        "\n",
        "3.  **Clean Up Resources:**\n",
        "    * After completing the assignment, delete all created GCP resources to avoid incurring unnecessary costs:\n",
        "        * Cloud Run services (frontend and backend).\n",
        "        * Cloud SQL instance.\n",
        "        * Artifact Registry images.\n",
        "        * Any custom alert policies.\n",
        "    * Provide the relevant `gcloud` commands for thorough cleanup."
      ],
      "metadata": {
        "id": "KbgVJcrTIUDJ"
      },
      "id": "KbgVJcrTIUDJ"
    },
    {
      "cell_type": "markdown",
      "source": [
        "## Submission Guidelines\n",
        "\n",
        "* Submit this Jupyter Notebook (.ipynb file) with all cells executed and outputs visible.\n",
        "* Provide the full source code for your frontend and backend applications, including `Dockerfile`s, in a single compressed archive (e.g., `.zip` file) or a link to a Git repository.\n",
        "* Clearly present all requested commands, URLs, and screenshots.\n",
        "* Ensure your application can be deployed and verified by the instructor based on your instructions and code."
      ],
      "metadata": {
        "id": "-47y_X5iIUDJ"
      },
      "id": "-47y_X5iIUDJ"
    }
  ],
  "metadata": {
    "kernelspec": {
      "display_name": "Python 3",
      "language": "python",
      "name": "python3"
    },
    "language_info": {
      "codemirror_mode": {
        "name": "ipython",
        "version": 3
      },
      "file_extension": ".py",
      "mimetype": "text/x-python",
      "name": "python",
      "nbconvert_exporter": "python",
      "pygments_lexer": "ipython3",
      "version": "3.9.13"
    },
    "colab": {
      "provenance": []
    }
  },
  "nbformat": 4,
  "nbformat_minor": 5
}