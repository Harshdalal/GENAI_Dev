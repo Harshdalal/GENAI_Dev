{
  "cells": [
    {
      "cell_type": "markdown",
      "source": [
        "# Assignment: Trigger Pipeline using Cloud Pub/Sub Message\n",
        "## Objective\n",
        "This assignment focuses on building an event-driven pipeline on Google Cloud Platform (GCP) where a process is triggered by a Cloud Pub/Sub message. You will set up a Pub/Sub topic, create a Cloud Function (or Cloud Run service) to act as a subscriber, and then trigger a subsequent Cloud Build pipeline (or another process) based on the content of the Pub/Sub message. This demonstrates asynchronous communication and automation of workflows."
      ],
      "metadata": {
        "id": "5OsUd-wTJlgl"
      },
      "id": "5OsUd-wTJlgl"
    },
    {
      "cell_type": "markdown",
      "source": [
        "## Part 1: GCP Setup and Pub/Sub Configuration (25 Marks)\n",
        "\n",
        "1.  **GCP Project Setup:**\n",
        "    * Ensure you have an active Google Cloud Platform (GCP) project with billing enabled.\n",
        "    * Enable the following APIs: Cloud Pub/Sub API, Cloud Functions API (or Cloud Run API), Cloud Build API, Cloud Logging API.\n",
        "    * Provide `gcloud services enable` commands for each required API.\n",
        "\n",
        "2.  **Cloud Pub/Sub Topic and Subscription:**\n",
        "    * Create a new Cloud Pub/Sub topic (e.g., `my-trigger-topic`).\n",
        "    * Create a subscription to this topic (e.g., `my-trigger-subscription`). You can choose a pull or push subscription, but for this assignment, a push subscription often makes sense for Cloud Functions/Run.\n",
        "    * Provide `gcloud pubsub topics create` and `gcloud pubsub subscriptions create` commands.\n",
        "\n",
        "3.  **Dummy Cloud Build Configuration (or Target Process):**\n",
        "        * To simulate a pipeline, create a very simple `cloudbuild.yaml` file that just prints a message or runs a trivial command.\n",
        "        * This `cloudbuild.yaml` should be stored in a GitHub/Cloud Source Repository, or you can use a basic inline build step for simplicity for the purpose of this assignment.\n",
        "        * The idea is that your Pub/Sub triggered component will eventually trigger *this* build.\n",
        "        * Provide the content of your `cloudbuild.yaml` (e.g., `steps: - name: 'ubuntu' args: ['echo', 'Pipeline triggered by Pub/Sub message!']`)."
      ],
      "metadata": {
        "id": "vQDFoNwaJlgo"
      },
      "id": "vQDFoNwaJlgo"
    },
    {
      "cell_type": "code",
      "execution_count": null,
      "metadata": {
        "id": "tsABPHlgJlgp"
      },
      "outputs": [],
      "source": [
        "# Your GCP CLI commands for API enablement.\n",
        "        # `gcloud pubsub topics create` and `gcloud pubsub subscriptions create` commands.\n",
        "        # Content of your dummy `cloudbuild.yaml`."
      ],
      "id": "tsABPHlgJlgp"
    },
    {
      "cell_type": "markdown",
      "source": [
        "## Part 2: Cloud Function (or Cloud Run) as Pub/Sub Subscriber (40 Marks)\n",
        "\n",
        "1.  **Service Account for Cloud Function/Run:**\n",
        "        * Create a dedicated service account for your Cloud Function/Run service (e.g., `pubsub-trigger-sa`).\n",
        "        * Grant this service account the necessary permissions to trigger Cloud Build (e.g., `Cloud Build Editor` or a custom role with `cloudbuild.builds.create` permission) and `Pub/Sub Subscriber` role.\n",
        "        * Provide `gcloud iam service-accounts create` and `gcloud projects add-iam-policy-binding` commands.\n",
        "\n",
        "2.  **Cloud Function (or Cloud Run Service) Code:**\n",
        "        * Create a Python function (e.g., `main.py`) that will be triggered by Pub/Sub messages.\n",
        "        * The function should:\n",
        "            * Be an `http` trigger or `pubsub` trigger if using Cloud Functions directly.\n",
        "            * Parse the incoming Pub/Sub message. Messages are base64-encoded JSON in Cloud Functions HTTP triggers from Pub/Sub, or directly provided in a Pub/Sub trigger.\n",
        "            * Extract relevant information from the message (e.g., a `pipeline_name` or a `message_type` from the JSON payload).\n",
        "            * Based on the message content, trigger your dummy Cloud Build pipeline.\n",
        "                * You can use the Cloud Build client library (`google-cloud-build`) or simply use `gcloud` command line tool invoked via `subprocess` (less robust but simpler for demonstration).\n",
        "                * Pass any relevant information from the Pub/Sub message to the Cloud Build trigger (e.g., as substitutions or build parameters).\n",
        "            * Log the incoming message and the action taken (e.g., \"Triggering Cloud Build: [build_id]\").\n",
        "        * Provide the full source code for your Cloud Function/Run service (`main.py`, `requirements.txt`).\n",
        "\n",
        "3.  **Deploy Cloud Function (or Cloud Run Service):**\n",
        "        * Deploy your Cloud Function with the `Pub/Sub` trigger type, linking it to your `my-trigger-topic`.\n",
        "        * Ensure it uses the dedicated service account created earlier.\n",
        "        * If using Cloud Run, deploy it as an HTTP service and configure a Pub/Sub push subscription to its URL.\n",
        "        * Provide the `gcloud functions deploy` (or `gcloud run deploy`) command.\n",
        "\n",
        "4.  **Test Subscriber Deployment:**\n",
        "        * Navigate to Cloud Functions (or Cloud Run) in the GCP Console and verify your service is deployed and active.\n",
        "        * View its logs in Cloud Logging to ensure there are no immediate deployment errors.\n",
        "        * Take a screenshot of your deployed Cloud Function/Run service in the GCP Console."
      ],
      "metadata": {
        "id": "ZUWm8T0TJlgq"
      },
      "id": "ZUWm8T0TJlgq"
    },
    {
      "cell_type": "code",
      "execution_count": null,
      "metadata": {
        "id": "5_9Jq-U-Jlgs"
      },
      "outputs": [],
      "source": [
        "# Your GCP CLI commands for service account and permissions.\n",
        "        # Full source code for your Cloud Function/Run service (`main.py`, `requirements.txt`).\n",
        "        # `gcloud functions deploy` (or `gcloud run deploy`) command.\n",
        "        # Screenshot of your deployed Cloud Function/Run service."
      ],
      "id": "5_9Jq-U-Jlgs"
    },
    {
      "cell_type": "markdown",
      "source": [
        "## Part 3: End-to-End Pipeline Triggering and Verification (30 Marks)\n",
        "\n",
        "1.  **Publish Pub/Sub Message:**\n",
        "        * Manually publish a message to your `my-trigger-topic` using the `gcloud pubsub topics publish` command.\n",
        "        * The message should contain a JSON payload that your Cloud Function/Run service expects (e.g., `{\"pipeline_name\": \"my-dummy-build\", \"data_id\": \"12345\"}`).\n",
        "        * Provide the `gcloud pubsub topics publish` command.\n",
        "\n",
        "2.  **Monitor Logs and Cloud Build:**\n",
        "        * Immediately after publishing the message, go to Cloud Logging.\n",
        "        * Filter logs for your Cloud Function/Run service. Observe the logs indicating that the message was received and Cloud Build was triggered.\n",
        "        * Then, navigate to Cloud Build in the GCP Console.\n",
        "        * Verify that your dummy Cloud Build pipeline was successfully triggered and completed.\n",
        "        * Take screenshots of:\n",
        "            * The Cloud Logging output showing the Pub/Sub message processing and Cloud Build trigger.\n",
        "            * The successful Cloud Build run in the GCP Console.\n",
        "\n",
        "3.  **Automated Triggering with Different Messages (Bonus - 5 Marks):**\n",
        "        * Send a few more messages to the Pub/Sub topic, varying the `data_id` or other parameters in the JSON payload.\n",
        "        * If your Cloud Function/Run can handle different `pipeline_name` values, demonstrate that.\n",
        "        * Verify that corresponding Cloud Build runs are triggered.\n",
        "        * Show logs/screenshots for these additional triggers.\n",
        "\n",
        "4.  **Discussion:**\n",
        "        * Explain the end-to-end flow of events, from publishing a Pub/Sub message to the Cloud Build pipeline being triggered.\n",
        "        * Discuss the advantages of using Pub/Sub for asynchronous event-driven architectures in GCP.\n",
        "        * How does this pattern contribute to scalability and loose coupling in distributed systems?"
      ],
      "metadata": {
        "id": "BxRtFXXkJlgs"
      },
      "id": "BxRtFXXkJlgs"
    },
    {
      "cell_type": "code",
      "execution_count": null,
      "metadata": {
        "id": "gy3xOqKmJlgt"
      },
      "outputs": [],
      "source": [
        "# `gcloud pubsub topics publish` command.\n",
        "        # Screenshots of Cloud Function/Run logs and successful Cloud Build run.\n",
        "        # (For bonus) Screenshots for additional automated triggers.\n",
        "        # Your discussion of the end-to-end flow and benefits."
      ],
      "id": "gy3xOqKmJlgt"
    },
    {
      "cell_type": "markdown",
      "source": [
        "## Part 4: Reflection and Clean-up (5 Marks)\n",
        "\n",
        "1.  **Further Applications:**\n",
        "        * Suggest two other real-world scenarios where this Pub/Sub trigger pattern could be effectively used (e.g., data processing pipelines, IoT event handling, microservice communication).\n",
        "\n",
        "2.  **Clean Up Resources:**\n",
        "        * After completing the assignment, delete all created GCP resources to avoid incurring unnecessary costs:\n",
        "            * Cloud Pub/Sub topic and subscription.\n",
        "            * Cloud Function (or Cloud Run service).\n",
        "            * Cloud Build trigger (if you created one based on a repo).\n",
        "            * Custom service account created for this assignment.\n",
        "        * Provide the relevant `gcloud` and `bq` commands for thorough cleanup."
      ],
      "metadata": {
        "id": "KTr4YkrKJlgt"
      },
      "id": "KTr4YkrKJlgt"
    },
    {
      "cell_type": "markdown",
      "source": [
        "## Submission Guidelines\n",
        "\n",
        "* Submit this Jupyter Notebook (.ipynb file) with all cells executed and outputs visible.\n",
        "* Provide the full source code for your Cloud Function/Run service (`main.py`, `requirements.txt`).\n",
        "* Clearly present all requested commands, configurations, and screenshots.\n",
        "* Ensure your solution is functional and demonstrable via the provided outputs."
      ],
      "metadata": {
        "id": "VNtArCfeJlgu"
      },
      "id": "VNtArCfeJlgu"
    }
  ],
  "metadata": {
    "kernelspec": {
      "display_name": "Python 3",
      "language": "python",
      "name": "python3"
    },
    "language_info": {
      "codemirror_mode": {
        "name": "ipython",
        "version": 3
      },
      "file_extension": ".py",
      "mimetype": "text/x-python",
      "name": "python",
      "nbconvert_exporter": "python",
      "pygments_lexer": "ipython3",
      "version": "3.9.13"
    },
    "colab": {
      "provenance": []
    }
  },
  "nbformat": 4,
  "nbformat_minor": 5
}