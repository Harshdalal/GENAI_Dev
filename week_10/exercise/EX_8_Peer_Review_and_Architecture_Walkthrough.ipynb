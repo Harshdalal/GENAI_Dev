{
  "cells": [
    {
      "cell_type": "markdown",
      "source": [
        "# Assignment: Peer Review and Architecture Walkthrough\n",
        "\n",
        "## Objective\n",
        "This assignment focuses on two crucial aspects of professional software development: peer code review and architecture walkthroughs. You will act as both a developer presenting your work and a reviewer providing constructive feedback. The goal is to improve code quality, share knowledge, identify potential issues early, and ensure architectural coherence and understanding within a team setting."
      ],
      "metadata": {
        "id": "QsZrqFuXKcCR"
      },
      "id": "QsZrqFuXKcCR"
    },
    {
      "cell_type": "markdown",
      "source": [
        "## Part 1: Project Preparation (25 Marks)\n",
        "\n",
        "1.  **Select/Develop a Project:**\n",
        "        * Choose an existing project you've worked on (from a previous assignment, personal project, or a small open-source contribution) or create a new small-to-medium-sized application for this assignment.\n",
        "        * **Project Requirements:**\n",
        "            * It should be a functional application (e.g., a simple web service, a data processing script, a machine learning pipeline, a mobile app component).\n",
        "            * It must have at least 100-200 lines of *your own* code (excluding boilerplate/libraries).\n",
        "            * It should have a clear purpose and a defined architecture (even if simple).\n",
        "            * It must be version-controlled using Git and hosted on GitHub/GitLab/Bitbucket.\n",
        "        * Provide a link to your project's Git repository.\n",
        "        * Briefly describe your project: its purpose, key features, and the technologies used.\n",
        "\n",
        "2.  **Architecture Diagram (Initial Draft):**\n",
        "        * Create an initial high-level architecture diagram for your project.\n",
        "        * This diagram should illustrate:\n",
        "            * The main components of your system.\n",
        "            * How they interact with each other.\n",
        "            * Any external dependencies (databases, APIs, cloud services).\n",
        "            * Data flow (optional, but good to show).\n",
        "        * Use any diagramming tool (e.g., Draw.io, Lucidchart, Excalidraw, PlantUML, even a hand-drawn clear image).\n",
        "        * Embed the diagram image here.\n",
        "\n",
        "3.  **Prepare for Code Review:**\n",
        "        * Identify a specific feature or logical unit within your project that you want to be reviewed. This could be a new module, a core algorithm, or a specific API endpoint.\n",
        "        * Ensure your code for this feature is clean, has meaningful variable names, and is ideally accompanied by some inline comments for complex logic (though over-commenting is discouraged).\n",
        "        * Create a new Git branch for this feature (e.g., `feature/review-this-module`).\n",
        "        * Make at least 3-5 meaningful commits on this branch related to the feature.\n",
        "        * Open a Pull Request (PR) or Merge Request (MR) targeting your `main` or `develop` branch. *Do not merge it yet.* Provide a link to this PR.\n",
        "        * Write a clear PR description outlining:\n",
        "            * What the feature does.\n",
        "            * Why it was implemented this way.\n",
        "            * Any specific areas you'd like the reviewer to focus on.\n",
        "            * Instructions for testing/running the code (if applicable)."
      ],
      "metadata": {
        "id": "PHYIBBBsKcCU"
      },
      "id": "PHYIBBBsKcCU"
    },
    {
      "cell_type": "code",
      "execution_count": null,
      "metadata": {
        "id": "4vY9fi24KcCV"
      },
      "outputs": [],
      "source": [
        "# Link to your project's Git repository.\n",
        "        # Description of your project.\n",
        "        # Embed your initial architecture diagram image here.\n",
        "        # Link to your Pull Request/Merge Request on GitHub/GitLab."
      ],
      "id": "4vY9fi24KcCV"
    },
    {
      "cell_type": "markdown",
      "source": [
        "## Part 2: Architecture Walkthrough (Presentation & Feedback) (35 Marks)\n",
        "\n",
        "1.  **Architecture Walkthrough Presentation:**\n",
        "        * Record a short video (5-7 minutes) or write a detailed explanation that acts as your architecture walkthrough.\n",
        "        * **Content of Walkthrough:**\n",
        "            * Briefly re-introduce your project's purpose.\n",
        "            * Explain your architecture diagram, elaborating on each component and its role.\n",
        "            * Describe the key data flows and interactions between components.\n",
        "            * Justify significant architectural decisions (e.g., why you chose a specific database, messaging queue, or design pattern).\n",
        "            * Discuss any known architectural trade-offs or limitations.\n",
        "            * (Optional) Demonstrate a critical path or user flow through the system.\n",
        "        * Provide a link to your video recording (e.g., YouTube, Google Drive with public access) or embed the detailed written explanation here.\n",
        "\n",
        "2.  **Anticipate Feedback:**\n",
        "        * After reviewing your own architecture, list at least **three** potential architectural concerns or questions you anticipate a peer might raise. For each, briefly explain why it might be a concern.\n",
        "            * Example: \"Concern: Scalability of the single database instance. Reason: As user load grows, this could become a bottleneck without sharding or replication.\"\n",
        "\n",
        "3.  **Peer Questions:**\n",
        "        * Formulate at least **two** insightful questions you would ask a peer if they presented this architecture to you. These should go beyond simple clarifications and aim to uncover deeper architectural considerations or assumptions.\n",
        "            * Example: \"How would the system handle consistent state across distributed components if one component fails mid-transaction?\""
      ],
      "metadata": {
        "id": "iJzzsx_3KcCX"
      },
      "id": "iJzzsx_3KcCX"
    },
    {
      "cell_type": "code",
      "execution_count": null,
      "metadata": {
        "id": "ALjWA403KcCY"
      },
      "outputs": [],
      "source": [
        "# Link to your architecture walkthrough video OR embed your detailed written explanation.\n",
        "        # List of anticipated architectural concerns/questions.\n",
        "        # List of insightful questions you would ask a peer."
      ],
      "id": "ALjWA403KcCY"
    },
    {
      "cell_type": "markdown",
      "source": [
        "## Part 3: Peer Code Review (25 Marks)\n",
        "\n",
        "**Instructions for Reviewer:** You will be assigned a peer's Pull Request to review. If you are not assigned one, you can simulate a review on your *own* PR (as if someone else submitted it), focusing on finding improvements.\n",
        "\n",
        "1.  **Review the Assigned/Self PR:**\n",
        "        * Go to the assigned Pull Request (or your own).\n",
        "        * Conduct a thorough code review. Focus on:\n",
        "            * **Correctness:** Does the code do what it's supposed to do? Are there any logical errors?\n",
        "            * **Readability:** Is the code easy to understand? Are variable names clear? Is it well-structured?\n",
        "            * **Maintainability:** Is it easy to modify or extend in the future? Is there excessive duplication?\n",
        "            * **Efficiency:** Are there obvious performance bottlenecks or inefficient algorithms?\n",
        "            * **Security (basic):** Any obvious vulnerabilities (e.g., SQL injection, exposed secrets)?\n",
        "            * **Best Practices:** Does it adhere to language/framework best practices?\n",
        "            * **Tests (if applicable):** Are there adequate tests for the new feature?\n",
        "\n",
        "2.  **Provide Feedback:**\n",
        "        * Submit at least **5 constructive comments** on the Pull Request directly on GitHub/GitLab.\n",
        "        * At least **2** of these comments should be substantive (e.g., suggesting a design change, identifying a bug, proposing a more efficient algorithm, or asking for clarification on a complex piece of logic).\n",
        "        * Provide a screenshot of your comments on the GitHub/GitLab PR.\n",
        "\n",
        "3.  **Summarize Review:**\n",
        "        * In this notebook, summarize your key findings from the code review.\n",
        "        * What were the biggest strengths of the code?\n",
        "        * What were the most critical areas for improvement?\n",
        "        * Did you identify any potential bugs or architectural implications from the code changes?\n",
        "        * How would you rate the overall quality of the code and the PR?\n",
        "\n",
        "4.  **Simulate Response (If self-review or no peer assigned):**\n",
        "        * If you are reviewing your own PR, after making comments, simulate how you would respond to 2 of those comments, either by acknowledging them or providing a counter-argument/explanation."
      ],
      "metadata": {
        "id": "u554B919KcCY"
      },
      "id": "u554B919KcCY"
    },
    {
      "cell_type": "code",
      "execution_count": null,
      "metadata": {
        "id": "0d5Jo3sFKcCZ"
      },
      "outputs": [],
      "source": [
        "# Link to the PR you reviewed (if applicable).\n",
        "        # Screenshot(s) of your comments on the GitHub/GitLab PR.\n",
        "        # Summary of your code review findings.\n",
        "        # (If self-review) Simulated responses to your own comments."
      ],
      "id": "0d5Jo3sFKcCZ"
    },
    {
      "cell_type": "markdown",
      "source": [
        "## Part 4: Reflection and Learning (10 Marks)\n",
        "\n",
        "1.  **Learnings from Architecture Walkthrough:**\n",
        "        * What did you learn about your own project's architecture by preparing the walkthrough?\n",
        "        * How did articulating your design decisions (or anticipating questions) deepen your understanding?\n",
        "\n",
        "2.  **Learnings from Code Review:**\n",
        "        * What did you learn about code quality, common pitfalls, or effective coding practices by reviewing code (either your own or a peer's)?\n",
        "        * How can code reviews contribute to team knowledge sharing and consistency?\n",
        "\n",
        "3.  **Importance of Both Practices:**\n",
        "        * Discuss how architectural walkthroughs and peer code reviews complement each other in ensuring the quality, maintainability, and long-term success of a software project."
      ],
      "metadata": {
        "id": "ybeBM_80KcCZ"
      },
      "id": "ybeBM_80KcCZ"
    },
    {
      "cell_type": "markdown",
      "source": [
        "## Submission Guidelines\n",
        "\n",
        "* Submit this Jupyter Notebook (.ipynb file) with all cells executed and outputs visible.\n",
        "* Ensure all links (Git repo, PR, video) are publicly accessible or accessible to the instructor.\n",
        "* All screenshots should be clear and directly embedded.\n",
        "* Your explanations and discussions should be comprehensive and insightful."
      ],
      "metadata": {
        "id": "haUdixsKKcCa"
      },
      "id": "haUdixsKKcCa"
    }
  ],
  "metadata": {
    "kernelspec": {
      "display_name": "Python 3",
      "language": "python",
      "name": "python3"
    },
    "language_info": {
      "codemirror_mode": {
        "name": "ipython",
        "version": 3
      },
      "file_extension": ".py",
      "mimetype": "text/x-python",
      "name": "python",
      "nbconvert_exporter": "python",
      "pygments_lexer": "ipython3",
      "version": "3.9.13"
    },
    "colab": {
      "provenance": []
    }
  },
  "nbformat": 4,
  "nbformat_minor": 5
}