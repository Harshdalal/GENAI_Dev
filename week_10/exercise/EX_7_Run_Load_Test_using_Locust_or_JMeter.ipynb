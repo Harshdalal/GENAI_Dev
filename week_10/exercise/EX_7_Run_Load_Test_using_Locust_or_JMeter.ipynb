{
  "cells": [
    {
      "cell_type": "markdown",
      "source": [
        "# Assignment: Run Load Test using Locust or JMeter\n",
        "## Objective\n",
        "This assignment focuses on performing a load test on a web application (or an API endpoint) using either Locust (Python-based) or Apache JMeter (Java-based). You will learn to define user behavior, simulate concurrent users, execute the load test, and analyze the performance metrics to identify potential bottlenecks and assess the application's scalability."
      ],
      "metadata": {
        "id": "LVNbgGPRJ-iP"
      },
      "id": "LVNbgGPRJ-iP"
    },
    {
      "cell_type": "markdown",
      "source": [
        "## Part 1: Application Setup and Test Environment (25 Marks)\n",
        "\n",
        "1.  **Target Application Setup:**\n",
        "    * Choose or create a simple web application or API endpoint to load test. It should be easily deployable or publicly accessible.\n",
        "    * **Recommended Options:**\n",
        "        * **Simple Flask/Node.js API:** An endpoint that performs a basic calculation or a mock database lookup.\n",
        "        * **A public REST API:** (e.g., a simple weather API, a public to-do list API – *ensure you comply with their terms of service and rate limits*).\n",
        "        * **A local web server:** Run a simple HTTP server (e.g., Python's `http.server`) serving a static file.\n",
        "    * State the URL of the application/endpoint you will be testing.\n",
        "    * Briefly describe the functionality of the endpoint(s) you will be testing (e.g., \"`/calculate` endpoint takes two numbers and returns their sum\").\n",
        "\n",
        "2.  **Load Testing Tool Setup:**\n",
        "        * **Option A: Locust:**\n",
        "            * Create a new Python virtual environment.\n",
        "            * Install `locust` (`pip install locust`).\n",
        "        * **Option B: JMeter:**\n",
        "            * Download and install Apache JMeter from its official website. Ensure you have Java installed and configured.\n",
        "            * Describe your installation steps.\n",
        "\n",
        "3.  **Basic Connectivity Test:**\n",
        "        * Before load testing, confirm that you can access your target application/endpoint from your load testing environment (e.g., using `curl`, `requests` in Python, or a browser).\n",
        "        * Show the command/code and its successful output."
      ],
      "metadata": {
        "id": "UYFnBH1tJ-iS"
      },
      "id": "UYFnBH1tJ-iS"
    },
    {
      "cell_type": "code",
      "execution_count": null,
      "metadata": {
        "id": "EaSFcdMqJ-id"
      },
      "outputs": [],
      "source": [
        "# Your chosen target application/endpoint URL and description.\n",
        "        # Steps for installing Locust or JMeter.\n",
        "        # Code/command for basic connectivity test and its output."
      ],
      "id": "EaSFcdMqJ-id"
    },
    {
      "cell_type": "markdown",
      "source": [
        "## Part 2: Defining User Behavior and Load Test Script (40 Marks)\n",
        "\n",
        "1.  **Define User Behavior (Scenarios):**\n",
        "        * For your chosen application, define a realistic user behavior scenario that you want to simulate.\n",
        "        * **Example scenarios:**\n",
        "            * **API testing:** Repeatedly hit the `/calculate` endpoint with varying (or random) input data.\n",
        "            * **Website Browse:** Access the homepage, then navigate to a product page, then add to cart (if applicable, for more complex scenarios).\n",
        "        * Describe your chosen user behavior scenario clearly.\n",
        "\n",
        "2.  **Load Test Script Development:**\n",
        "        * **Option A: Locust (`locustfile.py`):**\n",
        "            * Create a `locustfile.py` in your project directory.\n",
        "            * Define a `User` class (inheriting from `HttpUser`).\n",
        "            * Implement `wait_time` (e.g., `between(1, 2)` for random wait times).\n",
        "            * Define at least one `task` (or multiple `tasks` for more complex flows) that simulates your user behavior using `self.client.get()`, `self.client.post()`, etc.\n",
        "            * If your endpoint requires dynamic data (e.g., input for a calculation), generate it within your task.\n",
        "            * Provide the full code for your `locustfile.py`.\n",
        "        * **Option B: JMeter (`.jmx` file):**\n",
        "            * Create a new Test Plan in JMeter.\n",
        "            * Add a Thread Group (to simulate users).\n",
        "            * Add HTTP Request samplers for each step in your user behavior scenario.\n",
        "            * Configure parameters (e.g., HTTP method, path, request body, headers).\n",
        "            * If your endpoint requires dynamic data, use JMeter's built-in functions (e.g., `__Random`, `__counter`, `__CSVDataSet`) or pre/post processors.\n",
        "            * Add listeners (e.g., `View Results Tree`, `Summary Report`, `Aggregate Report`) to capture results.\n",
        "            * Provide screenshots of your JMeter Test Plan structure and configuration for key elements.\n",
        "\n",
        "3.  **Explanation of Script:**\n",
        "        * Explain how your load test script simulates the defined user behavior, including any dynamic data generation or sequence of requests."
      ],
      "metadata": {
        "id": "BYVXkXYSJ-ie"
      },
      "id": "BYVXkXYSJ-ie"
    },
    {
      "cell_type": "code",
      "execution_count": null,
      "metadata": {
        "id": "LDqJeG4MJ-ie"
      },
      "outputs": [],
      "source": [
        "# Description of your user behavior scenario.\n",
        "        # Full `locustfile.py` code OR screenshots of JMeter Test Plan elements.\n",
        "        # Explanation of how the script works."
      ],
      "id": "LDqJeG4MJ-ie"
    },
    {
      "cell_type": "markdown",
      "source": [
        "## Part 3: Executing Load Test and Analyzing Results (35 Marks)\n",
        "\n",
        "1.  **Execute the Load Test:**\n",
        "        * **Option A: Locust:**\n",
        "            * Run Locust in web UI mode: `locust -f locustfile.py`.\n",
        "            * Open your browser to the Locust UI (http://0.0.0.0:8089).\n",
        "            * Start the test with the following parameters:\n",
        "                * **Number of users:** 100\n",
        "                * **Spawn rate:** 10 users/second\n",
        "                * **Host:** Your target application's base URL.\n",
        "            * Let the test run for at least 5-10 minutes.\n",
        "        * **Option B: JMeter:**\n",
        "            * Run JMeter in GUI mode, open your `.jmx` file.\n",
        "            * Configure the Thread Group:\n",
        "                * **Number of Threads (users):** 100\n",
        "                * **Ramp-up period:** 10 seconds\n",
        "                * **Loop Count:** Forever (or a very large number)\n",
        "            * Start the test.\n",
        "            * Let the test run for at least 5-10 minutes.\n",
        "        * State the exact command used to run the test and the parameters chosen.\n",
        "\n",
        "2.  **Collect and Present Results:**\n",
        "        * **Option A: Locust:**\n",
        "            * Take a screenshot of the Locust web UI during the test, showing the real-time statistics.\n",
        "            * After the test, download the CSV reports (Requests, Failures, Distribution).\n",
        "            * Present key metrics (e.g., Requests/s, Median Response Time, 90th/95th Percentile Response Time, Error Rate) from the CSV reports.\n",
        "        * **Option B: JMeter:**\n",
        "            * Take screenshots of the `Summary Report` and `Aggregate Report` listeners after the test.\n",
        "            * Take a screenshot of `View Results Tree` (showing a few sample requests/responses).\n",
        "            * Present key metrics (e.g., Throughput, Average Response Time, 90%/95% Percentile Response Time, Error %) directly from the listener outputs.\n",
        "\n",
        "3.  **Analyze Performance Metrics:**\n",
        "        * Based on the collected metrics, analyze your application's performance under load.\n",
        "        * Discuss:\n",
        "            * What is the application's throughput (requests per second)?\n",
        "            * What are the typical response times (average, median, percentiles)?\n",
        "            * Is there an error rate? If so, what might be causing it?\n",
        "            * Are there any indications of bottlenecks (e.g., response times increasing significantly with load, high error rates)?\n",
        "            * Does the application handle 100 concurrent users gracefully? Justify your answer with data."
      ],
      "metadata": {
        "id": "fy-YWbJVJ-ie"
      },
      "id": "fy-YWbJVJ-ie"
    },
    {
      "cell_type": "code",
      "execution_count": null,
      "metadata": {
        "id": "RSf-Aeo6J-if"
      },
      "outputs": [],
      "source": [
        "# Command used to run the load test and specified parameters.\n",
        "        # Screenshots of Locust UI/JMeter Reports.\n",
        "        # Presentation of key metrics.\n",
        "        # Your analysis of the application's performance."
      ],
      "id": "RSf-Aeo6J-if"
    },
    {
      "cell_type": "markdown",
      "source": [
        "## Part 4: Reflection and Future Work (5 Marks)\n",
        "\n",
        "1.  **Value of Load Testing:**\n",
        "        * Why is load testing a critical part of the software development lifecycle, especially for web applications and APIs?\n",
        "\n",
        "2.  **Beyond Basic Load Tests:**\n",
        "        * Suggest two more advanced types of performance tests that could be conducted (e.g., stress testing, soak testing, spike testing) and briefly explain their purpose.\n",
        "\n",
        "3.  **Improvements:**\n",
        "        * Based on your analysis, suggest concrete steps or areas of investigation to improve the performance or scalability of your target application."
      ],
      "metadata": {
        "id": "9ctqmi54J-if"
      },
      "id": "9ctqmi54J-if"
    },
    {
      "cell_type": "markdown",
      "source": [
        "# Your discussion of load testing value, advanced tests, and improvement suggestions."
      ],
      "metadata": {
        "id": "5_2zJjrQJ-if"
      },
      "id": "5_2zJjrQJ-if"
    }
  ],
  "metadata": {
    "kernelspec": {
      "display_name": "Python 3",
      "language": "python",
      "name": "python3"
    },
    "language_info": {
      "codemirror_mode": {
        "name": "ipython",
        "version": 3
      },
      "file_extension": ".py",
      "mimetype": "text/x-python",
      "name": "python",
      "nbconvert_exporter": "python",
      "pygments_lexer": "ipython3",
      "version": "3.9.13"
    },
    "colab": {
      "provenance": []
    }
  },
  "nbformat": 4,
  "nbformat_minor": 5
}