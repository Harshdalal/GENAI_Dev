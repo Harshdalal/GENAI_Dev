{
  "cells": [
    {
      "cell_type": "markdown",
      "metadata": {
        "id": "3Z3ykNCC01IV"
      },
      "source": [
        "# Python Assignment: 1D CNN for Time Series Signal Classification\n",
        "\n",
        "This assignment challenges you to build a Convolutional Neural Network (CNN) for classifying different types of signals embedded in time-series data. While CNNs are widely known for image processing, their ability to detect local patterns makes them powerful for 1D sequence data as well. You will generate synthetic signals, preprocess them, design a 1D CNN, train it, and evaluate its performance in distinguishing between various signal types."
      ]
    },
    {
      "cell_type": "markdown",
      "metadata": {
        "id": "JxGm3n7W01IX"
      },
      "source": [
        "## Part 1: Data Generation and Preprocessing (35 points)\n",
        "\n",
        "We'll create a synthetic dataset of fixed-length time-series signals belonging to several distinct classes. This controlled environment will allow you to clearly see the CNN's ability to learn patterns."
      ]
    },
    {
      "cell_type": "code",
      "execution_count": null,
      "metadata": {
        "id": "h3qUWuS401IY"
      },
      "outputs": [],
      "source": [
        "import numpy as np\n",
        "import pandas as pd\n",
        "import matplotlib.pyplot as plt\n",
        "from sklearn.model_selection import train_test_split\n",
        "from sklearn.preprocessing import OneHotEncoder\n",
        "from sklearn.metrics import classification_report, confusion_matrix\n",
        "import seaborn as sns\n",
        "import tensorflow as tf\n",
        "from tensorflow import keras\n",
        "from tensorflow.keras import layers\n",
        "import warnings\n",
        "\n",
        "warnings.filterwarnings('ignore') # Suppress warnings for cleaner output\n",
        "np.random.seed(42) # for reproducibility\n",
        "tf.random.set_seed(42)\n",
        "\n",
        "# 1.1 Define Signal Parameters\n",
        "#    - `signal_length`: Number of time steps in each signal (e.g., 100-200).\n",
        "#    - `n_samples_per_class`: Number of signals to generate for each class.\n",
        "#    - `n_classes`: Number of distinct signal types.\n",
        "\n",
        "signal_length = 150\n",
        "n_samples_per_class = 500\n",
        "n_classes = 4 # e.g., Sine, Square, Triangle, Noise Pulse\n",
        "\n",
        "# 1.2 Generate Synthetic Time-Series Signals\n",
        "#    Create a function `generate_signal(signal_type, length, noise_level)` that returns a 1D numpy array.\n",
        "#    Implement at least `n_classes` distinct signal types:\n",
        "#    - **Class 0 (Sine Wave):** A clean sine wave with a specific frequency and amplitude.\n",
        "#    - **Class 1 (Square Wave):** A square wave pattern.\n",
        "#    - **Class 2 (Triangle Wave):** A triangular wave pattern.\n",
        "#    - **Class 3 (Random Pulse):** Mostly noise, but with a brief, sudden positive or negative pulse at a random location.\n",
        "#    Add varying levels of Gaussian noise to all signals.\n",
        "\n",
        "def generate_signal(signal_type: int, length: int, noise_level: float = 0.5):\n",
        "    t = np.linspace(0, 2 * np.pi, length)\n",
        "    noise = np.random.normal(0, noise_level, length)\n",
        "\n",
        "    if signal_type == 0: # Sine Wave\n",
        "        return 10 * np.sin(t * 3) + noise\n",
        "    elif signal_type == 1: # Square Wave\n",
        "        return 8 * np.sign(np.sin(t * 5)) + noise\n",
        "    elif signal_type == 2: # Triangle Wave\n",
        "        return 7 * (2 * np.abs(t / (2 * np.pi) - np.floor(t / (2 * np.pi) + 0.5)) - 1) + noise\n",
        "    elif signal_type == 3: # Random Pulse\n",
        "        signal = np.random.normal(0, noise_level * 2, length) # Base noise\n",
        "        pulse_start = np.random.randint(length // 4, length * 3 // 4)\n",
        "        pulse_strength = np.random.uniform(15, 25) * np.random.choice([-1, 1])\n",
        "        pulse_width = np.random.randint(5, 15)\n",
        "        signal[pulse_start:pulse_start + pulse_width] += pulse_strength\n",
        "        return signal\n",
        "    else:\n",
        "        raise ValueError(\"Invalid signal_type\")\n",
        "\n",
        "X = []\n",
        "y = []\n",
        "for class_id in range(n_classes):\n",
        "    for _ in range(n_samples_per_class):\n",
        "        X.append(generate_signal(class_id, signal_length))\n",
        "        y.append(class_id)\n",
        "\n",
        "X = np.array(X)\n",
        "y = np.array(y)\n",
        "\n",
        "print(f\"Generated X shape: {X.shape}\")\n",
        "print(f\"Generated y shape: {y.shape}\")\n",
        "\n",
        "# 1.3 Visualize Sample Signals\n",
        "#    Plot a few sample signals from each class to ensure they are distinct and visually discernible.\n",
        "\n",
        "plt.figure(figsize=(15, 8))\n",
        "for i in range(n_classes):\n",
        "    plt.subplot(n_classes, 1, i + 1)\n",
        "    # Find an index for the current class\n",
        "    idx = np.where(y == i)[0][0]\n",
        "    plt.plot(X[idx])\n",
        "    plt.title(f'Sample Signal - Class {i}')\n",
        "    plt.ylabel('Amplitude')\n",
        "    if i == n_classes - 1:\n",
        "        plt.xlabel('Time Step')\n",
        "    plt.grid(True)\n",
        "plt.tight_layout()\n",
        "plt.suptitle('Sample Signals for Each Class', y=1.02, fontsize=16)\n",
        "plt.show()\n",
        "\n",
        "# 1.4 Data Reshaping and One-Hot Encoding\n",
        "#    - **Reshaping X:** For a 1D CNN, the input shape needs to be `(samples, timesteps, features)`. Here, `features` will be 1.\n",
        "#    - **One-Hot Encoding y:** Convert integer labels to one-hot encoded vectors.\n",
        "\n",
        "print(\"\\n--- Preprocessing Data for CNN ---\")\n",
        "\n",
        "# Reshape X for CNN input\n",
        "X = X.reshape(-1, signal_length, 1)\n",
        "print(f\"Reshaped X for CNN input: {X.shape}\")\n",
        "\n",
        "# One-hot encode y labels\n",
        "encoder = OneHotEncoder(sparse_output=False)\n",
        "y_ohe = encoder.fit_transform(y.reshape(-1, 1))\n",
        "print(f\"One-Hot Encoded y labels: {y_ohe.shape}\")\n",
        "\n",
        "# 1.5 Train-Validation-Test Split\n",
        "#    Split the data into training, validation, and test sets. (e.g., 70% train, 15% validation, 15% test).\n",
        "\n",
        "X_train, X_temp, y_train, y_temp = train_test_split(X, y_ohe, test_size=0.3, random_state=42, stratify=y_ohe)\n",
        "X_val, X_test, y_val, y_test = train_test_split(X_temp, y_temp, test_size=0.5, random_state=42, stratify=y_temp)\n",
        "\n",
        "print(f\"Train set: {X_train.shape}, {y_train.shape}\")\n",
        "print(f\"Validation set: {X_val.shape}, {y_val.shape}\")\n",
        "print(f\"Test set: {X_test.shape}, {y_test.shape}\")\n"
      ]
    },
    {
      "cell_type": "markdown",
      "metadata": {
        "id": "nkuOVwaz01Ia"
      },
      "source": [
        "## Part 2: Building the 1D CNN Model (25 points)\n",
        "\n",
        "You will design a Sequential 1D CNN model suitable for your time-series classification task."
      ]
    },
    {
      "cell_type": "code",
      "execution_count": null,
      "metadata": {
        "id": "dfkIdaxK01Ib"
      },
      "outputs": [],
      "source": [
        "# 2.1 Define the CNN Architecture\n",
        "#    Create a `tf.keras.Sequential` model with the following layers:\n",
        "#    - One or more `Conv1D` layers:\n",
        "#        - Choose `filters` (e.g., 32, 64).\n",
        "#        - Choose `kernel_size` (e.g., 3, 5, 7) - this determines the length of the 1D convolution window.\n",
        "#        - Use `relu` activation.\n",
        "#        - The first `Conv1D` layer must specify `input_shape=(signal_length, 1)`.\n",
        "#    - One or more `MaxPooling1D` layers (e.g., `pool_size=2`).\n",
        "#    - A `Flatten` layer to convert the 3D output of convolutional layers into 1D for dense layers.\n",
        "#    - One or more `Dense` hidden layers with `relu` activation.\n",
        "#    - The final `Dense` output layer with `n_classes` neurons and `softmax` activation.\n",
        "\n",
        "print(\"\\n--- Building 1D CNN Model ---\")\n",
        "# TODO: Build the Sequential model\n",
        "# model = keras.Sequential([\n",
        "#     layers.Conv1D(filters=32, kernel_size=5, activation='relu', input_shape=(signal_length, 1)),\n",
        "#     layers.MaxPooling1D(pool_size=2),\n",
        "#     layers.Conv1D(filters=64, kernel_size=5, activation='relu'),\n",
        "#     layers.MaxPooling1D(pool_size=2),\n",
        "#     layers.Flatten(),\n",
        "#     layers.Dense(100, activation='relu'),\n",
        "#     layers.Dense(n_classes, activation='softmax')\n",
        "# ])\n",
        "\n",
        "# 2.2 Compile the Model\n",
        "#    Configure the model for training:\n",
        "#    - `optimizer`: Choose `'adam'`.\n",
        "#    - `loss`: Use `'categorical_crossentropy'` (since labels are one-hot encoded).\n",
        "#    - `metrics`: Monitor `['accuracy']`.\n",
        "\n",
        "# TODO: Compile the model\n",
        "# model.compile(optimizer='adam',\n",
        "#               loss='categorical_crossentropy',\n",
        "#               metrics=['accuracy'])\n",
        "\n",
        "# 2.3 Display Model Summary\n",
        "#    Print the model summary to review the layers, output shapes, and parameter counts.\n",
        "\n",
        "model.summary()\n"
      ]
    },
    {
      "cell_type": "markdown",
      "metadata": {
        "id": "TVFHip3U01Ib"
      },
      "source": [
        "## Part 3: Training the CNN (20 points)\n",
        "\n",
        "Train your CNN model on the training data, utilizing the validation set to monitor for overfitting."
      ]
    },
    {
      "cell_type": "code",
      "execution_count": null,
      "metadata": {
        "id": "1VHVSSzn01Ic"
      },
      "outputs": [],
      "source": [
        "# 3.1 Train the Model\n",
        "#    Use `model.fit()` to train the CNN.\n",
        "#    - `epochs`: Choose a sufficient number (e.g., 20-50).\n",
        "#    - `batch_size`: Use a common batch size (e.g., 32, 64).\n",
        "#    - `validation_data`: Pass `(X_val, y_val)` to monitor validation performance.\n",
        "#    - (Optional) Add an `EarlyStopping` callback to prevent overfitting and save the best model.\n",
        "#    Store the returned `history` object.\n",
        "\n",
        "epochs = 30\n",
        "batch_size = 64\n",
        "\n",
        "# Optional: Early Stopping Callback\n",
        "# early_stopping = keras.callbacks.EarlyStopping(\n",
        "#     monitor='val_loss', patience=5, restore_best_weights=True\n",
        "# )\n",
        "\n",
        "print(f\"\\n--- Training CNN Model for {epochs} epochs with batch size {batch_size} ---\")\n",
        "# TODO: Train the model\n",
        "# history = model.fit(X_train, y_train,\n",
        "#                     epochs=epochs,\n",
        "#                     batch_size=batch_size,\n",
        "#                     validation_data=(X_val, y_val),\n",
        "#                     callbacks=[early_stopping], # Uncomment if using early stopping\n",
        "#                     verbose=1)\n",
        "\n",
        "print(\"Training complete.\")\n"
      ]
    },
    {
      "cell_type": "markdown",
      "metadata": {
        "id": "ggktXMG-01Ic"
      },
      "source": [
        "## Part 4: Model Evaluation and Interpretation (15 points)\n",
        "\n",
        "Assess your trained model's ability to classify unseen signals and understand its performance characteristics."
      ]
    },
    {
      "cell_type": "code",
      "execution_count": null,
      "metadata": {
        "id": "53lIXVZU01Id"
      },
      "outputs": [],
      "source": [
        "# 4.1 Evaluate on Test Data\n",
        "#    Use `model.evaluate()` on your `X_test` and `y_test`.\n",
        "\n",
        "print(\"\\n--- Evaluating Model on Test Data ---\")\n",
        "# TODO: Evaluate the model\n",
        "# test_loss, test_accuracy = model.evaluate(X_test, y_test, verbose=2)\n",
        "\n",
        "print(f\"Test Loss: {test_loss:.4f}\")\n",
        "print(f\"Test Accuracy: {test_accuracy:.4f}\")\n",
        "\n",
        "# 4.2 Plot Training History\n",
        "#    Plot the training and validation loss over epochs.\n",
        "#    Plot the training and validation accuracy over epochs.\n",
        "\n",
        "history_dict = history.history\n",
        "loss_values = history_dict['loss']\n",
        "val_loss_values = history_dict['val_loss']\n",
        "accuracy_values = history_dict['accuracy']\n",
        "val_accuracy_values = history_dict['val_accuracy']\n",
        "\n",
        "epochs_trained = len(loss_values)\n",
        "epochs_range = range(1, epochs_trained + 1)\n",
        "\n",
        "plt.figure(figsize=(14, 6))\n",
        "\n",
        "plt.subplot(1, 2, 1)\n",
        "# TODO: Plot training and validation loss\n",
        "# plt.plot(epochs_range, loss_values, 'bo', label='Training loss')\n",
        "# plt.plot(epochs_range, val_loss_values, 'b', label='Validation loss')\n",
        "# plt.title('Training and Validation Loss')\n",
        "# plt.xlabel('Epochs')\n",
        "# plt.ylabel('Loss')\n",
        "# plt.legend()\n",
        "\n",
        "plt.subplot(1, 2, 2)\n",
        "# TODO: Plot training and validation accuracy\n",
        "# plt.plot(epochs_range, accuracy_values, 'bo', label='Training accuracy')\n",
        "# plt.plot(epochs_range, val_accuracy_values, 'b', label='Validation accuracy')\n",
        "# plt.title('Training and Validation Accuracy')\n",
        "# plt.xlabel('Epochs')\n",
        "# plt.ylabel('Accuracy')\n",
        "# plt.legend()\n",
        "\n",
        "plt.tight_layout()\n",
        "plt.show()\n",
        "\n",
        "# 4.3 Make Predictions and Visualize Samples (Tougher Aspect)\n",
        "#    Make predictions on a few sample signals from the test set.\n",
        "#    Display the predicted class and the true class. Highlight misclassifications.\n",
        "\n",
        "print(\"\\n--- Making Predictions and Visualizing Samples ---\")\n",
        "# Get class labels (0, 1, 2, 3)\n",
        "true_labels_int = np.argmax(y_test, axis=1)\n",
        "predicted_probabilities = model.predict(X_test)\n",
        "predicted_labels_int = np.argmax(predicted_probabilities, axis=1)\n",
        "\n",
        "num_samples_to_show = 8\n",
        "plt.figure(figsize=(16, 12))\n",
        "for i in range(num_samples_to_show):\n",
        "    plt.subplot(num_samples_to_show, 1, i + 1)\n",
        "    plt.plot(X_test[i].flatten()) # Flatten back to 1D for plotting\n",
        "    plt.xticks([])\n",
        "    plt.yticks([])\n",
        "\n",
        "    true_class = true_labels_int[i]\n",
        "    predicted_class = predicted_labels_int[i]\n",
        "\n",
        "    color = 'green' if true_class == predicted_class else 'red'\n",
        "    plt.title(f'True Class: {true_class}, Predicted Class: {predicted_class}', color=color)\n",
        "    plt.grid(True)\n",
        "plt.suptitle('Sample Test Predictions (Green=Correct, Red=Incorrect)', y=1.005, fontsize=16)\n",
        "plt.tight_layout(rect=[0, 0.03, 1, 0.98])\n",
        "plt.show()\n",
        "\n",
        "\n",
        "# 4.4 Generate Classification Report and Confusion Matrix\n",
        "#    Provide a detailed breakdown of performance per class.\n",
        "\n",
        "print(\"\\n--- Classification Report ---\")\n",
        "# TODO: Print classification report\n",
        "# print(classification_report(true_labels_int, predicted_labels_int, target_names=[f'Class {i}' for i in range(n_classes)]))\n",
        "\n",
        "print(\"\\n--- Confusion Matrix ---\")\n",
        "# TODO: Plot confusion matrix\n",
        "# cm = confusion_matrix(true_labels_int, predicted_labels_int)\n",
        "# plt.figure(figsize=(8, 6))\n",
        "# sns.heatmap(cm, annot=True, fmt='d', cmap='Blues',\n",
        "#             xticklabels=[f'Class {i}' for i in range(n_classes)],\n",
        "#             yticklabels=[f'Class {i}' for i in range(n_classes)])\n",
        "# plt.xlabel('Predicted Label')\n",
        "# plt.ylabel('True Label')\n",
        "# plt.title('Confusion Matrix')\n",
        "# plt.show()\n"
      ]
    },
    {
      "cell_type": "markdown",
      "metadata": {
        "id": "CcCMIroI01Id"
      },
      "source": [
        "## Part 5: Reflection and Further Exploration (5 points)\n",
        "\n",
        "Answer the following questions based on your understanding and observations from this assignment."
      ]
    },
    {
      "cell_type": "markdown",
      "metadata": {
        "id": "khc0HQ3401Id"
      },
      "source": [
        "### Your Answers to Reflection Questions:\n",
        "\n",
        "1.  **How do `Conv1D` layers help in identifying patterns within time-series data? Explain the role of `kernel_size` in this context.**\n",
        "\n",
        "    _(Your answer here)_\n",
        "\n",
        "2.  **What is the purpose of `MaxPooling1D` layers in a 1D CNN, and how do they contribute to the model's efficiency and robustness?**\n",
        "\n",
        "    _(Your answer here)_\n",
        "\n",
        "3.  **Discuss the advantages and disadvantages of using a CNN for time-series classification compared to traditional methods like hand-crafted features + SVM/Random Forest, or other deep learning models like LSTMs.**\n",
        "\n",
        "    * **Advantages:** _(Your answer here)_\n",
        "    * **Disadvantages:** _(Your answer here)_\n",
        "\n",
        "4.  **If you had much longer time-series signals (e.g., thousands of time steps) or signals with multiple features per time step (e.g., x, y, z accelerometer data), how would you adapt the `input_shape` and potentially the network architecture?**\n",
        "\n",
        "    _(Your answer here)_\n"
      ]
    },
    {
      "cell_type": "markdown",
      "metadata": {
        "id": "I31kKISe01Id"
      },
      "source": [
        "## Deliverables:\n",
        "\n",
        "1.  This completed Jupyter Notebook (`cnn_time_series_classification_assignment.ipynb`) with all code cells executed and reflection questions answered.\n",
        "2.  Ensure all plots are clearly visible and well-labeled within the notebook."
      ]
    }
  ],
  "metadata": {
    "kernelspec": {
      "display_name": "Python 3 (ipykernel)",
      "language": "python",
      "name": "python3"
    },
    "language_info": {
      "codemirror_mode": {
        "name": "ipython",
        "version": 3
      },
      "file_extension": ".py",
      "mimetype": "text/x-python",
      "name": "python",
      "nbconvert_exporter": "python",
      "pygments_lexer": "ipython3",
      "version": "3.10.12"
    },
    "colab": {
      "provenance": []
    }
  },
  "nbformat": 4,
  "nbformat_minor": 0
}