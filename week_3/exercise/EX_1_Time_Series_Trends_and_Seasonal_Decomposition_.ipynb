{
  "cells": [
    {
      "cell_type": "markdown",
      "metadata": {
        "id": "2gbNoWLgvD3m"
      },
      "source": [
        "# Python Assignment: Time Series Trends and Seasonal Decomposition\n",
        "\n",
        "This assignment will challenge your understanding of time series analysis by focusing on visualizing underlying trends, identifying seasonal patterns, and formally decomposing a time series into its core components. You will work with synthetic data to ensure clear observation of these components, which is a fundamental step before advanced forecasting."
      ]
    },
    {
      "cell_type": "markdown",
      "metadata": {
        "id": "QSWEExsPvD3p"
      },
      "source": [
        "## Part 1: Data Generation and Initial Visualization (30 points)\n",
        "\n",
        "We'll start by creating a synthetic time series dataset that exhibits clear trend and seasonal patterns, along with some noise."
      ]
    },
    {
      "cell_type": "code",
      "execution_count": null,
      "metadata": {
        "id": "qrOL4IQWvD3p"
      },
      "outputs": [],
      "source": [
        "import pandas as pd\n",
        "import numpy as np\n",
        "import matplotlib.pyplot as plt\n",
        "from statsmodels.tsa.seasonal import seasonal_decompose\n",
        "import warnings\n",
        "\n",
        "warnings.filterwarnings(\"ignore\") # Suppress warnings for cleaner output\n",
        "np.random.seed(42) # for reproducibility\n",
        "\n",
        "# 1.1 Generate Synthetic Time Series Data\n",
        "#    Create a Pandas Series `ts_data` with a DatetimeIndex.\n",
        "#    The series should represent at least 3-5 years of daily data (e.g., from '2020-01-01').\n",
        "#    The data should incorporate:\n",
        "#    - **A clear increasing linear trend.**\n",
        "#    - **Annual seasonality:** A sinusoidal pattern repeating yearly (e.g., peaks in summer, troughs in winter).\n",
        "#    - **Weekly seasonality (optional, for extra challenge):** A smaller sinusoidal pattern repeating weekly.\n",
        "#    - **Random noise.**\n",
        "#    Make sure the seasonal amplitudes are significant enough to be visible.\n",
        "\n",
        "n_days = 365 * 4 # 4 years of daily data\n",
        "dates = pd.date_range(start='2020-01-01', periods=n_days, freq='D')\n",
        "\n",
        "# TODO: Implement the trend component\n",
        "trend = # Your trend component here (e.g., linear increase over time)\n",
        "\n",
        "# TODO: Implement annual seasonality (sinusoidal, e.g., using np.sin or np.cos based on day of year)\n",
        "# Hint: day_of_year = dates.dayofyear\n",
        "annual_seasonality = # Your annual seasonality component here\n",
        "\n",
        "# TODO: Implement weekly seasonality (optional, using np.sin or np.cos based on day of week)\n",
        "# Hint: day_of_week = dates.dayofweek\n",
        "weekly_seasonality = # Your weekly seasonality component here (set to 0 if skipping this part)\n",
        "\n",
        "# Random noise\n",
        "noise = np.random.normal(loc=0, scale=5, size=n_days)\n",
        "\n",
        "# Combine components\n",
        "value = trend + annual_seasonality + weekly_seasonality + noise\n",
        "\n",
        "ts_data = pd.Series(value, index=dates)\n",
        "\n",
        "print(\"Time Series Data Head:\\n\", ts_data.head())\n",
        "print(\"Time Series Data Info:\")\n",
        "ts_data.info()\n",
        "\n",
        "# 1.2 Plot the Raw Time Series\n",
        "#    Create a line plot of your `ts_data`.\n",
        "#    Ensure the plot has a clear title, x-axis (Date), and y-axis (Value) labels.\n",
        "\n",
        "plt.figure(figsize=(15, 6))\n",
        "# TODO: Plot the time series\n",
        "# plt.plot(ts_data)\n",
        "# plt.title(\"Synthetic Time Series Data\")\n",
        "# plt.xlabel(\"Date\")\n",
        "# plt.ylabel(\"Value\")\n",
        "# plt.grid(True)\n",
        "# plt.show()\n"
      ]
    },
    {
      "cell_type": "markdown",
      "metadata": {
        "id": "-HcKyBCbvD3r"
      },
      "source": [
        "## Part 2: Trend and Seasonality Visualization (25 points)\n",
        "\n",
        "This section focuses on more direct visualization methods to reveal trend and seasonality before formal decomposition."
      ]
    },
    {
      "cell_type": "code",
      "execution_count": null,
      "metadata": {
        "id": "t-v_t0_RvD3r"
      },
      "outputs": [],
      "source": [
        "# 2.1 Visualize Trend using Moving Averages\n",
        "#    Calculate and plot a rolling mean (moving average) for your `ts_data`.\n",
        "#    Experiment with at least two different window sizes (e.g., 30 days for short-term, 90 or 180 days for longer-term).\n",
        "#    Plot the original series and the moving averages on the same graph.\n",
        "\n",
        "window_size_short = 30 # days\n",
        "window_size_long = 90 # days\n",
        "\n",
        "# TODO: Calculate rolling means\n",
        "rolling_mean_short = # Your code for short rolling mean\n",
        "rolling_mean_long = # Your code for long rolling mean\n",
        "\n",
        "plt.figure(figsize=(15, 7))\n",
        "# TODO: Plot original series and rolling means\n",
        "# plt.plot(ts_data, label='Original Data', alpha=0.7)\n",
        "# plt.plot(rolling_mean_short, label=f'Rolling Mean ({window_size_short} days)', color='orange')\n",
        "# plt.plot(rolling_mean_long, label=f'Rolling Mean ({window_size_long} days)', color='red')\n",
        "# plt.title(\"Time Series with Moving Averages\")\n",
        "# plt.xlabel(\"Date\")\n",
        "# plt.ylabel(\"Value\")\n",
        "# plt.legend()\n",
        "# plt.grid(True)\n",
        "# plt.show()\n",
        "\n",
        "# 2.2 Visualize Seasonality using Box Plots (Monthly Seasonality)\n",
        "#    Extract the month from the DatetimeIndex of your `ts_data`.\n",
        "#    Create a box plot showing the distribution of values for each month across all years.\n",
        "#    This helps visualize the annual seasonal pattern.\n",
        "\n",
        "data_monthly = ts_data.copy()\n",
        "data_monthly = data_monthly.to_frame(name='Value')\n",
        "data_monthly['Month'] = data_monthly.index.month\n",
        "\n",
        "plt.figure(figsize=(12, 7))\n",
        "# TODO: Create box plot by month\n",
        "# data_monthly.boxplot(column='Value', by='Month', ax=plt.gca())\n",
        "# plt.title(\"Monthly Seasonality (Box Plot)\")\n",
        "# plt.suptitle('') # Suppress the default suptitle from boxplot\n",
        "# plt.xlabel(\"Month\")\n",
        "# plt.ylabel(\"Value\")\n",
        "# plt.grid(axis='y')\n",
        "# plt.show()\n",
        "\n",
        "# 2.3 (Optional) Visualize Seasonality using Seasonal Subseries Plot (Weekly Seasonality if included)\n",
        "#    If you included weekly seasonality, create a similar plot (e.g., box plot by day of week).\n",
        "#    If not, you can skip this or create another relevant seasonal plot if applicable.\n",
        "\n",
        "if weekly_seasonality.sum() != 0: # Only run if weekly seasonality was added\n",
        "    data_weekly = ts_data.copy()\n",
        "    data_weekly = data_weekly.to_frame(name='Value')\n",
        "    data_weekly['DayOfWeek'] = data_weekly.index.dayofweek # Monday=0, Sunday=6\n",
        "\n",
        "    plt.figure(figsize=(10, 6))\n",
        "    # TODO: Create box plot by day of week\n",
        "    # data_weekly.boxplot(column='Value', by='DayOfWeek', ax=plt.gca())\n",
        "    # plt.title(\"Weekly Seasonality (Box Plot)\")\n",
        "    # plt.suptitle('')\n",
        "    # plt.xlabel(\"Day of Week (0=Monday, 6=Sunday)\")\n",
        "    # plt.ylabel(\"Value\")\n",
        "    # plt.grid(axis='y')\n",
        "    # plt.show()\n"
      ]
    },
    {
      "cell_type": "markdown",
      "metadata": {
        "id": "bDcroPRRvD3s"
      },
      "source": [
        "## Part 3: Time Series Decomposition (30 points)\n",
        "\n",
        "Now, we will formally decompose the time series into its trend, seasonal, and residual components using `statsmodels`."
      ]
    },
    {
      "cell_type": "code",
      "execution_count": null,
      "metadata": {
        "id": "tr_1JlXovD3s"
      },
      "outputs": [],
      "source": [
        "# 3.1 Perform Seasonal Decomposition\n",
        "#    Use `statsmodels.tsa.seasonal.seasonal_decompose`.\n",
        "#    Consider the `model` argument: 'additive' vs 'multiplicative'.\n",
        "#    - **Explain the difference between additive and multiplicative models and when each is appropriate.**\n",
        "#    - **Choose the appropriate model for your synthetic data and justify your choice.**\n",
        "#    - Set the `period` argument appropriately for your annual seasonality (e.g., 365 for daily data with annual seasonality).\n",
        "\n",
        "### Explanation: Additive vs. Multiplicative Decomposition\n",
        "*(Write your explanation here: when to use additive, when to use multiplicative. Justify your choice for this dataset.)*\n",
        "\n",
        "decomposition_model = 'additive' # or 'multiplicative', choose based on your explanation\n",
        "seasonal_period = 365 # or 7 if weekly is dominant, or both in a complex way\n",
        "\n",
        "print(f\"Performing {decomposition_model} decomposition with period={seasonal_period}...\")\n",
        "# TODO: Perform decomposition\n",
        "# result = seasonal_decompose(ts_data, model=decomposition_model, period=seasonal_period)\n",
        "\n",
        "\n",
        "# 3.2 Plot the Decomposed Components\n",
        "#    Use `result.plot()` to visualize the original, trend, seasonal, and residual components.\n",
        "#    Ensure the plot is clearly displayed.\n",
        "\n",
        "plt.figure(figsize=(12, 10))\n",
        "# TODO: Plot the decomposition results\n",
        "# result.plot()\n",
        "# plt.suptitle(f\"Time Series Decomposition ({decomposition_model} model)\", y=1.02)\n",
        "# plt.tight_layout(rect=[0, 0, 1, 0.98]) # Adjust layout to prevent title overlap\n",
        "# plt.show()\n"
      ]
    },
    {
      "cell_type": "markdown",
      "metadata": {
        "id": "iKT0OiszvD3t"
      },
      "source": [
        "## Part 4: Interpretation and Reflection (15 points)\n",
        "\n",
        "Analyze the results of your decomposition and reflect on its implications."
      ]
    },
    {
      "cell_type": "markdown",
      "metadata": {
        "id": "jjuOOvOWvD3t"
      },
      "source": [
        "### Your Answers to Reflection Questions:\n",
        "\n",
        "1.  **Based on the decomposed plots, describe the identified trend, seasonal, and residual components of your synthetic time series. Do they match your expectations from how you generated the data?**\n",
        "\n",
        "    * **Trend:** _(Your description here)_\n",
        "    * **Seasonality:** _(Your description here)_\n",
        "    * **Residuals:** _(Your description here)_\n",
        "\n",
        "2.  **How would you identify potential outliers or unusual events in a real-world time series using the residual component?**\n",
        "\n",
        "    _(Your answer here)_\n",
        "\n",
        "3.  **What are some limitations of this `seasonal_decompose` method (e.g., regarding non-linear trends, multiple seasonalities, or end effects)?**\n",
        "\n",
        "    _(Your answer here)_\n",
        "\n",
        "4.  **Suggest two more advanced time series analysis or forecasting techniques that could address some of the limitations mentioned above.**\n",
        "\n",
        "    * **Technique 1:** _(Name and brief explanation)_\n",
        "    * **Technique 2:** _(Name and brief explanation)_\n"
      ]
    },
    {
      "cell_type": "markdown",
      "metadata": {
        "id": "tOiObY7hvD3t"
      },
      "source": [
        "## Deliverables:\n",
        "\n",
        "1.  This completed Jupyter Notebook (`time_series_decomposition_assignment.ipynb`) with all code cells executed and reflection questions answered.\n",
        "2.  Ensure all plots are clearly visible and well-labeled within the notebook."
      ]
    }
  ],
  "metadata": {
    "kernelspec": {
      "display_name": "Python 3 (ipykernel)",
      "language": "python",
      "name": "python3"
    },
    "language_info": {
      "codemirror_mode": {
        "name": "ipython",
        "version": 3
      },
      "file_extension": ".py",
      "mimetype": "text/x-python",
      "name": "python",
      "nbconvert_exporter": "python",
      "pygments_lexer": "ipython3",
      "version": "3.10.12"
    },
    "colab": {
      "provenance": []
    }
  },
  "nbformat": 4,
  "nbformat_minor": 0
}