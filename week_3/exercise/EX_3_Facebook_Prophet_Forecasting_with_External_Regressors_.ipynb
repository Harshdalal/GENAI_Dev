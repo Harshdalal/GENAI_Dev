{
  "cells": [
    {
      "cell_type": "markdown",
      "metadata": {
        "id": "rseG3vMjxNt3"
      },
      "source": [
        "# Python Assignment: Facebook Prophet Forecasting with External Regressors\n",
        "\n",
        "This assignment will challenge you to leverage Facebook Prophet's capabilities for time series forecasting, specifically incorporating external regressors. You will construct a time series with a synthetic relationship to an external variable, build Prophet models with and without this regressor, and then critically evaluate the impact of including additional information on forecast accuracy. Understanding how to use external regressors is crucial for improving model performance and incorporating business insights into your forecasts."
      ]
    },
    {
      "cell_type": "markdown",
      "metadata": {
        "id": "dJ6OmzNTxNt5"
      },
      "source": [
        "## Part 1: Data Generation and Preparation (30 points)\n",
        "\n",
        "We'll create a synthetic time series dataset that includes a clear trend, seasonality, and a dependency on an external regressor. This ensures you can clearly observe the effects of adding the regressor."
      ]
    },
    {
      "cell_type": "code",
      "execution_count": null,
      "metadata": {
        "id": "QaLrUjPbxNt6"
      },
      "outputs": [],
      "source": [
        "# 1.1 Install Prophet (if not already installed)\n",
        "# !pip install prophet pandas numpy matplotlib scikit-learn\n",
        "\n",
        "import pandas as pd\n",
        "import numpy as np\n",
        "import matplotlib.pyplot as plt\n",
        "from prophet import Prophet\n",
        "from sklearn.metrics import mean_squared_error, mean_absolute_error\n",
        "from sklearn.preprocessing import StandardScaler\n",
        "import warnings\n",
        "\n",
        "warnings.filterwarnings('ignore') # Suppress warnings for cleaner output\n",
        "np.random.seed(42) # for reproducibility\n",
        "\n",
        "# 1.2 Generate Synthetic Time Series Data with an External Regressor\n",
        "#    Create a DataFrame with:\n",
        "#    - `ds`: DatetimeIndex (daily frequency, at least 3 years of data, e.g., from '2020-01-01').\n",
        "#    - `y`: The target variable. It should have:\n",
        "#        - A clear increasing or decreasing linear trend.\n",
        "#        - Annual seasonality (e.g., sinusoidal pattern).\n",
        "#        - A direct linear dependency on `external_regressor_1` (e.g., `y = ... + coef * external_regressor_1`).\n",
        "#        - Random noise.\n",
        "#    - `external_regressor_1`: This should be a continuous numerical variable that also has its own trend or pattern.\n",
        "#      Ensure it has a significant, visible relationship with `y`.\n",
        "\n",
        "n_days = 365 * 4 # 4 years of daily data\n",
        "dates = pd.date_range(start='2020-01-01', periods=n_days, freq='D')\n",
        "\n",
        "# Trend component for y\n",
        "y_trend = np.linspace(50, 200, n_days)\n",
        "\n",
        "# Annual seasonality for y\n",
        "y_annual_seasonality = 30 * np.sin(np.linspace(0, 8 * np.pi, n_days))\n",
        "\n",
        "# External Regressor 1: Has its own subtle trend and noise\n",
        "external_regressor_1 = np.linspace(10, 30, n_days) + 5 * np.random.randn(n_days)\n",
        "external_regressor_1 = np.maximum(0, external_regressor_1) # Ensure non-negative\n",
        "\n",
        "# Define the relationship between y and external_regressor_1\n",
        "regressor_effect = 2.5 * external_regressor_1 # Each unit of regressor adds 2.5 to y\n",
        "\n",
        "# Noise for y\n",
        "y_noise = np.random.normal(0, 8, n_days)\n",
        "\n",
        "# Combine components for y\n",
        "y = y_trend + y_annual_seasonality + regressor_effect + y_noise\n",
        "\n",
        "# Create the DataFrame in Prophet's required format\n",
        "data = pd.DataFrame({\n",
        "    'ds': dates,\n",
        "    'y': y,\n",
        "    'external_regressor_1': external_regressor_1\n",
        "})\n",
        "\n",
        "print(\"Data Head:\\n\", data.head())\n",
        "print(\"\\nData Info:\")\n",
        "data.info()\n",
        "\n",
        "# 1.3 Split Data into Training and Testing Sets\n",
        "#    Allocate the last 30 days (or 1 month, depending on your frequency) for testing.\n",
        "\n",
        "train_size = len(data) - 30\n",
        "train_df = data.iloc[:train_size].copy()\n",
        "test_df = data.iloc[train_size:].copy()\n",
        "\n",
        "print(f\"\\nTraining data points: {len(train_df)}\")\n",
        "print(f\"Test data points: {len(test_df)}\")\n",
        "\n",
        "# 1.4 Visualize Raw Data and Regressor\n",
        "#    Plot `y` over time.\n",
        "#    Plot `external_regressor_1` over time (perhaps on a secondary y-axis or a separate subplot to see its trend).\n",
        "\n",
        "fig, ax1 = plt.subplots(figsize=(15, 7))\n",
        "\n",
        "# Plot y\n",
        "ax1.plot(data['ds'], data['y'], label='Target (y)', color='blue')\n",
        "ax1.set_xlabel('Date')\n",
        "ax1.set_ylabel('Target Value (y)', color='blue')\n",
        "ax1.tick_params(axis='y', labelcolor='blue')\n",
        "ax1.set_title('Time Series Data with External Regressor')\n",
        "\n",
        "# Create a second y-axis for the regressor\n",
        "ax2 = ax1.twinx()\n",
        "ax2.plot(data['ds'], data['external_regressor_1'], label='External Regressor 1', color='orange', linestyle='--')\n",
        "ax2.set_ylabel('Regressor Value', color='orange')\n",
        "ax2.tick_params(axis='y', labelcolor='orange')\n",
        "\n",
        "fig.legend(loc=\"upper left\", bbox_to_anchor=(0.1, 0.95))\n",
        "plt.grid(True)\n",
        "plt.show()\n"
      ]
    },
    {
      "cell_type": "markdown",
      "metadata": {
        "id": "1ROubzHsxNt8"
      },
      "source": [
        "## Part 2: Basic Prophet Model (without External Regressors) (20 points)\n",
        "\n",
        "Establish a baseline by training and forecasting with Prophet using only the `ds` and `y` columns. This will allow for a clear comparison once the regressor is added."
      ]
    },
    {
      "cell_type": "code",
      "execution_count": null,
      "metadata": {
        "id": "RAwHUjM2xNt9"
      },
      "outputs": [],
      "source": [
        "# 2.1 Initialize and Fit Basic Prophet Model\n",
        "#    Create a Prophet model instance.\n",
        "#    Fit the model on your `train_df` using only `ds` and `y`.\n",
        "\n",
        "print(\"\\n--- Training Basic Prophet Model (without regressors) ---\")\n",
        "# TODO: Initialize Prophet model\n",
        "# m_basic = Prophet(daily_seasonality=False) # Set daily_seasonality to True if your data has daily patterns\n",
        "# m_basic.fit(train_df[['ds', 'y']])\n",
        "\n",
        "# 2.2 Create Future DataFrame and Forecast\n",
        "#    Create a future DataFrame for the forecast period (matching `test_df`'s duration).\n",
        "#    Generate predictions using the basic model.\n",
        "\n",
        "future_basic = m_basic.make_future_dataframe(periods=len(test_df), freq='D', include_history=False)\n",
        "print(\"Future DataFrame for basic model head:\\n\", future_basic.head())\n",
        "\n",
        "forecast_basic = m_basic.predict(future_basic)\n",
        "print(\"Basic Model Forecast Head:\\n\", forecast_basic[['ds', 'yhat', 'yhat_lower', 'yhat_upper']].head())\n",
        "\n",
        "# 2.3 Evaluate Basic Model Performance\n",
        "#    Align forecast with actuals and calculate RMSE and MAE for the test period.\n",
        "\n",
        "y_true_basic = test_df['y'].values\n",
        "y_pred_basic = forecast_basic['yhat'].values\n",
        "\n",
        "rmse_basic = np.sqrt(mean_squared_error(y_true_basic, y_pred_basic))\n",
        "mae_basic = mean_absolute_error(y_true_basic, y_pred_basic)\n",
        "\n",
        "print(f\"\\nBasic Model (No Regressors) RMSE: {rmse_basic:.4f}\")\n",
        "print(f\"Basic Model (No Regressors) MAE: {mae_basic:.4f}\")\n",
        "\n",
        "# 2.4 Plot Basic Model Forecast\n",
        "#    Plot the basic model's forecast (including confidence intervals) alongside the actual test data.\n",
        "\n",
        "fig = m_basic.plot(forecast_basic, figsize=(12, 6))\n",
        "ax = fig.gca()\n",
        "ax.plot(test_df['ds'], test_df['y'], 'o', color='red', markersize=4, label='Actual Test Data')\n",
        "ax.set_title('Basic Prophet Forecast (No Regressors)')\n",
        "plt.legend()\n",
        "plt.show()\n"
      ]
    },
    {
      "cell_type": "markdown",
      "metadata": {
        "id": "tyDnR6YQxNt9"
      },
      "source": [
        "## Part 3: Prophet with External Regressors (30 points)\n",
        "\n",
        "Now, you will include the `external_regressor_1` into your Prophet model and observe its impact on the forecast. This section highlights the crucial requirement of having future values of regressors for prediction."
      ]
    },
    {
      "cell_type": "code",
      "execution_count": null,
      "metadata": {
        "id": "oXJmmK1txNt-"
      },
      "outputs": [],
      "source": [
        "# 3.1 Initialize and Fit Prophet Model with External Regressor\n",
        "#    Create a new Prophet model instance.\n",
        "#    Add `external_regressor_1` using `m.add_regressor()`.\n",
        "#    Fit the model on your `train_df`, ensuring `external_regressor_1` is also present.\n",
        "\n",
        "print(\"\\n--- Training Prophet Model with External Regressor ---\")\n",
        "# TODO: Initialize Prophet model\n",
        "# m_regressor = Prophet(daily_seasonality=False)\n",
        "# TODO: Add external regressor\n",
        "# m_regressor.add_regressor('external_regressor_1')\n",
        "# TODO: Fit the model with regressor\n",
        "# m_regressor.fit(train_df[['ds', 'y', 'external_regressor_1']])\n",
        "\n",
        "# 3.2 Prepare Future DataFrame for Regressor Model\n",
        "#    Create a future DataFrame. Crucially, this DataFrame **must** also contain the future values for `external_regressor_1`.\n",
        "#    For this synthetic data, you can simply use the `test_df`'s `ds` and `external_regressor_1` columns.\n",
        "\n",
        "future_regressor = m_regressor.make_future_dataframe(periods=len(test_df), freq='D', include_history=False)\n",
        "\n",
        "# TODO: Merge the future regressor values into the future DataFrame\n",
        "# future_regressor = pd.merge(future_regressor, test_df[['ds', 'external_regressor_1']], on='ds', how='left')\n",
        "\n",
        "print(\"Future DataFrame for regressor model head (with regressor):\\n\", future_regressor.head())\n",
        "\n",
        "# 3.3 Generate Forecast with Regressor Model\n",
        "#    Generate predictions using the model with the regressor and the prepared `future_regressor` DataFrame.\n",
        "\n",
        "forecast_regressor = m_regressor.predict(future_regressor)\n",
        "print(\"Regressor Model Forecast Head:\\n\", forecast_regressor[['ds', 'yhat', 'yhat_lower', 'yhat_upper']].head())\n",
        "\n",
        "# 3.4 Evaluate Regressor Model Performance\n",
        "#    Align forecast with actuals and calculate RMSE and MAE for the test period.\n",
        "\n",
        "y_true_regressor = test_df['y'].values\n",
        "y_pred_regressor = forecast_regressor['yhat'].values\n",
        "\n",
        "rmse_regressor = np.sqrt(mean_squared_error(y_true_regressor, y_pred_regressor))\n",
        "mae_regressor = mean_absolute_error(y_true_regressor, y_pred_regressor)\n",
        "\n",
        "print(f\"\\nRegressor Model RMSE: {rmse_regressor:.4f}\")\n",
        "print(f\"Regressor Model MAE: {mae_regressor:.4f}\")\n",
        "\n",
        "# 3.5 Plot Regressor Model Forecast and Components\n",
        "#    Plot the regressor model's forecast (including confidence intervals) alongside the actual test data.\n",
        "#    Additionally, use `m_regressor.plot_components(forecast_regressor)` to visualize the impact of the regressor.\n",
        "\n",
        "fig = m_regressor.plot(forecast_regressor, figsize=(12, 6))\n",
        "ax = fig.gca()\n",
        "ax.plot(test_df['ds'], test_df['y'], 'o', color='red', markersize=4, label='Actual Test Data')\n",
        "ax.set_title('Prophet Forecast with External Regressor')\n",
        "plt.legend()\n",
        "plt.show()\n",
        "\n",
        "print(\"\\n--- Model Components with Regressor ---\")\n",
        "# TODO: Plot model components\n",
        "# fig_components = m_regressor.plot_components(forecast_regressor)\n",
        "# plt.show()\n"
      ]
    },
    {
      "cell_type": "markdown",
      "metadata": {
        "id": "2Zo-WinKxNt-"
      },
      "source": [
        "## Part 4: Evaluation and Interpretation (15 points)\n",
        "\n",
        "Compare the performance of the two models and interpret the results from the components plot."
      ]
    },
    {
      "cell_type": "markdown",
      "metadata": {
        "id": "ykOmUCmXxNt_"
      },
      "source": [
        "### Your Analysis:\n",
        "\n",
        "1.  **Compare the RMSE and MAE of the basic Prophet model versus the Prophet model with the external regressor.** What do these metrics tell you about the impact of the external regressor on forecast accuracy?\n",
        "\n",
        "    * **Comparison:** _(Your comparison here)_\n",
        "    * **Impact of Regressor:** _(Your explanation here)_\n",
        "\n",
        "2.  **Examine the `model.plot_components()` output for the model with the external regressor.** Describe what the component plot for `external_regressor_1` shows. Does it align with how you designed its relationship with `y` in Part 1?\n",
        "\n",
        "    * **Description of Regressor Component:** _(Your description here)_\n",
        "    * **Alignment with Design:** _(Your explanation here)_\n",
        "\n",
        "3.  **In a real-world scenario, what is the biggest challenge when using external regressors for future forecasting? How might you address this challenge?**\n",
        "\n",
        "    * **Challenge:** _(Your explanation here)_\n",
        "    * **Addressing the Challenge:** _(Your proposed solutions here)_\n"
      ]
    },
    {
      "cell_type": "markdown",
      "metadata": {
        "id": "3OUbLnn_xNt_"
      },
      "source": [
        "## Part 5: Reflection and Advanced Topics (5 points)\n",
        "\n",
        "Consider other advanced features and considerations for Prophet."
      ]
    },
    {
      "cell_type": "markdown",
      "metadata": {
        "id": "WUAlt7KVxNt_"
      },
      "source": [
        "### Your Answers to Reflection Questions:\n",
        "\n",
        "1.  **Prophet allows you to specify whether a regressor is `additive` or `multiplicative` (default is additive). Briefly explain when you might choose one over the other.**\n",
        "\n",
        "    _(Your answer here)_\n",
        "\n",
        "2.  **Beyond external regressors, name two other advanced features or considerations in Prophet that can significantly impact forecast quality, and briefly explain their purpose.** (e.g., holidays, custom seasonality, changepoints, saturation).\n",
        "\n",
        "    * **Feature 1:** _(Name and brief explanation)_\n",
        "    * **Feature 2:** _(Name and brief explanation)_\n"
      ]
    },
    {
      "cell_type": "markdown",
      "metadata": {
        "id": "GIgiVstqxNuA"
      },
      "source": [
        "## Deliverables:\n",
        "\n",
        "1.  This completed Jupyter Notebook (`prophet_external_regressors_assignment.ipynb`) with all code cells executed and reflection questions answered.\n",
        "2.  Ensure all plots are clearly visible and well-labeled within the notebook."
      ]
    }
  ],
  "metadata": {
    "kernelspec": {
      "display_name": "Python 3 (ipykernel)",
      "language": "python",
      "name": "python3"
    },
    "language_info": {
      "codemirror_mode": {
        "name": "ipython",
        "version": 3
      },
      "file_extension": ".py",
      "mimetype": "text/x-python",
      "name": "python",
      "nbconvert_exporter": "python",
      "pygments_lexer": "ipython3",
      "version": "3.10.12"
    },
    "colab": {
      "provenance": []
    }
  },
  "nbformat": 4,
  "nbformat_minor": 0
}