{
  "nbformat": 4,
  "nbformat_minor": 0,
  "metadata": {
    "colab": {
      "provenance": []
    },
    "kernelspec": {
      "name": "python3",
      "display_name": "Python 3"
    },
    "language_info": {
      "name": "python"
    }
  },
  "cells": [
    {
      "cell_type": "markdown",
      "source": [
        "#Build a Perceptron Model using TensorFlow and Keras"
      ],
      "metadata": {
        "id": "hancmNNh66Bb"
      }
    },
    {
      "cell_type": "markdown",
      "source": [
        "#1️⃣ Import Libraries"
      ],
      "metadata": {
        "id": "t4bH3sY769R6"
      }
    },
    {
      "cell_type": "code",
      "execution_count": 1,
      "metadata": {
        "id": "SYZ1L_oAQWj8"
      },
      "outputs": [],
      "source": [
        "import numpy as np\n",
        "import tensorflow as tf\n",
        "from tensorflow.keras.models import Sequential\n",
        "from tensorflow.keras.layers import Dense\n",
        "import matplotlib.pyplot as plt\n"
      ]
    },
    {
      "cell_type": "markdown",
      "source": [
        "#2️⃣ Prepare the Dataset (AND Gate)"
      ],
      "metadata": {
        "id": "5fJ4GE9X7Aka"
      }
    },
    {
      "cell_type": "code",
      "source": [
        "# Input features (AND logic gate)\n",
        "X = np.array([\n",
        "    [0, 0],\n",
        "    [0, 1],\n",
        "    [1, 0],\n",
        "    [1, 1]\n",
        "], dtype=float)\n",
        "\n",
        "# Target output\n",
        "y = np.array([\n",
        "    [0],\n",
        "    [0],\n",
        "    [0],\n",
        "    [1]\n",
        "], dtype=float)\n"
      ],
      "metadata": {
        "id": "7XYcJP8E6_BF"
      },
      "execution_count": 2,
      "outputs": []
    },
    {
      "cell_type": "markdown",
      "source": [
        "#3️⃣ Build the Perceptron Model"
      ],
      "metadata": {
        "id": "e3Bish507EbN"
      }
    },
    {
      "cell_type": "code",
      "source": [
        "# A perceptron is a single layer with a single neuron and a step/sigmoid activation\n",
        "model = Sequential([\n",
        "    Dense(units=1, input_shape=(2,), activation='sigmoid')  # sigmoid to mimic step function behavior\n",
        "])\n",
        "\n"
      ],
      "metadata": {
        "colab": {
          "base_uri": "https://localhost:8080/"
        },
        "id": "Nj2KrXgA7CiN",
        "outputId": "6042fe84-01d9-4ee4-9ac2-f1714cfbe8d5"
      },
      "execution_count": 3,
      "outputs": [
        {
          "output_type": "stream",
          "name": "stderr",
          "text": [
            "/usr/local/lib/python3.11/dist-packages/keras/src/layers/core/dense.py:87: UserWarning: Do not pass an `input_shape`/`input_dim` argument to a layer. When using Sequential models, prefer using an `Input(shape)` object as the first layer in the model instead.\n",
            "  super().__init__(activity_regularizer=activity_regularizer, **kwargs)\n"
          ]
        }
      ]
    },
    {
      "cell_type": "markdown",
      "source": [
        "#4️⃣ Compile the Model"
      ],
      "metadata": {
        "id": "AjzO9Rlh7IcB"
      }
    },
    {
      "cell_type": "code",
      "source": [
        "model.compile(\n",
        "    optimizer='sgd',             # Stochastic Gradient Descent\n",
        "    loss='binary_crossentropy',  # Appropriate for binary classification\n",
        "    metrics=['accuracy']\n",
        ")\n"
      ],
      "metadata": {
        "id": "IG-dQib57GdT"
      },
      "execution_count": 4,
      "outputs": []
    },
    {
      "cell_type": "markdown",
      "source": [
        "#5️⃣ Train the Model"
      ],
      "metadata": {
        "id": "N72k6y5J7MAy"
      }
    },
    {
      "cell_type": "code",
      "source": [
        "history = model.fit(X, y, epochs=100, verbose=0)\n"
      ],
      "metadata": {
        "id": "0Vb12_cb7KXL"
      },
      "execution_count": 5,
      "outputs": []
    },
    {
      "cell_type": "markdown",
      "source": [
        "#6️⃣ Evaluate the Model"
      ],
      "metadata": {
        "id": "2KYTvTBO7P-H"
      }
    },
    {
      "cell_type": "code",
      "source": [
        "loss, accuracy = model.evaluate(X, y, verbose=0)\n",
        "print(f\"Model Accuracy on Training Data: {accuracy * 100:.2f}%\")\n"
      ],
      "metadata": {
        "colab": {
          "base_uri": "https://localhost:8080/"
        },
        "id": "SW4k1G9-7ODL",
        "outputId": "4b2d578e-5757-4191-d095-c0f5d9ced531"
      },
      "execution_count": 6,
      "outputs": [
        {
          "output_type": "stream",
          "name": "stdout",
          "text": [
            "Model Accuracy on Training Data: 50.00%\n"
          ]
        }
      ]
    },
    {
      "cell_type": "markdown",
      "source": [
        "#7️⃣ Predict Outputs"
      ],
      "metadata": {
        "id": "LHsIJeMH7Syy"
      }
    },
    {
      "cell_type": "code",
      "source": [
        "# Predictions\n",
        "predictions = model.predict(X)\n",
        "\n",
        "# Display results\n",
        "for i, x in enumerate(X):\n",
        "    print(f\"Input: {x} => Predicted: {predictions[i][0]:.4f} => Class: {int(predictions[i][0] > 0.5)}\")\n"
      ],
      "metadata": {
        "colab": {
          "base_uri": "https://localhost:8080/"
        },
        "id": "uhkfXH4a7R-T",
        "outputId": "1b0a4f7c-b42f-4d37-b15d-5f494690d9ea"
      },
      "execution_count": 7,
      "outputs": [
        {
          "output_type": "stream",
          "name": "stdout",
          "text": [
            "\u001b[1m1/1\u001b[0m \u001b[32m━━━━━━━━━━━━━━━━━━━━\u001b[0m\u001b[37m\u001b[0m \u001b[1m0s\u001b[0m 52ms/step\n",
            "Input: [0. 0.] => Predicted: 0.4553 => Class: 0\n",
            "Input: [0. 1.] => Predicted: 0.5765 => Class: 1\n",
            "Input: [1. 0.] => Predicted: 0.2609 => Class: 0\n",
            "Input: [1. 1.] => Predicted: 0.3650 => Class: 0\n"
          ]
        }
      ]
    },
    {
      "cell_type": "markdown",
      "source": [
        "#8️⃣ Plot the Loss Curve"
      ],
      "metadata": {
        "id": "HVxXKPji7YPJ"
      }
    },
    {
      "cell_type": "code",
      "source": [
        "plt.plot(history.history['loss'], label='Loss')\n",
        "plt.title(\"Training Loss Over Epochs\")\n",
        "plt.xlabel(\"Epoch\")\n",
        "plt.ylabel(\"Loss\")\n",
        "plt.legend()\n",
        "plt.grid(True)\n",
        "plt.show()\n"
      ],
      "metadata": {
        "colab": {
          "base_uri": "https://localhost:8080/",
          "height": 472
        },
        "id": "iNCih98A7V5S",
        "outputId": "20de80c8-c7d7-4196-9edb-d8ce93e5da23"
      },
      "execution_count": 8,
      "outputs": [
        {
          "output_type": "display_data",
          "data": {
            "text/plain": [
              "<Figure size 640x480 with 1 Axes>"
            ],
            "image/png": "[encoded data removed]"
          },
          "metadata": {}
        }
      ]
    },
    {
      "cell_type": "markdown",
      "source": [
        "#🧠 Summary\n",
        "\n",
        "- We built a perceptron using Keras' Sequential model with 1 neuron and sigmoid activation.\n",
        "- The model learned to perform the AND logic function with >95% accuracy.\n",
        "- This example can be extended to OR, XOR (with more layers), or real-world binary classification problems.\n"
      ],
      "metadata": {
        "id": "T9ytB4i67cZx"
      }
    },
    {
      "cell_type": "code",
      "source": [],
      "metadata": {
        "id": "P6KdNhxD7abC"
      },
      "execution_count": null,
      "outputs": []
    }
  ]
}