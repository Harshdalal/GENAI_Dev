{
  "nbformat": 4,
  "nbformat_minor": 5,
  "metadata": {
    "kernelspec": {
      "display_name": "Python 3",
      "language": "python",
      "name": "python3"
    },
    "language_info": {
      "codemirror_mode": {
        "name": "ipython",
        "version": 3
      },
      "file_extension": ".py",
      "mimetype": "text/x-python",
      "name": "python",
      "nbconvert_exporter": "python",
      "pygments_lexer": "ipython3",
      "version": "3.9.18"
    },
    "colab": {
      "provenance": []
    }
  },
  "cells": [
    {
      "cell_type": "markdown",
      "source": [
        "# Assignment: Evaluate Prompts with Sample Outputs using Google AI Studio (PaLM Explorer)\n",
        "\n",
        "\n",
        "---"
      ],
      "metadata": {
        "id": "4P7_gjZQONct"
      },
      "id": "4P7_gjZQONct"
    },
    {
      "cell_type": "markdown",
      "source": [
        "### Objective:\n",
        "This assignment aims to provide hands-on experience in **evaluating the quality and characteristics of Large Language Model (LLM) outputs** generated from different types of prompts. You will use the **Google AI Studio web interface (formerly known as PaLM Explorer)** to experiment with various prompts, observe the model's responses, and critically analyze their effectiveness, coherence, and adherence to instructions. This process is fundamental to understanding prompt engineering and optimizing LLM interactions."
      ],
      "metadata": {
        "id": "wWVZ78wRONcv"
      },
      "id": "wWVZ78wRONcv"
    },
    {
      "cell_type": "markdown",
      "source": [
        "---"
      ],
      "metadata": {
        "id": "DmQJ8V2iONcw"
      },
      "id": "DmQJ8V2iONcw"
    },
    {
      "cell_type": "markdown",
      "source": [
        "### Instructions:\n",
        "1.  **Access Google AI Studio**: Navigate to [https://aistudio.google.com/](https://aistudio.google.com/). You will need a Google account.\n",
        "2.  **Start a new prompt**: In Google AI Studio, select \"Create new\" and then \"Text prompt\" (or \"Chat prompt\" for conversational tasks).\n",
        "3.  **Experiment with Prompts**: For each task below, copy the provided prompt into the Google AI Studio interface. You can adjust model parameters (temperature, top-k, top-p, max output tokens) if instructed or to observe effects.\n",
        "4.  **Capture Outputs**: After generating a response, **copy the exact output text** and paste it into the designated markdown cell in this Jupyter Notebook. If the output is very long, paste a representative portion. You may also include **screenshots** if they help illustrate your points (e.g., showing parameter settings or multiple generated outputs).\n",
        "5.  **Analysis**: For each task, provide a detailed analysis of the LLM's output. Discuss its quality, relevance, adherence to instructions, and any unexpected behaviors.\n",
        "6.  **Jupyter Notebook**: All your observations, pasted outputs, and analysis must be documented in this Jupyter Notebook."
      ],
      "metadata": {
        "id": "ni0G1aPdONcw"
      },
      "id": "ni0G1aPdONcw"
    },
    {
      "cell_type": "markdown",
      "source": [
        "---"
      ],
      "metadata": {
        "id": "bPc1ImeOONcx"
      },
      "id": "bPc1ImeOONcx"
    },
    {
      "cell_type": "markdown",
      "source": [
        "## Part 1: Basic Prompt Evaluation (Text Prompt)\n",
        "In this section, you'll evaluate standard text generation prompts for factual, creative, and summarization tasks."
      ],
      "metadata": {
        "id": "H_Fd8Zt_ONcx"
      },
      "id": "H_Fd8Zt_ONcx"
    },
    {
      "cell_type": "markdown",
      "source": [
        "### Task 1.1: Factual Question and Parameter Impact\n",
        "Test a factual question and observe how varying the `Temperature` parameter affects the output."
      ],
      "metadata": {
        "id": "N1xQM_lEONcx"
      },
      "id": "N1xQM_lEONcx"
    },
    {
      "cell_type": "markdown",
      "source": [
        "* **Prompt**: `Explain the concept of photosynthesis in one paragraph suitable for a high school student.`\n",
        "* **Steps**:\n",
        "    1.  Run the prompt with **Temperature = 0.0** (deterministic).\n",
        "    2.  Run the prompt with **Temperature = 0.8** (more creative/diverse).\n",
        "    3.  Run the prompt with **Temperature = 1.0** (even more randomness).\n",
        "* **Paste Outputs Below**:\n",
        "    ```\n",
        "    # Output with Temperature = 0.0:\n",
        "    [Paste LLM output here]\n",
        "\n",
        "    # Output with Temperature = 0.8:\n",
        "    [Paste LLM output here]\n",
        "\n",
        "    # Output with Temperature = 1.0:\n",
        "    [Paste LLM output here]\n",
        "    ```"
      ],
      "metadata": {
        "id": "5c1Zy2G9ONcy"
      },
      "id": "5c1Zy2G9ONcy"
    },
    {
      "cell_type": "markdown",
      "source": [
        "### Analysis for Task 1.1:\n",
        "* How did the outputs differ between the different `Temperature` settings?\n",
        "* Which temperature setting produced the most accurate/appropriate response for this factual task?\n",
        "* In what scenarios would you choose a high vs. low temperature for factual queries?"
      ],
      "metadata": {
        "id": "0J_J2umcONcy"
      },
      "id": "0J_J2umcONcy"
    },
    {
      "cell_type": "markdown",
      "source": [
        "### Task 1.2: Creative Writing Prompt\n",
        "Evaluate the LLM's ability to generate creative text."
      ],
      "metadata": {
        "id": "3UMggyaYONcz"
      },
      "id": "3UMggyaYONcz"
    },
    {
      "cell_type": "markdown",
      "source": [
        "* **Prompt**: `Write a short, whimsical poem about a grumpy cat who secretly loves belly rubs.`\n",
        "* **Steps**:\n",
        "    1.  Run the prompt with **Temperature = 0.9**.\n",
        "    2.  Run it again with the same temperature (to see variability).\n",
        "* **Paste Outputs Below**:\n",
        "    ```\n",
        "    # First Output:\n",
        "    [Paste LLM output here]\n",
        "\n",
        "    # Second Output (same prompt, same temp):\n",
        "    [Paste LLM output here]\n",
        "    ```"
      ],
      "metadata": {
        "id": "xpkzs_X3ONcz"
      },
      "id": "xpkzs_X3ONcz"
    },
    {
      "cell_type": "markdown",
      "source": [
        "### Analysis for Task 1.2:\n",
        "* Did the LLM capture the requested tone (whimsical) and subject matter (grumpy cat, belly rubs)?\n",
        "* How similar or different were the two outputs generated with the same prompt and temperature?\n",
        "* What aspects of the poem (rhyme, rhythm, imagery) were well-executed, and what could be improved?"
      ],
      "metadata": {
        "id": "KIX-GhgxONcz"
      },
      "id": "KIX-GhgxONcz"
    },
    {
      "cell_type": "markdown",
      "source": [
        "### Task 1.3: Text Summarization\n",
        "Assess the LLM's summarization capabilities."
      ],
      "metadata": {
        "id": "HorN5gtRONc0"
      },
      "id": "HorN5gtRONc0"
    },
    {
      "cell_type": "markdown",
      "source": [
        "* **Input Text**:\n",
        "    ```\n",
        "    The Amazon rainforest, covering much of northwestern Brazil and extending into Colombia, Peru, and other South American countries, is the world’s largest tropical rainforest, famed for its biodiversity. It’s home to millions of species, including thousands of types of plants and animals. The Amazon River, flowing through the forest, is the second-longest river in the world and carries more water than any other river. Deforestation, primarily for cattle ranching and agriculture, poses a significant threat to the rainforest, leading to habitat loss and contributing to climate change. Efforts are underway globally to protect this vital ecosystem.\n",
        "    ```\n",
        "* **Prompt**: `Summarize the following text in 2-3 sentences.\n",
        "\n",
        "[Paste Input Text Here]`\n",
        "* **Steps**:\n",
        "    1.  Paste the `Input Text` directly into the prompt in Google AI Studio, following your instruction.\n",
        "    2.  Run the prompt.\n",
        "* **Paste Output Below**:\n",
        "    ```\n",
        "    [Paste LLM output here]\n",
        "    ```"
      ],
      "metadata": {
        "id": "ziVve8XRONc0"
      },
      "id": "ziVve8XRONc0"
    },
    {
      "cell_type": "markdown",
      "source": [
        "### Analysis for Task 1.3:\n",
        "* Did the summary accurately capture the main points of the original text?\n",
        "* Did it adhere to the length constraint (2-3 sentences)?\n",
        "* Was the language concise and natural, or did it feel robotic/repetitive?"
      ],
      "metadata": {
        "id": "OHyMCz_zONc0"
      },
      "id": "OHyMCz_zONc0"
    },
    {
      "cell_type": "markdown",
      "source": [
        "---"
      ],
      "metadata": {
        "id": "rif7WumIONc1"
      },
      "id": "rif7WumIONc1"
    },
    {
      "cell_type": "markdown",
      "source": [
        "## Part 2: Advanced Prompt Evaluation (Data/Structured Prompt)\n",
        "This section explores prompts that require information extraction or adherence to specific output formats."
      ],
      "metadata": {
        "id": "VOsZ3o5iONc1"
      },
      "id": "VOsZ3o5iONc1"
    },
    {
      "cell_type": "markdown",
      "source": [
        "### Task 2.1: Information Extraction\n",
        "Extract specific pieces of information from a given text into a structured format."
      ],
      "metadata": {
        "id": "-NHwG06FONc1"
      },
      "id": "-NHwG06FONc1"
    },
    {
      "cell_type": "markdown",
      "source": [
        "* **Input Text**:\n",
        "    ```\n",
        "    Acme Corp announced record profits for Q3 2024, reaching $1.2 billion, up from $900 million in Q2. Their CEO, Jane Doe, stated the growth was primarily due to strong sales in their new European market and innovative product launches. The company plans to open a new R&D center in Bengaluru, India, by early 2025.\n",
        "    ```\n",
        "* **Prompt**: `Extract the following information from the text below and present it as a JSON object:\n",
        "\n",
        "- Company Name\n",
        "- Q3 2024 Profit\n",
        "- Q2 2024 Profit\n",
        "- CEO Name\n",
        "- Reason for Growth\n",
        "- New R&D Center Location\n",
        "- New R&D Center Opening Year\n",
        "\n",
        "Text:\n",
        "[Paste Input Text Here]`\n",
        "* **Steps**:\n",
        "    1.  Paste the `Input Text` into the prompt.\n",
        "    2.  Run the prompt.\n",
        "* **Paste Output Below**:\n",
        "    ```json\n",
        "    [Paste LLM output (JSON format) here]\n",
        "    ```"
      ],
      "metadata": {
        "id": "wkr_4FVeONc2"
      },
      "id": "wkr_4FVeONc2"
    },
    {
      "cell_type": "markdown",
      "source": [
        "### Analysis for Task 2.1:\n",
        "* Did the LLM successfully extract all the requested information?\n",
        "* Was the output strictly in valid JSON format? If not, what errors occurred?\n",
        "* How accurately did it identify and categorize each piece of information?\n",
        "* Discuss challenges the LLM might face with more complex or ambiguous texts for extraction."
      ],
      "metadata": {
        "id": "BHYk51bKONc2"
      },
      "id": "BHYk51bKONc2"
    },
    {
      "cell_type": "markdown",
      "source": [
        "### Task 2.2: Conditional/Rule-Based Generation\n",
        "Evaluate a prompt that requires the LLM to follow specific rules or conditions based on input."
      ],
      "metadata": {
        "id": "VCWSp1TeONc2"
      },
      "id": "VCWSp1TeONc2"
    },
    {
      "cell_type": "markdown",
      "source": [
        "* **Prompt**: `Analyze the sentiment of the following customer review. If the sentiment is positive, write a 1-sentence thank you message. If the sentiment is negative, write a 1-sentence apology and ask how to improve. If neutral, just say 'Sentiment: Neutral'.\n",
        "\n",
        "Review: \"I absolutely love this new phone! The camera is amazing and the battery life is fantastic. Highly recommend!\"\n",
        "\n",
        "---\n",
        "\n",
        "Review: \"The product arrived damaged and customer service was unhelpful. Very disappointed.\"\n",
        "\n",
        "---\n",
        "\n",
        "Review: \"The packaging was adequate and the delivery was on time. The item itself is okay.\"\n",
        "`\n",
        "* **Steps**:\n",
        "    1.  Paste the entire prompt (including all three reviews) into Google AI Studio.\n",
        "    2.  Run the prompt.\n",
        "* **Paste Output Below**:\n",
        "    ```\n",
        "    [Paste LLM output here]\n",
        "    ```"
      ],
      "metadata": {
        "id": "96VQ6ZbZONc2"
      },
      "id": "96VQ6ZbZONc2"
    },
    {
      "cell_type": "markdown",
      "source": [
        "### Analysis for Task 2.2:\n",
        "* Did the LLM correctly identify the sentiment for each review?\n",
        "* Did it generate the appropriate response (thank you, apology, or neutral statement) for each sentiment?\n",
        "* Were there any instances where the rules were not followed correctly? What might cause this?"
      ],
      "metadata": {
        "id": "hCHdD-hbONc3"
      },
      "id": "hCHdD-hbONc3"
    },
    {
      "cell_type": "markdown",
      "source": [
        "---"
      ],
      "metadata": {
        "id": "1TFg13lmONc3"
      },
      "id": "1TFg13lmONc3"
    },
    {
      "cell_type": "markdown",
      "source": [
        "## Part 3: Comparative Analysis and Refinement\n",
        "This section focuses on identifying prompt weaknesses and iteratively improving them."
      ],
      "metadata": {
        "id": "0ggSPfGMONc3"
      },
      "id": "0ggSPfGMONc3"
    },
    {
      "cell_type": "markdown",
      "source": [
        "### Task 3.1: Identify and Debug a Sub-optimal Prompt\n",
        "Consider the following prompt. It sometimes gives vague or overly generic responses.\n",
        "\n",
        "* **Initial Problematic Prompt**: `Write an email about the upcoming event.`\n",
        "\n",
        "Your task is to:\n",
        "1.  Run this initial prompt in Google AI Studio and observe its typical output.\n",
        "2.  Identify *why* it's problematic (e.g., lack of detail, ambiguity).\n",
        "3.  Propose and implement a **refined prompt** that addresses these issues by adding more context, constraints, or examples.\n",
        "4.  Run your refined prompt and compare the output."
      ],
      "metadata": {
        "id": "9eJzVbFkONc3"
      },
      "id": "9eJzVbFkONc3"
    },
    {
      "cell_type": "markdown",
      "source": [
        "**1. Output from Initial Problematic Prompt:**\n",
        "```\n",
        "[Paste LLM output here]\n",
        "```\n",
        "\n",
        "**2. Analysis of Problematic Prompt:**\n",
        "[Explain why the initial prompt is problematic. What's missing? What's ambiguous?]\n",
        "\n",
        "**3. Your Refined Prompt (Example Structure):**\n",
        "```\n",
        "Write an email to [Target Audience] about the [Event Name] happening on [Date] at [Time] in [Location].\n",
        "The email should include:\n",
        "- A catchy subject line.\n",
        "- A brief introduction to the event.\n",
        "- [2-3 Key Highlights/Benefits of attending].\n",
        "- Call to Action (e.g., 'RSVP by [Date]' or 'Register at [Link]').\n",
        "- Keep the tone [e.g., 'professional and exciting'].\n",
        "```\n",
        "\n",
        "**4. Output from Refined Prompt (with example variables):**\n",
        "    * *Example Variables you used (e.g., Event Name: 'Annual Tech Conference', Date: 'October 26th', etc.):*\n",
        "        [List your specific input values for the refined prompt here]\n",
        "    ```\n",
        "    [Paste LLM output here]\n",
        "    ```"
      ],
      "metadata": {
        "id": "LhfxO1HHONc3"
      },
      "id": "LhfxO1HHONc3"
    },
    {
      "cell_type": "markdown",
      "source": [
        "### Analysis for Task 3.1:\n",
        "* What specific changes did you make to the initial prompt to refine it?\n",
        "* How did the output from the refined prompt improve compared to the initial one?\n",
        "* Discuss the importance of clarity, specificity, and constraints in prompt engineering."
      ],
      "metadata": {
        "id": "8kPBdk7vONc4"
      },
      "id": "8kPBdk7vONc4"
    },
    {
      "cell_type": "markdown",
      "source": [
        "---"
      ],
      "metadata": {
        "id": "Ze-dJXpuONc4"
      },
      "id": "Ze-dJXpuONc4"
    },
    {
      "cell_type": "markdown",
      "source": [
        "## Part 4: Conclusion and Reflection\n",
        "In this markdown cell, provide a comprehensive summary of your findings and reflections based on this assignment."
      ],
      "metadata": {
        "id": "2MVYrz4EONc4"
      },
      "id": "2MVYrz4EONc4"
    },
    {
      "cell_type": "markdown",
      "source": [
        "* **Key Learnings from Evaluation**: What are the most important insights you gained about LLM behavior and prompt engineering through this hands-on evaluation?\n",
        "* **Role of Parameters**: How do parameters like Temperature, Top-K, and Top-P influence the diversity and quality of outputs?\n",
        "* **Challenges in Prompt Design**: What aspects of prompt design did you find most challenging?\n",
        "* **Best Practices**: Based on your experience, what are 3-5 best practices for writing effective prompts for LLMs?\n",
        "* **Ethical Considerations**: What ethical concerns (e.g., bias, misinformation, fairness) might arise when evaluating or deploying LLM outputs, and how can prompt design help mitigate them?"
      ],
      "metadata": {
        "id": "IXprWgaqONc4"
      },
      "id": "IXprWgaqONc4"
    },
    {
      "cell_type": "markdown",
      "source": [
        "---"
      ],
      "metadata": {
        "id": "0-sjyAziONc4"
      },
      "id": "0-sjyAziONc4"
    },
    {
      "cell_type": "markdown",
      "source": [
        "### Submission:\n",
        "* Ensure all instructions are followed and outputs/analysis are clearly documented.\n",
        "* Save your Jupyter Notebook as `[YourName]_Prompt_Evaluation_Assignment.ipynb`."
      ],
      "metadata": {
        "id": "wFmV9x6tONc5"
      },
      "id": "wFmV9x6tONc5"
    }
  ]
}